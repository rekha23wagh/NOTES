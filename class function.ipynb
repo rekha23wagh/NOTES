{
 "cells": [
  {
   "cell_type": "code",
   "execution_count": 3,
   "id": "02c827b9",
   "metadata": {},
   "outputs": [],
   "source": [
    "def add(a,b):\n",
    "    return a+b"
   ]
  },
  {
   "cell_type": "code",
   "execution_count": 4,
   "id": "0c6df024",
   "metadata": {},
   "outputs": [
    {
     "data": {
      "text/plain": [
       "8"
      ]
     },
     "execution_count": 4,
     "metadata": {},
     "output_type": "execute_result"
    }
   ],
   "source": [
    "add(2,6)"
   ]
  },
  {
   "cell_type": "code",
   "execution_count": 5,
   "id": "0c140880",
   "metadata": {},
   "outputs": [],
   "source": [
    "def add(a,b):\n",
    "    return a+b"
   ]
  },
  {
   "cell_type": "code",
   "execution_count": 6,
   "id": "1994d752",
   "metadata": {},
   "outputs": [
    {
     "data": {
      "text/plain": [
       "'rekhaocean'"
      ]
     },
     "execution_count": 6,
     "metadata": {},
     "output_type": "execute_result"
    }
   ],
   "source": [
    "add(\"rekha\", \"ocean\")"
   ]
  },
  {
   "cell_type": "code",
   "execution_count": 11,
   "id": "38c92c8a",
   "metadata": {},
   "outputs": [],
   "source": [
    "def test(*a): \n",
    "    return a"
   ]
  },
  {
   "cell_type": "code",
   "execution_count": 12,
   "id": "ec7dbd13",
   "metadata": {},
   "outputs": [
    {
     "data": {
      "text/plain": [
       "(2, 5, 8, 9, 5)"
      ]
     },
     "execution_count": 12,
     "metadata": {},
     "output_type": "execute_result"
    }
   ],
   "source": [
    "test(2,5,8,9,5)"
   ]
  },
  {
   "cell_type": "code",
   "execution_count": 23,
   "id": "96076721",
   "metadata": {},
   "outputs": [],
   "source": [
    "def test3(a,s,c,d, *m):\n",
    "    return a,s,c,d,m"
   ]
  },
  {
   "cell_type": "code",
   "execution_count": 24,
   "id": "d2b81e0f",
   "metadata": {},
   "outputs": [
    {
     "data": {
      "text/plain": [
       "(5, 5, 8, 9, (6, 5, 8, 4, 5, 6))"
      ]
     },
     "execution_count": 24,
     "metadata": {},
     "output_type": "execute_result"
    }
   ],
   "source": [
    "test3(5,5,8,9,6,5,8,4,5,6)"
   ]
  },
  {
   "cell_type": "code",
   "execution_count": 25,
   "id": "0529ada6",
   "metadata": {},
   "outputs": [],
   "source": [
    "def test4(*m, a,b,c,d):\n",
    "    return m,a,b,c,d"
   ]
  },
  {
   "cell_type": "code",
   "execution_count": 27,
   "id": "9bf1707b",
   "metadata": {},
   "outputs": [
    {
     "data": {
      "text/plain": [
       "((2, 5, 8, 9), 5, 8, 5, 6)"
      ]
     },
     "execution_count": 27,
     "metadata": {},
     "output_type": "execute_result"
    }
   ],
   "source": [
    "test4(2,5,8,9,a=5,b=8,c=5,d=6)"
   ]
  },
  {
   "cell_type": "code",
   "execution_count": 31,
   "id": "5a60ad31",
   "metadata": {},
   "outputs": [],
   "source": [
    "def test5(*a):\n",
    "    l=[]\n",
    "    for i in a:\n",
    "        l.append(i)\n",
    "    return l"
   ]
  },
  {
   "cell_type": "code",
   "execution_count": 32,
   "id": "84a28960",
   "metadata": {},
   "outputs": [
    {
     "data": {
      "text/plain": [
       "[5, 8, 9, 5, 6, [2, 5, 8, 9, 2]]"
      ]
     },
     "execution_count": 32,
     "metadata": {},
     "output_type": "execute_result"
    }
   ],
   "source": [
    "test5(5,8,9,5,6,[2,5,8,9,2])"
   ]
  },
  {
   "cell_type": "code",
   "execution_count": 33,
   "id": "8d953728",
   "metadata": {},
   "outputs": [],
   "source": [
    "def test6(**a):                 \n",
    "    return a"
   ]
  },
  {
   "cell_type": "code",
   "execution_count": 36,
   "id": "4b94b95d",
   "metadata": {},
   "outputs": [
    {
     "data": {
      "text/plain": [
       "{'a': 1, 'b': 2, 'c': 5, 'd': 4, 'e': 8, 'f': 6, 'g': 6}"
      ]
     },
     "execution_count": 36,
     "metadata": {},
     "output_type": "execute_result"
    }
   ],
   "source": [
    "test6(a=1,b=2,c=5,d=4,e=8,f=6,g=6)"
   ]
  },
  {
   "cell_type": "code",
   "execution_count": 37,
   "id": "d5cfb2a7",
   "metadata": {},
   "outputs": [],
   "source": [
    "def test8(*m, **n):\n",
    "    return m, n\n"
   ]
  },
  {
   "cell_type": "code",
   "execution_count": 38,
   "id": "32c8c9af",
   "metadata": {},
   "outputs": [
    {
     "data": {
      "text/plain": [
       "((1, 2, 5, 8, 9, 5, 4, 5, 8, 6), {'a': 2, 's': 5, 'f': 5, 'h': 6})"
      ]
     },
     "execution_count": 38,
     "metadata": {},
     "output_type": "execute_result"
    }
   ],
   "source": [
    "test8(1,2,5,8,9,5,4,5,8,6,a=2,s=5,f=5,h=6)"
   ]
  },
  {
   "cell_type": "code",
   "execution_count": 4,
   "id": "f265188a",
   "metadata": {},
   "outputs": [],
   "source": [
    "n = lambda a, b:a+b           #lambda is the reserve key ward to generate the operation like addition\n",
    "                               #anonimous unction i.e. a function without a name"
   ]
  },
  {
   "cell_type": "code",
   "execution_count": 5,
   "id": "2a5dd204",
   "metadata": {},
   "outputs": [
    {
     "data": {
      "text/plain": [
       "9"
      ]
     },
     "execution_count": 5,
     "metadata": {},
     "output_type": "execute_result"
    }
   ],
   "source": [
    "n(4,5)"
   ]
  },
  {
   "cell_type": "code",
   "execution_count": 8,
   "id": "714fbec1",
   "metadata": {},
   "outputs": [],
   "source": [
    "def test0(a,b):\n",
    "    return a+b"
   ]
  },
  {
   "cell_type": "code",
   "execution_count": 10,
   "id": "0a344c96",
   "metadata": {},
   "outputs": [
    {
     "data": {
      "text/plain": [
       "9"
      ]
     },
     "execution_count": 10,
     "metadata": {},
     "output_type": "execute_result"
    }
   ],
   "source": [
    "test0(4,5)"
   ]
  },
  {
   "cell_type": "code",
   "execution_count": 16,
   "id": "21a0c0b1",
   "metadata": {},
   "outputs": [],
   "source": [
    "p = lambda *n :n "
   ]
  },
  {
   "cell_type": "code",
   "execution_count": 17,
   "id": "bff20352",
   "metadata": {},
   "outputs": [
    {
     "data": {
      "text/plain": [
       "(1, 5, 8, 9, 6, 2)"
      ]
     },
     "execution_count": 17,
     "metadata": {},
     "output_type": "execute_result"
    }
   ],
   "source": [
    "p(1,5,8,9,6,2)"
   ]
  },
  {
   "cell_type": "code",
   "execution_count": 18,
   "id": "e1ae845d",
   "metadata": {},
   "outputs": [],
   "source": [
    "t =(1,2,5,8,9,6,2)\n",
    "l=[]\n",
    "for i in t:\n",
    "    l.append(i)"
   ]
  },
  {
   "cell_type": "code",
   "execution_count": 19,
   "id": "70d2cf95",
   "metadata": {},
   "outputs": [
    {
     "data": {
      "text/plain": [
       "[1, 2, 5, 8, 9, 6, 2]"
      ]
     },
     "execution_count": 19,
     "metadata": {},
     "output_type": "execute_result"
    }
   ],
   "source": [
    "l             #convert the tuple into list"
   ]
  },
  {
   "cell_type": "code",
   "execution_count": 21,
   "id": "3833b155",
   "metadata": {},
   "outputs": [],
   "source": [
    "#OR"
   ]
  },
  {
   "cell_type": "code",
   "execution_count": 23,
   "id": "2298c3f3",
   "metadata": {},
   "outputs": [
    {
     "data": {
      "text/plain": [
       "[1, 2, 5, 8, 9, 6, 2]"
      ]
     },
     "execution_count": 23,
     "metadata": {},
     "output_type": "execute_result"
    }
   ],
   "source": [
    "[i for i in t]         #convert the tuple into list"
   ]
  },
  {
   "cell_type": "code",
   "execution_count": 24,
   "id": "aa0d0cff",
   "metadata": {},
   "outputs": [],
   "source": [
    "s = \"ocean\""
   ]
  },
  {
   "cell_type": "code",
   "execution_count": 27,
   "id": "0785318c",
   "metadata": {},
   "outputs": [
    {
     "data": {
      "text/plain": [
       "['o', 'c', 'e', 'a', 'n']"
      ]
     },
     "execution_count": 27,
     "metadata": {},
     "output_type": "execute_result"
    }
   ],
   "source": [
    "[i for i in s]      #covert into list\n"
   ]
  },
  {
   "cell_type": "code",
   "execution_count": 29,
   "id": "696c3e2a",
   "metadata": {},
   "outputs": [
    {
     "data": {
      "text/plain": [
       "[0, 1, 4, 9, 16, 25, 36, 49, 64, 81]"
      ]
     },
     "execution_count": 29,
     "metadata": {},
     "output_type": "execute_result"
    }
   ],
   "source": [
    "#generate square of all the no upto 10\n",
    "\n",
    "[i*i for i in range(10)]"
   ]
  },
  {
   "cell_type": "code",
   "execution_count": 30,
   "id": "99efd61c",
   "metadata": {},
   "outputs": [],
   "source": [
    "#square of the no using lambda fun\n",
    "n = lambda *m: [i**2 for i in m]"
   ]
  },
  {
   "cell_type": "code",
   "execution_count": 31,
   "id": "e9b3a485",
   "metadata": {},
   "outputs": [
    {
     "data": {
      "text/plain": [
       "[1, 4, 25, 64, 81, 36, 9]"
      ]
     },
     "execution_count": 31,
     "metadata": {},
     "output_type": "execute_result"
    }
   ],
   "source": [
    "n(1,2,5,8,9,6,3)"
   ]
  },
  {
   "cell_type": "code",
   "execution_count": 4,
   "id": "c20bd598",
   "metadata": {},
   "outputs": [],
   "source": [
    "def test14(**s):\n",
    "    count=0\n",
    "    print(s)\n",
    "    for i in s.values():\n",
    "        if type(i)== str or type(i)== list:\n",
    "            count = count +1\n",
    "    return count"
   ]
  },
  {
   "cell_type": "code",
   "execution_count": 5,
   "id": "ef0d565d",
   "metadata": {},
   "outputs": [
    {
     "name": "stdout",
     "output_type": "stream",
     "text": [
      "{'a': 'sudh', 'n': 1256, 'b': 'ocean', 'c': 12, 'd': [1, 2, 5, 'rekha']}\n"
     ]
    },
    {
     "data": {
      "text/plain": [
       "3"
      ]
     },
     "execution_count": 5,
     "metadata": {},
     "output_type": "execute_result"
    }
   ],
   "source": [
    "test14(a=\"sudh\", n= 1256, b= \"ocean\",c=12, d=[1,2,5,\"rekha\"])"
   ]
  },
  {
   "cell_type": "code",
   "execution_count": 7,
   "id": "25335dd7",
   "metadata": {},
   "outputs": [],
   "source": [
    "def test15(**d):\n",
    "    return list(d.values())      #convert into the list\n"
   ]
  },
  {
   "cell_type": "code",
   "execution_count": 9,
   "id": "65c7bb87",
   "metadata": {},
   "outputs": [
    {
     "data": {
      "text/plain": [
       "['sudh', 1256, 'ocean', 12, [1, 2, 5, 'rekha']]"
      ]
     },
     "execution_count": 9,
     "metadata": {},
     "output_type": "execute_result"
    }
   ],
   "source": [
    "test15(a=\"sudh\", n= 1256, b= \"ocean\",c=12, d=[1,2,5,\"rekha\"])"
   ]
  },
  {
   "cell_type": "code",
   "execution_count": null,
   "id": "04bde513",
   "metadata": {},
   "outputs": [],
   "source": []
  }
 ],
 "metadata": {
  "kernelspec": {
   "display_name": "Python 3 (ipykernel)",
   "language": "python",
   "name": "python3"
  },
  "language_info": {
   "codemirror_mode": {
    "name": "ipython",
    "version": 3
   },
   "file_extension": ".py",
   "mimetype": "text/x-python",
   "name": "python",
   "nbconvert_exporter": "python",
   "pygments_lexer": "ipython3",
   "version": "3.9.12"
  }
 },
 "nbformat": 4,
 "nbformat_minor": 5
}
