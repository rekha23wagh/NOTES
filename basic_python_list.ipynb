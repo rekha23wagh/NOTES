{
 "cells": [
  {
   "cell_type": "code",
   "execution_count": 1,
   "id": "961cae94",
   "metadata": {},
   "outputs": [],
   "source": [
    "a = \" rekha\""
   ]
  },
  {
   "cell_type": "code",
   "execution_count": 2,
   "id": "3a49862d",
   "metadata": {},
   "outputs": [],
   "source": [
    "b= 'rekha'"
   ]
  },
  {
   "cell_type": "code",
   "execution_count": 3,
   "id": "2a823c24",
   "metadata": {},
   "outputs": [
    {
     "data": {
      "text/plain": [
       "' rekha'"
      ]
     },
     "execution_count": 3,
     "metadata": {},
     "output_type": "execute_result"
    }
   ],
   "source": [
    "a"
   ]
  },
  {
   "cell_type": "code",
   "execution_count": 4,
   "id": "c0ad44f6",
   "metadata": {},
   "outputs": [
    {
     "data": {
      "text/plain": [
       "'rekha'"
      ]
     },
     "execution_count": 4,
     "metadata": {},
     "output_type": "execute_result"
    }
   ],
   "source": [
    "b"
   ]
  },
  {
   "cell_type": "code",
   "execution_count": 8,
   "id": "49fcc300",
   "metadata": {},
   "outputs": [
    {
     "ename": "SyntaxError",
     "evalue": "invalid syntax (945359135.py, line 1)",
     "output_type": "error",
     "traceback": [
      "\u001b[1;36m  Input \u001b[1;32mIn [8]\u001b[1;36m\u001b[0m\n\u001b[1;33m    c = \"this is my forst class for the full stack data science that\"s why i am using jupyter notebook\"\u001b[0m\n\u001b[1;37m                                                                     ^\u001b[0m\n\u001b[1;31mSyntaxError\u001b[0m\u001b[1;31m:\u001b[0m invalid syntax\n"
     ]
    }
   ],
   "source": [
    "c = \"this is my forst class for the full stack data science that\"s why i am using jupyter notebook\" \n",
    "#cant use same symbol in between the entece that if it is enclosed with it"
   ]
  },
  {
   "cell_type": "code",
   "execution_count": 9,
   "id": "b3e88ff3",
   "metadata": {},
   "outputs": [],
   "source": [
    "c = \"this is my forst class for the full stack data science that's why i am using jupyter notebook\""
   ]
  },
  {
   "cell_type": "code",
   "execution_count": 10,
   "id": "2192a844",
   "metadata": {},
   "outputs": [
    {
     "data": {
      "text/plain": [
       "\"this is my forst class for the full stack data science that's why i am using jupyter notebook\""
      ]
     },
     "execution_count": 10,
     "metadata": {},
     "output_type": "execute_result"
    }
   ],
   "source": [
    "c"
   ]
  },
  {
   "cell_type": "code",
   "execution_count": 12,
   "id": "36417ea8",
   "metadata": {},
   "outputs": [
    {
     "data": {
      "text/plain": [
       "'h'"
      ]
     },
     "execution_count": 12,
     "metadata": {},
     "output_type": "execute_result"
    }
   ],
   "source": [
    "c[1]     #1st index from \"c\" i.e. 'h'"
   ]
  },
  {
   "cell_type": "code",
   "execution_count": 14,
   "id": "4600721d",
   "metadata": {},
   "outputs": [
    {
     "data": {
      "text/plain": [
       "'k'"
      ]
     },
     "execution_count": 14,
     "metadata": {},
     "output_type": "execute_result"
    }
   ],
   "source": [
    "c[-1]    #last one index from \"c\" i.e. 'k'"
   ]
  },
  {
   "cell_type": "code",
   "execution_count": 15,
   "id": "f78ad949",
   "metadata": {},
   "outputs": [
    {
     "data": {
      "text/plain": [
       "93"
      ]
     },
     "execution_count": 15,
     "metadata": {},
     "output_type": "execute_result"
    }
   ],
   "source": [
    "len(c)    #total lenth of 'c'"
   ]
  },
  {
   "cell_type": "code",
   "execution_count": 16,
   "id": "e157694c",
   "metadata": {},
   "outputs": [
    {
     "ename": "IndexError",
     "evalue": "string index out of range",
     "output_type": "error",
     "traceback": [
      "\u001b[1;31m---------------------------------------------------------------------------\u001b[0m",
      "\u001b[1;31mIndexError\u001b[0m                                Traceback (most recent call last)",
      "Input \u001b[1;32mIn [16]\u001b[0m, in \u001b[0;36m<cell line: 1>\u001b[1;34m()\u001b[0m\n\u001b[1;32m----> 1\u001b[0m \u001b[43mc\u001b[49m\u001b[43m[\u001b[49m\u001b[38;5;241;43m100\u001b[39;49m\u001b[43m]\u001b[49m\n",
      "\u001b[1;31mIndexError\u001b[0m: string index out of range"
     ]
    }
   ],
   "source": [
    "c[100]   #out of index   "
   ]
  },
  {
   "cell_type": "code",
   "execution_count": 17,
   "id": "28753f98",
   "metadata": {},
   "outputs": [
    {
     "data": {
      "text/plain": [
       "'orst c'"
      ]
     },
     "execution_count": 17,
     "metadata": {},
     "output_type": "execute_result"
    }
   ],
   "source": [
    "c[12:18]      #char rom index 12 to 18including spaces"
   ]
  },
  {
   "cell_type": "code",
   "execution_count": 18,
   "id": "02cd39a1",
   "metadata": {},
   "outputs": [
    {
     "data": {
      "text/plain": [
       "' os ls o h ulsakdt c'"
      ]
     },
     "execution_count": 18,
     "metadata": {},
     "output_type": "execute_result"
    }
   ],
   "source": [
    "c[10:50:2]     #char from 10 to 50 but after every 2nd char"
   ]
  },
  {
   "cell_type": "code",
   "execution_count": 19,
   "id": "0c113621",
   "metadata": {},
   "outputs": [
    {
     "data": {
      "text/plain": [
       "'salc tsr'"
      ]
     },
     "execution_count": 19,
     "metadata": {},
     "output_type": "execute_result"
    }
   ],
   "source": [
    "c[20:12:-1]    #char from 20 to 12 from strart but counting in backword directions "
   ]
  },
  {
   "cell_type": "code",
   "execution_count": 20,
   "id": "8394ba06",
   "metadata": {},
   "outputs": [
    {
     "data": {
      "text/plain": [
       "\"ence that's why i am using jupyter notebo\""
      ]
     },
     "execution_count": 20,
     "metadata": {},
     "output_type": "execute_result"
    }
   ],
   "source": [
    "c[50:-2:1]     #from index 50 to last 2nd in forward direction"
   ]
  },
  {
   "cell_type": "code",
   "execution_count": 21,
   "id": "163f548a",
   "metadata": {},
   "outputs": [
    {
     "name": "stdout",
     "output_type": "stream",
     "text": [
      "t\n",
      "h\n",
      "i\n",
      "s\n",
      " \n",
      "i\n",
      "s\n",
      " \n",
      "m\n",
      "y\n",
      " \n",
      "f\n",
      "o\n",
      "r\n",
      "s\n",
      "t\n",
      " \n",
      "c\n",
      "l\n",
      "a\n",
      "s\n",
      "s\n",
      " \n",
      "f\n",
      "o\n",
      "r\n",
      " \n",
      "t\n",
      "h\n",
      "e\n",
      " \n",
      "f\n",
      "u\n",
      "l\n",
      "l\n",
      " \n",
      "s\n",
      "t\n",
      "a\n",
      "c\n",
      "k\n",
      " \n",
      "d\n",
      "a\n",
      "t\n",
      "a\n",
      " \n",
      "s\n",
      "c\n",
      "i\n",
      "e\n",
      "n\n",
      "c\n",
      "e\n",
      " \n",
      "t\n",
      "h\n",
      "a\n",
      "t\n",
      "'\n",
      "s\n",
      " \n",
      "w\n",
      "h\n",
      "y\n",
      " \n",
      "i\n",
      " \n",
      "a\n",
      "m\n",
      " \n",
      "u\n",
      "s\n",
      "i\n",
      "n\n",
      "g\n",
      " \n",
      "j\n",
      "u\n",
      "p\n",
      "y\n",
      "t\n",
      "e\n",
      "r\n",
      " \n",
      "n\n",
      "o\n",
      "t\n",
      "e\n",
      "b\n",
      "o\n",
      "o\n",
      "k\n"
     ]
    }
   ],
   "source": [
    "for i in c:\n",
    "    print(i)"
   ]
  },
  {
   "cell_type": "code",
   "execution_count": 22,
   "id": "69e95867",
   "metadata": {},
   "outputs": [
    {
     "name": "stdout",
     "output_type": "stream",
     "text": [
      "t\n",
      "h\n",
      "i\n",
      "s\n",
      " \n",
      "i\n",
      "s\n",
      " \n",
      "m\n",
      "y\n",
      " \n",
      "f\n",
      "o\n",
      "r\n",
      "s\n",
      "t\n",
      " \n",
      "c\n",
      "l\n",
      "a\n",
      "s\n",
      "s\n",
      " \n",
      "f\n",
      "o\n",
      "r\n",
      " \n",
      "t\n",
      "h\n",
      "e\n",
      " \n",
      "f\n",
      "u\n",
      "l\n",
      "l\n",
      " \n",
      "s\n",
      "t\n",
      "a\n",
      "c\n",
      "k\n",
      " \n",
      "d\n",
      "a\n",
      "t\n",
      "a\n",
      " \n",
      "s\n",
      "c\n",
      "i\n",
      "e\n",
      "n\n",
      "c\n",
      "e\n",
      " \n",
      "t\n",
      "h\n",
      "a\n",
      "t\n",
      "'\n",
      "s\n",
      " \n",
      "w\n",
      "h\n",
      "y\n",
      " \n",
      "i\n",
      " \n",
      "a\n",
      "m\n",
      " \n",
      "u\n",
      "s\n",
      "i\n",
      "n\n",
      "g\n",
      " \n",
      "j\n",
      "u\n",
      "p\n",
      "y\n",
      "t\n",
      "e\n",
      "r\n",
      " \n",
      "n\n",
      "o\n",
      "t\n",
      "e\n",
      "b\n",
      "o\n",
      "o\n",
      "k\n"
     ]
    }
   ],
   "source": [
    "for i in range(len(c)):\n",
    "    print(c[i])"
   ]
  },
  {
   "cell_type": "code",
   "execution_count": 23,
   "id": "f6c50bb7",
   "metadata": {},
   "outputs": [
    {
     "name": "stdout",
     "output_type": "stream",
     "text": [
      "t\n",
      "k\n",
      "o\n",
      "o\n",
      "b\n",
      "e\n",
      "t\n",
      "o\n",
      "n\n",
      " \n",
      "r\n",
      "e\n",
      "t\n",
      "y\n",
      "p\n",
      "u\n",
      "j\n",
      " \n",
      "g\n",
      "n\n",
      "i\n",
      "s\n",
      "u\n",
      " \n",
      "m\n",
      "a\n",
      " \n",
      "i\n",
      " \n",
      "y\n",
      "h\n",
      "w\n",
      " \n",
      "s\n",
      "'\n",
      "t\n",
      "a\n",
      "h\n",
      "t\n",
      " \n",
      "e\n",
      "c\n",
      "n\n",
      "e\n",
      "i\n",
      "c\n",
      "s\n",
      " \n",
      "a\n",
      "t\n",
      "a\n",
      "d\n",
      " \n",
      "k\n",
      "c\n",
      "a\n",
      "t\n",
      "s\n",
      " \n",
      "l\n",
      "l\n",
      "u\n",
      "f\n",
      " \n",
      "e\n",
      "h\n",
      "t\n",
      " \n",
      "r\n",
      "o\n",
      "f\n",
      " \n",
      "s\n",
      "s\n",
      "a\n",
      "l\n",
      "c\n",
      " \n",
      "t\n",
      "s\n",
      "r\n",
      "o\n",
      "f\n",
      " \n",
      "y\n",
      "m\n",
      " \n",
      "s\n",
      "i\n",
      " \n",
      "s\n",
      "i\n",
      "h\n"
     ]
    }
   ],
   "source": [
    "for i in range(len(c)):\n",
    "    print(c[-i])    #string doesnt support item assignment i.e. string is immutuble object"
   ]
  },
  {
   "cell_type": "code",
   "execution_count": 24,
   "id": "e0488d30",
   "metadata": {},
   "outputs": [
    {
     "data": {
      "text/plain": [
       "\"koobeton retypuj gnisu ma i yhw s'taht ecneics atad kcats lluf eht rof ssalc tsrof ym si siht\""
      ]
     },
     "execution_count": 24,
     "metadata": {},
     "output_type": "execute_result"
    }
   ],
   "source": [
    "c[::-1]    #reverse the string"
   ]
  },
  {
   "cell_type": "code",
   "execution_count": 25,
   "id": "a4d7cb57",
   "metadata": {},
   "outputs": [
    {
     "data": {
      "text/plain": [
       "'rekha mnb'"
      ]
     },
     "execution_count": 25,
     "metadata": {},
     "output_type": "execute_result"
    }
   ],
   "source": [
    "\"rekha\" + \" mnb\"    #concate the two string"
   ]
  },
  {
   "cell_type": "code",
   "execution_count": 26,
   "id": "f6a1cd39",
   "metadata": {},
   "outputs": [
    {
     "data": {
      "text/plain": [
       "'rekha653'"
      ]
     },
     "execution_count": 26,
     "metadata": {},
     "output_type": "execute_result"
    }
   ],
   "source": [
    "\"rekha\" + str(653)   #concate the strings"
   ]
  },
  {
   "cell_type": "code",
   "execution_count": 27,
   "id": "e0d62da2",
   "metadata": {},
   "outputs": [],
   "source": [
    "d = \"likjhgas slkJ\""
   ]
  },
  {
   "cell_type": "code",
   "execution_count": 29,
   "id": "d5897447",
   "metadata": {},
   "outputs": [
    {
     "data": {
      "text/plain": [
       "2"
      ]
     },
     "execution_count": 29,
     "metadata": {},
     "output_type": "execute_result"
    }
   ],
   "source": [
    "d.find('k')        #find inde of the string"
   ]
  },
  {
   "cell_type": "code",
   "execution_count": 31,
   "id": "760b9887",
   "metadata": {},
   "outputs": [
    {
     "data": {
      "text/plain": [
       "-1"
      ]
     },
     "execution_count": 31,
     "metadata": {},
     "output_type": "execute_result"
    }
   ],
   "source": [
    "d.find(\"kijhg\")  #-1 means not available into strng"
   ]
  },
  {
   "cell_type": "code",
   "execution_count": 36,
   "id": "65a1a020",
   "metadata": {},
   "outputs": [],
   "source": [
    "s= \"my name is rekha, my father name is shaligram \""
   ]
  },
  {
   "cell_type": "code",
   "execution_count": 37,
   "id": "970165b3",
   "metadata": {},
   "outputs": [
    {
     "name": "stdout",
     "output_type": "stream",
     "text": [
      "3\n",
      "4\n",
      "5\n",
      "6\n"
     ]
    }
   ],
   "source": [
    "d = s.find('name')\n",
    "for i in range(len('name')):\n",
    "    print(d + i)"
   ]
  },
  {
   "cell_type": "code",
   "execution_count": 39,
   "id": "6031f3b3",
   "metadata": {},
   "outputs": [
    {
     "data": {
      "text/plain": [
       "2"
      ]
     },
     "execution_count": 39,
     "metadata": {},
     "output_type": "execute_result"
    }
   ],
   "source": [
    "s.count('name')        #counting no"
   ]
  },
  {
   "cell_type": "code",
   "execution_count": 40,
   "id": "8bb4ec5a",
   "metadata": {},
   "outputs": [
    {
     "data": {
      "text/plain": [
       "['my', 'name', 'is', 'rekha,', 'my', 'father', 'name', 'is', 'shaligram']"
      ]
     },
     "execution_count": 40,
     "metadata": {},
     "output_type": "execute_result"
    }
   ],
   "source": [
    "s.split()    #string spliting on spaces by default"
   ]
  },
  {
   "cell_type": "code",
   "execution_count": 41,
   "id": "62eb34d1",
   "metadata": {},
   "outputs": [
    {
     "data": {
      "text/plain": [
       "['', 'y na', 'e is rekha, ', 'y father na', 'e is shaligra', ' ']"
      ]
     },
     "execution_count": 41,
     "metadata": {},
     "output_type": "execute_result"
    }
   ],
   "source": [
    "s.split('m')    #string splitig on given as here 'm'"
   ]
  },
  {
   "cell_type": "code",
   "execution_count": 42,
   "id": "f4896596",
   "metadata": {},
   "outputs": [
    {
     "data": {
      "text/plain": [
       "list"
      ]
     },
     "execution_count": 42,
     "metadata": {},
     "output_type": "execute_result"
    }
   ],
   "source": [
    "type(s.split())"
   ]
  },
  {
   "cell_type": "code",
   "execution_count": 43,
   "id": "49d3b707",
   "metadata": {},
   "outputs": [
    {
     "data": {
      "text/plain": [
       "'MY NAME IS REKHA, MY FATHER NAME IS SHALIGRAM '"
      ]
     },
     "execution_count": 43,
     "metadata": {},
     "output_type": "execute_result"
    }
   ],
   "source": [
    "s.upper()            #convert it into upper case"
   ]
  },
  {
   "cell_type": "code",
   "execution_count": 44,
   "id": "86ee6424",
   "metadata": {},
   "outputs": [
    {
     "data": {
      "text/plain": [
       "'my name is rekha, my father name is shaligram '"
      ]
     },
     "execution_count": 44,
     "metadata": {},
     "output_type": "execute_result"
    }
   ],
   "source": [
    "s.lower()             #convert it into lower case"
   ]
  },
  {
   "cell_type": "code",
   "execution_count": 45,
   "id": "b2a6f1dc",
   "metadata": {},
   "outputs": [],
   "source": [
    "d= 'Rekha Wahurwagh Shaligram'"
   ]
  },
  {
   "cell_type": "code",
   "execution_count": 46,
   "id": "0a6639c5",
   "metadata": {},
   "outputs": [
    {
     "data": {
      "text/plain": [
       "'rEKHA wAHURWAGH sHALIGRAM'"
      ]
     },
     "execution_count": 46,
     "metadata": {},
     "output_type": "execute_result"
    }
   ],
   "source": [
    "d.swapcase()     #swapping the leters rom uper to lower and lower to upper"
   ]
  },
  {
   "cell_type": "code",
   "execution_count": 48,
   "id": "0a2ee522",
   "metadata": {},
   "outputs": [
    {
     "data": {
      "text/plain": [
       "'R  e  k  h  a     W  a  h  u  r  w  a  g  h     S  h  a  l  i  g  r  a  m'"
      ]
     },
     "execution_count": 48,
     "metadata": {},
     "output_type": "execute_result"
    }
   ],
   "source": [
    "'  '.join(d)    #join string with given, here is space"
   ]
  },
  {
   "cell_type": "code",
   "execution_count": 49,
   "id": "0b4278b2",
   "metadata": {},
   "outputs": [
    {
     "data": {
      "text/plain": [
       "'R@e@k@h@a@ @W@a@h@u@r@w@a@g@h@ @S@h@a@l@i@g@r@a@m'"
      ]
     },
     "execution_count": 49,
     "metadata": {},
     "output_type": "execute_result"
    }
   ],
   "source": [
    "'@'.join(d)"
   ]
  },
  {
   "cell_type": "code",
   "execution_count": 50,
   "id": "81a94999",
   "metadata": {},
   "outputs": [
    {
     "name": "stdout",
     "output_type": "stream",
     "text": [
      "m\n",
      "a\n",
      "r\n",
      "g\n",
      "i\n",
      "l\n",
      "a\n",
      "h\n",
      "S\n",
      " \n",
      "h\n",
      "g\n",
      "a\n",
      "w\n",
      "r\n",
      "u\n",
      "h\n",
      "a\n",
      "W\n",
      " \n",
      "a\n",
      "h\n",
      "k\n",
      "e\n",
      "R\n"
     ]
    }
   ],
   "source": [
    "for i in reversed(d):\n",
    "    print(i)"
   ]
  },
  {
   "cell_type": "code",
   "execution_count": 55,
   "id": "d37b52f1",
   "metadata": {},
   "outputs": [],
   "source": [
    "d= '    Rekha  '"
   ]
  },
  {
   "cell_type": "code",
   "execution_count": 56,
   "id": "9a6b90e8",
   "metadata": {},
   "outputs": [
    {
     "data": {
      "text/plain": [
       "'Rekha'"
      ]
     },
     "execution_count": 56,
     "metadata": {},
     "output_type": "execute_result"
    }
   ],
   "source": [
    "d.strip()     #remove the spaces from bothe the end of string"
   ]
  },
  {
   "cell_type": "code",
   "execution_count": 57,
   "id": "03704f83",
   "metadata": {},
   "outputs": [
    {
     "data": {
      "text/plain": [
       "'    Rekha'"
      ]
     },
     "execution_count": 57,
     "metadata": {},
     "output_type": "execute_result"
    }
   ],
   "source": [
    "d.rstrip()       #remove the spaces from right end of string"
   ]
  },
  {
   "cell_type": "code",
   "execution_count": 58,
   "id": "fa15b051",
   "metadata": {},
   "outputs": [
    {
     "data": {
      "text/plain": [
       "'Rekha  '"
      ]
     },
     "execution_count": 58,
     "metadata": {},
     "output_type": "execute_result"
    }
   ],
   "source": [
    "d.lstrip()         #remove the spaces from lft end of string"
   ]
  },
  {
   "cell_type": "code",
   "execution_count": 63,
   "id": "cec83165",
   "metadata": {},
   "outputs": [],
   "source": [
    "f=d.replace('R','F')      #replace R with F"
   ]
  },
  {
   "cell_type": "code",
   "execution_count": 64,
   "id": "7adb20ab",
   "metadata": {},
   "outputs": [
    {
     "data": {
      "text/plain": [
       "'    Fekha  '"
      ]
     },
     "execution_count": 64,
     "metadata": {},
     "output_type": "execute_result"
    }
   ],
   "source": [
    "f\n"
   ]
  },
  {
   "cell_type": "code",
   "execution_count": 65,
   "id": "e43a53ad",
   "metadata": {},
   "outputs": [],
   "source": [
    "s= 'rekha'"
   ]
  },
  {
   "cell_type": "code",
   "execution_count": 66,
   "id": "ea39ab0d",
   "metadata": {},
   "outputs": [
    {
     "data": {
      "text/plain": [
       "'$$$$$$$rekha$$$$$$$$'"
      ]
     },
     "execution_count": 66,
     "metadata": {},
     "output_type": "execute_result"
    }
   ],
   "source": [
    "s.center(20, '$')         #string in centr "
   ]
  },
  {
   "cell_type": "code",
   "execution_count": 67,
   "id": "bf7c1987",
   "metadata": {},
   "outputs": [],
   "source": [
    "t='rekha\\tsagar\\tocean'"
   ]
  },
  {
   "cell_type": "code",
   "execution_count": 69,
   "id": "dc6e85ce",
   "metadata": {},
   "outputs": [
    {
     "data": {
      "text/plain": [
       "'rekha   sagar   ocean'"
      ]
     },
     "execution_count": 69,
     "metadata": {},
     "output_type": "execute_result"
    }
   ],
   "source": [
    "t.expandtabs()           "
   ]
  },
  {
   "cell_type": "code",
   "execution_count": 22,
   "id": "8b6ef6ca",
   "metadata": {},
   "outputs": [],
   "source": [
    "a= ' We all are the part of Full Stack'"
   ]
  },
  {
   "cell_type": "code",
   "execution_count": 23,
   "id": "45d6f522",
   "metadata": {},
   "outputs": [
    {
     "data": {
      "text/plain": [
       "str"
      ]
     },
     "execution_count": 23,
     "metadata": {},
     "output_type": "execute_result"
    }
   ],
   "source": [
    "type(a)"
   ]
  },
  {
   "cell_type": "code",
   "execution_count": 24,
   "id": "9155b263",
   "metadata": {},
   "outputs": [
    {
     "data": {
      "text/plain": [
       "' we all are the part of full stack'"
      ]
     },
     "execution_count": 24,
     "metadata": {},
     "output_type": "execute_result"
    }
   ],
   "source": [
    "a.lower()"
   ]
  },
  {
   "cell_type": "code",
   "execution_count": 72,
   "id": "2a812e9e",
   "metadata": {},
   "outputs": [
    {
     "data": {
      "text/plain": [
       "4"
      ]
     },
     "execution_count": 72,
     "metadata": {},
     "output_type": "execute_result"
    }
   ],
   "source": [
    "a.find('a')       #find no of 'a ' in string a"
   ]
  },
  {
   "cell_type": "code",
   "execution_count": 91,
   "id": "bc5c0962",
   "metadata": {},
   "outputs": [
    {
     "data": {
      "text/plain": [
       "['We', 'all', 'are', 'the', 'part', 'of', 'Full', 'Stack']"
      ]
     },
     "execution_count": 91,
     "metadata": {},
     "output_type": "execute_result"
    }
   ],
   "source": [
    "a.split() "
   ]
  },
  {
   "cell_type": "code",
   "execution_count": 79,
   "id": "997a11ee",
   "metadata": {},
   "outputs": [
    {
     "data": {
      "text/plain": [
       "' We iNeuronll iNeuronre the piNeuronrt of Full StiNeuronck'"
      ]
     },
     "execution_count": 79,
     "metadata": {},
     "output_type": "execute_result"
    }
   ],
   "source": [
    "a.replace('a', 'iNeuron')"
   ]
  },
  {
   "cell_type": "code",
   "execution_count": 80,
   "id": "c1a973eb",
   "metadata": {},
   "outputs": [
    {
     "data": {
      "text/plain": [
       "[' ',\n",
       " 'W',\n",
       " 'e',\n",
       " ' ',\n",
       " 'a',\n",
       " 'l',\n",
       " 'l',\n",
       " ' ',\n",
       " 'a',\n",
       " 'r',\n",
       " 'e',\n",
       " ' ',\n",
       " 't',\n",
       " 'h',\n",
       " 'e',\n",
       " ' ',\n",
       " 'p',\n",
       " 'a',\n",
       " 'r',\n",
       " 't',\n",
       " ' ',\n",
       " 'o',\n",
       " 'f',\n",
       " ' ',\n",
       " 'F',\n",
       " 'u',\n",
       " 'l',\n",
       " 'l',\n",
       " ' ',\n",
       " 'S',\n",
       " 't',\n",
       " 'a',\n",
       " 'c',\n",
       " 'k']"
      ]
     },
     "execution_count": 80,
     "metadata": {},
     "output_type": "execute_result"
    }
   ],
   "source": [
    "\n",
    "list(a)"
   ]
  },
  {
   "cell_type": "code",
   "execution_count": 92,
   "id": "c97f8755",
   "metadata": {},
   "outputs": [],
   "source": [
    "s=' Rekha'"
   ]
  },
  {
   "cell_type": "code",
   "execution_count": 93,
   "id": "fbca40fb",
   "metadata": {},
   "outputs": [
    {
     "data": {
      "text/plain": [
       "True"
      ]
     },
     "execution_count": 93,
     "metadata": {},
     "output_type": "execute_result"
    }
   ],
   "source": [
    "s.isalpha()         "
   ]
  },
  {
   "cell_type": "code",
   "execution_count": 94,
   "id": "89d29461",
   "metadata": {},
   "outputs": [
    {
     "data": {
      "text/plain": [
       "False"
      ]
     },
     "execution_count": 94,
     "metadata": {},
     "output_type": "execute_result"
    }
   ],
   "source": [
    "s.isupper()        #complete string should be in upper case"
   ]
  },
  {
   "cell_type": "code",
   "execution_count": 96,
   "id": "497926c3",
   "metadata": {},
   "outputs": [
    {
     "data": {
      "text/plain": [
       "False"
      ]
     },
     "execution_count": 96,
     "metadata": {},
     "output_type": "execute_result"
    }
   ],
   "source": [
    "s.islower()        #complete string shuld in lower case"
   ]
  },
  {
   "cell_type": "code",
   "execution_count": 97,
   "id": "6f5bc177",
   "metadata": {},
   "outputs": [],
   "source": [
    "s= 'rekha'"
   ]
  },
  {
   "cell_type": "code",
   "execution_count": 98,
   "id": "860e25ac",
   "metadata": {},
   "outputs": [
    {
     "data": {
      "text/plain": [
       "False"
      ]
     },
     "execution_count": 98,
     "metadata": {},
     "output_type": "execute_result"
    }
   ],
   "source": [
    "s.isspace()"
   ]
  },
  {
   "cell_type": "code",
   "execution_count": 99,
   "id": "45923f4d",
   "metadata": {},
   "outputs": [],
   "source": [
    "s= ' '"
   ]
  },
  {
   "cell_type": "code",
   "execution_count": 100,
   "id": "cb3f5d10",
   "metadata": {},
   "outputs": [
    {
     "data": {
      "text/plain": [
       "True"
      ]
     },
     "execution_count": 100,
     "metadata": {},
     "output_type": "execute_result"
    }
   ],
   "source": [
    "s.isspace()"
   ]
  },
  {
   "cell_type": "code",
   "execution_count": 101,
   "id": "c5f75665",
   "metadata": {},
   "outputs": [],
   "source": [
    "s='1256'"
   ]
  },
  {
   "cell_type": "code",
   "execution_count": 102,
   "id": "c83df739",
   "metadata": {},
   "outputs": [
    {
     "data": {
      "text/plain": [
       "True"
      ]
     },
     "execution_count": 102,
     "metadata": {},
     "output_type": "execute_result"
    }
   ],
   "source": [
    "s.isdigit()"
   ]
  },
  {
   "cell_type": "code",
   "execution_count": 104,
   "id": "8bcd0ed2",
   "metadata": {},
   "outputs": [
    {
     "data": {
      "text/plain": [
       "True"
      ]
     },
     "execution_count": 104,
     "metadata": {},
     "output_type": "execute_result"
    }
   ],
   "source": [
    "s.endswith('6')"
   ]
  },
  {
   "cell_type": "code",
   "execution_count": 105,
   "id": "fd7b1f4b",
   "metadata": {},
   "outputs": [
    {
     "data": {
      "text/plain": [
       "True"
      ]
     },
     "execution_count": 105,
     "metadata": {},
     "output_type": "execute_result"
    }
   ],
   "source": [
    "s.startswith('1')"
   ]
  },
  {
   "cell_type": "code",
   "execution_count": 107,
   "id": "8ddfe21c",
   "metadata": {},
   "outputs": [
    {
     "data": {
      "text/plain": [
       "True"
      ]
     },
     "execution_count": 107,
     "metadata": {},
     "output_type": "execute_result"
    }
   ],
   "source": [
    "s.isalnum()"
   ]
  },
  {
   "cell_type": "code",
   "execution_count": 108,
   "id": "f38c776b",
   "metadata": {},
   "outputs": [
    {
     "data": {
      "text/plain": [
       "False"
      ]
     },
     "execution_count": 108,
     "metadata": {},
     "output_type": "execute_result"
    }
   ],
   "source": [
    "s= 'kjhg12356'\n",
    "s.isalpha()"
   ]
  },
  {
   "cell_type": "code",
   "execution_count": 109,
   "id": "327f3268",
   "metadata": {},
   "outputs": [
    {
     "data": {
      "text/plain": [
       "False"
      ]
     },
     "execution_count": 109,
     "metadata": {},
     "output_type": "execute_result"
    }
   ],
   "source": [
    "s.istitle()               #1st letr in upper"
   ]
  },
  {
   "cell_type": "code",
   "execution_count": 110,
   "id": "3003ddce",
   "metadata": {},
   "outputs": [],
   "source": [
    "s = ' I am rekha shaligram Wahurwgh'"
   ]
  },
  {
   "cell_type": "code",
   "execution_count": 112,
   "id": "536b4170",
   "metadata": {},
   "outputs": [
    {
     "name": "stdout",
     "output_type": "stream",
     "text": [
      "30\n"
     ]
    }
   ],
   "source": [
    "count = 0\n",
    "\n",
    "for i in s:\n",
    "    count = count + 1\n",
    "print(count)"
   ]
  },
  {
   "cell_type": "markdown",
   "id": "cd3d716b",
   "metadata": {},
   "source": [
    "# OR"
   ]
  },
  {
   "cell_type": "code",
   "execution_count": 114,
   "id": "4f02adca",
   "metadata": {},
   "outputs": [
    {
     "data": {
      "text/plain": [
       "30"
      ]
     },
     "execution_count": 114,
     "metadata": {},
     "output_type": "execute_result"
    }
   ],
   "source": [
    "len(s)"
   ]
  },
  {
   "cell_type": "code",
   "execution_count": 113,
   "id": "303e3803",
   "metadata": {},
   "outputs": [
    {
     "name": "stdout",
     "output_type": "stream",
     "text": [
      " \n",
      "I\n",
      " \n",
      "a\n",
      "m\n",
      " \n",
      "r\n",
      "e\n",
      "k\n",
      "h\n",
      "a\n",
      " \n",
      "s\n",
      "h\n",
      "a\n",
      "l\n",
      "i\n",
      "g\n",
      "r\n",
      "a\n",
      "m\n",
      " \n",
      "W\n",
      "a\n",
      "h\n",
      "u\n",
      "r\n",
      "w\n",
      "g\n",
      "h\n"
     ]
    }
   ],
   "source": [
    "for i in range(len(s)):\n",
    "    print(s[i])"
   ]
  },
  {
   "cell_type": "markdown",
   "id": "b937808a",
   "metadata": {},
   "source": [
    "# OR "
   ]
  },
  {
   "cell_type": "code",
   "execution_count": 115,
   "id": "00babc00",
   "metadata": {},
   "outputs": [
    {
     "name": "stdout",
     "output_type": "stream",
     "text": [
      " \n",
      "I\n",
      " \n",
      "a\n",
      "m\n",
      " \n",
      "r\n",
      "e\n",
      "k\n",
      "h\n",
      "a\n",
      " \n",
      "s\n",
      "h\n",
      "a\n",
      "l\n",
      "i\n",
      "g\n",
      "r\n",
      "a\n",
      "m\n",
      " \n",
      "W\n",
      "a\n",
      "h\n",
      "u\n",
      "r\n",
      "w\n",
      "g\n",
      "h\n"
     ]
    }
   ],
   "source": [
    "for i in s:\n",
    "    print(i)"
   ]
  },
  {
   "cell_type": "code",
   "execution_count": 117,
   "id": "e91f8d5c",
   "metadata": {},
   "outputs": [
    {
     "data": {
      "text/plain": [
       "' I am rekha shaligram Wahurwgh'"
      ]
     },
     "execution_count": 117,
     "metadata": {},
     "output_type": "execute_result"
    }
   ],
   "source": [
    "s"
   ]
  },
  {
   "cell_type": "code",
   "execution_count": 120,
   "id": "f11e0ecc",
   "metadata": {},
   "outputs": [
    {
     "name": "stdout",
     "output_type": "stream",
     "text": [
      "h\n",
      "g\n",
      "w\n",
      "r\n",
      "u\n",
      "h\n",
      "a\n",
      "W\n",
      " \n",
      "m\n",
      "a\n",
      "r\n",
      "g\n",
      "i\n",
      "l\n",
      "a\n",
      "h\n",
      "s\n",
      " \n",
      "a\n",
      "h\n",
      "k\n",
      "e\n",
      "r\n",
      " \n",
      "m\n",
      "a\n",
      " \n",
      "I\n"
     ]
    }
   ],
   "source": [
    "for i in range(1,len(s)):\n",
    "    print(s[-i])"
   ]
  },
  {
   "cell_type": "markdown",
   "id": "8b17f2ca",
   "metadata": {},
   "source": [
    "# OR"
   ]
  },
  {
   "cell_type": "code",
   "execution_count": 125,
   "id": "fb91b7e8",
   "metadata": {},
   "outputs": [
    {
     "name": "stdout",
     "output_type": "stream",
     "text": [
      "h\n",
      "g\n",
      "w\n",
      "r\n",
      "u\n",
      "h\n",
      "a\n",
      "W\n",
      " \n",
      "m\n",
      "a\n",
      "r\n",
      "g\n",
      "i\n",
      "l\n",
      "a\n",
      "h\n",
      "s\n",
      " \n",
      "a\n",
      "h\n",
      "k\n",
      "e\n",
      "r\n",
      " \n",
      "m\n",
      "a\n",
      " \n",
      "I\n",
      " \n"
     ]
    }
   ],
   "source": [
    "s = 'I am rekha shaligram wahurwagh'\n",
    "ch= len(s)-1\n",
    "while ch >= 0:\n",
    "    print(s[ch])\n",
    "    ch = ch -1"
   ]
  },
  {
   "cell_type": "code",
   "execution_count": 127,
   "id": "b52940e1",
   "metadata": {},
   "outputs": [
    {
     "name": "stdout",
     "output_type": "stream",
     "text": [
      "i is a vowels\n",
      " N is not vowels\n",
      "e is a vowels\n",
      "u is a vowels\n",
      " r is not vowels\n",
      "o is a vowels\n",
      " n is not vowels\n"
     ]
    }
   ],
   "source": [
    "name = 'iNeuron'\n",
    "vowels = 'AaEeIiOoUu'\n",
    "\n",
    "for i in name:\n",
    "    if i in vowels:\n",
    "        print(\"{} is a vowels\".format(i))\n",
    "    else:\n",
    "        print(\" {} is not vowels\".format(i))\n",
    "\n"
   ]
  },
  {
   "cell_type": "code",
   "execution_count": 129,
   "id": "4991c1ce",
   "metadata": {},
   "outputs": [
    {
     "data": {
      "text/plain": [
       "'my name is rekha'"
      ]
     },
     "execution_count": 129,
     "metadata": {},
     "output_type": "execute_result"
    }
   ],
   "source": [
    "\"{} name is rekha\".format('my')          #format function"
   ]
  },
  {
   "cell_type": "code",
   "execution_count": 130,
   "id": "a1d1bdc1",
   "metadata": {},
   "outputs": [
    {
     "data": {
      "text/plain": [
       "'xcdfsd name is rekha and oikjhgf name is ocean'"
      ]
     },
     "execution_count": 130,
     "metadata": {},
     "output_type": "execute_result"
    }
   ],
   "source": [
    "a='xcdfsd'\n",
    "b= 'oikjhgf'\n",
    "\n",
    "\"{} name is rekha and {} name is ocean\".format(a,b)"
   ]
  },
  {
   "cell_type": "markdown",
   "id": "8ab4301e",
   "metadata": {},
   "source": [
    "# Palindrome"
   ]
  },
  {
   "cell_type": "code",
   "execution_count": 131,
   "id": "ac43c545",
   "metadata": {},
   "outputs": [
    {
     "data": {
      "text/plain": [
       "'eg.\\n1)NITIN\\n2)xyx\\n2)eye\\n4)2002\\n'"
      ]
     },
     "execution_count": 131,
     "metadata": {},
     "output_type": "execute_result"
    }
   ],
   "source": [
    "\"\"\"eg.\n",
    "1)NITIN  \n",
    "2)xyx\n",
    "2)eye\n",
    "4)2002\n",
    "\"\"\""
   ]
  },
  {
   "cell_type": "code",
   "execution_count": 134,
   "id": "af865fb0",
   "metadata": {},
   "outputs": [
    {
     "name": "stdout",
     "output_type": "stream",
     "text": [
      "Enter the data to check is it pelindrom :asdfg\n",
      "data is not same\n"
     ]
    }
   ],
   "source": [
    "s=input(\"Enter the data to check is it pelindrom :\")\n",
    "s1= s[::-1]                      #pelidrom means the string will same in right as well as backward direction\n",
    "if s1==s:\n",
    "    print(\"it is same\")\n",
    "else:\n",
    "    print(\"data is not same\")"
   ]
  },
  {
   "cell_type": "markdown",
   "id": "f15be9d3",
   "metadata": {},
   "source": [
    "# List manupulation"
   ]
  },
  {
   "cell_type": "code",
   "execution_count": 135,
   "id": "5941ed77",
   "metadata": {},
   "outputs": [],
   "source": [
    "l= [1,2,5,6,9,8,[5,2,5,8,3],'rekha']"
   ]
  },
  {
   "cell_type": "code",
   "execution_count": 136,
   "id": "2112cbed",
   "metadata": {},
   "outputs": [
    {
     "data": {
      "text/plain": [
       "6"
      ]
     },
     "execution_count": 136,
     "metadata": {},
     "output_type": "execute_result"
    }
   ],
   "source": [
    "l[3]"
   ]
  },
  {
   "cell_type": "code",
   "execution_count": 139,
   "id": "482726d4",
   "metadata": {},
   "outputs": [
    {
     "data": {
      "text/plain": [
       "[1, 2, 5, 6, 9, 8, [5, 2, 5, 8, 3]]"
      ]
     },
     "execution_count": 139,
     "metadata": {},
     "output_type": "execute_result"
    }
   ],
   "source": [
    "l[0:7]"
   ]
  },
  {
   "cell_type": "code",
   "execution_count": 140,
   "id": "290770fd",
   "metadata": {},
   "outputs": [
    {
     "data": {
      "text/plain": [
       "['rekha', [5, 2, 5, 8, 3], 8, 9, 6, 5, 2, 1]"
      ]
     },
     "execution_count": 140,
     "metadata": {},
     "output_type": "execute_result"
    }
   ],
   "source": [
    "l[::-1]"
   ]
  },
  {
   "cell_type": "code",
   "execution_count": 141,
   "id": "a1919498",
   "metadata": {},
   "outputs": [
    {
     "data": {
      "text/plain": [
       "[1, 2, 5, 6, 9, 8, [5, 2, 5, 8, 3], 'rekha']"
      ]
     },
     "execution_count": 141,
     "metadata": {},
     "output_type": "execute_result"
    }
   ],
   "source": [
    "l"
   ]
  },
  {
   "cell_type": "code",
   "execution_count": 142,
   "id": "97bc996f",
   "metadata": {},
   "outputs": [],
   "source": [
    "s= 'rekha'\n",
    "s= list(s)       #s string is converted into list format"
   ]
  },
  {
   "cell_type": "code",
   "execution_count": 143,
   "id": "cbafdb73",
   "metadata": {},
   "outputs": [
    {
     "data": {
      "text/plain": [
       "[1, 2, 5, 6, 9, 8, [5, 2, 5, 8, 3], 'rekha', 'r', 'e', 'k', 'h', 'a']"
      ]
     },
     "execution_count": 143,
     "metadata": {},
     "output_type": "execute_result"
    }
   ],
   "source": [
    "l+s"
   ]
  },
  {
   "cell_type": "code",
   "execution_count": 144,
   "id": "e1f9d301",
   "metadata": {},
   "outputs": [
    {
     "data": {
      "text/plain": [
       "[1, 2, 5, 6, 9, 8, [5, 2, 5, 8, 3], 'rekha']"
      ]
     },
     "execution_count": 144,
     "metadata": {},
     "output_type": "execute_result"
    }
   ],
   "source": [
    "l"
   ]
  },
  {
   "cell_type": "code",
   "execution_count": 145,
   "id": "37f736b0",
   "metadata": {},
   "outputs": [
    {
     "data": {
      "text/plain": [
       "[1, 2, 5, 6, 9, 8, [5, 2, 5, 8, 3], 'rekha', 'rekha']"
      ]
     },
     "execution_count": 145,
     "metadata": {},
     "output_type": "execute_result"
    }
   ],
   "source": [
    "s=['rekha']\n",
    "l+s"
   ]
  },
  {
   "cell_type": "code",
   "execution_count": 146,
   "id": "f58ff6e6",
   "metadata": {},
   "outputs": [
    {
     "data": {
      "text/plain": [
       "[1,\n",
       " 2,\n",
       " 5,\n",
       " 6,\n",
       " 9,\n",
       " 8,\n",
       " [5, 2, 5, 8, 3],\n",
       " 'rekha',\n",
       " 1,\n",
       " 2,\n",
       " 5,\n",
       " 6,\n",
       " 9,\n",
       " 8,\n",
       " [5, 2, 5, 8, 3],\n",
       " 'rekha']"
      ]
     },
     "execution_count": 146,
     "metadata": {},
     "output_type": "execute_result"
    }
   ],
   "source": [
    "l*2"
   ]
  },
  {
   "cell_type": "code",
   "execution_count": 147,
   "id": "ffd12026",
   "metadata": {},
   "outputs": [
    {
     "data": {
      "text/plain": [
       "8"
      ]
     },
     "execution_count": 147,
     "metadata": {},
     "output_type": "execute_result"
    }
   ],
   "source": [
    "len(l)"
   ]
  },
  {
   "cell_type": "code",
   "execution_count": 149,
   "id": "40a8a0a7",
   "metadata": {},
   "outputs": [
    {
     "data": {
      "text/plain": [
       "True"
      ]
     },
     "execution_count": 149,
     "metadata": {},
     "output_type": "execute_result"
    }
   ],
   "source": [
    "'rekha' in l          #to check the element is in list or not\n"
   ]
  },
  {
   "cell_type": "code",
   "execution_count": 150,
   "id": "fcecaafd",
   "metadata": {},
   "outputs": [
    {
     "data": {
      "text/plain": [
       "[1, 2, 5, 6, 9, 8, [5, 2, 5, 8, 3], 'rekha']"
      ]
     },
     "execution_count": 150,
     "metadata": {},
     "output_type": "execute_result"
    }
   ],
   "source": [
    "l"
   ]
  },
  {
   "cell_type": "code",
   "execution_count": 151,
   "id": "615154c5",
   "metadata": {},
   "outputs": [
    {
     "name": "stdout",
     "output_type": "stream",
     "text": [
      "1\n",
      "2\n",
      "5\n",
      "6\n",
      "9\n",
      "8\n",
      "[5, 2, 5, 8, 3]\n",
      "rekha\n"
     ]
    }
   ],
   "source": [
    "for i in l:\n",
    "    print(i)"
   ]
  },
  {
   "cell_type": "code",
   "execution_count": 153,
   "id": "48c10c97",
   "metadata": {},
   "outputs": [
    {
     "name": "stdout",
     "output_type": "stream",
     "text": [
      "no element is not a list : 1\n",
      "no element is not a list : 2\n",
      "no element is not a list : 5\n",
      "no element is not a list : 6\n",
      "no element is not a list : 9\n",
      "no element is not a list : 8\n",
      "this is the list :  [5, 2, 5, 8, 3]\n",
      "no element is not a list : rekha\n"
     ]
    }
   ],
   "source": [
    "for i in l :\n",
    "    if type(i)== list:\n",
    "        print(\"this is the list : \", i)\n",
    "    else:\n",
    "        print(\"no element is not a list :\", i )"
   ]
  },
  {
   "cell_type": "code",
   "execution_count": 154,
   "id": "ca8c1174",
   "metadata": {},
   "outputs": [
    {
     "data": {
      "text/plain": [
       "[1, 2, 5, 6, 9, 8, [5, 2, 5, 8, 3], 'rekha']"
      ]
     },
     "execution_count": 154,
     "metadata": {},
     "output_type": "execute_result"
    }
   ],
   "source": [
    "l"
   ]
  },
  {
   "cell_type": "code",
   "execution_count": 157,
   "id": "49a1a9ac",
   "metadata": {},
   "outputs": [],
   "source": [
    "l1 = [2,9,'ocean', [2,5,5,89]]"
   ]
  },
  {
   "cell_type": "code",
   "execution_count": 156,
   "id": "cf26cd39",
   "metadata": {},
   "outputs": [
    {
     "data": {
      "text/plain": [
       "[1,\n",
       " 2,\n",
       " 5,\n",
       " 6,\n",
       " 9,\n",
       " 8,\n",
       " [5, 2, 5, 8, 3],\n",
       " 'rekha',\n",
       " 2,\n",
       " 5,\n",
       " 8,\n",
       " 9,\n",
       " 'ocean',\n",
       " [2, 5, 5, 89],\n",
       " 'sdf']"
      ]
     },
     "execution_count": 156,
     "metadata": {},
     "output_type": "execute_result"
    }
   ],
   "source": [
    "l+l1"
   ]
  },
  {
   "cell_type": "code",
   "execution_count": 161,
   "id": "a7e206b2",
   "metadata": {},
   "outputs": [
    {
     "name": "stdout",
     "output_type": "stream",
     "text": [
      "9\n"
     ]
    }
   ],
   "source": [
    "print(max([2,5,8,9,4]))"
   ]
  },
  {
   "cell_type": "code",
   "execution_count": 162,
   "id": "15a6624e",
   "metadata": {},
   "outputs": [
    {
     "ename": "TypeError",
     "evalue": "'>' not supported between instances of 'int' and 'str'",
     "output_type": "error",
     "traceback": [
      "\u001b[1;31m---------------------------------------------------------------------------\u001b[0m",
      "\u001b[1;31mTypeError\u001b[0m                                 Traceback (most recent call last)",
      "Input \u001b[1;32mIn [162]\u001b[0m, in \u001b[0;36m<cell line: 1>\u001b[1;34m()\u001b[0m\n\u001b[1;32m----> 1\u001b[0m \u001b[38;5;28mprint\u001b[39m(\u001b[38;5;28;43mmax\u001b[39;49m\u001b[43m(\u001b[49m\u001b[43m[\u001b[49m\u001b[38;5;124;43m\"\u001b[39;49m\u001b[38;5;124;43mkjh\u001b[39;49m\u001b[38;5;124;43m\"\u001b[39;49m\u001b[43m,\u001b[49m\u001b[38;5;124;43m'\u001b[39;49m\u001b[38;5;124;43masdf\u001b[39;49m\u001b[38;5;124;43m'\u001b[39;49m\u001b[43m,\u001b[49m\u001b[43m \u001b[49m\u001b[38;5;241;43m1452\u001b[39;49m\u001b[43m]\u001b[49m\u001b[43m)\u001b[49m)\n",
      "\u001b[1;31mTypeError\u001b[0m: '>' not supported between instances of 'int' and 'str'"
     ]
    }
   ],
   "source": [
    "print(max([\"kjh\",'asdf', 1452]))"
   ]
  },
  {
   "cell_type": "code",
   "execution_count": 168,
   "id": "499a61cb",
   "metadata": {},
   "outputs": [
    {
     "name": "stdout",
     "output_type": "stream",
     "text": [
      "z\n"
     ]
    }
   ],
   "source": [
    "print(max(['ikujh','asdfg','aSEDRF','z']))"
   ]
  },
  {
   "cell_type": "code",
   "execution_count": 169,
   "id": "4cf242e8",
   "metadata": {},
   "outputs": [
    {
     "name": "stdout",
     "output_type": "stream",
     "text": [
      "a\n"
     ]
    }
   ],
   "source": [
    "print(max(['A','a']))"
   ]
  },
  {
   "cell_type": "code",
   "execution_count": 170,
   "id": "ad5e5e8c",
   "metadata": {},
   "outputs": [
    {
     "name": "stdout",
     "output_type": "stream",
     "text": [
      "1\n"
     ]
    }
   ],
   "source": [
    "print(min([2,5,8,9,6,1]))"
   ]
  },
  {
   "cell_type": "code",
   "execution_count": 171,
   "id": "eda79cf8",
   "metadata": {},
   "outputs": [
    {
     "name": "stdout",
     "output_type": "stream",
     "text": [
      "asdf\n"
     ]
    }
   ],
   "source": [
    "print(min(['dfg','asdf','ghgfdfs']))"
   ]
  },
  {
   "cell_type": "code",
   "execution_count": 172,
   "id": "af73cff3",
   "metadata": {},
   "outputs": [],
   "source": [
    "l.append('ocean')   #append the data at last of list"
   ]
  },
  {
   "cell_type": "code",
   "execution_count": 173,
   "id": "aeda7f45",
   "metadata": {},
   "outputs": [
    {
     "data": {
      "text/plain": [
       "[1, 2, 5, 6, 9, 8, [5, 2, 5, 8, 3], 'rekha', 'ocean']"
      ]
     },
     "execution_count": 173,
     "metadata": {},
     "output_type": "execute_result"
    }
   ],
   "source": [
    "l"
   ]
  },
  {
   "cell_type": "code",
   "execution_count": 174,
   "id": "6ef37013",
   "metadata": {},
   "outputs": [],
   "source": [
    "l.insert(3,'ineuron')"
   ]
  },
  {
   "cell_type": "code",
   "execution_count": 175,
   "id": "8ebc83a2",
   "metadata": {},
   "outputs": [
    {
     "data": {
      "text/plain": [
       "[1, 2, 5, 'ineuron', 6, 9, 8, [5, 2, 5, 8, 3], 'rekha', 'ocean']"
      ]
     },
     "execution_count": 175,
     "metadata": {},
     "output_type": "execute_result"
    }
   ],
   "source": [
    "l"
   ]
  },
  {
   "cell_type": "code",
   "execution_count": 176,
   "id": "c0a2f324",
   "metadata": {},
   "outputs": [],
   "source": [
    "l.insert(-2,'sakhi')"
   ]
  },
  {
   "cell_type": "code",
   "execution_count": 177,
   "id": "30b90d84",
   "metadata": {},
   "outputs": [
    {
     "data": {
      "text/plain": [
       "[1, 2, 5, 'ineuron', 6, 9, 8, [5, 2, 5, 8, 3], 'sakhi', 'rekha', 'ocean']"
      ]
     },
     "execution_count": 177,
     "metadata": {},
     "output_type": "execute_result"
    }
   ],
   "source": [
    "l"
   ]
  },
  {
   "cell_type": "code",
   "execution_count": 179,
   "id": "4da3ef09",
   "metadata": {},
   "outputs": [
    {
     "data": {
      "text/plain": [
       "1"
      ]
     },
     "execution_count": 179,
     "metadata": {},
     "output_type": "execute_result"
    }
   ],
   "source": [
    "l.count(2)"
   ]
  },
  {
   "cell_type": "code",
   "execution_count": 200,
   "id": "d5952f93",
   "metadata": {},
   "outputs": [],
   "source": [
    "s=[1,2,5,6,9,8,2,8,9,6,3,5]"
   ]
  },
  {
   "cell_type": "code",
   "execution_count": 201,
   "id": "5ea36f2d",
   "metadata": {},
   "outputs": [
    {
     "data": {
      "text/plain": [
       "2"
      ]
     },
     "execution_count": 201,
     "metadata": {},
     "output_type": "execute_result"
    }
   ],
   "source": [
    "s.count(8)"
   ]
  },
  {
   "cell_type": "code",
   "execution_count": 202,
   "id": "ea55bc03",
   "metadata": {},
   "outputs": [],
   "source": [
    "s.append(['jh',1])        #append operation allows to add int also"
   ]
  },
  {
   "cell_type": "code",
   "execution_count": 203,
   "id": "02ab45dc",
   "metadata": {},
   "outputs": [
    {
     "data": {
      "text/plain": [
       "[1, 2, 5, 6, 9, 8, 2, 8, 9, 6, 3, 5, ['jh', 1]]"
      ]
     },
     "execution_count": 203,
     "metadata": {},
     "output_type": "execute_result"
    }
   ],
   "source": [
    "s"
   ]
  },
  {
   "cell_type": "code",
   "execution_count": 204,
   "id": "b129d376",
   "metadata": {},
   "outputs": [],
   "source": [
    "s.extend('rekha')    #extend try to unlist the items, merge to the existing list"
   ]
  },
  {
   "cell_type": "code",
   "execution_count": 205,
   "id": "a49f2883",
   "metadata": {},
   "outputs": [
    {
     "data": {
      "text/plain": [
       "[1, 2, 5, 6, 9, 8, 2, 8, 9, 6, 3, 5, ['jh', 1], 'r', 'e', 'k', 'h', 'a']"
      ]
     },
     "execution_count": 205,
     "metadata": {},
     "output_type": "execute_result"
    }
   ],
   "source": [
    "s"
   ]
  },
  {
   "cell_type": "code",
   "execution_count": 1,
   "id": "c2ee25f4",
   "metadata": {},
   "outputs": [
    {
     "ename": "NameError",
     "evalue": "name 's' is not defined",
     "output_type": "error",
     "traceback": [
      "\u001b[1;31m---------------------------------------------------------------------------\u001b[0m",
      "\u001b[1;31mNameError\u001b[0m                                 Traceback (most recent call last)",
      "Input \u001b[1;32mIn [1]\u001b[0m, in \u001b[0;36m<cell line: 1>\u001b[1;34m()\u001b[0m\n\u001b[1;32m----> 1\u001b[0m \u001b[43ms\u001b[49m\u001b[38;5;241m.\u001b[39mextend(\u001b[38;5;241m25\u001b[39m)\n",
      "\u001b[1;31mNameError\u001b[0m: name 's' is not defined"
     ]
    }
   ],
   "source": [
    "s.extend(25)    #extend operaton is not allow for int"
   ]
  },
  {
   "cell_type": "code",
   "execution_count": 207,
   "id": "9cd53158",
   "metadata": {},
   "outputs": [
    {
     "data": {
      "text/plain": [
       "4"
      ]
     },
     "execution_count": 207,
     "metadata": {},
     "output_type": "execute_result"
    }
   ],
   "source": [
    "s.index(9)    #index of first item"
   ]
  },
  {
   "cell_type": "code",
   "execution_count": 208,
   "id": "bc51f131",
   "metadata": {},
   "outputs": [
    {
     "data": {
      "text/plain": [
       "'a'"
      ]
     },
     "execution_count": 208,
     "metadata": {},
     "output_type": "execute_result"
    }
   ],
   "source": [
    "s.pop()        #po will remove last element"
   ]
  },
  {
   "cell_type": "code",
   "execution_count": 209,
   "id": "b9eebda9",
   "metadata": {},
   "outputs": [
    {
     "data": {
      "text/plain": [
       "[1, 2, 5, 6, 9, 8, 2, 8, 9, 6, 3, 5, ['jh', 1], 'r', 'e', 'k', 'h']"
      ]
     },
     "execution_count": 209,
     "metadata": {},
     "output_type": "execute_result"
    }
   ],
   "source": [
    "s"
   ]
  },
  {
   "cell_type": "code",
   "execution_count": 210,
   "id": "43398d24",
   "metadata": {},
   "outputs": [
    {
     "data": {
      "text/plain": [
       "8"
      ]
     },
     "execution_count": 210,
     "metadata": {},
     "output_type": "execute_result"
    }
   ],
   "source": [
    "s.pop(5)     #remov the element on index"
   ]
  },
  {
   "cell_type": "code",
   "execution_count": 211,
   "id": "f795a8d1",
   "metadata": {},
   "outputs": [
    {
     "data": {
      "text/plain": [
       "[1, 2, 5, 6, 9, 2, 8, 9, 6, 3, 5, ['jh', 1], 'r', 'e', 'k', 'h']"
      ]
     },
     "execution_count": 211,
     "metadata": {},
     "output_type": "execute_result"
    }
   ],
   "source": [
    "s"
   ]
  },
  {
   "cell_type": "code",
   "execution_count": 212,
   "id": "ee6a78c6",
   "metadata": {},
   "outputs": [],
   "source": [
    "s.remove(2)"
   ]
  },
  {
   "cell_type": "code",
   "execution_count": 213,
   "id": "c8d8289e",
   "metadata": {},
   "outputs": [
    {
     "data": {
      "text/plain": [
       "[1, 5, 6, 9, 2, 8, 9, 6, 3, 5, ['jh', 1], 'r', 'e', 'k', 'h']"
      ]
     },
     "execution_count": 213,
     "metadata": {},
     "output_type": "execute_result"
    }
   ],
   "source": [
    "s"
   ]
  },
  {
   "cell_type": "code",
   "execution_count": 214,
   "id": "a698a279",
   "metadata": {},
   "outputs": [
    {
     "ename": "TypeError",
     "evalue": "'<' not supported between instances of 'list' and 'int'",
     "output_type": "error",
     "traceback": [
      "\u001b[1;31m---------------------------------------------------------------------------\u001b[0m",
      "\u001b[1;31mTypeError\u001b[0m                                 Traceback (most recent call last)",
      "Input \u001b[1;32mIn [214]\u001b[0m, in \u001b[0;36m<cell line: 1>\u001b[1;34m()\u001b[0m\n\u001b[1;32m----> 1\u001b[0m \u001b[43ms\u001b[49m\u001b[38;5;241;43m.\u001b[39;49m\u001b[43msort\u001b[49m\u001b[43m(\u001b[49m\u001b[43m)\u001b[49m\n",
      "\u001b[1;31mTypeError\u001b[0m: '<' not supported between instances of 'list' and 'int'"
     ]
    }
   ],
   "source": [
    "s.sort()"
   ]
  },
  {
   "cell_type": "code",
   "execution_count": 215,
   "id": "4a3ae936",
   "metadata": {},
   "outputs": [],
   "source": [
    "d=[2,3,6,96,85,25,32,54,25]"
   ]
  },
  {
   "cell_type": "code",
   "execution_count": 217,
   "id": "aadfd0fd",
   "metadata": {},
   "outputs": [],
   "source": [
    "d.sort()"
   ]
  },
  {
   "cell_type": "code",
   "execution_count": 218,
   "id": "e6c24bd3",
   "metadata": {},
   "outputs": [
    {
     "data": {
      "text/plain": [
       "[2, 3, 6, 25, 25, 32, 54, 85, 96]"
      ]
     },
     "execution_count": 218,
     "metadata": {},
     "output_type": "execute_result"
    }
   ],
   "source": [
    "d"
   ]
  },
  {
   "cell_type": "code",
   "execution_count": 219,
   "id": "a057335c",
   "metadata": {},
   "outputs": [],
   "source": [
    "l=[1,2,5,8,9,[2,4,5,'dfvf',89,2],'gfh',[3,35,64,'asdf',98,[2,1,5]],'sdfgh',]"
   ]
  },
  {
   "cell_type": "markdown",
   "id": "586e6a0a",
   "metadata": {},
   "source": [
    "1.append two more list and one complex in between existing list\n",
    "2.if your nested list contains string then find its index in nested list then print it then remove the string\n",
    "3.you have to extract 2nd element of each nested list\n"
   ]
  },
  {
   "cell_type": "code",
   "execution_count": 231,
   "id": "ac4b0541",
   "metadata": {},
   "outputs": [],
   "source": [
    "#1st Question\n",
    "l.insert(6,[2,5,89,2])\n",
    "l.insert(-2,[2,8,9,6])\n",
    "l.insert(3,(5+3j))"
   ]
  },
  {
   "cell_type": "code",
   "execution_count": 232,
   "id": "eae36e48",
   "metadata": {},
   "outputs": [
    {
     "data": {
      "text/plain": [
       "[1,\n",
       " 2,\n",
       " 5,\n",
       " (5+3j),\n",
       " 8,\n",
       " 9,\n",
       " [2, 4, 5, 89, 2],\n",
       " [2, 5, 89, 2],\n",
       " [2, 5, 89, 2],\n",
       " [2, 5, 89, 2],\n",
       " [2, 5, 89, 2],\n",
       " 'gfh',\n",
       " [2, 8, 9, 6],\n",
       " [2, 8, 9, 6],\n",
       " [2, 8, 9, 6],\n",
       " [3, 35, 64, 98],\n",
       " 'sdfgh']"
      ]
     },
     "execution_count": 232,
     "metadata": {},
     "output_type": "execute_result"
    }
   ],
   "source": [
    "l"
   ]
  },
  {
   "cell_type": "code",
   "execution_count": 242,
   "id": "a3971a1b",
   "metadata": {},
   "outputs": [
    {
     "ename": "SyntaxError",
     "evalue": "invalid syntax (101820018.py, line 6)",
     "output_type": "error",
     "traceback": [
      "\u001b[1;36m  Input \u001b[1;32mIn [242]\u001b[1;36m\u001b[0m\n\u001b[1;33m    print(string in nested list={}:{}format(i,j))\u001b[0m\n\u001b[1;37m                           ^\u001b[0m\n\u001b[1;31mSyntaxError\u001b[0m\u001b[1;31m:\u001b[0m invalid syntax\n"
     ]
    }
   ],
   "source": [
    "#2nd question\n",
    "l=[1,2,5,8,9,[2,4,5,'dfvf',89,2],'gfh',[3,35,64,'asdf',98,[2,1,5]],'sdfgh',]\n",
    "for i in l:\n",
    "    for j in i:\n",
    "        if type(j)==str:\n",
    "            print(string in nested list={}:{}format(i,j))\n",
    "            print('removed', j )\n",
    "            i.remove(j)\n"
   ]
  },
  {
   "cell_type": "code",
   "execution_count": 250,
   "id": "1f631ac3",
   "metadata": {},
   "outputs": [],
   "source": [
    "l=[[1,2,3],[11,12,'b','b','b'],[21,'t',223],[4,5,6],[7,8,9],'demo',12.5]     \n",
    "#remove the string feom nested list and find the index of them"
   ]
  },
  {
   "cell_type": "code",
   "execution_count": 251,
   "id": "993fda70",
   "metadata": {},
   "outputs": [
    {
     "name": "stdout",
     "output_type": "stream",
     "text": [
      "index of string b is : 2\n",
      "index of string b is : 3\n",
      "index of string b is : 4\n",
      "the string in nested list is 'b'\n",
      "the string in nested list is 'b'\n",
      "the string in nested list is 'b'\n",
      "index of string t is : 1\n",
      "the string in nested list is 't'\n",
      " [[1, 2, 3], [11, 12], [21, 223], [4, 5, 6], [7, 8, 9], 'demo', 12.5] \n",
      "\n"
     ]
    }
   ],
   "source": [
    "for i in l:\n",
    "    if type(i)==list:\n",
    "        j=0\n",
    "        while j <len(i):\n",
    "            if type(i[j]) is str:\n",
    "                print('index of string {} is :'.format(i[j]),j)\n",
    "            j=j+1\n",
    "        j=0\n",
    "        while j < len(i):\n",
    "            if type(i[j]) is str:\n",
    "                print(\"the string in nested list is '{}'\".format(i[j]))\n",
    "                i.remove(i[j])\n",
    "                continue\n",
    "            j=j+1\n",
    "print(\"List after removal of string from nested list is \\r\",l,'\\n')\n",
    "        \n",
    "            \n",
    "                "
   ]
  },
  {
   "cell_type": "code",
   "execution_count": 246,
   "id": "21e2773e",
   "metadata": {},
   "outputs": [
    {
     "name": "stdout",
     "output_type": "stream",
     "text": [
      "2\n",
      "5\n",
      "8\n",
      "8\n",
      "9\n",
      "[2, 5, 8, 8, 9]\n"
     ]
    }
   ],
   "source": [
    "#how to get list inpput \n",
    "l=[]\n",
    "for i in range(5):\n",
    "    l.append(int(input()))\n",
    "print(l)\n",
    "    "
   ]
  },
  {
   "cell_type": "code",
   "execution_count": 247,
   "id": "4894b084",
   "metadata": {},
   "outputs": [
    {
     "name": "stdout",
     "output_type": "stream",
     "text": [
      "26,6,6,9,3\n"
     ]
    },
    {
     "data": {
      "text/plain": [
       "'26,6,6,9,3'"
      ]
     },
     "execution_count": 247,
     "metadata": {},
     "output_type": "execute_result"
    }
   ],
   "source": [
    "input()           #it will return the string"
   ]
  },
  {
   "cell_type": "code",
   "execution_count": 248,
   "id": "379815ab",
   "metadata": {},
   "outputs": [
    {
     "name": "stdout",
     "output_type": "stream",
     "text": [
      "2,5,63,8\n"
     ]
    },
    {
     "data": {
      "text/plain": [
       "['2', ',', '5', ',', '6', '3', ',', '8']"
      ]
     },
     "execution_count": 248,
     "metadata": {},
     "output_type": "execute_result"
    }
   ],
   "source": [
    "list(input())"
   ]
  },
  {
   "cell_type": "markdown",
   "id": "596bcd9e",
   "metadata": {},
   "source": [
    "# List Comprehension"
   ]
  },
  {
   "cell_type": "code",
   "execution_count": 1,
   "id": "21cb7fb1",
   "metadata": {},
   "outputs": [],
   "source": [
    "l = [1,2,3,5,6,5]"
   ]
  },
  {
   "cell_type": "code",
   "execution_count": 2,
   "id": "4aa7ca74",
   "metadata": {},
   "outputs": [],
   "source": [
    "l1=[]"
   ]
  },
  {
   "cell_type": "code",
   "execution_count": 3,
   "id": "7d810ef3",
   "metadata": {},
   "outputs": [],
   "source": [
    "for i in 'rekha':\n",
    "    l1.append(i)"
   ]
  },
  {
   "cell_type": "code",
   "execution_count": 4,
   "id": "8be8f9b8",
   "metadata": {},
   "outputs": [
    {
     "data": {
      "text/plain": [
       "['r', 'e', 'k', 'h', 'a']"
      ]
     },
     "execution_count": 4,
     "metadata": {},
     "output_type": "execute_result"
    }
   ],
   "source": [
    "l1"
   ]
  },
  {
   "cell_type": "code",
   "execution_count": 5,
   "id": "aa35141b",
   "metadata": {},
   "outputs": [],
   "source": [
    "for i in \"rekha\":\n",
    "    l.append(i)"
   ]
  },
  {
   "cell_type": "code",
   "execution_count": 6,
   "id": "3dc58edc",
   "metadata": {},
   "outputs": [
    {
     "data": {
      "text/plain": [
       "[1, 2, 3, 5, 6, 5, 'r', 'e', 'k', 'h', 'a']"
      ]
     },
     "execution_count": 6,
     "metadata": {},
     "output_type": "execute_result"
    }
   ],
   "source": [
    "l"
   ]
  },
  {
   "cell_type": "code",
   "execution_count": 8,
   "id": "9626e4f0",
   "metadata": {},
   "outputs": [
    {
     "data": {
      "text/plain": [
       "['r', 'e', 'k', 'h', 'a']"
      ]
     },
     "execution_count": 8,
     "metadata": {},
     "output_type": "execute_result"
    }
   ],
   "source": [
    "[i for i in 'rekha']              #thisis called comprehension operation"
   ]
  },
  {
   "cell_type": "code",
   "execution_count": 9,
   "id": "934b6eac",
   "metadata": {},
   "outputs": [
    {
     "data": {
      "text/plain": [
       "[['r'], ['e'], ['k'], ['h'], ['a']]"
      ]
     },
     "execution_count": 9,
     "metadata": {},
     "output_type": "execute_result"
    }
   ],
   "source": [
    "[[i] for i in 'rekha']            #nested list, list inside list"
   ]
  },
  {
   "cell_type": "code",
   "execution_count": 10,
   "id": "da56a700",
   "metadata": {},
   "outputs": [],
   "source": [
    "l=[]\n",
    "for i in range(10):\n",
    "    if i%2==0:\n",
    "        l.append(i)"
   ]
  },
  {
   "cell_type": "code",
   "execution_count": 11,
   "id": "b379ef02",
   "metadata": {},
   "outputs": [
    {
     "data": {
      "text/plain": [
       "[0, 2, 4, 6, 8]"
      ]
     },
     "execution_count": 11,
     "metadata": {},
     "output_type": "execute_result"
    }
   ],
   "source": [
    "l"
   ]
  },
  {
   "cell_type": "code",
   "execution_count": 13,
   "id": "572bc9ee",
   "metadata": {},
   "outputs": [
    {
     "data": {
      "text/plain": [
       "[0, 2, 4, 6, 8]"
      ]
     },
     "execution_count": 13,
     "metadata": {},
     "output_type": "execute_result"
    }
   ],
   "source": [
    "[i for i in range(10) if i%2==0]           #list comprension operation same as above"
   ]
  },
  {
   "cell_type": "code",
   "execution_count": 14,
   "id": "34cae46f",
   "metadata": {},
   "outputs": [],
   "source": [
    "l=[]\n",
    "for i in range(10):\n",
    "    if i%2 !=0:\n",
    "        l.append(\"odd\")\n",
    "    else:\n",
    "        l.append(\"even\")\n",
    "        "
   ]
  },
  {
   "cell_type": "code",
   "execution_count": 15,
   "id": "4230b901",
   "metadata": {},
   "outputs": [
    {
     "data": {
      "text/plain": [
       "['even', 'odd', 'even', 'odd', 'even', 'odd', 'even', 'odd', 'even', 'odd']"
      ]
     },
     "execution_count": 15,
     "metadata": {},
     "output_type": "execute_result"
    }
   ],
   "source": [
    "l"
   ]
  },
  {
   "cell_type": "code",
   "execution_count": 16,
   "id": "a373973e",
   "metadata": {},
   "outputs": [
    {
     "data": {
      "text/plain": [
       "['even', 'odd', 'even', 'odd', 'even', 'odd', 'even', 'odd', 'even', 'odd']"
      ]
     },
     "execution_count": 16,
     "metadata": {},
     "output_type": "execute_result"
    }
   ],
   "source": [
    "['odd' if i%2!=0 else 'even' for i in range(10)]       #list comprehension operation"
   ]
  },
  {
   "cell_type": "code",
   "execution_count": 17,
   "id": "ef5d9309",
   "metadata": {},
   "outputs": [
    {
     "data": {
      "text/plain": [
       "[[0, 1, 2], [0, 1, 2], [0, 1, 2]]"
      ]
     },
     "execution_count": 17,
     "metadata": {},
     "output_type": "execute_result"
    }
   ],
   "source": [
    "mat=[]                                  #matrix- nested loop\n",
    "for i in range(3):\n",
    "    mat.append([])\n",
    "    for j in range(3):\n",
    "        mat[i].append(j)\n",
    "mat"
   ]
  },
  {
   "cell_type": "code",
   "execution_count": 18,
   "id": "a432a9ed",
   "metadata": {},
   "outputs": [
    {
     "data": {
      "text/plain": [
       "'[for i in range(3)]\\n[[]for i in range(3)]\\n[[for j in range(3)]for i in range(3)]\\n[[j for j in range(3)]for i in range(3)]'"
      ]
     },
     "execution_count": 18,
     "metadata": {},
     "output_type": "execute_result"
    }
   ],
   "source": [
    "\"\"\"[for i in range(3)]\n",
    "[[]for i in range(3)]\n",
    "[[for j in range(3)]for i in range(3)]\n",
    "[[j for j in range(3)]for i in range(3)]\"\"\""
   ]
  },
  {
   "cell_type": "code",
   "execution_count": 19,
   "id": "b54c566d",
   "metadata": {},
   "outputs": [
    {
     "data": {
      "text/plain": [
       "[[0, 1, 2], [0, 1, 2], [0, 1, 2]]"
      ]
     },
     "execution_count": 19,
     "metadata": {},
     "output_type": "execute_result"
    }
   ],
   "source": [
    "[[j for j in range(3)] for i in range(3)]         #list comprehension"
   ]
  },
  {
   "cell_type": "code",
   "execution_count": 21,
   "id": "4d02d0a0",
   "metadata": {},
   "outputs": [
    {
     "data": {
      "text/plain": [
       "[0, 1, 2, 3, 4, 5, 6, 7]"
      ]
     },
     "execution_count": 21,
     "metadata": {},
     "output_type": "execute_result"
    }
   ],
   "source": [
    "[i for i in range(8)]"
   ]
  },
  {
   "cell_type": "code",
   "execution_count": 22,
   "id": "2755a485",
   "metadata": {},
   "outputs": [
    {
     "data": {
      "text/plain": [
       "[[0, 1, 2, 3, 4, 5, 6, 7],\n",
       " [0, 1, 2, 3, 4, 5, 6, 7],\n",
       " [0, 1, 2, 3, 4, 5, 6, 7],\n",
       " [0, 1, 2, 3, 4, 5, 6, 7],\n",
       " [0, 1, 2, 3, 4, 5, 6, 7],\n",
       " [0, 1, 2, 3, 4, 5, 6, 7],\n",
       " [0, 1, 2, 3, 4, 5, 6, 7],\n",
       " [0, 1, 2, 3, 4, 5, 6, 7]]"
      ]
     },
     "execution_count": 22,
     "metadata": {},
     "output_type": "execute_result"
    }
   ],
   "source": [
    "[[j for j in range(8)] for i in range(8)]"
   ]
  },
  {
   "cell_type": "code",
   "execution_count": 24,
   "id": "e32fdd09",
   "metadata": {},
   "outputs": [
    {
     "data": {
      "text/plain": [
       "[0, 6]"
      ]
     },
     "execution_count": 24,
     "metadata": {},
     "output_type": "execute_result"
    }
   ],
   "source": [
    "[i for i in range(8) if i %2==0 if i%3==0]"
   ]
  },
  {
   "cell_type": "code",
   "execution_count": 27,
   "id": "c2352fe7",
   "metadata": {},
   "outputs": [],
   "source": [
    "l=[]\n",
    "for i in range(8):\n",
    "    if i%2 == 0:\n",
    "        if i%3==0:\n",
    "            l.append(i)"
   ]
  },
  {
   "cell_type": "code",
   "execution_count": 28,
   "id": "b42c5350",
   "metadata": {},
   "outputs": [
    {
     "data": {
      "text/plain": [
       "[0, 6]"
      ]
     },
     "execution_count": 28,
     "metadata": {},
     "output_type": "execute_result"
    }
   ],
   "source": [
    "l             #same as above"
   ]
  },
  {
   "cell_type": "code",
   "execution_count": 32,
   "id": "089e7c66",
   "metadata": {},
   "outputs": [
    {
     "data": {
      "text/plain": [
       "['yes', 'test', 'test', 'test', 'test', 'test']"
      ]
     },
     "execution_count": 32,
     "metadata": {},
     "output_type": "execute_result"
    }
   ],
   "source": [
    "['yes' if i==1 else 'no' if i==2 else 'test' for i in l]            #if elif statemet it is"
   ]
  },
  {
   "cell_type": "code",
   "execution_count": 51,
   "id": "b483fd80",
   "metadata": {},
   "outputs": [],
   "source": [
    "l = [1,5,8,9,6,5,]"
   ]
  },
  {
   "cell_type": "code",
   "execution_count": 52,
   "id": "4306fd0d",
   "metadata": {},
   "outputs": [
    {
     "data": {
      "text/plain": [
       "[1, 5, 8, 9, 6, 5]"
      ]
     },
     "execution_count": 52,
     "metadata": {},
     "output_type": "execute_result"
    }
   ],
   "source": [
    "l"
   ]
  },
  {
   "cell_type": "code",
   "execution_count": 53,
   "id": "f45e65b0",
   "metadata": {},
   "outputs": [],
   "source": [
    "p=[]\n",
    "for i in l:\n",
    "    if i ==1:\n",
    "        p.append('yes')\n",
    "    elif i == 2:\n",
    "        p.append('no')\n",
    "    else:\n",
    "        p.append('test')\n"
   ]
  },
  {
   "cell_type": "code",
   "execution_count": 54,
   "id": "85d5bbb2",
   "metadata": {},
   "outputs": [
    {
     "data": {
      "text/plain": [
       "['yes', 'test', 'test', 'test', 'test', 'test']"
      ]
     },
     "execution_count": 54,
     "metadata": {},
     "output_type": "execute_result"
    }
   ],
   "source": [
    "p"
   ]
  },
  {
   "cell_type": "code",
   "execution_count": 59,
   "id": "39ae05ee",
   "metadata": {},
   "outputs": [
    {
     "data": {
      "text/plain": [
       "['odd1', 'even', 'odd1', 'even', 'odd1']"
      ]
     },
     "execution_count": 59,
     "metadata": {},
     "output_type": "execute_result"
    }
   ],
   "source": [
    "[('odd') + '1' if i%2==0 else 'even' for i in range(5)]"
   ]
  },
  {
   "cell_type": "code",
   "execution_count": 61,
   "id": "33f5d22b",
   "metadata": {},
   "outputs": [
    {
     "name": "stdout",
     "output_type": "stream",
     "text": [
      "0\n",
      "1\n",
      "2\n",
      "3\n",
      "4\n",
      "5\n",
      "6\n",
      "7\n",
      "8\n",
      "9\n",
      "CPU times: total: 0 ns\n",
      "Wall time: 6.24 ms\n"
     ]
    }
   ],
   "source": [
    "%%time\n",
    "for i in range(10):\n",
    "    print(i)"
   ]
  },
  {
   "cell_type": "code",
   "execution_count": 64,
   "id": "e6adaa35",
   "metadata": {},
   "outputs": [
    {
     "data": {
      "text/plain": [
       "<enumerate at 0x20ce7021e80>"
      ]
     },
     "execution_count": 64,
     "metadata": {},
     "output_type": "execute_result"
    }
   ],
   "source": [
    "#Enumarate\n",
    "enumerate([2,5,8,9,3,8])            #enumerate function the items with indexes"
   ]
  },
  {
   "cell_type": "code",
   "execution_count": 65,
   "id": "75090c24",
   "metadata": {},
   "outputs": [
    {
     "name": "stdout",
     "output_type": "stream",
     "text": [
      "(0, 2)\n",
      "(1, 5)\n",
      "(2, 8)\n",
      "(3, 9)\n",
      "(4, 3)\n",
      "(5, 8)\n"
     ]
    }
   ],
   "source": [
    "for i in enumerate([2,5,8,9,3,8]):\n",
    "    print(i)"
   ]
  },
  {
   "cell_type": "code",
   "execution_count": 68,
   "id": "63f99929",
   "metadata": {},
   "outputs": [
    {
     "data": {
      "text/plain": [
       "[(0, 'r'), (1, 'e'), (2, 'k'), (3, 'h'), (4, 'a')]"
      ]
     },
     "execution_count": 68,
     "metadata": {},
     "output_type": "execute_result"
    }
   ],
   "source": [
    "str='rekha'\n",
    "list(enumerate(str))\n"
   ]
  },
  {
   "cell_type": "code",
   "execution_count": 69,
   "id": "f70ddd74",
   "metadata": {},
   "outputs": [
    {
     "name": "stdout",
     "output_type": "stream",
     "text": [
      "d\n",
      "f\n"
     ]
    }
   ],
   "source": [
    "s= [ 'd', 's','f','g']                \n",
    "#every time of iterating the i next item shift to the previous position and that item skip\n",
    "for i in s:\n",
    "    s.remove(i)\n",
    "    print(i)"
   ]
  },
  {
   "cell_type": "markdown",
   "id": "259a4a09",
   "metadata": {},
   "source": [
    "# Tuple, Set, Dictionary"
   ]
  },
  {
   "cell_type": "code",
   "execution_count": 4,
   "id": "06746f74",
   "metadata": {},
   "outputs": [
    {
     "data": {
      "text/plain": [
       "tuple"
      ]
     },
     "execution_count": 4,
     "metadata": {},
     "output_type": "execute_result"
    }
   ],
   "source": [
    "#Tuple\n",
    "t=()\n",
    "type(t)"
   ]
  },
  {
   "cell_type": "code",
   "execution_count": 5,
   "id": "c4b17884",
   "metadata": {},
   "outputs": [],
   "source": [
    "t=(2,5,8,9,6,2)"
   ]
  },
  {
   "cell_type": "code",
   "execution_count": 6,
   "id": "119dca42",
   "metadata": {},
   "outputs": [
    {
     "data": {
      "text/plain": [
       "tuple"
      ]
     },
     "execution_count": 6,
     "metadata": {},
     "output_type": "execute_result"
    }
   ],
   "source": [
    "type(t)"
   ]
  },
  {
   "cell_type": "code",
   "execution_count": 7,
   "id": "b945d3fa",
   "metadata": {},
   "outputs": [
    {
     "data": {
      "text/plain": [
       "(2, 5, 8, 9, 6, 2)"
      ]
     },
     "execution_count": 7,
     "metadata": {},
     "output_type": "execute_result"
    }
   ],
   "source": [
    "t"
   ]
  },
  {
   "cell_type": "code",
   "execution_count": 8,
   "id": "1ecc84c9",
   "metadata": {},
   "outputs": [],
   "source": [
    "l=[2,5,8,9,6,4,4]"
   ]
  },
  {
   "cell_type": "code",
   "execution_count": 9,
   "id": "76f28d11",
   "metadata": {},
   "outputs": [
    {
     "data": {
      "text/plain": [
       "[2, 5, 8, 9, 6, 4, 4]"
      ]
     },
     "execution_count": 9,
     "metadata": {},
     "output_type": "execute_result"
    }
   ],
   "source": [
    "l"
   ]
  },
  {
   "cell_type": "code",
   "execution_count": 10,
   "id": "a07dcc56",
   "metadata": {},
   "outputs": [
    {
     "data": {
      "text/plain": [
       "6"
      ]
     },
     "execution_count": 10,
     "metadata": {},
     "output_type": "execute_result"
    }
   ],
   "source": [
    "t[4]"
   ]
  },
  {
   "cell_type": "code",
   "execution_count": 11,
   "id": "c2019816",
   "metadata": {},
   "outputs": [
    {
     "data": {
      "text/plain": [
       "(2, 6, 9, 8, 5, 2)"
      ]
     },
     "execution_count": 11,
     "metadata": {},
     "output_type": "execute_result"
    }
   ],
   "source": [
    "t[::-1]\n"
   ]
  },
  {
   "cell_type": "code",
   "execution_count": 12,
   "id": "fed7c3e1",
   "metadata": {},
   "outputs": [
    {
     "data": {
      "text/plain": [
       "(2, 5)"
      ]
     },
     "execution_count": 12,
     "metadata": {},
     "output_type": "execute_result"
    }
   ],
   "source": [
    "t[0:2]"
   ]
  },
  {
   "cell_type": "code",
   "execution_count": 13,
   "id": "1659c74e",
   "metadata": {},
   "outputs": [
    {
     "ename": "TypeError",
     "evalue": "'tuple' object does not support item assignment",
     "output_type": "error",
     "traceback": [
      "\u001b[1;31m---------------------------------------------------------------------------\u001b[0m",
      "\u001b[1;31mTypeError\u001b[0m                                 Traceback (most recent call last)",
      "Input \u001b[1;32mIn [13]\u001b[0m, in \u001b[0;36m<cell line: 1>\u001b[1;34m()\u001b[0m\n\u001b[1;32m----> 1\u001b[0m t[\u001b[38;5;241m2\u001b[39m]\u001b[38;5;241m=\u001b[39m \u001b[38;5;124m'\u001b[39m\u001b[38;5;124mrekha\u001b[39m\u001b[38;5;124m'\u001b[39m\n",
      "\u001b[1;31mTypeError\u001b[0m: 'tuple' object does not support item assignment"
     ]
    }
   ],
   "source": [
    "t[2]= 'rekha'            #tuples are immutbale intity cant do this operation of adding element "
   ]
  },
  {
   "cell_type": "code",
   "execution_count": 47,
   "id": "c2b54b2f",
   "metadata": {},
   "outputs": [],
   "source": [
    "t = (2,5,8,9,'rekha', 'ocean')\n"
   ]
  },
  {
   "cell_type": "code",
   "execution_count": 48,
   "id": "a36238ba",
   "metadata": {},
   "outputs": [],
   "source": [
    "t1 = ('asdf', ' sdf', 2,5,5)"
   ]
  },
  {
   "cell_type": "code",
   "execution_count": 49,
   "id": "7aa5b583",
   "metadata": {},
   "outputs": [
    {
     "data": {
      "text/plain": [
       "(2, 5, 8, 9, 'rekha', 'ocean', 'asdf', ' sdf', 2, 5, 5)"
      ]
     },
     "execution_count": 49,
     "metadata": {},
     "output_type": "execute_result"
    }
   ],
   "source": [
    "  t + t1"
   ]
  },
  {
   "cell_type": "code",
   "execution_count": 50,
   "id": "9cc227a3",
   "metadata": {},
   "outputs": [
    {
     "data": {
      "text/plain": [
       "[2, 5, 8, 9, 'rekha', 'ocean']"
      ]
     },
     "execution_count": 50,
     "metadata": {},
     "output_type": "execute_result"
    }
   ],
   "source": [
    "list(t)"
   ]
  },
  {
   "cell_type": "code",
   "execution_count": 51,
   "id": "a628dc22",
   "metadata": {},
   "outputs": [],
   "source": [
    "t3 = list(t+t1)"
   ]
  },
  {
   "cell_type": "code",
   "execution_count": 52,
   "id": "e2c209a0",
   "metadata": {},
   "outputs": [
    {
     "data": {
      "text/plain": [
       "[2, 5, 8, 9, 'rekha', 'ocean', 'asdf', ' sdf', 2, 5, 5]"
      ]
     },
     "execution_count": 52,
     "metadata": {},
     "output_type": "execute_result"
    }
   ],
   "source": [
    "t3"
   ]
  },
  {
   "cell_type": "code",
   "execution_count": 53,
   "id": "40ee4797",
   "metadata": {},
   "outputs": [],
   "source": [
    "t3.insert(2, 'rek')"
   ]
  },
  {
   "cell_type": "code",
   "execution_count": 54,
   "id": "e5d2d1e6",
   "metadata": {},
   "outputs": [
    {
     "data": {
      "text/plain": [
       "[2, 5, 'rek', 8, 9, 'rekha', 'ocean', 'asdf', ' sdf', 2, 5, 5]"
      ]
     },
     "execution_count": 54,
     "metadata": {},
     "output_type": "execute_result"
    }
   ],
   "source": [
    "t3"
   ]
  },
  {
   "cell_type": "code",
   "execution_count": 55,
   "id": "21063d95",
   "metadata": {},
   "outputs": [
    {
     "data": {
      "text/plain": [
       "(2, 5, 'rek', 8, 9, 'rekha', 'ocean', 'asdf', ' sdf', 2, 5, 5)"
      ]
     },
     "execution_count": 55,
     "metadata": {},
     "output_type": "execute_result"
    }
   ],
   "source": [
    "tuple(t3)"
   ]
  },
  {
   "cell_type": "code",
   "execution_count": 56,
   "id": "af98dc5a",
   "metadata": {},
   "outputs": [],
   "source": [
    "t4 = ((2,5,8),(6,8,9,5),(5,8,9,1),'rekha')"
   ]
  },
  {
   "cell_type": "code",
   "execution_count": 57,
   "id": "2909f0c0",
   "metadata": {},
   "outputs": [
    {
     "data": {
      "text/plain": [
       "(5, 8)"
      ]
     },
     "execution_count": 57,
     "metadata": {},
     "output_type": "execute_result"
    }
   ],
   "source": [
    "t4[2][0:2]          #to extract data"
   ]
  },
  {
   "cell_type": "code",
   "execution_count": 58,
   "id": "4e273bd6",
   "metadata": {},
   "outputs": [
    {
     "name": "stdout",
     "output_type": "stream",
     "text": [
      "8\n",
      "9\n",
      "9\n"
     ]
    }
   ],
   "source": [
    "for i in t4:\n",
    "    if type(i)==tuple:\n",
    "        print(i[2])"
   ]
  },
  {
   "cell_type": "code",
   "execution_count": 59,
   "id": "8374f5e0",
   "metadata": {},
   "outputs": [
    {
     "data": {
      "text/plain": [
       "(2, 5, 8, 9, 'rekha', 'ocean')"
      ]
     },
     "execution_count": 59,
     "metadata": {},
     "output_type": "execute_result"
    }
   ],
   "source": [
    "t"
   ]
  },
  {
   "cell_type": "code",
   "execution_count": 60,
   "id": "c574675b",
   "metadata": {},
   "outputs": [
    {
     "data": {
      "text/plain": [
       "('asdf', ' sdf', 2, 5, 5)"
      ]
     },
     "execution_count": 60,
     "metadata": {},
     "output_type": "execute_result"
    }
   ],
   "source": [
    "t1"
   ]
  },
  {
   "cell_type": "code",
   "execution_count": 61,
   "id": "f9f959e7",
   "metadata": {},
   "outputs": [
    {
     "name": "stdout",
     "output_type": "stream",
     "text": [
      "not same\n"
     ]
    }
   ],
   "source": [
    "if len(t)==len(t1):\n",
    "    print(\"its same\")\n",
    "else:\n",
    "    print(\"not same\")"
   ]
  },
  {
   "cell_type": "code",
   "execution_count": 62,
   "id": "8f012912",
   "metadata": {},
   "outputs": [
    {
     "data": {
      "text/plain": [
       "(2, 5, 8, 9, 'rekha', 'ocean')"
      ]
     },
     "execution_count": 62,
     "metadata": {},
     "output_type": "execute_result"
    }
   ],
   "source": [
    "t"
   ]
  },
  {
   "cell_type": "code",
   "execution_count": 63,
   "id": "c7c71fdf",
   "metadata": {},
   "outputs": [
    {
     "name": "stdout",
     "output_type": "stream",
     "text": [
      "give the input25\n",
      "not availabe\n"
     ]
    }
   ],
   "source": [
    "t = input(\"give the input\")\n",
    "if i in t:\n",
    "    print(\"available\")\n",
    "else:\n",
    "    print(\"not availabe\")"
   ]
  },
  {
   "cell_type": "code",
   "execution_count": 64,
   "id": "3cabf8a2",
   "metadata": {},
   "outputs": [
    {
     "name": "stdout",
     "output_type": "stream",
     "text": [
      "give the input5\n",
      "not availabe\n"
     ]
    }
   ],
   "source": [
    "t = input(\"give the input\")\n",
    "if i in t:\n",
    "    print(\"available\")\n",
    "else:\n",
    "    print(\"not availabe\")"
   ]
  },
  {
   "cell_type": "code",
   "execution_count": 65,
   "id": "89633166",
   "metadata": {},
   "outputs": [],
   "source": [
    "#set is not abe to indexing"
   ]
  },
  {
   "cell_type": "code",
   "execution_count": 66,
   "id": "fba49790",
   "metadata": {},
   "outputs": [],
   "source": [
    "s= {2,5,8,9,8,5,2,9,5,4,7,8}"
   ]
  },
  {
   "cell_type": "code",
   "execution_count": 67,
   "id": "26bab36e",
   "metadata": {},
   "outputs": [
    {
     "ename": "TypeError",
     "evalue": "'set' object is not subscriptable",
     "output_type": "error",
     "traceback": [
      "\u001b[1;31m---------------------------------------------------------------------------\u001b[0m",
      "\u001b[1;31mTypeError\u001b[0m                                 Traceback (most recent call last)",
      "Input \u001b[1;32mIn [67]\u001b[0m, in \u001b[0;36m<cell line: 1>\u001b[1;34m()\u001b[0m\n\u001b[1;32m----> 1\u001b[0m \u001b[43ms\u001b[49m\u001b[43m[\u001b[49m\u001b[38;5;241;43m0\u001b[39;49m\u001b[43m]\u001b[49m\n",
      "\u001b[1;31mTypeError\u001b[0m: 'set' object is not subscriptable"
     ]
    }
   ],
   "source": [
    "s[0]"
   ]
  },
  {
   "cell_type": "code",
   "execution_count": 79,
   "id": "4c63e07e",
   "metadata": {},
   "outputs": [],
   "source": [
    "t = (2,5,8,9,6,65,84512,8,12563,12)\n"
   ]
  },
  {
   "cell_type": "code",
   "execution_count": 80,
   "id": "eb082e96",
   "metadata": {},
   "outputs": [
    {
     "data": {
      "text/plain": [
       "{2, 5, 6, 8, 9, 12, 65, 12563, 84512}"
      ]
     },
     "execution_count": 80,
     "metadata": {},
     "output_type": "execute_result"
    }
   ],
   "source": [
    "set(t)"
   ]
  },
  {
   "cell_type": "code",
   "execution_count": 81,
   "id": "d44fe39d",
   "metadata": {},
   "outputs": [
    {
     "name": "stdout",
     "output_type": "stream",
     "text": [
      "2\n",
      "5\n",
      "8\n",
      "9\n",
      "6\n",
      "65\n",
      "84512\n",
      "8\n",
      "12563\n",
      "12\n"
     ]
    }
   ],
   "source": [
    "for i in t:\n",
    "    print(i)"
   ]
  },
  {
   "cell_type": "code",
   "execution_count": 82,
   "id": "78036b66",
   "metadata": {},
   "outputs": [],
   "source": [
    "l=[1,2,5,8,6]"
   ]
  },
  {
   "cell_type": "code",
   "execution_count": 84,
   "id": "79b12da6",
   "metadata": {},
   "outputs": [
    {
     "data": {
      "text/plain": [
       "{1, 2, 5, 6, 8}"
      ]
     },
     "execution_count": 84,
     "metadata": {},
     "output_type": "execute_result"
    }
   ],
   "source": [
    "set(l)"
   ]
  },
  {
   "cell_type": "code",
   "execution_count": 85,
   "id": "07e9b581",
   "metadata": {},
   "outputs": [],
   "source": [
    "l=[2,5,8,9,[2,5,8,9]]"
   ]
  },
  {
   "cell_type": "code",
   "execution_count": 87,
   "id": "d79a2c77",
   "metadata": {},
   "outputs": [
    {
     "ename": "TypeError",
     "evalue": "unhashable type: 'list'",
     "output_type": "error",
     "traceback": [
      "\u001b[1;31m---------------------------------------------------------------------------\u001b[0m",
      "\u001b[1;31mTypeError\u001b[0m                                 Traceback (most recent call last)",
      "Input \u001b[1;32mIn [87]\u001b[0m, in \u001b[0;36m<cell line: 1>\u001b[1;34m()\u001b[0m\n\u001b[1;32m----> 1\u001b[0m \u001b[38;5;28;43mset\u001b[39;49m\u001b[43m(\u001b[49m\u001b[43ml\u001b[49m\u001b[43m)\u001b[49m\n",
      "\u001b[1;31mTypeError\u001b[0m: unhashable type: 'list'"
     ]
    }
   ],
   "source": [
    "set(l)             #nested list cant not convert into set, to convert it into set we have to unrap it"
   ]
  },
  {
   "cell_type": "code",
   "execution_count": 88,
   "id": "e2777158",
   "metadata": {},
   "outputs": [
    {
     "data": {
      "text/plain": [
       "{2, 4, 5, 7, 8, 9}"
      ]
     },
     "execution_count": 88,
     "metadata": {},
     "output_type": "execute_result"
    }
   ],
   "source": [
    "s"
   ]
  },
  {
   "cell_type": "code",
   "execution_count": 89,
   "id": "4101055f",
   "metadata": {},
   "outputs": [],
   "source": [
    "s.add('rekha')"
   ]
  },
  {
   "cell_type": "code",
   "execution_count": 90,
   "id": "28f8a441",
   "metadata": {},
   "outputs": [
    {
     "data": {
      "text/plain": [
       "{2, 4, 5, 7, 8, 9, 'rekha'}"
      ]
     },
     "execution_count": 90,
     "metadata": {},
     "output_type": "execute_result"
    }
   ],
   "source": [
    "s"
   ]
  },
  {
   "cell_type": "code",
   "execution_count": 92,
   "id": "a2545205",
   "metadata": {},
   "outputs": [
    {
     "ename": "TypeError",
     "evalue": "unhashable type: 'list'",
     "output_type": "error",
     "traceback": [
      "\u001b[1;31m---------------------------------------------------------------------------\u001b[0m",
      "\u001b[1;31mTypeError\u001b[0m                                 Traceback (most recent call last)",
      "Input \u001b[1;32mIn [92]\u001b[0m, in \u001b[0;36m<cell line: 1>\u001b[1;34m()\u001b[0m\n\u001b[1;32m----> 1\u001b[0m \u001b[43ms\u001b[49m\u001b[38;5;241;43m.\u001b[39;49m\u001b[43madd\u001b[49m\u001b[43m(\u001b[49m\u001b[43m[\u001b[49m\u001b[38;5;241;43m1\u001b[39;49m\u001b[43m,\u001b[49m\u001b[38;5;241;43m2\u001b[39;49m\u001b[43m,\u001b[49m\u001b[38;5;241;43m5\u001b[39;49m\u001b[43m,\u001b[49m\u001b[38;5;241;43m5\u001b[39;49m\u001b[43m]\u001b[49m\u001b[43m)\u001b[49m\n",
      "\u001b[1;31mTypeError\u001b[0m: unhashable type: 'list'"
     ]
    }
   ],
   "source": [
    "s.add([1,2,5,5])                  #list cant added to the set"
   ]
  },
  {
   "cell_type": "code",
   "execution_count": 93,
   "id": "3be99d38",
   "metadata": {},
   "outputs": [],
   "source": [
    "s.add(5)            #if already there exist the element then not to be added"
   ]
  },
  {
   "cell_type": "code",
   "execution_count": 94,
   "id": "62d4d0c2",
   "metadata": {},
   "outputs": [
    {
     "data": {
      "text/plain": [
       "{2, 4, 5, 7, 8, 9, 'rekha'}"
      ]
     },
     "execution_count": 94,
     "metadata": {},
     "output_type": "execute_result"
    }
   ],
   "source": [
    "s"
   ]
  },
  {
   "cell_type": "code",
   "execution_count": 95,
   "id": "2c696e6a",
   "metadata": {},
   "outputs": [
    {
     "data": {
      "text/plain": [
       "True"
      ]
     },
     "execution_count": 95,
     "metadata": {},
     "output_type": "execute_result"
    }
   ],
   "source": [
    "5 in s"
   ]
  },
  {
   "cell_type": "code",
   "execution_count": 96,
   "id": "53492f11",
   "metadata": {},
   "outputs": [
    {
     "name": "stderr",
     "output_type": "stream",
     "text": [
      "<>:1: SyntaxWarning: \"is\" with a literal. Did you mean \"==\"?\n",
      "<>:1: SyntaxWarning: \"is\" with a literal. Did you mean \"==\"?\n",
      "C:\\Users\\rekha\\AppData\\Local\\Temp\\ipykernel_250016\\1267949225.py:1: SyntaxWarning: \"is\" with a literal. Did you mean \"==\"?\n",
      "  1 is s\n"
     ]
    },
    {
     "data": {
      "text/plain": [
       "False"
      ]
     },
     "execution_count": 96,
     "metadata": {},
     "output_type": "execute_result"
    }
   ],
   "source": [
    "1 is s"
   ]
  },
  {
   "cell_type": "code",
   "execution_count": 99,
   "id": "72163aaa",
   "metadata": {},
   "outputs": [],
   "source": [
    "s.clear()      #clear all elements"
   ]
  },
  {
   "cell_type": "code",
   "execution_count": 100,
   "id": "7a129963",
   "metadata": {},
   "outputs": [
    {
     "data": {
      "text/plain": [
       "set()"
      ]
     },
     "execution_count": 100,
     "metadata": {},
     "output_type": "execute_result"
    }
   ],
   "source": [
    "s"
   ]
  },
  {
   "cell_type": "code",
   "execution_count": 101,
   "id": "b0841c70",
   "metadata": {},
   "outputs": [],
   "source": [
    "s.add('kjhg')"
   ]
  },
  {
   "cell_type": "code",
   "execution_count": 102,
   "id": "4885b21a",
   "metadata": {},
   "outputs": [],
   "source": [
    "s.add(235)"
   ]
  },
  {
   "cell_type": "code",
   "execution_count": 103,
   "id": "f46b6937",
   "metadata": {},
   "outputs": [],
   "source": [
    "s.add('kjh')"
   ]
  },
  {
   "cell_type": "code",
   "execution_count": 104,
   "id": "01a4c69c",
   "metadata": {},
   "outputs": [
    {
     "data": {
      "text/plain": [
       "{235, 'kjh', 'kjhg'}"
      ]
     },
     "execution_count": 104,
     "metadata": {},
     "output_type": "execute_result"
    }
   ],
   "source": [
    "s"
   ]
  },
  {
   "cell_type": "code",
   "execution_count": 115,
   "id": "2fcb5370",
   "metadata": {},
   "outputs": [],
   "source": [
    "s2=set(l)"
   ]
  },
  {
   "cell_type": "code",
   "execution_count": 116,
   "id": "4d15577e",
   "metadata": {},
   "outputs": [],
   "source": [
    "l = [12,5,856,589,254,4]"
   ]
  },
  {
   "cell_type": "code",
   "execution_count": 117,
   "id": "18426c17",
   "metadata": {},
   "outputs": [
    {
     "data": {
      "text/plain": [
       "[12, 5, 856, 589, 254, 4]"
      ]
     },
     "execution_count": 117,
     "metadata": {},
     "output_type": "execute_result"
    }
   ],
   "source": [
    "l"
   ]
  },
  {
   "cell_type": "code",
   "execution_count": 123,
   "id": "93df842a",
   "metadata": {},
   "outputs": [
    {
     "data": {
      "text/plain": [
       "{4, 5, 12, 254, 589, 856}"
      ]
     },
     "execution_count": 123,
     "metadata": {},
     "output_type": "execute_result"
    }
   ],
   "source": [
    "set(l)"
   ]
  },
  {
   "cell_type": "code",
   "execution_count": 124,
   "id": "ae44c91a",
   "metadata": {},
   "outputs": [],
   "source": [
    "s5 = set(l)"
   ]
  },
  {
   "cell_type": "code",
   "execution_count": 125,
   "id": "93cb5026",
   "metadata": {},
   "outputs": [
    {
     "data": {
      "text/plain": [
       "{4, 5, 12, 254, 589, 856}"
      ]
     },
     "execution_count": 125,
     "metadata": {},
     "output_type": "execute_result"
    }
   ],
   "source": [
    "s5"
   ]
  },
  {
   "cell_type": "code",
   "execution_count": 132,
   "id": "be2d02d4",
   "metadata": {},
   "outputs": [
    {
     "data": {
      "text/plain": [
       "list"
      ]
     },
     "execution_count": 132,
     "metadata": {},
     "output_type": "execute_result"
    }
   ],
   "source": [
    "type(l)"
   ]
  },
  {
   "cell_type": "code",
   "execution_count": 128,
   "id": "01f7e527",
   "metadata": {},
   "outputs": [
    {
     "data": {
      "text/plain": [
       "set"
      ]
     },
     "execution_count": 128,
     "metadata": {},
     "output_type": "execute_result"
    }
   ],
   "source": [
    "type(s5)"
   ]
  },
  {
   "cell_type": "code",
   "execution_count": 121,
   "id": "697dcc6c",
   "metadata": {},
   "outputs": [
    {
     "data": {
      "text/plain": [
       "(12, 5, 856, 589, 254, 4)"
      ]
     },
     "execution_count": 121,
     "metadata": {},
     "output_type": "execute_result"
    }
   ],
   "source": [
    "tuple(l)"
   ]
  },
  {
   "cell_type": "code",
   "execution_count": 126,
   "id": "2b3ef740",
   "metadata": {},
   "outputs": [],
   "source": [
    "t1 = tuple(l)"
   ]
  },
  {
   "cell_type": "code",
   "execution_count": 130,
   "id": "e8d130bb",
   "metadata": {},
   "outputs": [
    {
     "data": {
      "text/plain": [
       "tuple"
      ]
     },
     "execution_count": 130,
     "metadata": {},
     "output_type": "execute_result"
    }
   ],
   "source": [
    "type(t1)"
   ]
  },
  {
   "cell_type": "markdown",
   "id": "5c48a60f",
   "metadata": {},
   "source": [
    "# Dictionary"
   ]
  },
  {
   "cell_type": "code",
   "execution_count": 133,
   "id": "f6cab998",
   "metadata": {},
   "outputs": [],
   "source": [
    "x= {}           #default"
   ]
  },
  {
   "cell_type": "code",
   "execution_count": 134,
   "id": "cc5ee942",
   "metadata": {},
   "outputs": [
    {
     "data": {
      "text/plain": [
       "dict"
      ]
     },
     "execution_count": 134,
     "metadata": {},
     "output_type": "execute_result"
    }
   ],
   "source": [
    "type(x)"
   ]
  },
  {
   "cell_type": "code",
   "execution_count": 135,
   "id": "e0c9b38e",
   "metadata": {},
   "outputs": [],
   "source": [
    "x1 = { 1,2,5,8,6}"
   ]
  },
  {
   "cell_type": "code",
   "execution_count": 136,
   "id": "55cfe5c3",
   "metadata": {},
   "outputs": [
    {
     "data": {
      "text/plain": [
       "set"
      ]
     },
     "execution_count": 136,
     "metadata": {},
     "output_type": "execute_result"
    }
   ],
   "source": [
    "type(x1)"
   ]
  },
  {
   "cell_type": "code",
   "execution_count": 137,
   "id": "468eda24",
   "metadata": {},
   "outputs": [],
   "source": [
    "d={'k': 'rekha', 'mob no': 1236547895, 'email id':'rswahurwagh@gmail.com', 'DOB':230395}"
   ]
  },
  {
   "cell_type": "code",
   "execution_count": 138,
   "id": "c66f76e6",
   "metadata": {},
   "outputs": [
    {
     "data": {
      "text/plain": [
       "{'k': 'rekha',\n",
       " 'mob no': 1236547895,\n",
       " 'email id': 'rswahurwagh@gmail.com',\n",
       " 'DOB': 230395}"
      ]
     },
     "execution_count": 138,
     "metadata": {},
     "output_type": "execute_result"
    }
   ],
   "source": [
    "d"
   ]
  },
  {
   "cell_type": "code",
   "execution_count": 140,
   "id": "684a1d09",
   "metadata": {},
   "outputs": [
    {
     "data": {
      "text/plain": [
       "dict_values(['rekha', 1236547895, 'rswahurwagh@gmail.com', 230395])"
      ]
     },
     "execution_count": 140,
     "metadata": {},
     "output_type": "execute_result"
    }
   ],
   "source": [
    "d.values()"
   ]
  },
  {
   "cell_type": "code",
   "execution_count": 141,
   "id": "b7d97833",
   "metadata": {},
   "outputs": [
    {
     "data": {
      "text/plain": [
       "dict_keys(['k', 'mob no', 'email id', 'DOB'])"
      ]
     },
     "execution_count": 141,
     "metadata": {},
     "output_type": "execute_result"
    }
   ],
   "source": [
    "d.keys()"
   ]
  },
  {
   "cell_type": "code",
   "execution_count": 142,
   "id": "1f677ed0",
   "metadata": {},
   "outputs": [
    {
     "data": {
      "text/plain": [
       "{'k': 'rekha',\n",
       " 'mob no': 1236547895,\n",
       " 'email id': 'rswahurwagh@gmail.com',\n",
       " 'DOB': 230395}"
      ]
     },
     "execution_count": 142,
     "metadata": {},
     "output_type": "execute_result"
    }
   ],
   "source": [
    "d"
   ]
  },
  {
   "cell_type": "code",
   "execution_count": 148,
   "id": "bd23afb5",
   "metadata": {},
   "outputs": [],
   "source": [
    "d={'k': {'name':'ocean','contact':235687415,'email':'ocean@gmail.com'},'name':'rekha', 'mob no': 1236547895,'key':False, 'email id':'rswahurwagh@gmail.com', 'DOB':230395}"
   ]
  },
  {
   "cell_type": "code",
   "execution_count": 149,
   "id": "e3220a3d",
   "metadata": {},
   "outputs": [
    {
     "data": {
      "text/plain": [
       "{'k': {'name': 'ocean', 'contact': 235687415, 'email': 'ocean@gmail.com'},\n",
       " 'name': 'rekha',\n",
       " 'mob no': 1236547895,\n",
       " 'key': False,\n",
       " 'email id': 'rswahurwagh@gmail.com',\n",
       " 'DOB': 230395}"
      ]
     },
     "execution_count": 149,
     "metadata": {},
     "output_type": "execute_result"
    }
   ],
   "source": [
    "d"
   ]
  },
  {
   "cell_type": "code",
   "execution_count": 151,
   "id": "dab8f4e6",
   "metadata": {},
   "outputs": [
    {
     "data": {
      "text/plain": [
       "'rekha'"
      ]
     },
     "execution_count": 151,
     "metadata": {},
     "output_type": "execute_result"
    }
   ],
   "source": [
    "d['name']"
   ]
  },
  {
   "cell_type": "code",
   "execution_count": 153,
   "id": "fb972dab",
   "metadata": {},
   "outputs": [
    {
     "data": {
      "text/plain": [
       "'ocean'"
      ]
     },
     "execution_count": 153,
     "metadata": {},
     "output_type": "execute_result"
    }
   ],
   "source": [
    "d['k'][\"name\"]"
   ]
  },
  {
   "cell_type": "code",
   "execution_count": 154,
   "id": "9be45382",
   "metadata": {},
   "outputs": [
    {
     "data": {
      "text/plain": [
       "{'name': 'ocean', 'contact': 235687415, 'email': 'ocean@gmail.com'}"
      ]
     },
     "execution_count": 154,
     "metadata": {},
     "output_type": "execute_result"
    }
   ],
   "source": [
    "d['k']"
   ]
  },
  {
   "cell_type": "code",
   "execution_count": 155,
   "id": "9de8e4e9",
   "metadata": {},
   "outputs": [],
   "source": [
    "c={'name': 'ocean', 'contact': (235687415), 'email': 'ocean@gmail.com'}"
   ]
  },
  {
   "cell_type": "code",
   "execution_count": 156,
   "id": "aa3f2f00",
   "metadata": {},
   "outputs": [
    {
     "data": {
      "text/plain": [
       "{'name': 'ocean', 'contact': 235687415, 'email': 'ocean@gmail.com'}"
      ]
     },
     "execution_count": 156,
     "metadata": {},
     "output_type": "execute_result"
    }
   ],
   "source": [
    "c"
   ]
  },
  {
   "cell_type": "code",
   "execution_count": 157,
   "id": "f699912b",
   "metadata": {},
   "outputs": [],
   "source": [
    "d={'name': 'ocean', 'contact':{ 2,3,5,6,8,7,4,1,5}, 'email': 'ocean@gmail.com'}"
   ]
  },
  {
   "cell_type": "code",
   "execution_count": 158,
   "id": "9e5b821e",
   "metadata": {},
   "outputs": [
    {
     "data": {
      "text/plain": [
       "{'name': 'ocean',\n",
       " 'contact': {1, 2, 3, 4, 5, 6, 7, 8},\n",
       " 'email': 'ocean@gmail.com'}"
      ]
     },
     "execution_count": 158,
     "metadata": {},
     "output_type": "execute_result"
    }
   ],
   "source": [
    "d\n"
   ]
  },
  {
   "cell_type": "code",
   "execution_count": 159,
   "id": "24db023d",
   "metadata": {},
   "outputs": [],
   "source": [
    "e={'name': 'ocean', 'contact': [235,68,41,5], 'email': 'ocean@gmail.com'}"
   ]
  },
  {
   "cell_type": "code",
   "execution_count": 160,
   "id": "8c03eed8",
   "metadata": {},
   "outputs": [
    {
     "data": {
      "text/plain": [
       "{'name': 'ocean', 'contact': [235, 68, 41, 5], 'email': 'ocean@gmail.com'}"
      ]
     },
     "execution_count": 160,
     "metadata": {},
     "output_type": "execute_result"
    }
   ],
   "source": [
    "e\n"
   ]
  },
  {
   "cell_type": "code",
   "execution_count": 161,
   "id": "0f833f72",
   "metadata": {},
   "outputs": [
    {
     "ename": "TypeError",
     "evalue": "unsupported operand type(s) for +: 'dict' and 'dict'",
     "output_type": "error",
     "traceback": [
      "\u001b[1;31m---------------------------------------------------------------------------\u001b[0m",
      "\u001b[1;31mTypeError\u001b[0m                                 Traceback (most recent call last)",
      "Input \u001b[1;32mIn [161]\u001b[0m, in \u001b[0;36m<cell line: 1>\u001b[1;34m()\u001b[0m\n\u001b[1;32m----> 1\u001b[0m \u001b[43md\u001b[49m\u001b[43m \u001b[49m\u001b[38;5;241;43m+\u001b[39;49m\u001b[43me\u001b[49m\n",
      "\u001b[1;31mTypeError\u001b[0m: unsupported operand type(s) for +: 'dict' and 'dict'"
     ]
    }
   ],
   "source": [
    "d +e           #not suppoerted"
   ]
  },
  {
   "cell_type": "code",
   "execution_count": 162,
   "id": "cbd57a59",
   "metadata": {},
   "outputs": [
    {
     "ename": "TypeError",
     "evalue": "unsupported operand type(s) for *: 'dict' and 'int'",
     "output_type": "error",
     "traceback": [
      "\u001b[1;31m---------------------------------------------------------------------------\u001b[0m",
      "\u001b[1;31mTypeError\u001b[0m                                 Traceback (most recent call last)",
      "Input \u001b[1;32mIn [162]\u001b[0m, in \u001b[0;36m<cell line: 1>\u001b[1;34m()\u001b[0m\n\u001b[1;32m----> 1\u001b[0m \u001b[43md\u001b[49m\u001b[38;5;241;43m*\u001b[39;49m\u001b[38;5;241;43m2\u001b[39;49m\n",
      "\u001b[1;31mTypeError\u001b[0m: unsupported operand type(s) for *: 'dict' and 'int'"
     ]
    }
   ],
   "source": [
    "d*2           #not supported"
   ]
  },
  {
   "cell_type": "code",
   "execution_count": 163,
   "id": "479b98a2",
   "metadata": {},
   "outputs": [
    {
     "data": {
      "text/plain": [
       "{'name': 'ocean',\n",
       " 'contact': {1, 2, 3, 4, 5, 6, 7, 8},\n",
       " 'email': 'ocean@gmail.com'}"
      ]
     },
     "execution_count": 163,
     "metadata": {},
     "output_type": "execute_result"
    }
   ],
   "source": [
    "d"
   ]
  },
  {
   "cell_type": "code",
   "execution_count": 164,
   "id": "46a04a6d",
   "metadata": {},
   "outputs": [],
   "source": [
    "d['contact']='9552340585'         #re-assignment operation"
   ]
  },
  {
   "cell_type": "code",
   "execution_count": 165,
   "id": "a7b97c59",
   "metadata": {},
   "outputs": [
    {
     "data": {
      "text/plain": [
       "{'name': 'ocean', 'contact': '9552340585', 'email': 'ocean@gmail.com'}"
      ]
     },
     "execution_count": 165,
     "metadata": {},
     "output_type": "execute_result"
    }
   ],
   "source": [
    "d"
   ]
  },
  {
   "cell_type": "code",
   "execution_count": 166,
   "id": "0619d7c6",
   "metadata": {},
   "outputs": [
    {
     "name": "stdout",
     "output_type": "stream",
     "text": [
      "name\n",
      "contact\n",
      "email\n"
     ]
    }
   ],
   "source": [
    "for i in d:              #printing of keys only\n",
    "    print(i)"
   ]
  },
  {
   "cell_type": "code",
   "execution_count": 168,
   "id": "d682ba9e",
   "metadata": {},
   "outputs": [
    {
     "name": "stdout",
     "output_type": "stream",
     "text": [
      "ocean\n",
      "9552340585\n",
      "ocean@gmail.com\n"
     ]
    }
   ],
   "source": [
    "for i in d.keys():           #printing values of curresponding keys\n",
    "    print(d[i])"
   ]
  },
  {
   "cell_type": "code",
   "execution_count": 169,
   "id": "bed8ca61",
   "metadata": {},
   "outputs": [
    {
     "name": "stdout",
     "output_type": "stream",
     "text": [
      "<class 'str'>\n",
      "<class 'str'>\n",
      "<class 'str'>\n"
     ]
    }
   ],
   "source": [
    "for i in d.keys():\n",
    "    print(type(d[i]))"
   ]
  },
  {
   "cell_type": "code",
   "execution_count": 3,
   "id": "4aebe27d",
   "metadata": {},
   "outputs": [
    {
     "data": {
      "text/plain": [
       "'Take a paragraph as input by using input function\\n1. convert all input as list of words\\n2. Remove all the duplicates elements from the list\\n3. Use above distinct element as key for dictionary and assign your name as value ofall the key for dictionary\\n4. Try to print as tuple for all the values\\n5. Try to print list of all the values'"
      ]
     },
     "execution_count": 3,
     "metadata": {},
     "output_type": "execute_result"
    }
   ],
   "source": [
    "\"\"\"Take a paragraph as input by using input function\n",
    "1. convert all input as list of words\n",
    "2. Remove all the duplicates elements from the list\n",
    "3. Use above distinct element as key for dictionary and assign your name as value ofall the key for dictionary\n",
    "4. Try to print as tuple for all the values\n",
    "5. Try to print list of all the values\"\"\"\n",
    "    "
   ]
  },
  {
   "cell_type": "code",
   "execution_count": 5,
   "id": "adfa0416",
   "metadata": {},
   "outputs": [
    {
     "name": "stdout",
     "output_type": "stream",
     "text": [
      "Name is Rekha\n"
     ]
    }
   ],
   "source": [
    "para = input()\n",
    "l = para.split()"
   ]
  },
  {
   "cell_type": "code",
   "execution_count": 45,
   "id": "b5a25e1f",
   "metadata": {},
   "outputs": [],
   "source": [
    "s = set(l)"
   ]
  },
  {
   "cell_type": "code",
   "execution_count": 46,
   "id": "dcfd75dc",
   "metadata": {},
   "outputs": [],
   "source": [
    "dict = dict.fromkeys(s, 'rekha')"
   ]
  },
  {
   "cell_type": "code",
   "execution_count": 49,
   "id": "76eb2038",
   "metadata": {},
   "outputs": [
    {
     "ename": "AttributeError",
     "evalue": "'dict' object has no attribute 'value'",
     "output_type": "error",
     "traceback": [
      "\u001b[1;31m---------------------------------------------------------------------------\u001b[0m",
      "\u001b[1;31mAttributeError\u001b[0m                            Traceback (most recent call last)",
      "Input \u001b[1;32mIn [49]\u001b[0m, in \u001b[0;36m<cell line: 1>\u001b[1;34m()\u001b[0m\n\u001b[1;32m----> 1\u001b[0m t1 \u001b[38;5;241m=\u001b[39m\u001b[38;5;28mtuple\u001b[39m(\u001b[38;5;28;43mdict\u001b[39;49m\u001b[38;5;241;43m.\u001b[39;49m\u001b[43mvalue\u001b[49m())\n",
      "\u001b[1;31mAttributeError\u001b[0m: 'dict' object has no attribute 'value'"
     ]
    }
   ],
   "source": [
    "t1 =tuple(dict.value())"
   ]
  },
  {
   "cell_type": "code",
   "execution_count": 2,
   "id": "7160ab82",
   "metadata": {},
   "outputs": [
    {
     "ename": "TypeError",
     "evalue": "unbound method dict.keys() needs an argument",
     "output_type": "error",
     "traceback": [
      "\u001b[1;31m---------------------------------------------------------------------------\u001b[0m",
      "\u001b[1;31mTypeError\u001b[0m                                 Traceback (most recent call last)",
      "Input \u001b[1;32mIn [2]\u001b[0m, in \u001b[0;36m<cell line: 1>\u001b[1;34m()\u001b[0m\n\u001b[1;32m----> 1\u001b[0m l1 \u001b[38;5;241m=\u001b[39m \u001b[38;5;28;43mdict\u001b[39;49m\u001b[38;5;241;43m.\u001b[39;49m\u001b[43mkeys\u001b[49m\u001b[43m(\u001b[49m\u001b[43m)\u001b[49m\n",
      "\u001b[1;31mTypeError\u001b[0m: unbound method dict.keys() needs an argument"
     ]
    }
   ],
   "source": [
    "l1 = dict.keys()"
   ]
  },
  {
   "cell_type": "code",
   "execution_count": null,
   "id": "94e25de3",
   "metadata": {},
   "outputs": [],
   "source": []
  }
 ],
 "metadata": {
  "kernelspec": {
   "display_name": "Python 3 (ipykernel)",
   "language": "python",
   "name": "python3"
  },
  "language_info": {
   "codemirror_mode": {
    "name": "ipython",
    "version": 3
   },
   "file_extension": ".py",
   "mimetype": "text/x-python",
   "name": "python",
   "nbconvert_exporter": "python",
   "pygments_lexer": "ipython3",
   "version": "3.9.12"
  }
 },
 "nbformat": 4,
 "nbformat_minor": 5
}
