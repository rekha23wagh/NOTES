{
 "cells": [
  {
   "cell_type": "code",
   "execution_count": 1,
   "id": "021be7ca",
   "metadata": {},
   "outputs": [],
   "source": [
    "    l =[1,2,3,5,6,8,9]"
   ]
  },
  {
   "cell_type": "code",
   "execution_count": 2,
   "id": "fe6cf289",
   "metadata": {},
   "outputs": [
    {
     "data": {
      "text/plain": [
       "7"
      ]
     },
     "execution_count": 2,
     "metadata": {},
     "output_type": "execute_result"
    }
   ],
   "source": [
    "len(l)"
   ]
  },
  {
   "cell_type": "code",
   "execution_count": 7,
   "id": "d77f2e80",
   "metadata": {},
   "outputs": [
    {
     "name": "stdout",
     "output_type": "stream",
     "text": [
      "1\n",
      "2\n",
      "3\n",
      "5\n",
      "6\n",
      "8\n",
      "9\n"
     ]
    }
   ],
   "source": [
    "a = 0\n",
    "while a <len(l):\n",
    "    print(l[a])\n",
    "    a = a+1\n"
   ]
  },
  {
   "cell_type": "code",
   "execution_count": 12,
   "id": "37cba2ab",
   "metadata": {},
   "outputs": [],
   "source": [
    "l = (1,2,5,8,9,6,3,4,5)"
   ]
  },
  {
   "cell_type": "code",
   "execution_count": 20,
   "id": "9046371a",
   "metadata": {},
   "outputs": [
    {
     "name": "stdout",
     "output_type": "stream",
     "text": [
      "3\n",
      "7\n"
     ]
    }
   ],
   "source": [
    "a = 0\n",
    "while a < len(l):\n",
    "    if l[a]==8 or l[a]==4:\n",
    "        print(a)\n",
    "    a=a+1"
   ]
  },
  {
   "cell_type": "code",
   "execution_count": 1,
   "id": "a5baa82a",
   "metadata": {},
   "outputs": [
    {
     "name": "stdout",
     "output_type": "stream",
     "text": [
      "      $        $        $  \n",
      "   @     @     @     @     @  \n",
      "      $        $        $  \n",
      "   @     @     @     @     @  \n",
      "      $        $        $  \n",
      "   @     @     @     @     @  \n",
      "      $        $        $  \n",
      "   @     @     @     @     @  \n"
     ]
    }
   ],
   "source": [
    "n = 4\n",
    "for i in range(n):\n",
    "    for j in range(n-1): \n",
    "        print('      $ ' , end = \" \")\n",
    "    print()\n",
    "    for j in range(n+1):\n",
    "        print('   @ ', end =\" \" )\n",
    "    print()\n",
    "    "
   ]
  },
  {
   "cell_type": "code",
   "execution_count": null,
   "id": "8c9962f0",
   "metadata": {},
   "outputs": [],
   "source": []
  },
  {
   "cell_type": "code",
   "execution_count": null,
   "id": "6a6af7c9",
   "metadata": {},
   "outputs": [],
   "source": []
  },
  {
   "cell_type": "code",
   "execution_count": 32,
   "id": "0096e562",
   "metadata": {},
   "outputs": [
    {
     "name": "stdout",
     "output_type": "stream",
     "text": [
      " *   *   *   *   *   *   *   *  \n",
      " *   *   *   *   *   *   *   *  \n",
      " *   *   *   *   *   *   *   *  \n",
      " *   *   *   *   *   *   *   *  \n",
      " *   *   *   *   *   *   *   *  \n",
      " *   *   *   *   *   *   *   *  \n",
      " *   *   *   *   *   *   *   *  \n",
      " *   *   *   *   *   *   *   *  \n"
     ]
    }
   ],
   "source": [
    "n = 8\n",
    "for i in range(n):      #defines no of row\n",
    "    for j in range(n):  #defines no of columns\n",
    "        print(\" * \", end= \" \")\n",
    "    print()"
   ]
  },
  {
   "cell_type": "code",
   "execution_count": 41,
   "id": "513b7749",
   "metadata": {},
   "outputs": [
    {
     "name": "stdout",
     "output_type": "stream",
     "text": [
      " *  \n",
      " *   *  \n",
      " *   *   *  \n",
      " *   *   *   *  \n",
      " *   *   *   *   *  \n"
     ]
    }
   ],
   "source": [
    "n = 5\n",
    "for i in range(n):      #defines no of row\n",
    "    for j in range(i + 1):  #defines no of columns\n",
    "        print(\" * \", end= \" \")\n",
    "    print()"
   ]
  },
  {
   "cell_type": "code",
   "execution_count": 40,
   "id": "55e5bca9",
   "metadata": {},
   "outputs": [
    {
     "name": "stdout",
     "output_type": "stream",
     "text": [
      " *   *   *   *   *  \n",
      " *   *   *   *  \n",
      " *   *   *  \n",
      " *   *  \n",
      " *  \n"
     ]
    }
   ],
   "source": [
    "n = 5\n",
    "for i in range(n):      #defines no of row\n",
    "    for j in range(i, n):  #defines no of columns that reduces by 1\n",
    "        print(\" * \", end= \" \")\n",
    "    print()"
   ]
  },
  {
   "cell_type": "code",
   "execution_count": 46,
   "id": "e65ae8db",
   "metadata": {},
   "outputs": [
    {
     "name": "stdout",
     "output_type": "stream",
     "text": [
      "          * \n",
      "        * * \n",
      "      * * * \n",
      "    * * * * \n",
      "  * * * * * \n"
     ]
    }
   ],
   "source": [
    "n = 5\n",
    "for i in range(n):\n",
    "    for j in range(i, n):\n",
    "        print(' ', end = \" \")\n",
    "    for j in range(i + 1):\n",
    "        print('*', end = \" \")\n",
    "    print()\n",
    "    "
   ]
  },
  {
   "cell_type": "code",
   "execution_count": 47,
   "id": "17d9d84f",
   "metadata": {},
   "outputs": [
    {
     "name": "stdout",
     "output_type": "stream",
     "text": [
      "           *  \n",
      "         *   *  \n",
      "       *   *   *  \n",
      "     *   *   *   *  \n",
      "   *   *   *   *   *  \n"
     ]
    }
   ],
   "source": [
    "n = 5\n",
    "for i in range(n):\n",
    "    for j in range(i, n):\n",
    "        print(\" \", end = \" \")\n",
    "    for j in range(i + 1):\n",
    "        print(\" * \", end = \" \")\n",
    "    print()"
   ]
  },
  {
   "cell_type": "code",
   "execution_count": 50,
   "id": "77734ae4",
   "metadata": {},
   "outputs": [
    {
     "name": "stdout",
     "output_type": "stream",
     "text": [
      "             *  *  *  *  * \n",
      "             *  *  *  * \n",
      "             *  *  * \n",
      "             *  * \n",
      "             * \n"
     ]
    }
   ],
   "source": [
    "n = 5\n",
    "for i in range(n):\n",
    "    for j in range(n + 1):\n",
    "        print(' ', end= \" \")\n",
    "    for j in range(i, n):\n",
    "        print(' * ', end= \"\")\n",
    "    print()\n",
    "        "
   ]
  },
  {
   "cell_type": "code",
   "execution_count": 4,
   "id": "ea5a42ea",
   "metadata": {},
   "outputs": [
    {
     "name": "stdout",
     "output_type": "stream",
     "text": [
      "          * \n",
      "        * * * \n",
      "      * * * * * \n",
      "    * * * * * * * \n",
      "  * * * * * * * * * \n"
     ]
    }
   ],
   "source": [
    "n = 5\n",
    "for i in range(n):\n",
    "    for j in range(i, n):\n",
    "        print('  ',end=\"\")\n",
    "    for j in range(i):\n",
    "        print('*',end =' ')\n",
    "    for j in range(i+1):\n",
    "        print('*',end = \" \")\n",
    "    print()"
   ]
  },
  {
   "cell_type": "code",
   "execution_count": 65,
   "id": "20e392b1",
   "metadata": {},
   "outputs": [
    {
     "name": "stdout",
     "output_type": "stream",
     "text": [
      "  * * * * * * * * * \n",
      "    * * * * * * * \n",
      "      * * * * * \n",
      "        * * * \n",
      "          * \n"
     ]
    }
   ],
   "source": [
    "n = 5\n",
    "for i in range(n):\n",
    "    for j in range(i+1):\n",
    "        print('  ',end=\"\")   # this is for blank increasing triangle pattern\n",
    "    for j in range(i, n-1):\n",
    "        print('*',end =' ')   #this is for decreasing triangle pattern\n",
    "    for j in range(i, n):\n",
    "        print('*',end = \" \")  #this is for decreasing triangle pattern\n",
    "    print()"
   ]
  },
  {
   "cell_type": "code",
   "execution_count": 70,
   "id": "0ca2833c",
   "metadata": {},
   "outputs": [
    {
     "name": "stdout",
     "output_type": "stream",
     "text": [
      "          * \n",
      "        * * * \n",
      "      * * * * * \n",
      "    * * * * * * * \n",
      "  * * * * * * * * * \n",
      "    * * * * * * * \n",
      "      * * * * * \n",
      "        * * * \n",
      "          * \n"
     ]
    }
   ],
   "source": [
    "n = 5\n",
    "for i in range(n-1):\n",
    "    for j in range(i, n):\n",
    "        print('  ',end=\"\")\n",
    "    for j in range(i):\n",
    "        print('*',end =' ')\n",
    "    for j in range(i+1):\n",
    "        print('*',end = \" \")\n",
    "    print()\n",
    "for i in range(n):\n",
    "    for j in range(i+1):\n",
    "        print('  ',end=\"\")   # this is for blank increasing triangle pattern\n",
    "    for j in range(i, n-1):\n",
    "        print('*',end =' ')   #this is for decreasing triangle pattern\n",
    "    for j in range(i, n):\n",
    "        print('*',end = \" \")  #this is for decreasing triangle pattern\n",
    "    print()\n",
    "        "
   ]
  },
  {
   "cell_type": "code",
   "execution_count": null,
   "id": "7e184f84",
   "metadata": {},
   "outputs": [],
   "source": []
  },
  {
   "cell_type": "code",
   "execution_count": 81,
   "id": "dc1dad18",
   "metadata": {},
   "outputs": [
    {
     "name": "stdout",
     "output_type": "stream",
     "text": [
      "******************\n",
      "********  ********\n",
      "*******    *******\n",
      "******      ******\n",
      "*****        *****\n",
      "****          ****\n",
      "***            ***\n",
      "**              **\n",
      "*                *\n",
      "*                *\n",
      "**              **\n",
      "***            ***\n",
      "****          ****\n",
      "*****        *****\n",
      "******      ******\n",
      "*******    *******\n",
      "********  ********\n"
     ]
    }
   ],
   "source": [
    "j=0\n",
    "for i in range(9,0,-1):\n",
    " print( i * '*',end=\"\")\n",
    " print(\" \" * j + i * '*')\n",
    " j=j+2\n",
    " \n",
    "j=16\n",
    "for i in range(1,9,1):\n",
    " print(i * '*' +\" \" * j + i * '*')\n",
    " j=j-2"
   ]
  },
  {
   "cell_type": "code",
   "execution_count": null,
   "id": "5974f72f",
   "metadata": {},
   "outputs": [],
   "source": []
  }
 ],
 "metadata": {
  "kernelspec": {
   "display_name": "Python 3 (ipykernel)",
   "language": "python",
   "name": "python3"
  },
  "language_info": {
   "codemirror_mode": {
    "name": "ipython",
    "version": 3
   },
   "file_extension": ".py",
   "mimetype": "text/x-python",
   "name": "python",
   "nbconvert_exporter": "python",
   "pygments_lexer": "ipython3",
   "version": "3.9.12"
  }
 },
 "nbformat": 4,
 "nbformat_minor": 5
}
