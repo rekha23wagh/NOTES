{
 "cells": [
  {
   "cell_type": "code",
   "execution_count": 2,
   "id": "96ce2322",
   "metadata": {},
   "outputs": [],
   "source": [
    "def test(**kwargs):\n",
    "    print(kwargs.items())\n",
    "    "
   ]
  },
  {
   "cell_type": "code",
   "execution_count": 4,
   "id": "9ed4b835",
   "metadata": {},
   "outputs": [
    {
     "ename": "TypeError",
     "evalue": "test() takes 0 positional arguments but 3 were given",
     "output_type": "error",
     "traceback": [
      "\u001b[1;31m---------------------------------------------------------------------------\u001b[0m",
      "\u001b[1;31mTypeError\u001b[0m                                 Traceback (most recent call last)",
      "Input \u001b[1;32mIn [4]\u001b[0m, in \u001b[0;36m<cell line: 1>\u001b[1;34m()\u001b[0m\n\u001b[1;32m----> 1\u001b[0m \u001b[43mtest\u001b[49m\u001b[43m(\u001b[49m\u001b[38;5;124;43m'\u001b[39;49m\u001b[38;5;124;43mocean\u001b[39;49m\u001b[38;5;124;43m'\u001b[39;49m\u001b[43m,\u001b[49m\u001b[43m \u001b[49m\u001b[38;5;241;43m235\u001b[39;49m\u001b[43m,\u001b[49m\u001b[43m \u001b[49m\u001b[38;5;241;43m23.03\u001b[39;49m\u001b[43m)\u001b[49m\n",
      "\u001b[1;31mTypeError\u001b[0m: test() takes 0 positional arguments but 3 were given"
     ]
    }
   ],
   "source": [
    "test('ocean', 235, 23.03)                 #have to pass value in key value pair"
   ]
  },
  {
   "cell_type": "code",
   "execution_count": 5,
   "id": "b86da2b2",
   "metadata": {},
   "outputs": [
    {
     "name": "stdout",
     "output_type": "stream",
     "text": [
      "dict_items([('s', 'ocean'), ('r', 235), ('t', 23.03)])\n"
     ]
    }
   ],
   "source": [
    "test(s = 'ocean', r= 235, t =23.03)              "
   ]
  },
  {
   "cell_type": "markdown",
   "id": "758d3c5a",
   "metadata": {},
   "source": [
    "# lambda Function"
   ]
  },
  {
   "cell_type": "code",
   "execution_count": 9,
   "id": "a5a227cc",
   "metadata": {},
   "outputs": [],
   "source": [
    "def test(name, mail_id):\n",
    "    con = name + mail_id\n",
    "    return mail_id, name, con\n",
    "    "
   ]
  },
  {
   "cell_type": "code",
   "execution_count": 10,
   "id": "a457a90c",
   "metadata": {},
   "outputs": [
    {
     "data": {
      "text/plain": [
       "('ocean_123@gmail.com', 'rekha', 'rekhaocean_123@gmail.com')"
      ]
     },
     "execution_count": 10,
     "metadata": {},
     "output_type": "execute_result"
    }
   ],
   "source": [
    "test('rekha' , 'ocean_123@gmail.com')"
   ]
  },
  {
   "cell_type": "code",
   "execution_count": 11,
   "id": "a4f57108",
   "metadata": {},
   "outputs": [],
   "source": [
    "a = 56\n",
    "b = 89\n",
    "\n",
    "def test1(x, y):\n",
    "    return x + y"
   ]
  },
  {
   "cell_type": "code",
   "execution_count": 12,
   "id": "4793f1a1",
   "metadata": {},
   "outputs": [
    {
     "data": {
      "text/plain": [
       "145"
      ]
     },
     "execution_count": 12,
     "metadata": {},
     "output_type": "execute_result"
    }
   ],
   "source": [
    "test1(a, b)"
   ]
  },
  {
   "cell_type": "code",
   "execution_count": 22,
   "id": "64990cb0",
   "metadata": {},
   "outputs": [],
   "source": [
    "m = lambda x,y: x+y                   #lambda is an ananymous function, its a keyward"
   ]
  },
  {
   "cell_type": "code",
   "execution_count": 23,
   "id": "c2f5f464",
   "metadata": {},
   "outputs": [
    {
     "data": {
      "text/plain": [
       "145"
      ]
     },
     "execution_count": 23,
     "metadata": {},
     "output_type": "execute_result"
    }
   ],
   "source": [
    "m(a, b)"
   ]
  },
  {
   "cell_type": "code",
   "execution_count": 25,
   "id": "5723bdd6",
   "metadata": {},
   "outputs": [
    {
     "data": {
      "text/plain": [
       "'rekhaocean_123@gmail.com'"
      ]
     },
     "execution_count": 25,
     "metadata": {},
     "output_type": "execute_result"
    }
   ],
   "source": [
    "test1('rekha', 'ocean_123@gmail.com')              #no need to write the function again"
   ]
  },
  {
   "cell_type": "code",
   "execution_count": 26,
   "id": "684386ef",
   "metadata": {},
   "outputs": [],
   "source": [
    "a = 'rekha'\n",
    "b= 'test'\n",
    "c= lambda x,y:print(x, y)"
   ]
  },
  {
   "cell_type": "code",
   "execution_count": 28,
   "id": "4d437cd5",
   "metadata": {},
   "outputs": [
    {
     "name": "stdout",
     "output_type": "stream",
     "text": [
      "rekha test\n"
     ]
    }
   ],
   "source": [
    "c(a,b)"
   ]
  },
  {
   "cell_type": "code",
   "execution_count": 29,
   "id": "9ab08fdd",
   "metadata": {},
   "outputs": [],
   "source": [
    "r = 10\n",
    "def test2(a, b):\n",
    "    r = a/b\n",
    "    print(r)"
   ]
  },
  {
   "cell_type": "code",
   "execution_count": 30,
   "id": "405b9ee2",
   "metadata": {},
   "outputs": [
    {
     "name": "stdout",
     "output_type": "stream",
     "text": [
      "0.6\n"
     ]
    }
   ],
   "source": [
    "test2(3,5)            #it will access the value of "
   ]
  },
  {
   "cell_type": "code",
   "execution_count": 31,
   "id": "1a89cc98",
   "metadata": {},
   "outputs": [
    {
     "name": "stdout",
     "output_type": "stream",
     "text": [
      "\n"
     ]
    }
   ],
   "source": [
    "print()"
   ]
  },
  {
   "cell_type": "markdown",
   "id": "3b12e60c",
   "metadata": {},
   "source": [
    "# DocString"
   ]
  },
  {
   "cell_type": "code",
   "execution_count": 32,
   "id": "56ad3500",
   "metadata": {},
   "outputs": [],
   "source": [
    "def test3():\n",
    "    \n",
    "    \"\"\"\n",
    "    \n",
    "    this is my test function \n",
    "    with the help of this function you will able to learn the a basic functions\n",
    "    \n",
    "    \n",
    "    \"\"\"\n",
    "    print(\"my name is xyz\")"
   ]
  },
  {
   "cell_type": "code",
   "execution_count": 33,
   "id": "811e3788",
   "metadata": {},
   "outputs": [
    {
     "name": "stdout",
     "output_type": "stream",
     "text": [
      "my name is xyz\n"
     ]
    }
   ],
   "source": [
    "test3()              #shift+tab will show your comment i.e. triple code "
   ]
  },
  {
   "cell_type": "code",
   "execution_count": 37,
   "id": "61ad5486",
   "metadata": {},
   "outputs": [
    {
     "name": "stdout",
     "output_type": "stream",
     "text": [
      "\n",
      "Help on NoneType object:\n",
      "\n",
      "class NoneType(object)\n",
      " |  Methods defined here:\n",
      " |  \n",
      " |  __bool__(self, /)\n",
      " |      True if self else False\n",
      " |  \n",
      " |  __repr__(self, /)\n",
      " |      Return repr(self).\n",
      " |  \n",
      " |  ----------------------------------------------------------------------\n",
      " |  Static methods defined here:\n",
      " |  \n",
      " |  __new__(*args, **kwargs) from builtins.type\n",
      " |      Create and return a new object.  See help(type) for accurate signature.\n",
      "\n"
     ]
    }
   ],
   "source": [
    "help(print())"
   ]
  },
  {
   "cell_type": "code",
   "execution_count": 42,
   "id": "60fec473",
   "metadata": {},
   "outputs": [
    {
     "name": "stdout",
     "output_type": "stream",
     "text": [
      "Help on function test3 in module __main__:\n",
      "\n",
      "test3(a, b)\n",
      "    test3()\n",
      "    \n",
      "    this is my test function \n",
      "    with the help of this function you will able to learn the a basic functions\n",
      "\n"
     ]
    }
   ],
   "source": [
    "help(test3)"
   ]
  },
  {
   "cell_type": "code",
   "execution_count": 39,
   "id": "2583fe1e",
   "metadata": {},
   "outputs": [],
   "source": [
    "def test3(a,b):\n",
    "    \n",
    "    \"\"\"\n",
    "    test3()\n",
    "    \n",
    "    this is my test function \n",
    "    with the help of this function you will able to learn the a basic functions\n",
    "    \n",
    "    \n",
    "    \"\"\"\n",
    "    print(\"my name is xyz\")"
   ]
  },
  {
   "cell_type": "code",
   "execution_count": 41,
   "id": "08f7e39f",
   "metadata": {},
   "outputs": [
    {
     "name": "stdout",
     "output_type": "stream",
     "text": [
      "Help on function test3 in module __main__:\n",
      "\n",
      "test3(a, b)\n",
      "    test3()\n",
      "    \n",
      "    this is my test function \n",
      "    with the help of this function you will able to learn the a basic functions\n",
      "\n"
     ]
    }
   ],
   "source": [
    "help(test3)"
   ]
  },
  {
   "cell_type": "markdown",
   "id": "3288355b",
   "metadata": {},
   "source": [
    "# iterable, Iterable, Generator"
   ]
  },
  {
   "cell_type": "code",
   "execution_count": 43,
   "id": "9b2e6c1a",
   "metadata": {},
   "outputs": [
    {
     "name": "stdout",
     "output_type": "stream",
     "text": [
      "r\n",
      "e\n",
      "k\n",
      "h\n",
      "a\n"
     ]
    }
   ],
   "source": [
    "for i in \"rekha\":\n",
    "    print(i)"
   ]
  },
  {
   "cell_type": "code",
   "execution_count": 44,
   "id": "4992e9a1",
   "metadata": {},
   "outputs": [],
   "source": [
    "#Eterator is the kind of object out of which i will be able to extract the data with the help of indexes."
   ]
  },
  {
   "cell_type": "code",
   "execution_count": null,
   "id": "f4764cb1",
   "metadata": {},
   "outputs": [],
   "source": [
    "#iterable is the kind of object or entity from where i can extract the data"
   ]
  }
 ],
 "metadata": {
  "kernelspec": {
   "display_name": "Python 3 (ipykernel)",
   "language": "python",
   "name": "python3"
  },
  "language_info": {
   "codemirror_mode": {
    "name": "ipython",
    "version": 3
   },
   "file_extension": ".py",
   "mimetype": "text/x-python",
   "name": "python",
   "nbconvert_exporter": "python",
   "pygments_lexer": "ipython3",
   "version": "3.9.12"
  }
 },
 "nbformat": 4,
 "nbformat_minor": 5
}
