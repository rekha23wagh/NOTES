{
 "cells": [
  {
   "cell_type": "code",
   "execution_count": 5,
   "id": "78cf75e2",
   "metadata": {},
   "outputs": [
    {
     "data": {
      "text/plain": [
       "'ocean1'"
      ]
     },
     "execution_count": 5,
     "metadata": {},
     "output_type": "execute_result"
    }
   ],
   "source": [
    "s = \"ocean\"\n",
    "s + str(1)"
   ]
  },
  {
   "cell_type": "code",
   "execution_count": 9,
   "id": "1d7b38bf",
   "metadata": {},
   "outputs": [
    {
     "data": {
      "text/plain": [
       "[1, 5, 5, 6, 8, 6, 'hgjh', 1, 5, 5, 6, 8, 6, 'hgjh']"
      ]
     },
     "execution_count": 9,
     "metadata": {},
     "output_type": "execute_result"
    }
   ],
   "source": [
    "[1,5,5,6,8,6,\"hgjh\"]*2             #multiply string no of tymes"
   ]
  },
  {
   "cell_type": "code",
   "execution_count": 10,
   "id": "e7eab937",
   "metadata": {},
   "outputs": [
    {
     "data": {
      "text/plain": [
       "283280"
      ]
     },
     "execution_count": 10,
     "metadata": {},
     "output_type": "execute_result"
    }
   ],
   "source": [
    "56656*5                   #simply multiply the no"
   ]
  },
  {
   "cell_type": "code",
   "execution_count": 2,
   "id": "7cf1b558",
   "metadata": {},
   "outputs": [
    {
     "data": {
      "text/plain": [
       "'OCEAN'"
      ]
     },
     "execution_count": 2,
     "metadata": {},
     "output_type": "execute_result"
    }
   ],
   "source": [
    "s = \"OCEan\"                            #all string converted into upper case\n",
    "s.upper()"
   ]
  },
  {
   "cell_type": "code",
   "execution_count": 3,
   "id": "f3748c33",
   "metadata": {},
   "outputs": [
    {
     "data": {
      "text/plain": [
       "'ocean'"
      ]
     },
     "execution_count": 3,
     "metadata": {},
     "output_type": "execute_result"
    }
   ],
   "source": [
    "s.lower()                               #all string converted int lower case"
   ]
  },
  {
   "cell_type": "code",
   "execution_count": 4,
   "id": "5ed2ff36",
   "metadata": {},
   "outputs": [
    {
     "data": {
      "text/plain": [
       "['my', 'naame', 'is', 'rekha', 'shaligram', 'wahurwagh']"
      ]
     },
     "execution_count": 4,
     "metadata": {},
     "output_type": "execute_result"
    }
   ],
   "source": [
    "s = \" my naame is rekha shaligram wahurwagh\"      #requires spaces in between words\n",
    "s.split()"
   ]
  },
  {
   "cell_type": "code",
   "execution_count": 5,
   "id": "fa13311b",
   "metadata": {},
   "outputs": [
    {
     "data": {
      "text/plain": [
       "['my@name#is#rekha#shaligram#wahurwagh']"
      ]
     },
     "execution_count": 5,
     "metadata": {},
     "output_type": "execute_result"
    }
   ],
   "source": [
    "s = \"my#name#is#rekha#shaligram#wahurwagh\"    #does not split in special characters\n",
    "s.split()"
   ]
  },
  {
   "cell_type": "code",
   "execution_count": 7,
   "id": "ecfe251e",
   "metadata": {},
   "outputs": [
    {
     "data": {
      "text/plain": [
       "['my', 'name', 'is', 'rekha', 'shaligram', 'wahurwagh']"
      ]
     },
     "execution_count": 7,
     "metadata": {},
     "output_type": "execute_result"
    }
   ],
   "source": [
    "s = \"my#name#is#rekha#shaligram#wahurwagh\"     #in this case split the given special character\n",
    "s.split('#')"
   ]
  },
  {
   "cell_type": "code",
   "execution_count": 9,
   "id": "7cc7a8e5",
   "metadata": {},
   "outputs": [
    {
     "data": {
      "text/plain": [
       "['jhgd', 'jhhkfhd', 'hdfbjhdkad']"
      ]
     },
     "execution_count": 9,
     "metadata": {},
     "output_type": "execute_result"
    }
   ],
   "source": [
    "s = \"jhgdAjhhkfhdAhdfbjhdkad\"                #A should not be the part of final data    \n",
    "s.split('A')"
   ]
  },
  {
   "cell_type": "code",
   "execution_count": 13,
   "id": "3ab19f5c",
   "metadata": {},
   "outputs": [
    {
     "data": {
      "text/plain": [
       "('jhgd', 'A', 'jhhkfhdhdfbjhdkad')"
      ]
     },
     "execution_count": 13,
     "metadata": {},
     "output_type": "execute_result"
    }
   ],
   "source": [
    "s = \"jhgdAjhhkfhdhdfbjhdkad\"     #It does not have default value of saperator like function split() and delimeter\n",
    "                                  #will be the part of final result             \n",
    "s.partition('A')"
   ]
  },
  {
   "cell_type": "code",
   "execution_count": 14,
   "id": "1e367f58",
   "metadata": {},
   "outputs": [
    {
     "data": {
      "text/plain": [
       "('jhgd', 'A', 'jhhkfhdAhdfbjhdkad')"
      ]
     },
     "execution_count": 14,
     "metadata": {},
     "output_type": "execute_result"
    }
   ],
   "source": [
    "s = \"jhgdAjhhkfhdAhdfbjhdkad\"          #this function is occours only for first delimeter not the next\n",
    "s.partition('A')"
   ]
  },
  {
   "cell_type": "code",
   "execution_count": 16,
   "id": "3dd3471e",
   "metadata": {},
   "outputs": [
    {
     "data": {
      "text/plain": [
       "10"
      ]
     },
     "execution_count": 16,
     "metadata": {},
     "output_type": "execute_result"
    }
   ],
   "source": [
    "a = \"jhjdhdgdalooyweyfqlnsdcvhb\"         \n",
    "a.find('o')\n"
   ]
  },
  {
   "cell_type": "code",
   "execution_count": 17,
   "id": "73830da3",
   "metadata": {},
   "outputs": [
    {
     "data": {
      "text/plain": [
       "-1"
      ]
     },
     "execution_count": 17,
     "metadata": {},
     "output_type": "execute_result"
    }
   ],
   "source": [
    "a = \"jhjdhdgdalooyweyfqlnsdcvhb\"              #it returns by default value of -1 if delimeter is not present in the string\n",
    "a.find('p')\n"
   ]
  },
  {
   "cell_type": "code",
   "execution_count": 19,
   "id": "433d8df2",
   "metadata": {},
   "outputs": [
    {
     "data": {
      "text/plain": [
       "'11111ocean11111'"
      ]
     },
     "execution_count": 19,
     "metadata": {},
     "output_type": "execute_result"
    }
   ],
   "source": [
    "s = \"ocean\"                                    \n",
    "s.center(15, \"1\")"
   ]
  },
  {
   "cell_type": "code",
   "execution_count": 20,
   "id": "613b706b",
   "metadata": {},
   "outputs": [
    {
     "ename": "TypeError",
     "evalue": "The fill character must be exactly one character long",
     "output_type": "error",
     "traceback": [
      "\u001b[1;31m---------------------------------------------------------------------------\u001b[0m",
      "\u001b[1;31mTypeError\u001b[0m                                 Traceback (most recent call last)",
      "Input \u001b[1;32mIn [20]\u001b[0m, in \u001b[0;36m<cell line: 2>\u001b[1;34m()\u001b[0m\n\u001b[0;32m      1\u001b[0m s \u001b[38;5;241m=\u001b[39m \u001b[38;5;124m\"\u001b[39m\u001b[38;5;124mocean\u001b[39m\u001b[38;5;124m\"\u001b[39m                                 \n\u001b[1;32m----> 2\u001b[0m \u001b[43ms\u001b[49m\u001b[38;5;241;43m.\u001b[39;49m\u001b[43mcenter\u001b[49m\u001b[43m(\u001b[49m\u001b[38;5;241;43m15\u001b[39;49m\u001b[43m,\u001b[49m\u001b[43m \u001b[49m\u001b[38;5;124;43m\"\u001b[39;49m\u001b[38;5;124;43m11\u001b[39;49m\u001b[38;5;124;43m\"\u001b[39;49m\u001b[43m)\u001b[49m\n",
      "\u001b[1;31mTypeError\u001b[0m: The fill character must be exactly one character long"
     ]
    }
   ],
   "source": [
    "s = \"ocean\"                                  #only single character we can pass as 1\n",
    "s.center(15, \"11\")"
   ]
  },
  {
   "cell_type": "code",
   "execution_count": 24,
   "id": "e20c9351",
   "metadata": {},
   "outputs": [
    {
     "data": {
      "text/plain": [
       "'rekh    sagar   sarita  vishakha        '"
      ]
     },
     "execution_count": 24,
     "metadata": {},
     "output_type": "execute_result"
    }
   ],
   "source": [
    "'rekh\\tsagar\\tsarita\\tvishakha\\t'.expandtabs()           #\\t - tab"
   ]
  },
  {
   "cell_type": "code",
   "execution_count": 25,
   "id": "31698b26",
   "metadata": {},
   "outputs": [
    {
     "data": {
      "text/plain": [
       "'my name is rekha wahurwagh'"
      ]
     },
     "execution_count": 25,
     "metadata": {},
     "output_type": "execute_result"
    }
   ],
   "source": [
    "\"my name is {} wahurwagh\".format('rekha')             #it replaces the special char with given value"
   ]
  },
  {
   "cell_type": "code",
   "execution_count": 32,
   "id": "3a457569",
   "metadata": {},
   "outputs": [
    {
     "name": "stdout",
     "output_type": "stream",
     "text": [
      "this is my first namerekha\n",
      "this is my last namewahurwagh\n"
     ]
    },
    {
     "data": {
      "text/plain": [
       "'my name is rekha wahurwagh'"
      ]
     },
     "execution_count": 32,
     "metadata": {},
     "output_type": "execute_result"
    }
   ],
   "source": [
    "a = input(\"this is my first name\")\n",
    "b = input(\"this is my last name\")\n",
    "\n",
    "\"my name is {} {}\".format(a,b)"
   ]
  },
  {
   "cell_type": "code",
   "execution_count": 1,
   "id": "33933bc0",
   "metadata": {},
   "outputs": [
    {
     "data": {
      "text/plain": [
       "True"
      ]
     },
     "execution_count": 1,
     "metadata": {},
     "output_type": "execute_result"
    }
   ],
   "source": [
    "s = \"ahgav4582\"                                        #alpha and numeric value\n",
    "s.isalnum()"
   ]
  },
  {
   "cell_type": "code",
   "execution_count": 2,
   "id": "717098b5",
   "metadata": {},
   "outputs": [
    {
     "data": {
      "text/plain": [
       "True"
      ]
     },
     "execution_count": 2,
     "metadata": {},
     "output_type": "execute_result"
    }
   ],
   "source": [
    "s= \"jhxjAxv\"\n",
    "s.isalnum()"
   ]
  },
  {
   "cell_type": "code",
   "execution_count": 3,
   "id": "7cad6430",
   "metadata": {},
   "outputs": [
    {
     "data": {
      "text/plain": [
       "True"
      ]
     },
     "execution_count": 3,
     "metadata": {},
     "output_type": "execute_result"
    }
   ],
   "source": [
    "s= \"64986532\"\n",
    "s.isalnum()"
   ]
  },
  {
   "cell_type": "code",
   "execution_count": 4,
   "id": "2e64c55b",
   "metadata": {},
   "outputs": [
    {
     "data": {
      "text/plain": [
       "False"
      ]
     },
     "execution_count": 4,
     "metadata": {},
     "output_type": "execute_result"
    }
   ],
   "source": [
    "s = \"jhbk25755\"                                     #only for alpha \n",
    "s.isalpha()"
   ]
  },
  {
   "cell_type": "code",
   "execution_count": 5,
   "id": "0b1421cd",
   "metadata": {},
   "outputs": [
    {
     "data": {
      "text/plain": [
       "False"
      ]
     },
     "execution_count": 5,
     "metadata": {},
     "output_type": "execute_result"
    }
   ],
   "source": [
    "s = \"64565\"\n",
    "s.isalpha()"
   ]
  },
  {
   "cell_type": "code",
   "execution_count": 6,
   "id": "e31574d0",
   "metadata": {},
   "outputs": [
    {
     "data": {
      "text/plain": [
       "True"
      ]
     },
     "execution_count": 6,
     "metadata": {},
     "output_type": "execute_result"
    }
   ],
   "source": [
    "s = \"jgznsc\"\n",
    "s.isalpha()"
   ]
  },
  {
   "cell_type": "code",
   "execution_count": 7,
   "id": "50f5b5e3",
   "metadata": {},
   "outputs": [
    {
     "data": {
      "text/plain": [
       "True"
      ]
     },
     "execution_count": 7,
     "metadata": {},
     "output_type": "execute_result"
    }
   ],
   "source": [
    "s =\"jhgfdfghj\"                                       #to check date is in lower caps\n",
    "s.islower()"
   ]
  },
  {
   "cell_type": "code",
   "execution_count": 8,
   "id": "08ac5599",
   "metadata": {},
   "outputs": [
    {
     "data": {
      "text/plain": [
       "True"
      ]
     },
     "execution_count": 8,
     "metadata": {},
     "output_type": "execute_result"
    }
   ],
   "source": [
    "s = \"KJHGH354#$\"                                     #to check data in uppeer case\n",
    "s.isupper()"
   ]
  },
  {
   "cell_type": "code",
   "execution_count": 9,
   "id": "042ce699",
   "metadata": {},
   "outputs": [
    {
     "data": {
      "text/plain": [
       "True"
      ]
     },
     "execution_count": 9,
     "metadata": {},
     "output_type": "execute_result"
    }
   ],
   "source": [
    "s = \"Sihgvbnk\"                                       #to check the title that first letter is in upper case\n",
    "s.istitle()"
   ]
  },
  {
   "cell_type": "code",
   "execution_count": 13,
   "id": "3009c0fb",
   "metadata": {},
   "outputs": [
    {
     "data": {
      "text/plain": [
       "True"
      ]
     },
     "execution_count": 13,
     "metadata": {},
     "output_type": "execute_result"
    }
   ],
   "source": [
    "s = \"dfyguhijo\"                                       #to check whether it is ending with given data\n",
    "s.endswith('o')"
   ]
  },
  {
   "cell_type": "code",
   "execution_count": 14,
   "id": "642dbf13",
   "metadata": {},
   "outputs": [
    {
     "data": {
      "text/plain": [
       "9"
      ]
     },
     "execution_count": 14,
     "metadata": {},
     "output_type": "execute_result"
    }
   ],
   "source": [
    "len(s)                                                #to check the lenth of string/ data"
   ]
  },
  {
   "cell_type": "code",
   "execution_count": 20,
   "id": "37affd3b",
   "metadata": {},
   "outputs": [
    {
     "data": {
      "text/plain": [
       "[8, 5, 4, 894, 3, 2, 61, 'gjhs', 2.98]"
      ]
     },
     "execution_count": 20,
     "metadata": {},
     "output_type": "execute_result"
    }
   ],
   "source": [
    "a = [8,5,4,894,3,2,61,\"gjhs\",2.98]\n",
    "b= ['c',\"ssasd\",6,5,6,61,31,[2,5,8,8]]\n",
    "m =[]\n",
    "\n",
    "for i in a:\n",
    "    m.append(i)\n",
    "m"
   ]
  },
  {
   "cell_type": "code",
   "execution_count": 22,
   "id": "b251f8a9",
   "metadata": {},
   "outputs": [
    {
     "data": {
      "text/plain": [
       "[8, 5, 4, 894, 3, 2, 61, 'gjhs', 2.98, 'c', 'ssasd', 6, 5, 6, 61, 31]"
      ]
     },
     "execution_count": 22,
     "metadata": {},
     "output_type": "execute_result"
    }
   ],
   "source": [
    "a + b"
   ]
  },
  {
   "cell_type": "code",
   "execution_count": 23,
   "id": "b41c8933",
   "metadata": {},
   "outputs": [
    {
     "ename": "TypeError",
     "evalue": "can only concatenate list (not \"str\") to list",
     "output_type": "error",
     "traceback": [
      "\u001b[1;31m---------------------------------------------------------------------------\u001b[0m",
      "\u001b[1;31mTypeError\u001b[0m                                 Traceback (most recent call last)",
      "Input \u001b[1;32mIn [23]\u001b[0m, in \u001b[0;36m<cell line: 1>\u001b[1;34m()\u001b[0m\n\u001b[1;32m----> 1\u001b[0m \u001b[43ma\u001b[49m\u001b[43m \u001b[49m\u001b[38;5;241;43m+\u001b[39;49m\u001b[43m \u001b[49m\u001b[38;5;124;43m\"\u001b[39;49m\u001b[38;5;124;43mjkhjk\u001b[39;49m\u001b[38;5;124;43m\"\u001b[39;49m\n",
      "\u001b[1;31mTypeError\u001b[0m: can only concatenate list (not \"str\") to list"
     ]
    }
   ],
   "source": [
    "a + \"jkhjk\"                               #same fun can add like a is list so string can not added"
   ]
  },
  {
   "cell_type": "code",
   "execution_count": 24,
   "id": "6213bf87",
   "metadata": {},
   "outputs": [
    {
     "data": {
      "text/plain": [
       "[8, 5, 4, 894, 3, 2, 61, 'gjhs', 2.98, 'khjdshj']"
      ]
     },
     "execution_count": 24,
     "metadata": {},
     "output_type": "execute_result"
    }
   ],
   "source": [
    "a + [\"khjdshj\"]"
   ]
  },
  {
   "cell_type": "code",
   "execution_count": 25,
   "id": "82157bac",
   "metadata": {},
   "outputs": [
    {
     "data": {
      "text/plain": [
       "[8, 5, 4, 894, 3, 2, 61, 'gjhs', 2.98]"
      ]
     },
     "execution_count": 25,
     "metadata": {},
     "output_type": "execute_result"
    }
   ],
   "source": [
    "list(a)"
   ]
  },
  {
   "cell_type": "code",
   "execution_count": 26,
   "id": "825753b7",
   "metadata": {},
   "outputs": [
    {
     "data": {
      "text/plain": [
       "[8,\n",
       " 5,\n",
       " 4,\n",
       " 894,\n",
       " 3,\n",
       " 2,\n",
       " 61,\n",
       " 'gjhs',\n",
       " 2.98,\n",
       " 'c',\n",
       " 'ssasd',\n",
       " 6,\n",
       " 5,\n",
       " 6,\n",
       " 61,\n",
       " 31,\n",
       " 8,\n",
       " 5,\n",
       " 4,\n",
       " 894,\n",
       " 3,\n",
       " 2,\n",
       " 61,\n",
       " 'gjhs',\n",
       " 2.98,\n",
       " 'c',\n",
       " 'ssasd',\n",
       " 6,\n",
       " 5,\n",
       " 6,\n",
       " 61,\n",
       " 31]"
      ]
     },
     "execution_count": 26,
     "metadata": {},
     "output_type": "execute_result"
    }
   ],
   "source": [
    "(a + b)*2"
   ]
  },
  {
   "cell_type": "code",
   "execution_count": 27,
   "id": "7dc534ec",
   "metadata": {},
   "outputs": [
    {
     "data": {
      "text/plain": [
       "['i', 'u', 'y', 'h', 'g', 't', 'r']"
      ]
     },
     "execution_count": 27,
     "metadata": {},
     "output_type": "execute_result"
    }
   ],
   "source": [
    "list(\"iuyhgtr\")                        #list() always saperate a data"
   ]
  },
  {
   "cell_type": "code",
   "execution_count": 28,
   "id": "e75330ab",
   "metadata": {},
   "outputs": [
    {
     "data": {
      "text/plain": [
       "[8, 5, 4, 894, 3, 2, 61, 'gjhs', 2.98, 'k', 'j', 'h', 'g']"
      ]
     },
     "execution_count": 28,
     "metadata": {},
     "output_type": "execute_result"
    }
   ],
   "source": [
    "a + list(\"kjhg\")"
   ]
  },
  {
   "cell_type": "code",
   "execution_count": 30,
   "id": "128b724e",
   "metadata": {},
   "outputs": [
    {
     "data": {
      "text/plain": [
       "[8, 5, 4, 894, 3, 2, 61, 'gjhs', 2.98, 'kjhg', 'kjhg']"
      ]
     },
     "execution_count": 30,
     "metadata": {},
     "output_type": "execute_result"
    }
   ],
   "source": [
    "a.append(\"kjhg\")                             #append() always add the said data at last of the given data\n",
    "a"
   ]
  },
  {
   "cell_type": "code",
   "execution_count": 32,
   "id": "3dff7f34",
   "metadata": {},
   "outputs": [
    {
     "data": {
      "text/plain": [
       "[8, 5, 4, 894, 3, 'jhgf', 'jhgf', 2, 61, 'gjhs', 2.98, 'kjhg', 'kjhg']"
      ]
     },
     "execution_count": 32,
     "metadata": {},
     "output_type": "execute_result"
    }
   ],
   "source": [
    "a.insert(5,\"jhgf\")                          #insert() always add the datA at given point in the given data               \n",
    "a"
   ]
  },
  {
   "cell_type": "code",
   "execution_count": 33,
   "id": "dca052e1",
   "metadata": {},
   "outputs": [
    {
     "data": {
      "text/plain": [
       "[8, 5, 4, 894, 3, 'jhgf', 'jhgf', 2, 61, 'gjhs', 2.98, 'hg', 'kjhg', 'kjhg']"
      ]
     },
     "execution_count": 33,
     "metadata": {},
     "output_type": "execute_result"
    }
   ],
   "source": [
    "a.insert(-2,\"hg\")\n",
    "a"
   ]
  },
  {
   "cell_type": "code",
   "execution_count": 34,
   "id": "2299f55f",
   "metadata": {},
   "outputs": [
    {
     "data": {
      "text/plain": [
       "[8, 5, 894, 3, 'jhgf', 'jhgf', 2, 61, 'gjhs', 2.98, 'hg', 'kjhg', 'kjhg']"
      ]
     },
     "execution_count": 34,
     "metadata": {},
     "output_type": "execute_result"
    }
   ],
   "source": [
    "a.pop(2)                            #Remove the data from given index position\n",
    "a"
   ]
  },
  {
   "cell_type": "code",
   "execution_count": 35,
   "id": "d0b78eac",
   "metadata": {},
   "outputs": [
    {
     "data": {
      "text/plain": [
       "'kjhg'"
      ]
     },
     "execution_count": 35,
     "metadata": {},
     "output_type": "execute_result"
    }
   ],
   "source": [
    "a.pop()"
   ]
  },
  {
   "cell_type": "code",
   "execution_count": 36,
   "id": "bcb38ceb",
   "metadata": {},
   "outputs": [
    {
     "data": {
      "text/plain": [
       "5"
      ]
     },
     "execution_count": 36,
     "metadata": {},
     "output_type": "execute_result"
    }
   ],
   "source": [
    "a.pop(1)"
   ]
  },
  {
   "cell_type": "code",
   "execution_count": 39,
   "id": "a77f8273",
   "metadata": {},
   "outputs": [
    {
     "data": {
      "text/plain": [
       "['kjhg', 'hg', 2.98, 'gjhs', 61, 2, 'jhgf', 'jhgf', 3, 894, 8]"
      ]
     },
     "execution_count": 39,
     "metadata": {},
     "output_type": "execute_result"
    }
   ],
   "source": [
    "a[::-1]                                                #to reverse the data and similar to reverse()"
   ]
  },
  {
   "cell_type": "code",
   "execution_count": 40,
   "id": "110c2966",
   "metadata": {},
   "outputs": [],
   "source": [
    "a.reverse()                                            #to reverse the data"
   ]
  },
  {
   "cell_type": "code",
   "execution_count": 41,
   "id": "c186838e",
   "metadata": {},
   "outputs": [
    {
     "data": {
      "text/plain": [
       "['kjhg', 'hg', 2.98, 'gjhs', 61, 2, 'jhgf', 'jhgf', 3, 894, 8]"
      ]
     },
     "execution_count": 41,
     "metadata": {},
     "output_type": "execute_result"
    }
   ],
   "source": [
    "a"
   ]
  },
  {
   "cell_type": "code",
   "execution_count": 42,
   "id": "ff467ca8",
   "metadata": {},
   "outputs": [
    {
     "ename": "TypeError",
     "evalue": "'<' not supported between instances of 'float' and 'str'",
     "output_type": "error",
     "traceback": [
      "\u001b[1;31m---------------------------------------------------------------------------\u001b[0m",
      "\u001b[1;31mTypeError\u001b[0m                                 Traceback (most recent call last)",
      "Input \u001b[1;32mIn [42]\u001b[0m, in \u001b[0;36m<cell line: 1>\u001b[1;34m()\u001b[0m\n\u001b[1;32m----> 1\u001b[0m \u001b[43ma\u001b[49m\u001b[38;5;241;43m.\u001b[39;49m\u001b[43msort\u001b[49m\u001b[43m(\u001b[49m\u001b[43m)\u001b[49m\n",
      "\u001b[1;31mTypeError\u001b[0m: '<' not supported between instances of 'float' and 'str'"
     ]
    }
   ],
   "source": [
    "a.sort()"
   ]
  },
  {
   "cell_type": "code",
   "execution_count": 44,
   "id": "d2f049af",
   "metadata": {},
   "outputs": [
    {
     "data": {
      "text/plain": [
       "['fgh', 'fgj', 'gh', 'ghj']"
      ]
     },
     "execution_count": 44,
     "metadata": {},
     "output_type": "execute_result"
    }
   ],
   "source": [
    "g = [\"gh\", \"ghj\",\"fgh\",\"fgj\"]\n",
    "g.sort()                                                     #to sort the data- only similar datatypes are allowed- \n",
    "                                                              #default sorting in ascending order}\n",
    "g"
   ]
  },
  {
   "cell_type": "code",
   "execution_count": 49,
   "id": "6f0a96e3",
   "metadata": {},
   "outputs": [
    {
     "data": {
      "text/plain": [
       "[69, 44, 9, 8, 8, 5, 3, 2, 2, 1]"
      ]
     },
     "execution_count": 49,
     "metadata": {},
     "output_type": "execute_result"
    }
   ],
   "source": [
    "g = [5,8,2,1,69,2,8,9,3,44]\n",
    "g.sort(reverse=True)\n",
    "g"
   ]
  },
  {
   "cell_type": "code",
   "execution_count": 52,
   "id": "8c0f0663",
   "metadata": {},
   "outputs": [
    {
     "data": {
      "text/plain": [
       "[[8, 4, 8, 7, 5], [2, 5, 8, 6, 6, 7], [21, 5, 4, 5, 85, 45, 25]]"
      ]
     },
     "execution_count": 52,
     "metadata": {},
     "output_type": "execute_result"
    }
   ],
   "source": [
    "a = [8,4,8,7,5]\n",
    "b = [2,5,8,6,6,7]\n",
    "c = [21,5,4,5,85,45,25]\n",
    "\n",
    "d = [a,b,c]\n",
    "d"
   ]
  },
  {
   "cell_type": "code",
   "execution_count": 55,
   "id": "1f5634c3",
   "metadata": {},
   "outputs": [
    {
     "data": {
      "text/plain": [
       "[2, 8, 6]"
      ]
     },
     "execution_count": 55,
     "metadata": {},
     "output_type": "execute_result"
    }
   ],
   "source": [
    "d[1][::2]                        #to track particular data from string"
   ]
  },
  {
   "cell_type": "code",
   "execution_count": 64,
   "id": "40827743",
   "metadata": {},
   "outputs": [
    {
     "data": {
      "text/plain": [
       "[[21, 5, 4, 5, 85, 45, 25], [2, 5, 8, 6, 6, 7], [8, 4, 8, 7, 5]]"
      ]
     },
     "execution_count": 64,
     "metadata": {},
     "output_type": "execute_result"
    }
   ],
   "source": [
    "m = []\n",
    "d=d[::-1]\n",
    "for i in d:\n",
    "    m.append(i[::-1])                      #to reverse the data from all sring}\n",
    "d"
   ]
  },
  {
   "cell_type": "code",
   "execution_count": 65,
   "id": "fd620d58",
   "metadata": {},
   "outputs": [
    {
     "data": {
      "text/plain": [
       "[[25, 45, 85, 5, 4, 5, 21], [7, 6, 6, 8, 5, 2], [5, 7, 8, 4, 8]]"
      ]
     },
     "execution_count": 65,
     "metadata": {},
     "output_type": "execute_result"
    }
   ],
   "source": [
    "m"
   ]
  },
  {
   "cell_type": "code",
   "execution_count": 83,
   "id": "036381fa",
   "metadata": {},
   "outputs": [
    {
     "ename": "TypeError",
     "evalue": "'int' object is not subscriptable",
     "output_type": "error",
     "traceback": [
      "\u001b[1;31m---------------------------------------------------------------------------\u001b[0m",
      "\u001b[1;31mTypeError\u001b[0m                                 Traceback (most recent call last)",
      "Input \u001b[1;32mIn [83]\u001b[0m, in \u001b[0;36m<cell line: 2>\u001b[1;34m()\u001b[0m\n\u001b[0;32m      1\u001b[0m n \u001b[38;5;241m=\u001b[39m []\n\u001b[0;32m      2\u001b[0m \u001b[38;5;28;01mfor\u001b[39;00m i \u001b[38;5;129;01min\u001b[39;00m m:\n\u001b[1;32m----> 3\u001b[0m     m\u001b[38;5;241m.\u001b[39mappend(\u001b[43mi\u001b[49m\u001b[43m[\u001b[49m\u001b[38;5;241;43m2\u001b[39;49m\u001b[43m]\u001b[49m\u001b[38;5;241m*\u001b[39m\u001b[38;5;241m1\u001b[39m)\n\u001b[0;32m      4\u001b[0m n\n",
      "\u001b[1;31mTypeError\u001b[0m: 'int' object is not subscriptable"
     ]
    }
   ],
   "source": [
    "n = []\n",
    "for i in m:\n",
    "    m.append(i[2]*1)\n",
    "n"
   ]
  },
  {
   "cell_type": "code",
   "execution_count": 69,
   "id": "37f5fa2d",
   "metadata": {},
   "outputs": [
    {
     "data": {
      "text/plain": [
       "[]"
      ]
     },
     "execution_count": 69,
     "metadata": {},
     "output_type": "execute_result"
    }
   ],
   "source": [
    "n"
   ]
  },
  {
   "cell_type": "code",
   "execution_count": 87,
   "id": "2f0101ee",
   "metadata": {},
   "outputs": [
    {
     "data": {
      "text/plain": [
       "[2, 5, 3, 6, 8, 9, 'uyhtgd', '[jhcd]']"
      ]
     },
     "execution_count": 87,
     "metadata": {},
     "output_type": "execute_result"
    }
   ],
   "source": [
    "a = [2,5,3,6,8,9,\"uyhtgd\"]\n",
    "a.append(\"[jhcd]\")\n",
    "a"
   ]
  },
  {
   "cell_type": "code",
   "execution_count": 97,
   "id": "6fad74c2",
   "metadata": {},
   "outputs": [
    {
     "data": {
      "text/plain": [
       "[2, 5, 8, 6, 85, 35, 2, 4, 'jhcd']"
      ]
     },
     "execution_count": 97,
     "metadata": {},
     "output_type": "execute_result"
    }
   ],
   "source": [
    "a=[2,5,8,6,85,35,2,4]\n",
    "a.extend([\"jhcd\"])\n",
    "a"
   ]
  },
  {
   "cell_type": "code",
   "execution_count": 98,
   "id": "b15322c9",
   "metadata": {},
   "outputs": [
    {
     "data": {
      "text/plain": [
       "[2, 5, 8, 6, 85, 35, 2, 4, 'jhcd']"
      ]
     },
     "execution_count": 98,
     "metadata": {},
     "output_type": "execute_result"
    }
   ],
   "source": [
    "a.index(5)\n",
    "a"
   ]
  },
  {
   "cell_type": "code",
   "execution_count": 4,
   "id": "3ee59bc0",
   "metadata": {},
   "outputs": [
    {
     "data": {
      "text/plain": [
       "'asdfs   zxcvb   zxcv    zxc'"
      ]
     },
     "execution_count": 4,
     "metadata": {},
     "output_type": "execute_result"
    }
   ],
   "source": [
    "s = \"asdfs\\tzxcvb\\tzxcv\\tzxc\"\n",
    "s.expandtabs()"
   ]
  },
  {
   "cell_type": "code",
   "execution_count": 5,
   "id": "ad9a44f4",
   "metadata": {},
   "outputs": [
    {
     "ename": "NameError",
     "evalue": "name 'lkjhgf' is not defined",
     "output_type": "error",
     "traceback": [
      "\u001b[1;31m---------------------------------------------------------------------------\u001b[0m",
      "\u001b[1;31mNameError\u001b[0m                                 Traceback (most recent call last)",
      "Input \u001b[1;32mIn [5]\u001b[0m, in \u001b[0;36m<cell line: 2>\u001b[1;34m()\u001b[0m\n\u001b[0;32m      1\u001b[0m f \u001b[38;5;241m=\u001b[39m\u001b[38;5;124m\"\u001b[39m\u001b[38;5;124miujhgfd\u001b[39m\u001b[38;5;124m\"\u001b[39m\n\u001b[1;32m----> 2\u001b[0m f\u001b[38;5;241m.\u001b[39mreplace(\u001b[43mlkjhgf\u001b[49m)\n",
      "\u001b[1;31mNameError\u001b[0m: name 'lkjhgf' is not defined"
     ]
    }
   ],
   "source": [
    "f =\"iujhgfd\"\n",
    "f.replace()"
   ]
  },
  {
   "cell_type": "code",
   "execution_count": 1,
   "id": "ce4174a8",
   "metadata": {},
   "outputs": [],
   "source": [
    "s = \"  oiuy  \""
   ]
  },
  {
   "cell_type": "code",
   "execution_count": 2,
   "id": "fc80e96a",
   "metadata": {},
   "outputs": [
    {
     "data": {
      "text/plain": [
       "'oiuy'"
      ]
     },
     "execution_count": 2,
     "metadata": {},
     "output_type": "execute_result"
    }
   ],
   "source": [
    "s.strip()          #to remove the space from string  from ends only"
   ]
  },
  {
   "cell_type": "code",
   "execution_count": 3,
   "id": "a0a379b5",
   "metadata": {},
   "outputs": [],
   "source": [
    "s = \"uy iuyh oiuy \""
   ]
  },
  {
   "cell_type": "code",
   "execution_count": 4,
   "id": "d10d6c74",
   "metadata": {},
   "outputs": [
    {
     "data": {
      "text/plain": [
       "'uy iuyh oiuy'"
      ]
     },
     "execution_count": 4,
     "metadata": {},
     "output_type": "execute_result"
    }
   ],
   "source": [
    "s.strip()"
   ]
  },
  {
   "cell_type": "code",
   "execution_count": 5,
   "id": "f31ec036",
   "metadata": {},
   "outputs": [
    {
     "data": {
      "text/plain": [
       "'oiuy  '"
      ]
     },
     "execution_count": 5,
     "metadata": {},
     "output_type": "execute_result"
    }
   ],
   "source": [
    "s = \"  oiuy  \"\n",
    "s.lstrip()                  # to remove the spaces from left hand side of the string"
   ]
  },
  {
   "cell_type": "code",
   "execution_count": 6,
   "id": "48b21c37",
   "metadata": {},
   "outputs": [
    {
     "data": {
      "text/plain": [
       "'  oiuy'"
      ]
     },
     "execution_count": 6,
     "metadata": {},
     "output_type": "execute_result"
    }
   ],
   "source": [
    "s = \"  oiuy  \"\n",
    "s.rstrip()                  # to remove the spaces from right hand side of the string"
   ]
  },
  {
   "cell_type": "code",
   "execution_count": 7,
   "id": "77a0450e",
   "metadata": {},
   "outputs": [
    {
     "data": {
      "text/plain": [
       "'o   c   e   a   n'"
      ]
     },
     "execution_count": 7,
     "metadata": {},
     "output_type": "execute_result"
    }
   ],
   "source": [
    "\"   \".join(\"ocean\")         #join string with given"
   ]
  },
  {
   "cell_type": "code",
   "execution_count": 9,
   "id": "881d05cd",
   "metadata": {},
   "outputs": [
    {
     "data": {
      "text/plain": [
       "'R@E@k@h@a'"
      ]
     },
     "execution_count": 9,
     "metadata": {},
     "output_type": "execute_result"
    }
   ],
   "source": [
    "\"@\".join(\"REkha\")             #join string with given"
   ]
  },
  {
   "cell_type": "code",
   "execution_count": 1,
   "id": "444d5d59",
   "metadata": {},
   "outputs": [],
   "source": [
    "a= [1,2,3,4,5]\n",
    "t=['a','b','c','d','e']\n",
    "\n",
    "m=[]\n",
    "for i in a:\n",
    "    n=[]\n",
    "    for j in range(0,len(t)):\n",
    "        n.append(str(i) + \"\"+ t[j])\n",
    "    m.append(n)   "
   ]
  },
  {
   "cell_type": "code",
   "execution_count": 2,
   "id": "4085531b",
   "metadata": {},
   "outputs": [
    {
     "data": {
      "text/plain": [
       "[['1a', '1b', '1c', '1d', '1e'],\n",
       " ['2a', '2b', '2c', '2d', '2e'],\n",
       " ['3a', '3b', '3c', '3d', '3e'],\n",
       " ['4a', '4b', '4c', '4d', '4e'],\n",
       " ['5a', '5b', '5c', '5d', '5e']]"
      ]
     },
     "execution_count": 2,
     "metadata": {},
     "output_type": "execute_result"
    }
   ],
   "source": [
    "m"
   ]
  },
  {
   "cell_type": "code",
   "execution_count": null,
   "id": "15afb89e",
   "metadata": {},
   "outputs": [],
   "source": []
  }
 ],
 "metadata": {
  "kernelspec": {
   "display_name": "Python 3 (ipykernel)",
   "language": "python",
   "name": "python3"
  },
  "language_info": {
   "codemirror_mode": {
    "name": "ipython",
    "version": 3
   },
   "file_extension": ".py",
   "mimetype": "text/x-python",
   "name": "python",
   "nbconvert_exporter": "python",
   "pygments_lexer": "ipython3",
   "version": "3.9.12"
  }
 },
 "nbformat": 4,
 "nbformat_minor": 5
}
