{
 "cells": [
  {
   "cell_type": "code",
   "execution_count": 8,
   "id": "46f38907",
   "metadata": {},
   "outputs": [
    {
     "data": {
      "text/plain": [
       "0"
      ]
     },
     "execution_count": 8,
     "metadata": {},
     "output_type": "execute_result"
    }
   ],
   "source": [
    "import logging\n",
    "logging.basicConfig(filename=r\"C:\\Users\\rekha\\PycharmProjects\\practice\\practice2.log\",filemode= 'w', level=logging.INFO, \n",
    "                    format=\"%(levelname)s  %(asctime)s %(name)s %(message)s\")\n",
    "\n",
    "def devide(a, b):\n",
    "    logging.info(\"The no Enter by users are %s & %s\", a, b)\n",
    "    try:\n",
    "        logging.info(\"this is info function\")\n",
    "        div = a//b\n",
    "        logging.info(\"we have completed the devision operation\")\n",
    "        logging.info(\"result of code is %s \" , div)\n",
    "        return div\n",
    "    except Exception as e:\n",
    "        logging.exception(e)\n",
    "    devide(2,3)\n",
    "    \n",
    "devide(2,3)\n",
    "\n",
    "\n"
   ]
  },
  {
   "cell_type": "code",
   "execution_count": 7,
   "id": "91f23a86",
   "metadata": {
    "scrolled": true
   },
   "outputs": [
    {
     "data": {
      "text/plain": [
       "0"
      ]
     },
     "execution_count": 7,
     "metadata": {},
     "output_type": "execute_result"
    }
   ],
   "source": [
    "devide(2,3)"
   ]
  },
  {
   "cell_type": "code",
   "execution_count": 1,
   "id": "ac2bd3a6",
   "metadata": {},
   "outputs": [
    {
     "name": "stdout",
     "output_type": "stream",
     "text": [
      "Hello World\n"
     ]
    }
   ],
   "source": [
    "s= \"Hello World\"\n",
    "print(s)\n",
    "    "
   ]
  },
  {
   "cell_type": "code",
   "execution_count": 18,
   "id": "6a12fd91",
   "metadata": {},
   "outputs": [
    {
     "name": "stdout",
     "output_type": "stream",
     "text": [
      "3\n",
      " Weird\n"
     ]
    }
   ],
   "source": [
    "\n",
    "n=int(input())\n",
    "if n%2 != 0:\n",
    "    print(\" Weird\")\n",
    "elif n %2 == 0 or n==range(2,6):\n",
    "    print(\"Not Weird\")\n",
    "elif n%2 == 0 or n==range(6,21):\n",
    "    print(\"Weird\")\n",
    "elif n%2== 0 or n>20:\n",
    "    print(\"Not Weird\")\n"
   ]
  },
  {
   "cell_type": "code",
   "execution_count": 17,
   "id": "3be84008",
   "metadata": {},
   "outputs": [
    {
     "name": "stdout",
     "output_type": "stream",
     "text": [
      "3\n",
      "0\n",
      "1\n",
      "4\n"
     ]
    }
   ],
   "source": [
    "\n",
    "if __name__ == '__main__':\n",
    "    n = int(input())\n",
    "    for i in range(n):            # 0<= i<n\n",
    "        result = i**2             # we can do i*i also\n",
    "        print(result)"
   ]
  },
  {
   "cell_type": "code",
   "execution_count": 40,
   "id": "a569b7d1",
   "metadata": {},
   "outputs": [
    {
     "name": "stdout",
     "output_type": "stream",
     "text": [
      "3\n",
      "0\n",
      "1\n",
      "4\n"
     ]
    }
   ],
   "source": [
    "n = int(input())\n",
    "i = 0\n",
    "while i < n:\n",
    "    print(i*i)\n",
    "    i=i+1\n",
    "   \n"
   ]
  },
  {
   "cell_type": "code",
   "execution_count": 54,
   "id": "bba0ab51",
   "metadata": {},
   "outputs": [
    {
     "name": "stdout",
     "output_type": "stream",
     "text": [
      "1990\n",
      "False\n"
     ]
    }
   ],
   "source": [
    "n=int(input())\n",
    "if n % 4 == 0 and n % 400==0:\n",
    "    print(\"True\")\n",
    "     \n",
    "else:\n",
    "    print(\"False\")\n",
    "    "
   ]
  },
  {
   "cell_type": "code",
   "execution_count": 58,
   "id": "9313115d",
   "metadata": {},
   "outputs": [
    {
     "name": "stdout",
     "output_type": "stream",
     "text": [
      "2\n",
      "3\n",
      "5\n",
      "-1\n",
      "6\n"
     ]
    }
   ],
   "source": [
    "a=int(input())\n",
    "b=int(input())\n",
    "c = a + b\n",
    "print(c)\n",
    "\n",
    "d = a - b\n",
    "print(d)\n",
    "\n",
    "e = a*b\n",
    "print(e)\n",
    "\n"
   ]
  },
  {
   "cell_type": "code",
   "execution_count": 60,
   "id": "139d786f",
   "metadata": {},
   "outputs": [
    {
     "name": "stdout",
     "output_type": "stream",
     "text": [
      "The first line contains the first integer6\n",
      "he first line contains the second integer5\n",
      "1\n",
      "1.2\n"
     ]
    }
   ],
   "source": [
    "a= int(input(\"The first line contains the first integer\"))\n",
    "b = int(input(\"he first line contains the second integer\"))\n",
    "\n",
    "c = a//b\n",
    "print(c)\n",
    "\n",
    "d=a/b\n",
    "print(d)"
   ]
  },
  {
   "cell_type": "code",
   "execution_count": 66,
   "id": "c33ebeff",
   "metadata": {},
   "outputs": [
    {
     "name": "stdout",
     "output_type": "stream",
     "text": [
      "4\n",
      "3\n",
      "1.0\n",
      "1.3333333333333333\n"
     ]
    }
   ],
   "source": [
    "a= int(input())\n",
    "b = float(input())\n",
    "\n",
    "c = a//b\n",
    "print(c)\n",
    "\n",
    "d = a/b\n",
    "print(d)"
   ]
  },
  {
   "cell_type": "code",
   "execution_count": 68,
   "id": "369cc3fb",
   "metadata": {},
   "outputs": [
    {
     "name": "stdout",
     "output_type": "stream",
     "text": [
      "4\n",
      "3\n",
      "1.0\n",
      "1.3333333333333333\n"
     ]
    }
   ],
   "source": [
    "a= int(input())\n",
    "b = float(input())\n",
    "\n",
    "if type(c) == int or type(c) == float:\n",
    "    c = a//b\n",
    "    print(c)\n",
    "    \n",
    "if type(d)== int or type(d)== float:\n",
    "    d = a/b\n",
    "    type(d)==float\n",
    "    print(d)"
   ]
  },
  {
   "cell_type": "code",
   "execution_count": null,
   "id": "6c30ecc8",
   "metadata": {},
   "outputs": [],
   "source": []
  }
 ],
 "metadata": {
  "kernelspec": {
   "display_name": "Python 3 (ipykernel)",
   "language": "python",
   "name": "python3"
  },
  "language_info": {
   "codemirror_mode": {
    "name": "ipython",
    "version": 3
   },
   "file_extension": ".py",
   "mimetype": "text/x-python",
   "name": "python",
   "nbconvert_exporter": "python",
   "pygments_lexer": "ipython3",
   "version": "3.9.12"
  }
 },
 "nbformat": 4,
 "nbformat_minor": 5
}
