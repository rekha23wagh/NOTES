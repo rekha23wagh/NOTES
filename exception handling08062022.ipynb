{
 "cells": [
  {
   "cell_type": "code",
   "execution_count": 1,
   "id": "2922ca8a",
   "metadata": {},
   "outputs": [
    {
     "name": "stdout",
     "output_type": "stream",
     "text": [
      "30\n"
     ]
    }
   ],
   "source": [
    "a= 10\n",
    "b=20\n",
    "c=a+b\n",
    "print(c)"
   ]
  },
  {
   "cell_type": "code",
   "execution_count": 4,
   "id": "c00c70aa",
   "metadata": {},
   "outputs": [
    {
     "name": "stdout",
     "output_type": "stream",
     "text": [
      "30\n"
     ]
    }
   ],
   "source": [
    "a= 10\n",
    "b=20\n",
    "c=a+b\n",
    "print(c)     #syntactical error"
   ]
  },
  {
   "cell_type": "code",
   "execution_count": 5,
   "id": "5ea774ff",
   "metadata": {},
   "outputs": [
    {
     "ename": "TypeError",
     "evalue": "unsupported operand type(s) for +: 'int' and 'str'",
     "output_type": "error",
     "traceback": [
      "\u001b[1;31m---------------------------------------------------------------------------\u001b[0m",
      "\u001b[1;31mTypeError\u001b[0m                                 Traceback (most recent call last)",
      "Input \u001b[1;32mIn [5]\u001b[0m, in \u001b[0;36m<cell line: 3>\u001b[1;34m()\u001b[0m\n\u001b[0;32m      1\u001b[0m a\u001b[38;5;241m=\u001b[39m \u001b[38;5;241m10\u001b[39m\n\u001b[0;32m      2\u001b[0m b\u001b[38;5;241m=\u001b[39m\u001b[38;5;124m\"\u001b[39m\u001b[38;5;124mg\u001b[39m\u001b[38;5;124m\"\u001b[39m      \u001b[38;5;66;03m#run time error\u001b[39;00m\n\u001b[1;32m----> 3\u001b[0m c\u001b[38;5;241m=\u001b[39m\u001b[43ma\u001b[49m\u001b[38;5;241;43m+\u001b[39;49m\u001b[43mb\u001b[49m\n\u001b[0;32m      4\u001b[0m \u001b[38;5;28mprint\u001b[39m(c)\n",
      "\u001b[1;31mTypeError\u001b[0m: unsupported operand type(s) for +: 'int' and 'str'"
     ]
    }
   ],
   "source": [
    "a= 10\n",
    "b=\"g\"      #run time error\n",
    "c=a+b\n",
    "print(c)"
   ]
  },
  {
   "cell_type": "code",
   "execution_count": 7,
   "id": "357d2479",
   "metadata": {},
   "outputs": [
    {
     "name": "stdout",
     "output_type": "stream",
     "text": [
      "write a 1st no: 23\n",
      "write a 2nd no:12\n",
      "1.9166666666666667\n",
      "276\n"
     ]
    }
   ],
   "source": [
    "n= int(input(\"write a 1st no: \"))\n",
    "m=int(input(\"write a 2nd no:\"))\n",
    "p=n/m\n",
    "print(p)\n",
    "q=n*m\n",
    "print(q)"
   ]
  },
  {
   "cell_type": "code",
   "execution_count": 2,
   "id": "1165aa27",
   "metadata": {},
   "outputs": [
    {
     "name": "stdout",
     "output_type": "stream",
     "text": [
      "write a 1st no: 12\n",
      "write a 2nd no: 3\n",
      "4.0\n",
      "36\n"
     ]
    }
   ],
   "source": [
    "n= int(input(\"write a 1st no: \"))\n",
    "m=int(input(\"write a 2nd no: \"))\n",
    "p=n/m\n",
    "print(p)\n",
    "q=n*m\n",
    "print(q)"
   ]
  },
  {
   "cell_type": "code",
   "execution_count": 3,
   "id": "4e977a11",
   "metadata": {},
   "outputs": [
    {
     "name": "stdout",
     "output_type": "stream",
     "text": [
      "Ener a first no-96\n",
      "Enter a second no-0\n",
      "b should not be zero\n"
     ]
    }
   ],
   "source": [
    "#Exception handling vis try except keyward\n",
    "a= int(input(\"Ener a first no-\"))\n",
    "b= int(input(\"Enter a second no-\"))\n",
    "try:\n",
    "    c=a/b\n",
    "    print(c)\n",
    "except:\n",
    "    print(\"b should not be zero\")"
   ]
  },
  {
   "cell_type": "code",
   "execution_count": 1,
   "id": "cae6b334",
   "metadata": {},
   "outputs": [
    {
     "ename": "SyntaxError",
     "evalue": "invalid syntax (1024316473.py, line 8)",
     "output_type": "error",
     "traceback": [
      "\u001b[1;36m  Input \u001b[1;32mIn [1]\u001b[1;36m\u001b[0m\n\u001b[1;33m    except:\u001b[0m\n\u001b[1;37m    ^\u001b[0m\n\u001b[1;31mSyntaxError\u001b[0m\u001b[1;31m:\u001b[0m invalid syntax\n"
     ]
    }
   ],
   "source": [
    "#Exception can not handle via try except keyward in case syntactical error\n",
    "\n",
    "a= int(input(\"Ener a first no-\"))\n",
    "b= int(input(\"Enter a second no-\"))\n",
    "try:\n",
    "    c=a/b\n",
    "    print(c\n",
    "    \n",
    "except:\n",
    "    print(\"b should not be zero\")"
   ]
  },
  {
   "cell_type": "markdown",
   "id": "25087d8c",
   "metadata": {},
   "source": [
    "Write a program to ask thr user to input two integer and calcualte and print thire division make sure your program behaves as follows:\n",
    "1-if user enters the non entegers value then ask to enter only integers\n",
    "2-if denominator is zero then ask to enter the non zero denominator\n",
    "3-repeat the process until correct outputis given\n",
    "4-only if the inputs are correct then display their division and terminate the code\n"
   ]
  },
  {
   "cell_type": "code",
   "execution_count": 2,
   "id": "d89670b1",
   "metadata": {},
   "outputs": [
    {
     "name": "stdout",
     "output_type": "stream",
     "text": [
      "Ener a first no-0.589\n",
      "Enter only integers \n",
      "Ener a first no-56\n",
      "Enter a second no-21\n",
      "2.6666666666666665\n"
     ]
    }
   ],
   "source": [
    "# 1.\n",
    "\n",
    "while True:\n",
    "    try:\n",
    "        a= int(input(\"Ener a first no-\"))\n",
    "        b= int(input(\"Enter a second no-\"))\n",
    "        c=a/b\n",
    "        print(c)\n",
    "        break\n",
    "    except ZeroDivisionError:\n",
    "        print(\"Enter a non zero denominator\")\n",
    "    except ValueError:\n",
    "        print(\"Enter only integers \")\n",
    "        \n",
    "    "
   ]
  },
  {
   "cell_type": "code",
   "execution_count": 3,
   "id": "29ee245f",
   "metadata": {},
   "outputs": [
    {
     "name": "stdout",
     "output_type": "stream",
     "text": [
      "Ener a first no-56\n",
      "Enter a second no-0\n",
      "Enter a non zero denominator\n",
      "Ener a first no-12\n",
      "Enter a second no-4\n",
      "3.0\n"
     ]
    }
   ],
   "source": [
    "#2 \n",
    "\n",
    "while True:\n",
    "    try:\n",
    "        a= int(input(\"Ener a first no-\"))\n",
    "        b= int(input(\"Enter a second no-\"))\n",
    "        c=a/b\n",
    "        print(c)\n",
    "        break\n",
    "    except ZeroDivisionError:\n",
    "        print(\"Enter a non zero denominator\")\n",
    "    except ValueError:\n",
    "        print(\"Enter only integers \")"
   ]
  },
  {
   "cell_type": "code",
   "execution_count": 2,
   "id": "fed0c697",
   "metadata": {},
   "outputs": [
    {
     "name": "stdout",
     "output_type": "stream",
     "text": [
      "Ener a first no-2\n",
      "Enter a second no-m\n",
      "Input Error: please enter the integer value of b :\n"
     ]
    }
   ],
   "source": [
    "#4\n",
    "a= int(input(\"Ener a first no-\"))\n",
    "b= input(\"Enter a second no-\")\n",
    "error =\" \"\n",
    "if type(a)!=int:\n",
    "    error = \"please enter the integer value of a :\"\n",
    "if type(b)!=int:\n",
    "    error = \"please enter the integer value of b :\"\n",
    "if b==0:\n",
    "    error = \"please enter the non 0 value of b :\"\n",
    "    \n",
    "try:\n",
    "    print(a/b)\n",
    "except:\n",
    "    print(\"Input Error:\", error)"
   ]
  },
  {
   "cell_type": "code",
   "execution_count": 3,
   "id": "8f76f80d",
   "metadata": {},
   "outputs": [
    {
     "name": "stdout",
     "output_type": "stream",
     "text": [
      "Enter first no:2\n",
      "Enter second no:0\n",
      "division by zero\n",
      "Enter first no:2\n",
      "Enter second no:3\n",
      "DIv: 0.6666666666666666\n"
     ]
    }
   ],
   "source": [
    "#3\n",
    "\n",
    "while True:\n",
    "    try:\n",
    "        a=int(input(\"Enter first no:\"))\n",
    "        b=int(input(\"Enter second no:\"))\n",
    "        c= a/b\n",
    "        print(\"DIv:\", c)\n",
    "        break\n",
    "    except ZeroDivisionError as e:\n",
    "        print(e)"
   ]
  },
  {
   "cell_type": "code",
   "execution_count": 4,
   "id": "d1ab3c45",
   "metadata": {},
   "outputs": [
    {
     "name": "stdout",
     "output_type": "stream",
     "text": [
      "Ener a first no-2\n",
      "Enter a second no-m\n"
     ]
    },
    {
     "ename": "TypeError",
     "evalue": "unsupported operand type(s) for /: 'int' and 'str'",
     "output_type": "error",
     "traceback": [
      "\u001b[1;31m---------------------------------------------------------------------------\u001b[0m",
      "\u001b[1;31mTypeError\u001b[0m                                 Traceback (most recent call last)",
      "Input \u001b[1;32mIn [4]\u001b[0m, in \u001b[0;36m<cell line: 2>\u001b[1;34m()\u001b[0m\n\u001b[0;32m      3\u001b[0m a\u001b[38;5;241m=\u001b[39m \u001b[38;5;28mint\u001b[39m(\u001b[38;5;28minput\u001b[39m(\u001b[38;5;124m\"\u001b[39m\u001b[38;5;124mEner a first no-\u001b[39m\u001b[38;5;124m\"\u001b[39m))\n\u001b[0;32m      4\u001b[0m b\u001b[38;5;241m=\u001b[39m \u001b[38;5;28minput\u001b[39m(\u001b[38;5;124m\"\u001b[39m\u001b[38;5;124mEnter a second no-\u001b[39m\u001b[38;5;124m\"\u001b[39m)\n\u001b[1;32m----> 5\u001b[0m c\u001b[38;5;241m=\u001b[39m\u001b[43ma\u001b[49m\u001b[38;5;241;43m/\u001b[39;49m\u001b[43mb\u001b[49m\n\u001b[0;32m      6\u001b[0m \u001b[38;5;28mprint\u001b[39m(c)\n\u001b[0;32m      7\u001b[0m \u001b[38;5;28;01mbreak\u001b[39;00m\n",
      "\u001b[1;31mTypeError\u001b[0m: unsupported operand type(s) for /: 'int' and 'str'"
     ]
    }
   ],
   "source": [
    "while True:\n",
    "    try:\n",
    "        a= int(input(\"Ener a first no-\"))\n",
    "        b= input(\"Enter a second no-\")\n",
    "        c=a/b\n",
    "        print(c)\n",
    "        break\n",
    "    except ZeroDivisionError:\n",
    "        print(\"Enter a non zero denominator\")\n",
    "        break\n",
    "    except ValueError:\n",
    "        print(\"Enter only integers \")\n",
    "        break\n",
    "    \n"
   ]
  },
  {
   "cell_type": "code",
   "execution_count": 5,
   "id": "54c737bc",
   "metadata": {},
   "outputs": [
    {
     "name": "stdout",
     "output_type": "stream",
     "text": [
      "Ener a first no-2\n",
      "Enter a second no-5\n",
      "Input Error please enter the integer value of b :\n"
     ]
    }
   ],
   "source": [
    "a= int(input(\"Ener a first no-\"))\n",
    "b= input(\"Enter a second no-\")\n",
    "error =\" \"\n",
    "if type(a)!=int:\n",
    "    error = \"please enter the integer value of a :\"\n",
    "if type(b)!=int:\n",
    "    error = \"please enter the integer value of b :\"\n",
    "if b==0:\n",
    "    error = \"please enter the non 0 value of b :\"\n",
    "    \n",
    "try:\n",
    "    print(a/b)\n",
    "except:\n",
    "    print(\"Input Error\", error)"
   ]
  },
  {
   "cell_type": "code",
   "execution_count": 6,
   "id": "835d481a",
   "metadata": {},
   "outputs": [
    {
     "name": "stdout",
     "output_type": "stream",
     "text": [
      "Ener a first no-2\n",
      "Enter a second no-0\n",
      "Enter a non zero denominator\n",
      "Ener a first no-3\n",
      "Enter a second no-m\n",
      "Enter only integers \n",
      "Ener a first no-2\n",
      "Enter a second no-6\n",
      "0.3333333333333333\n"
     ]
    }
   ],
   "source": [
    "while True:\n",
    "    try:\n",
    "        a= int(input(\"Ener a first no-\"))\n",
    "        b= int(input(\"Enter a second no-\"))\n",
    "        c=a/b\n",
    "        print(c)\n",
    "        break\n",
    "    except ZeroDivisionError:\n",
    "        print(\"Enter a non zero denominator\")\n",
    "    except ValueError:\n",
    "        print(\"Enter only integers \")\n",
    "        "
   ]
  },
  {
   "cell_type": "code",
   "execution_count": 8,
   "id": "5dc7d771",
   "metadata": {},
   "outputs": [
    {
     "name": "stdout",
     "output_type": "stream",
     "text": [
      "Enter first no:2\n",
      "Enter second no:0\n",
      "division by zero\n",
      "Enter first no:5\n",
      "Enter second no:2\n",
      "DIv: 2.5\n"
     ]
    }
   ],
   "source": [
    "while True:\n",
    "    try:\n",
    "        a=int(input(\"Enter first no:\"))\n",
    "        b=int(input(\"Enter second no:\"))\n",
    "        c= a/b\n",
    "        print(\"DIv:\", c)\n",
    "        break\n",
    "    except ZeroDivisionError as e:\n",
    "        print(e)"
   ]
  },
  {
   "cell_type": "code",
   "execution_count": null,
   "id": "32f2b29a",
   "metadata": {},
   "outputs": [],
   "source": [
    "import sys\n",
    "while True:\n",
    "    try:\n",
    "        a=int(input(\"Enter first no:\"))\n",
    "        b=int(input(\"Enter second no:\"))\n",
    "        c= a/b\n",
    "        print(\"DIv:\", c)\n",
    "    \n",
    "    except:\n",
    "        print(sys.exc_info())"
   ]
  },
  {
   "cell_type": "code",
   "execution_count": null,
   "id": "1a707226",
   "metadata": {},
   "outputs": [],
   "source": [
    "import sys\n",
    "while True:\n",
    "    try:\n",
    "        a=int(input(\"Enter first no:\"))\n",
    "        b=int(input(\"Enter second no:\"))\n",
    "        c= a/b\n",
    "        print(\"DIv:\", c)\n",
    "    \n",
    "    except:\n",
    "        print(sys.exc_info())"
   ]
  },
  {
   "cell_type": "code",
   "execution_count": null,
   "id": "abf50dc8",
   "metadata": {},
   "outputs": [],
   "source": [
    "# raise exception\n",
    "# custom line"
   ]
  },
  {
   "cell_type": "code",
   "execution_count": 7,
   "id": "749e9963",
   "metadata": {},
   "outputs": [
    {
     "name": "stdout",
     "output_type": "stream",
     "text": [
      "Enter first no:2\n",
      "Enter second no:0\n",
      "Please enter non zero denominator\n",
      "Enter first no:2\n",
      "Enter second no:n\n",
      "pleae enter the integers only\n",
      "Enter first no:2\n",
      "Enter second no:-50\n",
      "negative no not allowed\n",
      "Enter first no:2\n",
      "Enter second no:9\n",
      "DIv: 0.2222222222222222\n"
     ]
    }
   ],
   "source": [
    "\n",
    "while True:\n",
    "    try:\n",
    "        a=int(input(\"Enter first no:\"))\n",
    "        b=int(input(\"Enter second no:\"))\n",
    "        if a<0 or b <0:\n",
    "            raise Exception(\"negative no not allowed\")\n",
    "        c= a/b\n",
    "        print(\"DIv:\", c)\n",
    "        break\n",
    "    except ValueError:\n",
    "        print(\"pleae enter the integers only\")\n",
    "    except ZeroDivisionError:\n",
    "        print(\"Please enter non zero denominator\")\n",
    "    except Exception as e:\n",
    "        print(e)"
   ]
  },
  {
   "cell_type": "code",
   "execution_count": 10,
   "id": "1c1164c7",
   "metadata": {},
   "outputs": [
    {
     "name": "stdout",
     "output_type": "stream",
     "text": [
      "Enter first no:2\n",
      "Enter second no:0\n",
      "Please enter non zero denominator\n",
      "Enter first no:2\n",
      "Enter second no:m\n",
      "pleae enter the integers only\n",
      "Enter first no:2\n",
      "Enter second no:-2\n",
      "name 'NegativeException' is not defined\n",
      "Enter first no:2\n",
      "Enter second no:6\n",
      "DIv: 0.3333333333333333\n"
     ]
    }
   ],
   "source": [
    "#custom Exception\n",
    "while True:\n",
    "    try:\n",
    "        a=int(input(\"Enter first no:\"))\n",
    "        b=int(input(\"Enter second no:\"))\n",
    "        if a<0 or b <0:\n",
    "            raise NegativeException(\"negative no not allowed\")          #custom Exception\n",
    "        c= a/b\n",
    "        print(\"DIv:\", c)\n",
    "        break\n",
    "    except ValueError:\n",
    "        print(\"pleae enter the integers only\")\n",
    "    except ZeroDivisionError:\n",
    "        print(\"Please enter non zero denominator\")\n",
    "    except Exception as e:\n",
    "        print(e)"
   ]
  },
  {
   "cell_type": "code",
   "execution_count": 11,
   "id": "d44e6ac3",
   "metadata": {},
   "outputs": [
    {
     "name": "stdout",
     "output_type": "stream",
     "text": [
      "Enter first no:2\n",
      "Enter second no:4\n",
      "DIv: 0.5\n",
      "rekha\n",
      "Sagar\n"
     ]
    }
   ],
   "source": [
    "try:\n",
    "    a=int(input(\"Enter first no:\"))\n",
    "    b=int(input(\"Enter second no:\"))\n",
    "    c= a/b\n",
    "    print(\"DIv:\", c)\n",
    "except:\n",
    "    print(\"dont use zero in denominator\")\n",
    "finally:\n",
    "    print(\"rekha\")\n",
    "    print(\"Sagar\")"
   ]
  },
  {
   "cell_type": "code",
   "execution_count": null,
   "id": "28391c1d",
   "metadata": {},
   "outputs": [],
   "source": [
    "#FINALLY BLOCK"
   ]
  },
  {
   "cell_type": "code",
   "execution_count": 4,
   "id": "b3c15bc6",
   "metadata": {},
   "outputs": [],
   "source": [
    "class person:\n",
    "    def __init__(self, a , b , c):\n",
    "        self.a = a\n",
    "        self.b = b\n",
    "        self.c = c\n",
    "    def __str__(self):\n",
    "        return \"my name is Rekha\""
   ]
  },
  {
   "cell_type": "code",
   "execution_count": 5,
   "id": "116d9294",
   "metadata": {},
   "outputs": [],
   "source": [
    "p = person(3 , 4 , 5)"
   ]
  },
  {
   "cell_type": "code",
   "execution_count": 6,
   "id": "282eebba",
   "metadata": {},
   "outputs": [
    {
     "name": "stdout",
     "output_type": "stream",
     "text": [
      "my name is Rekha\n"
     ]
    }
   ],
   "source": [
    "print(p)"
   ]
  },
  {
   "cell_type": "code",
   "execution_count": 7,
   "id": "fbf70e47",
   "metadata": {},
   "outputs": [],
   "source": [
    "class person:\n",
    "    def __init__(self, a , b , c):\n",
    "        self.a = a\n",
    "        self.b = b\n",
    "        self.c = c\n",
    "    def __str__(self):\n",
    "        return \"my name is Rekha\"\n",
    "\n",
    "class student(person):\n",
    "    def __init__(self, student_id, *args):\n",
    "        super(student, self).__init__(*args)\n",
    "        self.student_id = student_id\n",
    "    def __str__(self):\n",
    "        return super(student, self).__str__()  +  \"I am a student\""
   ]
  },
  {
   "cell_type": "code",
   "execution_count": 8,
   "id": "09ddb8ce",
   "metadata": {},
   "outputs": [],
   "source": [
    "s = student(4,5,5,6)"
   ]
  },
  {
   "cell_type": "code",
   "execution_count": 9,
   "id": "398a7701",
   "metadata": {},
   "outputs": [
    {
     "data": {
      "text/plain": [
       "<__main__.student at 0x223059ff400>"
      ]
     },
     "execution_count": 9,
     "metadata": {},
     "output_type": "execute_result"
    }
   ],
   "source": [
    "s"
   ]
  },
  {
   "cell_type": "code",
   "execution_count": 10,
   "id": "d79cbcac",
   "metadata": {},
   "outputs": [
    {
     "name": "stdout",
     "output_type": "stream",
     "text": [
      "my name is RekhaI am a student\n"
     ]
    }
   ],
   "source": [
    "print(s)"
   ]
  },
  {
   "cell_type": "code",
   "execution_count": 11,
   "id": "4f5d6224",
   "metadata": {},
   "outputs": [],
   "source": [
    "class tyre():\n",
    "    def __init__(self, branch, biase, opt_pre):\n",
    "        self.branch = branch\n",
    "        self.biase = biase\n",
    "        self.opt_pre = opt_pre\n",
    "        \n",
    "    def __str__(self):\n",
    "        return str(self.branch) + \" \" + str(self.biase) +\" \" + str(self.opt_pre)\n",
    "        "
   ]
  },
  {
   "cell_type": "code",
   "execution_count": 12,
   "id": "f913c7b3",
   "metadata": {},
   "outputs": [],
   "source": [
    "t = tyre(\"gjhg\", 25, 56)"
   ]
  },
  {
   "cell_type": "code",
   "execution_count": 13,
   "id": "bad4f84f",
   "metadata": {},
   "outputs": [
    {
     "name": "stdout",
     "output_type": "stream",
     "text": [
      "gjhg 25 56\n"
     ]
    }
   ],
   "source": [
    "print(t)"
   ]
  },
  {
   "cell_type": "code",
   "execution_count": 14,
   "id": "2ca2fbf8",
   "metadata": {},
   "outputs": [],
   "source": [
    "class engine():\n",
    "    def __init__(self, fuel_type, noise_level):\n",
    "        self.fuel_type = fuel_type\n",
    "        self.noise_level = noise_level\n",
    "    def __str__(self):\n",
    "        return str(self.fuel_type) + \" \" + str(self.noise_level)"
   ]
  },
  {
   "cell_type": "code",
   "execution_count": 15,
   "id": "bd398f84",
   "metadata": {},
   "outputs": [],
   "source": [
    "e = engine(\"iuy\", 86)"
   ]
  },
  {
   "cell_type": "code",
   "execution_count": 16,
   "id": "0f898638",
   "metadata": {},
   "outputs": [
    {
     "name": "stdout",
     "output_type": "stream",
     "text": [
      "iuy 86\n"
     ]
    }
   ],
   "source": [
    "print(e)"
   ]
  },
  {
   "cell_type": "code",
   "execution_count": 17,
   "id": "d0edec56",
   "metadata": {},
   "outputs": [],
   "source": [
    "class body():\n",
    "    def __init__(self, body_size):\n",
    "        self.body_size = body_size\n",
    "        \n",
    "    def __str__(self):\n",
    "        return \" this is the body size - \" + \" \" + str(self.body_size)            "
   ]
  },
  {
   "cell_type": "code",
   "execution_count": 18,
   "id": "ef021252",
   "metadata": {},
   "outputs": [],
   "source": [
    "b = body(\"small\")"
   ]
  },
  {
   "cell_type": "code",
   "execution_count": 19,
   "id": "bc6d4f08",
   "metadata": {},
   "outputs": [
    {
     "name": "stdout",
     "output_type": "stream",
     "text": [
      " this is the body size -  small\n"
     ]
    }
   ],
   "source": [
    "print(b)"
   ]
  },
  {
   "cell_type": "code",
   "execution_count": 20,
   "id": "d0806884",
   "metadata": {},
   "outputs": [],
   "source": [
    "class car():\n",
    "    def __init__(self, ai, ei, ci):\n",
    "        self.ai = ai\n",
    "        self.ei = ei\n",
    "        self.ci = ci\n",
    "    def __str__(self):\n",
    "        return str(self.ai) + \" \"+ str(self.ei) +\" \"+ str(self.ci)\n",
    "    "
   ]
  },
  {
   "cell_type": "code",
   "execution_count": 21,
   "id": "21842c12",
   "metadata": {},
   "outputs": [],
   "source": [
    "def add_x(a,b):\n",
    "    return a+b"
   ]
  },
  {
   "cell_type": "code",
   "execution_count": 22,
   "id": "703494bf",
   "metadata": {},
   "outputs": [
    {
     "data": {
      "text/plain": [
       "'lineocean'"
      ]
     },
     "execution_count": 22,
     "metadata": {},
     "output_type": "execute_result"
    }
   ],
   "source": [
    "add_x(\"line\", \"ocean\")"
   ]
  },
  {
   "cell_type": "code",
   "execution_count": 23,
   "id": "4954a3c3",
   "metadata": {},
   "outputs": [
    {
     "data": {
      "text/plain": [
       "13"
      ]
     },
     "execution_count": 23,
     "metadata": {},
     "output_type": "execute_result"
    }
   ],
   "source": [
    "add_x(5,8)"
   ]
  },
  {
   "cell_type": "code",
   "execution_count": 24,
   "id": "b4778833",
   "metadata": {},
   "outputs": [],
   "source": [
    "def add_x(a,b):\n",
    "    return a*b"
   ]
  },
  {
   "cell_type": "code",
   "execution_count": 25,
   "id": "d34b6016",
   "metadata": {},
   "outputs": [
    {
     "data": {
      "text/plain": [
       "'oceanoceanoceanoceanocean'"
      ]
     },
     "execution_count": 25,
     "metadata": {},
     "output_type": "execute_result"
    }
   ],
   "source": [
    "add_x(\"ocean\",5)                                          #polymorphism"
   ]
  },
  {
   "cell_type": "code",
   "execution_count": 26,
   "id": "eb43685e",
   "metadata": {},
   "outputs": [
    {
     "data": {
      "text/plain": [
       "[1, 2, 5, 6, 3, 8, 1, 2, 5, 6, 3, 8, 1, 2, 5, 6, 3, 8]"
      ]
     },
     "execution_count": 26,
     "metadata": {},
     "output_type": "execute_result"
    }
   ],
   "source": [
    "add_x([1,2,5,6,3,8], 3)"
   ]
  },
  {
   "cell_type": "code",
   "execution_count": 27,
   "id": "0101ef52",
   "metadata": {},
   "outputs": [
    {
     "name": "stdout",
     "output_type": "stream",
     "text": [
      "Overwriting xyz.txt\n"
     ]
    }
   ],
   "source": [
    "%%writefile xyz.txt\n",
    "my name is rekha"
   ]
  },
  {
   "cell_type": "code",
   "execution_count": 28,
   "id": "8e34bfe4",
   "metadata": {},
   "outputs": [
    {
     "data": {
      "text/plain": [
       "'C:\\\\Users\\\\rekha'"
      ]
     },
     "execution_count": 28,
     "metadata": {},
     "output_type": "execute_result"
    }
   ],
   "source": [
    "pwd()"
   ]
  },
  {
   "cell_type": "code",
   "execution_count": 29,
   "id": "9e531af2",
   "metadata": {},
   "outputs": [],
   "source": [
    "f = open('xyz.txt')"
   ]
  },
  {
   "cell_type": "code",
   "execution_count": 30,
   "id": "2fe6c1a7",
   "metadata": {},
   "outputs": [
    {
     "data": {
      "text/plain": [
       "<_io.TextIOWrapper name='xyz.txt' mode='r' encoding='cp1252'>"
      ]
     },
     "execution_count": 30,
     "metadata": {},
     "output_type": "execute_result"
    }
   ],
   "source": [
    "f"
   ]
  },
  {
   "cell_type": "code",
   "execution_count": 31,
   "id": "9dbbdd47",
   "metadata": {},
   "outputs": [
    {
     "data": {
      "text/plain": [
       "'my name is rekha\\n'"
      ]
     },
     "execution_count": 31,
     "metadata": {},
     "output_type": "execute_result"
    }
   ],
   "source": [
    "f.read()"
   ]
  },
  {
   "cell_type": "code",
   "execution_count": 32,
   "id": "00e1fcb2",
   "metadata": {},
   "outputs": [
    {
     "data": {
      "text/plain": [
       "2"
      ]
     },
     "execution_count": 32,
     "metadata": {},
     "output_type": "execute_result"
    }
   ],
   "source": [
    "f.seek(2)                        #seek()is to read the given pointed data"
   ]
  },
  {
   "cell_type": "code",
   "execution_count": 33,
   "id": "b54e9ddb",
   "metadata": {},
   "outputs": [
    {
     "data": {
      "text/plain": [
       "' name is rekha\\n'"
      ]
     },
     "execution_count": 33,
     "metadata": {},
     "output_type": "execute_result"
    }
   ],
   "source": [
    "f.read()"
   ]
  },
  {
   "cell_type": "code",
   "execution_count": 34,
   "id": "5170a40d",
   "metadata": {},
   "outputs": [
    {
     "data": {
      "text/plain": [
       "21"
      ]
     },
     "execution_count": 34,
     "metadata": {},
     "output_type": "execute_result"
    }
   ],
   "source": [
    "f1 = open('xyz.txt', 'w+')\n",
    "f1.write(\"this is rekha \\n Ocean\")"
   ]
  },
  {
   "cell_type": "code",
   "execution_count": 35,
   "id": "e71b3463",
   "metadata": {},
   "outputs": [
    {
     "data": {
      "text/plain": [
       "''"
      ]
     },
     "execution_count": 35,
     "metadata": {},
     "output_type": "execute_result"
    }
   ],
   "source": [
    "f.read()"
   ]
  },
  {
   "cell_type": "code",
   "execution_count": 36,
   "id": "98c3abda",
   "metadata": {},
   "outputs": [
    {
     "data": {
      "text/plain": [
       "0"
      ]
     },
     "execution_count": 36,
     "metadata": {},
     "output_type": "execute_result"
    }
   ],
   "source": [
    "f1.seek(0)"
   ]
  },
  {
   "cell_type": "code",
   "execution_count": 37,
   "id": "17e07879",
   "metadata": {},
   "outputs": [
    {
     "data": {
      "text/plain": [
       "'this is rekha \\n Ocean'"
      ]
     },
     "execution_count": 37,
     "metadata": {},
     "output_type": "execute_result"
    }
   ],
   "source": [
    "f1.read()"
   ]
  },
  {
   "cell_type": "code",
   "execution_count": 39,
   "id": "daf4768f",
   "metadata": {},
   "outputs": [
    {
     "name": "stdout",
     "output_type": "stream",
     "text": [
      "2\n"
     ]
    },
    {
     "data": {
      "text/plain": [
       "2.5"
      ]
     },
     "execution_count": 39,
     "metadata": {},
     "output_type": "execute_result"
    }
   ],
   "source": [
    "a = int(input())\n",
    "5/a"
   ]
  },
  {
   "cell_type": "code",
   "execution_count": 41,
   "id": "04a6b893",
   "metadata": {},
   "outputs": [
    {
     "name": "stdout",
     "output_type": "stream",
     "text": [
      "5\n"
     ]
    },
    {
     "data": {
      "text/plain": [
       "1.0"
      ]
     },
     "execution_count": 41,
     "metadata": {},
     "output_type": "execute_result"
    }
   ],
   "source": [
    "a = int(input())\n",
    "5/a"
   ]
  },
  {
   "cell_type": "code",
   "execution_count": 42,
   "id": "1fcc8a95",
   "metadata": {},
   "outputs": [
    {
     "data": {
      "text/plain": [
       "16"
      ]
     },
     "execution_count": 42,
     "metadata": {},
     "output_type": "execute_result"
    }
   ],
   "source": [
    "f = open('xyz.txt', 'w')\n",
    "f.write(\"my name is Rekha\")\n",
    "    "
   ]
  },
  {
   "cell_type": "code",
   "execution_count": 47,
   "id": "ced6bc66",
   "metadata": {},
   "outputs": [
    {
     "data": {
      "text/plain": [
       "16"
      ]
     },
     "execution_count": 47,
     "metadata": {},
     "output_type": "execute_result"
    }
   ],
   "source": [
    "f = open('xyz.txt', 'w')\n",
    "f.write(\"my name is Rekha\")"
   ]
  },
  {
   "cell_type": "code",
   "execution_count": 48,
   "id": "7b60dc63",
   "metadata": {},
   "outputs": [
    {
     "name": "stdout",
     "output_type": "stream",
     "text": [
      "print this if above code is valid\n"
     ]
    },
    {
     "data": {
      "text/plain": [
       "11"
      ]
     },
     "execution_count": 48,
     "metadata": {},
     "output_type": "execute_result"
    }
   ],
   "source": [
    "f = open('xyz.txt', 'w')\n",
    "f.write(\"my name is Rekha\")\n",
    "print(\"print this if above code is valid\")\n",
    "5+6"
   ]
  },
  {
   "cell_type": "code",
   "execution_count": 50,
   "id": "e84e1c6f",
   "metadata": {},
   "outputs": [
    {
     "name": "stdout",
     "output_type": "stream",
     "text": [
      "print this if above code is valid\n"
     ]
    },
    {
     "data": {
      "text/plain": [
       "11"
      ]
     },
     "execution_count": 50,
     "metadata": {},
     "output_type": "execute_result"
    }
   ],
   "source": [
    "f = open('xyz.txt', 'w')\n",
    "f.write(\"my name is Rekha\")\n",
    "print(\"print this if above code is valid\")\n",
    "5+6"
   ]
  },
  {
   "cell_type": "code",
   "execution_count": 51,
   "id": "66175cb9",
   "metadata": {},
   "outputs": [
    {
     "name": "stdout",
     "output_type": "stream",
     "text": [
      "my code is completely fine\n"
     ]
    }
   ],
   "source": [
    "try:                                             #if try block is failed then only except block will execute;\n",
    "    f = open('xyz.txt', 'w')\n",
    "    f.write(\"iuyhoiuyuyguioui\")\n",
    "    print(\"my code is completely fine\")\n",
    "except:\n",
    "    print(\"my code is valid\")"
   ]
  },
  {
   "cell_type": "code",
   "execution_count": 52,
   "id": "aed3a763",
   "metadata": {},
   "outputs": [
    {
     "name": "stdout",
     "output_type": "stream",
     "text": [
      "my code is valid\n"
     ]
    }
   ],
   "source": [
    "try:                                             #try block is failed so except block executed; except block also as supportive block\n",
    "    f = open('xyz.txt', 'r')\n",
    "    f.write(\"iuyhoiuyuyguioui\")\n",
    "    print(\"my code is completely fine\")\n",
    "except:\n",
    "    print(\"my code is valid\")"
   ]
  },
  {
   "cell_type": "code",
   "execution_count": 54,
   "id": "e9846be1",
   "metadata": {},
   "outputs": [
    {
     "name": "stdout",
     "output_type": "stream",
     "text": [
      "my code is completely fine\n"
     ]
    }
   ],
   "source": [
    "f = open('xyz.txt', 'w')\n",
    "f.write(\"iuyhoiuyuyguioui\")\n",
    "print(\"my code is completely fine\")"
   ]
  },
  {
   "cell_type": "code",
   "execution_count": 55,
   "id": "07056bd9",
   "metadata": {},
   "outputs": [
    {
     "name": "stdout",
     "output_type": "stream",
     "text": [
      "my code is completely fine\n"
     ]
    }
   ],
   "source": [
    "try:                                             #if try block is failed then only except block will execute;\n",
    "    f = open('xyz.txt', 'w')\n",
    "    f.write(\"iuyhoiuyuyguioui\")\n",
    "    try:\n",
    "        print(\"my code is completely fine\")\n",
    "    \n",
    "    except:\n",
    "        print(\"this code has failed\")\n",
    "        \n",
    "except:\n",
    "    print(\"my code is valid\")"
   ]
  },
  {
   "cell_type": "code",
   "execution_count": 56,
   "id": "c3ed9a66",
   "metadata": {},
   "outputs": [
    {
     "name": "stdout",
     "output_type": "stream",
     "text": [
      "this code has failed\n"
     ]
    }
   ],
   "source": [
    "try:                                             #if try block is failed then only except block will execute;\n",
    "    f = open('xyz.txt', 'w')\n",
    "    f.write(\"iuyhoiuyuyguioui\")\n",
    "except:\n",
    "        print(\"my code is completely fine\")\n",
    "    \n",
    "try:\n",
    "        print(\"this code has failed\")\n",
    "        \n",
    "except:\n",
    "    print(\"my code is valid\")"
   ]
  },
  {
   "cell_type": "code",
   "execution_count": 57,
   "id": "492e08a2",
   "metadata": {},
   "outputs": [
    {
     "name": "stdout",
     "output_type": "stream",
     "text": [
      "my code is valid\n"
     ]
    }
   ],
   "source": [
    "try:                                             #if try block is failed then only except block will execute;\n",
    "    f = open('xyz.txt', 'r')\n",
    "    f.write(\"iuyhoiuyuyguioui\")\n",
    "    try:\n",
    "        print(\"my code is completely fine\")\n",
    "    \n",
    "    except:\n",
    "        print(\"this code has failed\")\n",
    "        \n",
    "except:\n",
    "    print(\"my code is valid\")"
   ]
  },
  {
   "cell_type": "code",
   "execution_count": 58,
   "id": "4ed2627b",
   "metadata": {},
   "outputs": [
    {
     "name": "stdout",
     "output_type": "stream",
     "text": [
      "my code is completely fine\n",
      "this code has failed\n"
     ]
    }
   ],
   "source": [
    "try:                                             #if try block is failed then only except block will execute;\n",
    "    f = open('xyz.txt', 'r')\n",
    "    f.write(\"iuyhoiuyuyguioui\")\n",
    "except:\n",
    "        print(\"my code is completely fine\")\n",
    "    \n",
    "try:\n",
    "        print(\"this code has failed\")\n",
    "        \n",
    "except:\n",
    "    print(\"my code is valid\")"
   ]
  },
  {
   "cell_type": "code",
   "execution_count": 59,
   "id": "744475f5",
   "metadata": {},
   "outputs": [
    {
     "name": "stdout",
     "output_type": "stream",
     "text": [
      "0\n",
      "this is an issue with code\n",
      "this is the line at the end \n"
     ]
    }
   ],
   "source": [
    "try:\n",
    "    a = int(input())\n",
    "    b = 7/a\n",
    "    print(b)\n",
    "except:\n",
    "    print('this is an issue with code')\n",
    "    print(\"this is the line at the end \")\n",
    "    "
   ]
  },
  {
   "cell_type": "code",
   "execution_count": 61,
   "id": "b9ee969f",
   "metadata": {},
   "outputs": [
    {
     "name": "stdout",
     "output_type": "stream",
     "text": [
      "0\n",
      "division by zero\n",
      "this is the line at the end \n"
     ]
    }
   ],
   "source": [
    "try:\n",
    "    a = int(input())\n",
    "    b = 7/a\n",
    "    print(b)\n",
    "    \n",
    "except Exception as e:                    #here is Exception for printing the system massage directly\n",
    "    print(e)\n",
    "    print(\"this is the line at the end \")\n"
   ]
  },
  {
   "cell_type": "code",
   "execution_count": 62,
   "id": "c4c56cf3",
   "metadata": {},
   "outputs": [
    {
     "name": "stdout",
     "output_type": "stream",
     "text": [
      "0\n",
      "there is some issue with the code\n"
     ]
    }
   ],
   "source": [
    "try:\n",
    "    a = int(input())\n",
    "    b = 10/a\n",
    "    print(\"this is working fine\")\n",
    "except:\n",
    "    print(\"there is some issue with the code\")\n",
    "else:                                              #else block only executed if try block is valid\n",
    "    print(\"it has executed the try block and it is working fine\")\n",
    "    "
   ]
  },
  {
   "cell_type": "code",
   "execution_count": 63,
   "id": "ea47ce5e",
   "metadata": {},
   "outputs": [
    {
     "name": "stdout",
     "output_type": "stream",
     "text": [
      "2\n",
      "this is working fine\n",
      "it has executed the try block and it is working fine\n"
     ]
    }
   ],
   "source": [
    "try:\n",
    "    a = int(input())\n",
    "    b = 10/a\n",
    "    print(\"this is working fine\")\n",
    "except:\n",
    "    print(\"there is some issue with the code\")\n",
    "else:\n",
    "    print(\"it has executed the try block and it is working fine\")\n",
    "    "
   ]
  },
  {
   "cell_type": "code",
   "execution_count": 64,
   "id": "d6178f02",
   "metadata": {},
   "outputs": [
    {
     "name": "stdout",
     "output_type": "stream",
     "text": [
      "0\n",
      "there is some issue with the code\n",
      "this block should execute no matter what\n"
     ]
    }
   ],
   "source": [
    "try:\n",
    "    a = int(input())\n",
    "    b = 10/a\n",
    "    print(\"this is working fine\")\n",
    "except:\n",
    "    print(\"there is some issue with the code\")\n",
    "else:\n",
    "    print(\"it has executed the try block and it is working fine\")\n",
    "finally:\n",
    "    print(\"this block should execute no matter what\")"
   ]
  },
  {
   "cell_type": "code",
   "execution_count": 65,
   "id": "52f811db",
   "metadata": {},
   "outputs": [
    {
     "name": "stdout",
     "output_type": "stream",
     "text": [
      "0\n",
      "there is some issue with the code\n",
      "this block should execute no matter what\n"
     ]
    }
   ],
   "source": [
    "try:\n",
    "    a = int(input())\n",
    "    b = 10/a\n",
    "    print(\"this is working fine\")\n",
    "except:\n",
    "    print(\"there is some issue with the code\")\n",
    "else:\n",
    "    print(\"it has executed the try block and it is working fine\")\n",
    "finally:                                                               #finally is the valid for any condition \n",
    "    print(\"this block should execute no matter what\")"
   ]
  },
  {
   "cell_type": "code",
   "execution_count": 66,
   "id": "1d6bafaf",
   "metadata": {},
   "outputs": [
    {
     "name": "stdout",
     "output_type": "stream",
     "text": [
      "5\n",
      "this is working fine\n",
      "it has executed the try block and it is working fine\n",
      "this block should execute no matter what\n"
     ]
    }
   ],
   "source": [
    "try:\n",
    "    a = int(input())\n",
    "    b = 10/a\n",
    "    print(\"this is working fine\")\n",
    "except:\n",
    "    print(\"there is some issue with the code\")\n",
    "else:\n",
    "    print(\"it has executed the try block and it is working fine\")\n",
    "finally:                                                               \n",
    "    print(\"this block should execute no matter what\")"
   ]
  },
  {
   "cell_type": "code",
   "execution_count": null,
   "id": "b3065a56",
   "metadata": {},
   "outputs": [],
   "source": []
  },
  {
   "cell_type": "code",
   "execution_count": null,
   "id": "8e9ad88b",
   "metadata": {},
   "outputs": [],
   "source": []
  }
 ],
 "metadata": {
  "kernelspec": {
   "display_name": "Python 3 (ipykernel)",
   "language": "python",
   "name": "python3"
  },
  "language_info": {
   "codemirror_mode": {
    "name": "ipython",
    "version": 3
   },
   "file_extension": ".py",
   "mimetype": "text/x-python",
   "name": "python",
   "nbconvert_exporter": "python",
   "pygments_lexer": "ipython3",
   "version": "3.9.12"
  }
 },
 "nbformat": 4,
 "nbformat_minor": 5
}
