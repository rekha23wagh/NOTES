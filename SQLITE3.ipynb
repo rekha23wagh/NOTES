{
 "cells": [
  {
   "cell_type": "code",
   "execution_count": 1,
   "id": "1dbc2aab",
   "metadata": {},
   "outputs": [],
   "source": [
    "import sqlite3"
   ]
  },
  {
   "cell_type": "code",
   "execution_count": 25,
   "id": "6dbc954f",
   "metadata": {},
   "outputs": [],
   "source": [
    "c = sqlite3.connect(\"xyz1\")"
   ]
  },
  {
   "cell_type": "code",
   "execution_count": 26,
   "id": "c453d72b",
   "metadata": {},
   "outputs": [
    {
     "data": {
      "text/plain": [
       "<sqlite3.Cursor at 0x262b1040730>"
      ]
     },
     "execution_count": 26,
     "metadata": {},
     "output_type": "execute_result"
    }
   ],
   "source": [
    "c.execute(\"drop table if exists abc\")"
   ]
  },
  {
   "cell_type": "code",
   "execution_count": 27,
   "id": "b315445d",
   "metadata": {},
   "outputs": [
    {
     "data": {
      "text/plain": [
       "<sqlite3.Cursor at 0x262b10401f0>"
      ]
     },
     "execution_count": 27,
     "metadata": {},
     "output_type": "execute_result"
    }
   ],
   "source": [
    "c.execute(\"create table abc(Id int, name text, Score int)\")"
   ]
  },
  {
   "cell_type": "code",
   "execution_count": 28,
   "id": "317dc0b5",
   "metadata": {},
   "outputs": [
    {
     "data": {
      "text/plain": [
       "'C:\\\\Users\\\\rekha'"
      ]
     },
     "execution_count": 28,
     "metadata": {},
     "output_type": "execute_result"
    }
   ],
   "source": [
    "pwd()"
   ]
  },
  {
   "cell_type": "code",
   "execution_count": 31,
   "id": "9efddb0c",
   "metadata": {},
   "outputs": [
    {
     "data": {
      "text/plain": [
       "<sqlite3.Cursor at 0x262b1040c70>"
      ]
     },
     "execution_count": 31,
     "metadata": {},
     "output_type": "execute_result"
    }
   ],
   "source": [
    "c.execute(\"insert into abc(id, name, score) Values (656,'Rekha',120)\")\n",
    "c.execute(\"insert into abc(id, name, score) Values (657,'Sagar',105)\")\n",
    "c.execute(\"insert into abc(id, name, score) Values (658,'Sonu',150)\")\n",
    "c.execute(\"insert into abc(id, name, score) Values (659,'Ocean',200)\")\n",
    "c.execute(\"insert into abc(id, name, score) Values (650,'Samar',300)\")\n",
    "c.execute(\"insert into abc(id, name, score) Values (651,'Poonam',600)\")"
   ]
  },
  {
   "cell_type": "code",
   "execution_count": 32,
   "id": "2e83d4d4",
   "metadata": {},
   "outputs": [],
   "source": [
    "c.commit()"
   ]
  },
  {
   "cell_type": "code",
   "execution_count": 33,
   "id": "1d955daa",
   "metadata": {},
   "outputs": [
    {
     "data": {
      "text/plain": [
       "<sqlite3.Cursor at 0x262b1060d50>"
      ]
     },
     "execution_count": 33,
     "metadata": {},
     "output_type": "execute_result"
    }
   ],
   "source": [
    "c.execute(\"select*from abc\")"
   ]
  },
  {
   "cell_type": "code",
   "execution_count": 37,
   "id": "008073e5",
   "metadata": {},
   "outputs": [
    {
     "data": {
      "text/plain": [
       "[(656, 'Rekha', 100),\n",
       " (656, 'Rekha', 120),\n",
       " (657, 'Sagar', 105),\n",
       " (658, 'Sonu', 150),\n",
       " (659, 'Ocean', 200),\n",
       " (650, 'Samar', 300),\n",
       " (651, 'Poonam', 600)]"
      ]
     },
     "execution_count": 37,
     "metadata": {},
     "output_type": "execute_result"
    }
   ],
   "source": [
    "list(c.execute(\"select*from abc\"))"
   ]
  },
  {
   "cell_type": "code",
   "execution_count": 35,
   "id": "88224ec7",
   "metadata": {},
   "outputs": [
    {
     "data": {
      "text/plain": [
       "(656, 'Rekha', 100)"
      ]
     },
     "execution_count": 35,
     "metadata": {},
     "output_type": "execute_result"
    }
   ],
   "source": [
    "list(c.execute(\"select*from abc\"))[0]"
   ]
  },
  {
   "cell_type": "code",
   "execution_count": 36,
   "id": "38d6e3e6",
   "metadata": {},
   "outputs": [
    {
     "data": {
      "text/plain": [
       "tuple"
      ]
     },
     "execution_count": 36,
     "metadata": {},
     "output_type": "execute_result"
    }
   ],
   "source": [
    "type(list(c.execute(\"select*from abc\"))[0])"
   ]
  },
  {
   "cell_type": "code",
   "execution_count": 38,
   "id": "90e733b1",
   "metadata": {},
   "outputs": [
    {
     "name": "stdout",
     "output_type": "stream",
     "text": [
      "(656, 'Rekha', 100)\n",
      "(656, 'Rekha', 120)\n",
      "(657, 'Sagar', 105)\n",
      "(658, 'Sonu', 150)\n",
      "(659, 'Ocean', 200)\n",
      "(650, 'Samar', 300)\n",
      "(651, 'Poonam', 600)\n"
     ]
    }
   ],
   "source": [
    "for i in c.execute(\"select*from abc\"):\n",
    "    print(i)"
   ]
  },
  {
   "cell_type": "code",
   "execution_count": 39,
   "id": "68d605b7",
   "metadata": {},
   "outputs": [
    {
     "name": "stdout",
     "output_type": "stream",
     "text": [
      "(656, 'Rekha', 100)\n",
      "(657, 'Sagar', 105)\n",
      "(656, 'Rekha', 120)\n",
      "(658, 'Sonu', 150)\n",
      "(659, 'Ocean', 200)\n",
      "(650, 'Samar', 300)\n",
      "(651, 'Poonam', 600)\n"
     ]
    }
   ],
   "source": [
    "for i in c.execute(\"select*from abc order by score\"):\n",
    "    print(i)\n"
   ]
  },
  {
   "cell_type": "code",
   "execution_count": 43,
   "id": "d3262480",
   "metadata": {},
   "outputs": [
    {
     "name": "stdout",
     "output_type": "stream",
     "text": [
      "(656, 'Rekha', 100)\n",
      "(656, 'Rekha', 120)\n"
     ]
    }
   ],
   "source": [
    "for i in c.execute(\"select*from abc where name = 'Rekha'\"):\n",
    "    print(i)"
   ]
  },
  {
   "cell_type": "code",
   "execution_count": 44,
   "id": "1d9c9298",
   "metadata": {},
   "outputs": [
    {
     "name": "stdout",
     "output_type": "stream",
     "text": [
      "(656, 'Rekha')\n",
      "(656, 'Rekha')\n"
     ]
    }
   ],
   "source": [
    "for i in c.execute(\"select id,name from abc where name = 'Rekha'\"):\n",
    "    print(i)"
   ]
  },
  {
   "cell_type": "code",
   "execution_count": null,
   "id": "60dbc847",
   "metadata": {},
   "outputs": [],
   "source": []
  }
 ],
 "metadata": {
  "kernelspec": {
   "display_name": "Python 3 (ipykernel)",
   "language": "python",
   "name": "python3"
  },
  "language_info": {
   "codemirror_mode": {
    "name": "ipython",
    "version": 3
   },
   "file_extension": ".py",
   "mimetype": "text/x-python",
   "name": "python",
   "nbconvert_exporter": "python",
   "pygments_lexer": "ipython3",
   "version": "3.9.12"
  }
 },
 "nbformat": 4,
 "nbformat_minor": 5
}
