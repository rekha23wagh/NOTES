{
 "cells": [
  {
   "cell_type": "code",
   "execution_count": 2,
   "id": "2a0efff9",
   "metadata": {},
   "outputs": [
    {
     "data": {
      "text/plain": [
       "'DEBUG\\nINFO\\nWARNING\\nERROR\\nCRITICAL'"
      ]
     },
     "execution_count": 2,
     "metadata": {},
     "output_type": "execute_result"
    }
   ],
   "source": [
    "\"\"\"DEBUG\n",
    "INFO\n",
    "WARNING\n",
    "ERROR\n",
    "CRITICAL\"\"\""
   ]
  },
  {
   "cell_type": "code",
   "execution_count": 3,
   "id": "925cabf0",
   "metadata": {},
   "outputs": [],
   "source": [
    "import logging as lg"
   ]
  },
  {
   "cell_type": "code",
   "execution_count": 4,
   "id": "d6d3f415",
   "metadata": {},
   "outputs": [],
   "source": [
    "import os           #directory creation"
   ]
  },
  {
   "cell_type": "code",
   "execution_count": 5,
   "id": "ff9b3d70",
   "metadata": {},
   "outputs": [],
   "source": [
    "os.mkdir(\"loggeri\")            #directory created by name \"logging\""
   ]
  },
  {
   "cell_type": "code",
   "execution_count": 6,
   "id": "64389ea5",
   "metadata": {},
   "outputs": [],
   "source": [
    "os.chdir(os.getcwd() + \"/\" + \"logging\")                   #chnage directory---- cwd=>current working directory"
   ]
  },
  {
   "cell_type": "code",
   "execution_count": 7,
   "id": "a24b751e",
   "metadata": {},
   "outputs": [
    {
     "data": {
      "text/plain": [
       "'C:\\\\Users\\\\rekha\\\\logging'"
      ]
     },
     "execution_count": 7,
     "metadata": {},
     "output_type": "execute_result"
    }
   ],
   "source": [
    "pwd()"
   ]
  },
  {
   "cell_type": "code",
   "execution_count": 8,
   "id": "3354cb16",
   "metadata": {},
   "outputs": [],
   "source": [
    "lg.basicConfig(filename = \"C:\\\\Users\\\\rekha\\\\logging\\\\test123.log\" , level =lg.INFO)"
   ]
  },
  {
   "cell_type": "code",
   "execution_count": 9,
   "id": "0ded0c19",
   "metadata": {},
   "outputs": [],
   "source": [
    "lg.info(\"this is my first program\")"
   ]
  },
  {
   "cell_type": "code",
   "execution_count": 10,
   "id": "fb858d08",
   "metadata": {},
   "outputs": [],
   "source": [
    "lg.warning(\"this the warning\")"
   ]
  },
  {
   "cell_type": "code",
   "execution_count": 11,
   "id": "ee88c2fe",
   "metadata": {},
   "outputs": [],
   "source": [
    "lg.error(\"this is the error\")"
   ]
  },
  {
   "cell_type": "code",
   "execution_count": 12,
   "id": "8708c453",
   "metadata": {},
   "outputs": [],
   "source": [
    "lg.critical(\"this is critical\")"
   ]
  },
  {
   "cell_type": "code",
   "execution_count": 13,
   "id": "862cf66a",
   "metadata": {},
   "outputs": [],
   "source": [
    "lg.info(\"This is what i m looking for\")"
   ]
  },
  {
   "cell_type": "code",
   "execution_count": 19,
   "id": "15df2ee6",
   "metadata": {},
   "outputs": [],
   "source": [
    "lg.basicConfig(filename = \"C:\\\\Users\\\\rekha\\\\logging\\\\test123.log\",level = lg.INFO, format= '%(asctime)s %(message)s')"
   ]
  },
  {
   "cell_type": "code",
   "execution_count": 20,
   "id": "ee5e2a94",
   "metadata": {},
   "outputs": [],
   "source": [
    "lg.error(\"this is the error for given code\")"
   ]
  },
  {
   "cell_type": "code",
   "execution_count": 21,
   "id": "284a6e62",
   "metadata": {},
   "outputs": [],
   "source": [
    "lg.info(\"this is most important information about code\")"
   ]
  },
  {
   "cell_type": "code",
   "execution_count": 22,
   "id": "437d5a1a",
   "metadata": {},
   "outputs": [],
   "source": [
    "lg.warning(\"this is the warning\")"
   ]
  },
  {
   "cell_type": "code",
   "execution_count": 23,
   "id": "4c864b44",
   "metadata": {},
   "outputs": [],
   "source": [
    "lg.basicConfig(filename = \"C:\\\\Users\\\\rekha\\\\logging\\\\test123.log\",level = lg.ERROR, format= '%(asctime)s %(message)s')"
   ]
  },
  {
   "cell_type": "code",
   "execution_count": 24,
   "id": "e74ae5e7",
   "metadata": {},
   "outputs": [
    {
     "ename": "TypeError",
     "evalue": "can only concatenate str (not \"int\") to str",
     "output_type": "error",
     "traceback": [
      "\u001b[1;31m---------------------------------------------------------------------------\u001b[0m",
      "\u001b[1;31mTypeError\u001b[0m                                 Traceback (most recent call last)",
      "Input \u001b[1;32mIn [24]\u001b[0m, in \u001b[0;36m<cell line: 1>\u001b[1;34m()\u001b[0m\n\u001b[1;32m----> 1\u001b[0m \u001b[38;5;124;43m\"\u001b[39;49m\u001b[38;5;124;43mlikujyhgrf\u001b[39;49m\u001b[38;5;124;43m\"\u001b[39;49m\u001b[43m \u001b[49m\u001b[38;5;241;43m+\u001b[39;49m\u001b[43m \u001b[49m\u001b[38;5;241;43m256\u001b[39;49m\n",
      "\u001b[1;31mTypeError\u001b[0m: can only concatenate str (not \"int\") to str"
     ]
    }
   ],
   "source": [
    "\"likujyhgrf\" + 256"
   ]
  },
  {
   "cell_type": "code",
   "execution_count": 25,
   "id": "41d6a887",
   "metadata": {},
   "outputs": [],
   "source": [
    "def test(a,b):\n",
    "    div = a/b\n",
    "    return div"
   ]
  },
  {
   "cell_type": "code",
   "execution_count": 26,
   "id": "11623458",
   "metadata": {},
   "outputs": [
    {
     "ename": "ZeroDivisionError",
     "evalue": "division by zero",
     "output_type": "error",
     "traceback": [
      "\u001b[1;31m---------------------------------------------------------------------------\u001b[0m",
      "\u001b[1;31mZeroDivisionError\u001b[0m                         Traceback (most recent call last)",
      "Input \u001b[1;32mIn [26]\u001b[0m, in \u001b[0;36m<cell line: 1>\u001b[1;34m()\u001b[0m\n\u001b[1;32m----> 1\u001b[0m \u001b[43mtest\u001b[49m\u001b[43m(\u001b[49m\u001b[38;5;241;43m5\u001b[39;49m\u001b[43m,\u001b[49m\u001b[38;5;241;43m0\u001b[39;49m\u001b[43m)\u001b[49m\n",
      "Input \u001b[1;32mIn [25]\u001b[0m, in \u001b[0;36mtest\u001b[1;34m(a, b)\u001b[0m\n\u001b[0;32m      1\u001b[0m \u001b[38;5;28;01mdef\u001b[39;00m \u001b[38;5;21mtest\u001b[39m(a,b):\n\u001b[1;32m----> 2\u001b[0m     div \u001b[38;5;241m=\u001b[39m \u001b[43ma\u001b[49m\u001b[38;5;241;43m/\u001b[39;49m\u001b[43mb\u001b[49m\n\u001b[0;32m      3\u001b[0m     \u001b[38;5;28;01mreturn\u001b[39;00m div\n",
      "\u001b[1;31mZeroDivisionError\u001b[0m: division by zero"
     ]
    }
   ],
   "source": [
    "test(5,0)"
   ]
  },
  {
   "cell_type": "code",
   "execution_count": 28,
   "id": "4db9f4be",
   "metadata": {},
   "outputs": [],
   "source": [
    "def test(a,b):\n",
    "    try:\n",
    "        div = a/b\n",
    "        return div\n",
    "    except Exception as e:\n",
    "        print(\"You can check the log if ypur code will fail\")\n",
    "        lg.error(\"error has occured\")\n",
    "        lg.exception(str(e))"
   ]
  },
  {
   "cell_type": "code",
   "execution_count": 29,
   "id": "489903ad",
   "metadata": {},
   "outputs": [
    {
     "name": "stdout",
     "output_type": "stream",
     "text": [
      "You can check the log if ypur code will fail\n"
     ]
    }
   ],
   "source": [
    "test(5,0)"
   ]
  },
  {
   "cell_type": "code",
   "execution_count": 35,
   "id": "d7180232",
   "metadata": {},
   "outputs": [],
   "source": [
    "import logging \n",
    "logging.basicConfig(filename = \"C:\\\\Users\\\\rekha\\\\logging\\\\test123.log\")\n",
    "\n",
    "def test125(a,b):\n",
    "    add = a + b\n",
    "    logging.info(\"this the type of addition\")\n",
    "    return add"
   ]
  },
  {
   "cell_type": "code",
   "execution_count": 36,
   "id": "f5a81e46",
   "metadata": {},
   "outputs": [
    {
     "data": {
      "text/plain": [
       "13"
      ]
     },
     "execution_count": 36,
     "metadata": {},
     "output_type": "execute_result"
    }
   ],
   "source": [
    "test125(5,8)"
   ]
  },
  {
   "cell_type": "code",
   "execution_count": 38,
   "id": "0230f07b",
   "metadata": {},
   "outputs": [
    {
     "data": {
      "text/plain": [
       "11"
      ]
     },
     "execution_count": 38,
     "metadata": {},
     "output_type": "execute_result"
    }
   ],
   "source": [
    "test125(5,6)"
   ]
  },
  {
   "cell_type": "code",
   "execution_count": 40,
   "id": "c2e2c68a",
   "metadata": {},
   "outputs": [
    {
     "data": {
      "text/plain": [
       "11"
      ]
     },
     "execution_count": 40,
     "metadata": {},
     "output_type": "execute_result"
    }
   ],
   "source": [
    "test125(2,9)"
   ]
  },
  {
   "cell_type": "code",
   "execution_count": 41,
   "id": "4b978316",
   "metadata": {},
   "outputs": [],
   "source": [
    "logging.shutdown()"
   ]
  },
  {
   "cell_type": "code",
   "execution_count": 42,
   "id": "8f4a54a5",
   "metadata": {},
   "outputs": [
    {
     "data": {
      "text/plain": [
       "15"
      ]
     },
     "execution_count": 42,
     "metadata": {},
     "output_type": "execute_result"
    }
   ],
   "source": [
    "test125(6,9)"
   ]
  },
  {
   "cell_type": "code",
   "execution_count": 44,
   "id": "6025a820",
   "metadata": {},
   "outputs": [],
   "source": [
    "logging.info(\"this is my info log\")\n",
    "logging.error(\"this is my error log\")\n",
    "logging.debug(\"this is debugging\")\n",
    "logging.exception(\"this is the exception\")\n",
    "logging.critical(\"this is my critical log\")\n",
    "logging.warning(\"this is my warning log\")"
   ]
  },
  {
   "cell_type": "code",
   "execution_count": 57,
   "id": "9720e5e3",
   "metadata": {},
   "outputs": [
    {
     "data": {
      "text/plain": [
       "'C:\\\\Users\\\\rekha\\\\logging'"
      ]
     },
     "execution_count": 57,
     "metadata": {},
     "output_type": "execute_result"
    }
   ],
   "source": [
    "pwd()"
   ]
  },
  {
   "cell_type": "code",
   "execution_count": 58,
   "id": "58672e5f",
   "metadata": {},
   "outputs": [
    {
     "name": "stdout",
     "output_type": "stream",
     "text": [
      "INFO:root:this is my first program\n",
      "WARNING:root:this the warning\n",
      "ERROR:root:this is the error\n",
      "CRITICAL:root:this is critical\n",
      "INFO:root:This is what i m looking for\n",
      "ERROR:root:this is the error for given code\n",
      "INFO:root:this is most important information about code\n",
      "WARNING:root:this is the warning\n",
      "ERROR:root:this is the error for given code\n",
      "INFO:root:this is most important information about code\n",
      "WARNING:root:this is the warning\n",
      "ERROR:root:error has occured\n",
      "ERROR:root:division by zero\n",
      "Traceback (most recent call last):\n",
      "  File \"C:\\Users\\rekha\\AppData\\Local\\Temp\\ipykernel_63420\\3195346163.py\", line 3, in test\n",
      "    div = a/b\n",
      "ZeroDivisionError: division by zero\n",
      "INFO:root:this the type of addition\n",
      "INFO:root:this the type of addition\n",
      "INFO:root:this the type of addition\n",
      "INFO:root:this the type of addition\n",
      "INFO:root:this the type of addition\n",
      "INFO:root:this is my info log\n",
      "ERROR:root:this is my error log\n",
      "CRITICAL:root:this is my critical log\n",
      "WARNING:root:this is my warning log\n",
      "INFO:root:this is my info log\n",
      "ERROR:root:this is my error log\n",
      "ERROR:root:this is the exception\n",
      "NoneType: None\n",
      "CRITICAL:root:this is my critical log\n",
      "WARNING:root:this is my warning log\n",
      "INFO:root:this the type of addition\n",
      "INFO:root:user input is as : \n",
      "INFO:root:user input is as : \n",
      "INFO:root:user input is as : \n",
      "INFO:root:user input is as : \n",
      "INFO:root:user input is as : \n",
      "INFO:root:user input is as : \n",
      "INFO:root:user input is as : \n",
      "INFO:root:user input is as : \n",
      "INFO:root:user input is as : \n",
      "INFO:root:user input is as : \n",
      "INFO:root:user input is as : \n",
      "\n"
     ]
    }
   ],
   "source": [
    "import logging as lg \n",
    "lg.basicConfig(filename = 'C:\\\\Users\\\\rekha\\\\logging\\\\test1.log',level = lg.INFO)\n",
    "\n",
    "def test10(*args):\n",
    "    lg.info(\"user input is as : \")\n",
    "    return args\n",
    "    sum = 0\n",
    "    for i in args:\n",
    "        lg.info(str(i))\n",
    "        sum = sum + 1\n",
    "    return sum\n",
    "test10(2,5,9)\n",
    "f= open(\"test123.log\", \"r\")\n",
    "print(f.read())\n"
   ]
  },
  {
   "cell_type": "code",
   "execution_count": 53,
   "id": "975c2d7e",
   "metadata": {},
   "outputs": [
    {
     "data": {
      "text/plain": [
       "(3, 5)"
      ]
     },
     "execution_count": 53,
     "metadata": {},
     "output_type": "execute_result"
    }
   ],
   "source": [
    "test10(3,5,)"
   ]
  },
  {
   "cell_type": "code",
   "execution_count": null,
   "id": "9391415b",
   "metadata": {},
   "outputs": [],
   "source": []
  }
 ],
 "metadata": {
  "kernelspec": {
   "display_name": "Python 3 (ipykernel)",
   "language": "python",
   "name": "python3"
  },
  "language_info": {
   "codemirror_mode": {
    "name": "ipython",
    "version": 3
   },
   "file_extension": ".py",
   "mimetype": "text/x-python",
   "name": "python",
   "nbconvert_exporter": "python",
   "pygments_lexer": "ipython3",
   "version": "3.9.12"
  }
 },
 "nbformat": 4,
 "nbformat_minor": 5
}
