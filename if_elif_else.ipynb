{
 "cells": [
  {
   "cell_type": "markdown",
   "id": "b26ae2fa",
   "metadata": {},
   "source": [
    "# IF, ELIF,ELSE"
   ]
  },
  {
   "cell_type": "code",
   "execution_count": 29,
   "id": "2d775343",
   "metadata": {},
   "outputs": [
    {
     "name": "stdout",
     "output_type": "stream",
     "text": [
      "This is my first program\n"
     ]
    }
   ],
   "source": [
    "a = 10\n",
    "if a == 10 :     #:mst be there aftr any statment\n",
    "    print(\"This is my first program\")\n"
   ]
  },
  {
   "cell_type": "code",
   "execution_count": 30,
   "id": "3fbad623",
   "metadata": {},
   "outputs": [
    {
     "name": "stdout",
     "output_type": "stream",
     "text": [
      "my condition is false\n"
     ]
    }
   ],
   "source": [
    "a = 10\n",
    "if a != 11:\n",
    "   print(\"my condition is false\")\n",
    "else:\n",
    "    print(\"print this\")"
   ]
  },
  {
   "cell_type": "code",
   "execution_count": 31,
   "id": "296f0939",
   "metadata": {},
   "outputs": [
    {
     "name": "stdout",
     "output_type": "stream",
     "text": [
      "print this\n"
     ]
    }
   ],
   "source": [
    "a = 10\n",
    "if a == 11:\n",
    "   print(\"my condition is false\")\n",
    "else:\n",
    "    print(\"print this\")"
   ]
  },
  {
   "cell_type": "code",
   "execution_count": 32,
   "id": "0d1fff07",
   "metadata": {},
   "outputs": [
    {
     "name": "stdout",
     "output_type": "stream",
     "text": [
      "My condition is true\n"
     ]
    }
   ],
   "source": [
    "a = 10\n",
    "if a<= 11:\n",
    "    print(\"My condition is true\")\n",
    "elif a == 10:\n",
    "    print(\"my condition id false\")\n",
    "else:\n",
    "    print(\"none\")"
   ]
  },
  {
   "cell_type": "code",
   "execution_count": 33,
   "id": "692d1f0f",
   "metadata": {},
   "outputs": [
    {
     "name": "stdout",
     "output_type": "stream",
     "text": [
      "none\n"
     ]
    }
   ],
   "source": [
    "a = 1\n",
    "if a>= 10:\n",
    "    print(\"My condition is true\")\n",
    "elif a == 10:\n",
    "    print(\"my condition id false\")\n",
    "else:\n",
    "    print(\"none\")"
   ]
  },
  {
   "cell_type": "code",
   "execution_count": 34,
   "id": "f3a684a3",
   "metadata": {},
   "outputs": [
    {
     "name": "stdout",
     "output_type": "stream",
     "text": [
      "my condition id false\n"
     ]
    }
   ],
   "source": [
    "a = 1\n",
    "if a>= 10:\n",
    "    print(\"My condition is true\")\n",
    "elif a <= 10:\n",
    "    print(\"my condition id false\")\n",
    "else:\n",
    "    print(\"none\")"
   ]
  },
  {
   "cell_type": "code",
   "execution_count": 35,
   "id": "d7f3fec5",
   "metadata": {},
   "outputs": [
    {
     "name": "stdout",
     "output_type": "stream",
     "text": [
      " i will buy something\n"
     ]
    }
   ],
   "source": [
    "price = 500\n",
    "if price > 500:\n",
    "    print(\" i will not be able to buy anything\")\n",
    "elif price <= 500:\n",
    "    print(\" i will buy something\")"
   ]
  },
  {
   "cell_type": "code",
   "execution_count": 36,
   "id": "a7b7316b",
   "metadata": {},
   "outputs": [],
   "source": [
    "price = 500\n",
    "if price > 500:\n",
    "    print(\" i will not be able to buy anything\")\n",
    "elif price < 500:\n",
    "    print(\" i will buy something\")"
   ]
  },
  {
   "cell_type": "markdown",
   "id": "4283b583",
   "metadata": {},
   "source": [
    "*nothing is printed becouse everything is false*"
   ]
  },
  {
   "cell_type": "code",
   "execution_count": 37,
   "id": "de33ca5e",
   "metadata": {},
   "outputs": [
    {
     "name": "stdout",
     "output_type": "stream",
     "text": [
      "nothing is good going\n"
     ]
    }
   ],
   "source": [
    "price = 500\n",
    "if price > 500:\n",
    "    print(\" i will not be able to buy anything\")\n",
    "elif price < 500:\n",
    "    print(\" i will buy something\")\n",
    "else:\n",
    "    print(\"nothing is good going\")"
   ]
  },
  {
   "cell_type": "code",
   "execution_count": 38,
   "id": "36a5631d",
   "metadata": {},
   "outputs": [
    {
     "data": {
      "text/plain": [
       "False"
      ]
     },
     "execution_count": 38,
     "metadata": {},
     "output_type": "execute_result"
    }
   ],
   "source": [
    "price>500"
   ]
  },
  {
   "cell_type": "code",
   "execution_count": 39,
   "id": "d5a5996c",
   "metadata": {},
   "outputs": [
    {
     "data": {
      "text/plain": [
       "False"
      ]
     },
     "execution_count": 39,
     "metadata": {},
     "output_type": "execute_result"
    }
   ],
   "source": [
    "price<500"
   ]
  },
  {
   "cell_type": "code",
   "execution_count": 40,
   "id": "da1a6c9b",
   "metadata": {},
   "outputs": [
    {
     "data": {
      "text/plain": [
       "True"
      ]
     },
     "execution_count": 40,
     "metadata": {},
     "output_type": "execute_result"
    }
   ],
   "source": [
    "price==500"
   ]
  },
  {
   "cell_type": "code",
   "execution_count": 41,
   "id": "d4d8b861",
   "metadata": {},
   "outputs": [],
   "source": [
    "l = [2,8,9,5,6,2,5,8,3]"
   ]
  },
  {
   "cell_type": "code",
   "execution_count": 42,
   "id": "3e3ae36f",
   "metadata": {},
   "outputs": [
    {
     "name": "stdout",
     "output_type": "stream",
     "text": [
      "perform the task\n"
     ]
    }
   ],
   "source": [
    "if 2 in l:\n",
    "    print(\"perform the task\")\n",
    "else:\n",
    "    print(\"Do not perform the task\")"
   ]
  },
  {
   "cell_type": "code",
   "execution_count": 43,
   "id": "c0a29575",
   "metadata": {},
   "outputs": [],
   "source": [
    "l= [1,2,3,44,5,6,7,8,8]"
   ]
  },
  {
   "cell_type": "code",
   "execution_count": 44,
   "id": "e0d1ae02",
   "metadata": {},
   "outputs": [
    {
     "name": "stdout",
     "output_type": "stream",
     "text": [
      "perform the addition\n"
     ]
    }
   ],
   "source": [
    "if 1 in l:\n",
    "    print(\"perform the addition\")\n",
    "elif 2 in l:\n",
    "    print(\" perform the deletion\")\n",
    "else:\n",
    "    print(\" perform the multiplication\")"
   ]
  },
  {
   "cell_type": "markdown",
   "id": "62fe37e6",
   "metadata": {},
   "source": [
    "*it only given the 1st out put coz very 1st condtion has true. it doesnt mean of next any condition thts true or false*"
   ]
  },
  {
   "cell_type": "code",
   "execution_count": 50,
   "id": "57f333ba",
   "metadata": {},
   "outputs": [],
   "source": [
    "l= [1,2,3,44,5,6,7,8,8]"
   ]
  },
  {
   "cell_type": "code",
   "execution_count": 51,
   "id": "7f9a991b",
   "metadata": {},
   "outputs": [
    {
     "name": "stdout",
     "output_type": "stream",
     "text": [
      "perform the deletion\n",
      "very good\n"
     ]
    }
   ],
   "source": [
    "if 10 in l:\n",
    "    print(\"perform the addition\")\n",
    "elif 2 in l:\n",
    "    print(\"perform the deletion\")\n",
    "elif 3 in l:\n",
    "    print(\"perform the multiplication\")\n",
    "if 5 in l:          #this is totatly new blck,\n",
    "    print(\"very good\")"
   ]
  },
  {
   "cell_type": "code",
   "execution_count": 52,
   "id": "d88c45f4",
   "metadata": {},
   "outputs": [],
   "source": [
    "b = 400"
   ]
  },
  {
   "cell_type": "code",
   "execution_count": 53,
   "id": "a2108e58",
   "metadata": {},
   "outputs": [
    {
     "name": "stdout",
     "output_type": "stream",
     "text": [
      "600\n"
     ]
    }
   ],
   "source": [
    "b = input()"
   ]
  },
  {
   "cell_type": "code",
   "execution_count": 54,
   "id": "8048caff",
   "metadata": {},
   "outputs": [
    {
     "data": {
      "text/plain": [
       "str"
      ]
     },
     "execution_count": 54,
     "metadata": {},
     "output_type": "execute_result"
    }
   ],
   "source": [
    "type(b)"
   ]
  },
  {
   "cell_type": "code",
   "execution_count": 55,
   "id": "8b8885eb",
   "metadata": {},
   "outputs": [
    {
     "name": "stdout",
     "output_type": "stream",
     "text": [
      "600\n",
      "i will not be able to buy anytgibg\n"
     ]
    }
   ],
   "source": [
    "price=int(input())\n",
    "if price < 500:\n",
    "    print(\"i will be able to buy jacket\")\n",
    "    if price < 300:\n",
    "        print(\"i will be able to buy shirt\")\n",
    "    elif price < 200:\n",
    "        print(\" i will be able to buy t shirt\")\n",
    "    else:\n",
    "        print(\"i am doing shoping\")\n",
    "else:\n",
    "    print(\"i will not be able to buy anytgibg\")"
   ]
  },
  {
   "cell_type": "code",
   "execution_count": 56,
   "id": "17594ecd",
   "metadata": {},
   "outputs": [
    {
     "name": "stdout",
     "output_type": "stream",
     "text": [
      "400\n",
      "i will be able to buy jacket\n",
      "i am doing shoping\n"
     ]
    }
   ],
   "source": [
    "price=int(input())\n",
    "if price < 500:\n",
    "    print(\"i will be able to buy jacket\")\n",
    "    if price < 300:\n",
    "        print(\"i will be able to buy shirt\")\n",
    "    elif price < 200:\n",
    "        print(\" i will be able to buy t shirt\")\n",
    "    else:\n",
    "        print(\"i am doing shoping\")\n",
    "else:\n",
    "    print(\"i will not be able to buy anytgibg\")"
   ]
  },
  {
   "cell_type": "code",
   "execution_count": 57,
   "id": "b7fe72a9",
   "metadata": {},
   "outputs": [
    {
     "name": "stdout",
     "output_type": "stream",
     "text": [
      "200\n",
      "No GRE\n",
      "TO FEEL\n",
      "try something else\n"
     ]
    }
   ],
   "source": [
    "marks = int(input())\n",
    "if marks < 600:\n",
    "    print(\"No GRE\")\n",
    "    if marks < 500:\n",
    "        print(\"TO FEEL\")\n",
    "        if marks <400:\n",
    "            print(\"try something else\")\n",
    "        else:\n",
    "            print(\"you faoled\")\n",
    "else:\n",
    "    print(\" Congratulations, You got GRE\")"
   ]
  },
  {
   "cell_type": "code",
   "execution_count": 58,
   "id": "082503fc",
   "metadata": {},
   "outputs": [
    {
     "name": "stdout",
     "output_type": "stream",
     "text": [
      "100\n",
      "No GRE\n",
      "TO FEEL\n",
      "try something else\n"
     ]
    }
   ],
   "source": [
    "marks = int(input())\n",
    "if marks < 600:\n",
    "    print(\"No GRE\")\n",
    "    if marks < 500:\n",
    "        print(\"TO FEEL\")\n",
    "        if marks <400:\n",
    "            print(\"try something else\")\n",
    "        else:\n",
    "            print(\"you faoled\")\n",
    "else:\n",
    "    print(\" Congratulations, You got GRE\")"
   ]
  },
  {
   "cell_type": "code",
   "execution_count": 59,
   "id": "f21d563d",
   "metadata": {},
   "outputs": [
    {
     "name": "stdout",
     "output_type": "stream",
     "text": [
      "enter floating point no0\n",
      "entered no is zero\n"
     ]
    }
   ],
   "source": [
    "val = float(input(\"enter floating point no\"))\n",
    "if val >= 0:\n",
    "    if val == 0:\n",
    "        print(\"entered no is zero\")\n",
    "    else:\n",
    "        print(\"entered value is positive\")\n",
    "else:\n",
    "    print(\"entered value is negative\")"
   ]
  },
  {
   "cell_type": "code",
   "execution_count": 60,
   "id": "63faa672",
   "metadata": {},
   "outputs": [
    {
     "name": "stdout",
     "output_type": "stream",
     "text": [
      "enter floating point no1\n",
      "entered value is positive\n"
     ]
    }
   ],
   "source": [
    "val = float(input(\"enter floating point no\"))\n",
    "if val >= 0:\n",
    "    if val == 0:\n",
    "        print(\"entered no is zero\")\n",
    "    else:\n",
    "        print(\"entered value is positive\")\n",
    "else:\n",
    "    print(\"entered value is negative\")"
   ]
  },
  {
   "cell_type": "code",
   "execution_count": 61,
   "id": "d8d1d2cf",
   "metadata": {},
   "outputs": [
    {
     "name": "stdout",
     "output_type": "stream",
     "text": [
      "enter floating point no-1\n",
      "entered value is negative\n"
     ]
    }
   ],
   "source": [
    "val = float(input(\"enter floating point no\"))\n",
    "if val >= 0:\n",
    "    if val == 0:\n",
    "        print(\"entered no is zero\")\n",
    "    else:\n",
    "        print(\"entered value is positive\")\n",
    "else:\n",
    "    print(\"entered value is negative\")"
   ]
  },
  {
   "cell_type": "code",
   "execution_count": 62,
   "id": "5e794716",
   "metadata": {},
   "outputs": [],
   "source": [
    "a = \"rekha\"\n",
    "if a < \"rekha\" or a > \"rekha\":\n",
    "    print(\"Rekha\")"
   ]
  },
  {
   "cell_type": "code",
   "execution_count": 63,
   "id": "847dcee8",
   "metadata": {},
   "outputs": [],
   "source": [
    "a = \"rekha\"\n",
    "if a < \"rekha\" and a > \"rekha\":\n",
    "    print(\"Rekha\")"
   ]
  },
  {
   "cell_type": "code",
   "execution_count": 64,
   "id": "3fc7a9bc",
   "metadata": {},
   "outputs": [
    {
     "name": "stdout",
     "output_type": "stream",
     "text": [
      "Rekha\n"
     ]
    }
   ],
   "source": [
    "a = \"rekha\"\n",
    "if a == \"rekha\" or a == \"Rekha\":\n",
    "    print(\"Rekha\")"
   ]
  },
  {
   "cell_type": "markdown",
   "id": "405dcc8c",
   "metadata": {},
   "source": [
    "*T or F = T*"
   ]
  },
  {
   "cell_type": "code",
   "execution_count": 65,
   "id": "acf15b47",
   "metadata": {},
   "outputs": [
    {
     "name": "stdout",
     "output_type": "stream",
     "text": [
      "Rekha\n"
     ]
    }
   ],
   "source": [
    "a = \"rekha\"\n",
    "if a == \"rekha\" and a>= \"Rekha\":\n",
    "    print(\"Rekha\")"
   ]
  },
  {
   "cell_type": "markdown",
   "id": "ed713475",
   "metadata": {},
   "source": [
    "*T and T = T*"
   ]
  },
  {
   "cell_type": "code",
   "execution_count": 66,
   "id": "dbe6d5b3",
   "metadata": {},
   "outputs": [
    {
     "name": "stdout",
     "output_type": "stream",
     "text": [
      "try to write something\n"
     ]
    }
   ],
   "source": [
    "a = 9\n",
    "b = 10\n",
    "c = 11\n",
    "d = 12\n",
    "if a==9 and b==10 and c == 11 and d == 12:\n",
    "    print(\"try to write something\")\n"
   ]
  },
  {
   "cell_type": "code",
   "execution_count": 67,
   "id": "f11ac6bd",
   "metadata": {},
   "outputs": [],
   "source": [
    "a = 9\n",
    "b = 10\n",
    "c = 11\n",
    "d = 12\n",
    "if a==10 and b==10 and c == 11 and d == 12:\n",
    "    print(\"try to write something\")\n"
   ]
  },
  {
   "cell_type": "markdown",
   "id": "172e325b",
   "metadata": {},
   "source": [
    "*not printed anything*"
   ]
  },
  {
   "cell_type": "code",
   "execution_count": 68,
   "id": "44bc852d",
   "metadata": {},
   "outputs": [
    {
     "name": "stdout",
     "output_type": "stream",
     "text": [
      "try to write something\n"
     ]
    }
   ],
   "source": [
    "a = 9\n",
    "b = 10\n",
    "c = 11\n",
    "d = 12\n",
    "if a==9 or b==10 and c == 11 and d == 12:\n",
    "    print(\"try to write something\")\n"
   ]
  },
  {
   "cell_type": "markdown",
   "id": "b53b3863",
   "metadata": {},
   "source": [
    "*F or T= T\n",
    "T or T = T\n",
    "T or T = T*\n"
   ]
  },
  {
   "cell_type": "code",
   "execution_count": 69,
   "id": "43f9b89b",
   "metadata": {},
   "outputs": [],
   "source": [
    "d = {\"key1\" : \"value\", \"key2\": \"rekha\", \"key3\":\"sagar\"}"
   ]
  },
  {
   "cell_type": "code",
   "execution_count": 70,
   "id": "c02688b8",
   "metadata": {},
   "outputs": [
    {
     "name": "stdout",
     "output_type": "stream",
     "text": [
      "all the values are verified\n",
      "dict_values(['value', 'rekha', 'sagar'])\n"
     ]
    }
   ],
   "source": [
    "if d[\"key1\"]==\"value\" and d[\"key2\"]==\"rekha\" and d[\"key3\"]==\"sagar\":\n",
    "    print(\"all the values are verified\")\n",
    "    print(d.values())\n",
    "else:\n",
    "    print(\" all the values are not verified\")"
   ]
  },
  {
   "cell_type": "code",
   "execution_count": 71,
   "id": "34850bed",
   "metadata": {},
   "outputs": [
    {
     "name": "stdout",
     "output_type": "stream",
     "text": [
      " all the values are not verified\n"
     ]
    }
   ],
   "source": [
    "if d[\"key1\"]==\"value\" and d[\"key2\"]==\"Rekha\" and d[\"key3\"]==\"sagar\":\n",
    "    print(\"all the values are verified\")\n",
    "    print(d.values())\n",
    "else:\n",
    "    print(\" all the values are not verified\")"
   ]
  },
  {
   "cell_type": "code",
   "execution_count": 72,
   "id": "650f4dff",
   "metadata": {},
   "outputs": [],
   "source": [
    "l = [1,2,5,8,9,\"ytoiuy\", 235.5]"
   ]
  },
  {
   "cell_type": "code",
   "execution_count": 73,
   "id": "2aa748ad",
   "metadata": {},
   "outputs": [
    {
     "name": "stdout",
     "output_type": "stream",
     "text": [
      "1\n",
      "2\n",
      "5\n",
      "8\n",
      "9\n",
      "ytoiuy\n",
      "235.5\n"
     ]
    }
   ],
   "source": [
    "for i in l :\n",
    "    print(i)"
   ]
  },
  {
   "cell_type": "code",
   "execution_count": 74,
   "id": "21d73dbc",
   "metadata": {},
   "outputs": [
    {
     "name": "stdout",
     "output_type": "stream",
     "text": [
      "2\n",
      "3\n",
      "6\n",
      "9\n",
      "10\n"
     ]
    },
    {
     "ename": "TypeError",
     "evalue": "can only concatenate str (not \"int\") to str",
     "output_type": "error",
     "traceback": [
      "\u001b[1;31m---------------------------------------------------------------------------\u001b[0m",
      "\u001b[1;31mTypeError\u001b[0m                                 Traceback (most recent call last)",
      "Input \u001b[1;32mIn [74]\u001b[0m, in \u001b[0;36m<cell line: 1>\u001b[1;34m()\u001b[0m\n\u001b[0;32m      1\u001b[0m \u001b[38;5;28;01mfor\u001b[39;00m i \u001b[38;5;129;01min\u001b[39;00m l :\n\u001b[1;32m----> 2\u001b[0m     \u001b[38;5;28mprint\u001b[39m(\u001b[43mi\u001b[49m\u001b[38;5;241;43m+\u001b[39;49m\u001b[38;5;241;43m1\u001b[39;49m)\n",
      "\u001b[1;31mTypeError\u001b[0m: can only concatenate str (not \"int\") to str"
     ]
    }
   ],
   "source": [
    "for i in l :\n",
    "    print(i+1)"
   ]
  },
  {
   "cell_type": "code",
   "execution_count": 75,
   "id": "5e4ca0ce",
   "metadata": {},
   "outputs": [
    {
     "name": "stdout",
     "output_type": "stream",
     "text": [
      "2\n",
      "3\n",
      "6\n",
      "9\n",
      "10\n",
      "ytoiuy1\n",
      "236.5\n"
     ]
    }
   ],
   "source": [
    "for i in l :\n",
    "    if type(i) == int or type(i) == float:\n",
    "        print(i+1)\n",
    "    elif type(i)==str:\n",
    "        print(i+str(1))"
   ]
  },
  {
   "cell_type": "markdown",
   "id": "e6480816",
   "metadata": {},
   "source": [
    "# FOR Loop"
   ]
  },
  {
   "cell_type": "code",
   "execution_count": 76,
   "id": "42b6c71f",
   "metadata": {},
   "outputs": [],
   "source": [
    "l = [1,2,5,6,3,5,8,\"jhgtg\",235.65]\n"
   ]
  },
  {
   "cell_type": "markdown",
   "id": "3f6b70c3",
   "metadata": {},
   "source": [
    "*write list into row wise*"
   ]
  },
  {
   "cell_type": "code",
   "execution_count": 77,
   "id": "8267615c",
   "metadata": {},
   "outputs": [
    {
     "name": "stdout",
     "output_type": "stream",
     "text": [
      "1\n",
      "2\n",
      "5\n",
      "6\n",
      "3\n",
      "5\n",
      "8\n",
      "jhgtg\n",
      "235.65\n"
     ]
    }
   ],
   "source": [
    "for i in l:\n",
    "    print(i)"
   ]
  },
  {
   "cell_type": "code",
   "execution_count": 78,
   "id": "480ff915",
   "metadata": {},
   "outputs": [
    {
     "name": "stdout",
     "output_type": "stream",
     "text": [
      "1\n",
      "2\n",
      "5\n",
      "6\n",
      "3\n",
      "5\n",
      "8\n",
      "jhgtg\n",
      "235.65\n",
      "if for loop going to complete itself then it will execute else\n"
     ]
    }
   ],
   "source": [
    "for i in l:\n",
    "    print(i)\n",
    "else:\n",
    "    print(\"if for loop going to complete itself then it will execute else\")"
   ]
  },
  {
   "cell_type": "code",
   "execution_count": 79,
   "id": "2f70d6fb",
   "metadata": {},
   "outputs": [
    {
     "name": "stdout",
     "output_type": "stream",
     "text": [
      "1\n",
      "2\n",
      "5\n"
     ]
    }
   ],
   "source": [
    "for i in l:\n",
    "    if i == 6:\n",
    "        break\n",
    "    print(i)\n",
    "else:\n",
    "    print(\"if for loop going to complete itself then it will execute else\")"
   ]
  },
  {
   "cell_type": "markdown",
   "id": "4d32c63e",
   "metadata": {},
   "source": [
    "*print string upto \"n\"*"
   ]
  },
  {
   "cell_type": "code",
   "execution_count": 80,
   "id": "33623a43",
   "metadata": {},
   "outputs": [
    {
     "name": "stdout",
     "output_type": "stream",
     "text": [
      "s\n",
      "e\n",
      "a\n",
      "l\n",
      "i\n"
     ]
    }
   ],
   "source": [
    "s = \"sealine\"\n",
    "for i in s :\n",
    "    if i == 'n':\n",
    "        break\n",
    "    print(i)\n",
    "else:\n",
    "    print(\"print string\", s)"
   ]
  },
  {
   "cell_type": "markdown",
   "id": "5aad6514",
   "metadata": {},
   "source": [
    "*Execute program to chk v in it*"
   ]
  },
  {
   "cell_type": "code",
   "execution_count": 81,
   "id": "555a01c7",
   "metadata": {},
   "outputs": [
    {
     "name": "stdout",
     "output_type": "stream",
     "text": [
      "s\n",
      "e\n",
      "a\n",
      "l\n",
      "i\n",
      "n\n",
      "e\n",
      "print string sealine\n"
     ]
    }
   ],
   "source": [
    "s = \"sealine\"\n",
    "for i in s :\n",
    "    if i == 'v':\n",
    "        break\n",
    "    print(i)\n",
    "else:\n",
    "    print(\"print string\", s)"
   ]
  },
  {
   "cell_type": "code",
   "execution_count": 82,
   "id": "fdf2ec36",
   "metadata": {},
   "outputs": [],
   "source": [
    "s = {4,4,4,5,5,5,5,8,5,8,6,6,61,1,1,1,\"uytr\"}     #set will remove al duplicates"
   ]
  },
  {
   "cell_type": "code",
   "execution_count": 83,
   "id": "8b214321",
   "metadata": {},
   "outputs": [
    {
     "name": "stdout",
     "output_type": "stream",
     "text": [
      "1\n",
      "uytr\n",
      "4\n",
      "5\n",
      "6\n",
      "8\n",
      "61\n"
     ]
    }
   ],
   "source": [
    "for i in s:\n",
    "    print(i)"
   ]
  },
  {
   "cell_type": "code",
   "execution_count": 84,
   "id": "2d38f0d7",
   "metadata": {},
   "outputs": [],
   "source": [
    "d= {\"key1\":\"Rekha\", \"contact\":9552340582, \"place\":\"Mumbai\"}"
   ]
  },
  {
   "cell_type": "markdown",
   "id": "59de6725",
   "metadata": {},
   "source": [
    "*Print only keys from dictionary*"
   ]
  },
  {
   "cell_type": "code",
   "execution_count": 85,
   "id": "b661212e",
   "metadata": {},
   "outputs": [
    {
     "name": "stdout",
     "output_type": "stream",
     "text": [
      "key1\n",
      "contact\n",
      "place\n"
     ]
    }
   ],
   "source": [
    "for i in d:\n",
    "    print(i)"
   ]
  },
  {
   "cell_type": "markdown",
   "id": "67dfde62",
   "metadata": {},
   "source": [
    "*Print values from dictionaty*"
   ]
  },
  {
   "cell_type": "code",
   "execution_count": 86,
   "id": "b729d5a5",
   "metadata": {},
   "outputs": [
    {
     "name": "stdout",
     "output_type": "stream",
     "text": [
      "Rekha\n",
      "9552340582\n",
      "Mumbai\n"
     ]
    }
   ],
   "source": [
    "for i in d:\n",
    "    print(d[i])"
   ]
  },
  {
   "cell_type": "markdown",
   "id": "0d20c218",
   "metadata": {},
   "source": [
    "*Print output as given*"
   ]
  },
  {
   "cell_type": "code",
   "execution_count": 87,
   "id": "7539498a",
   "metadata": {},
   "outputs": [
    {
     "name": "stdout",
     "output_type": "stream",
     "text": [
      "Rekha  \n",
      "\n",
      "Rekha  Rekha  \n",
      "\n",
      "Rekha  Rekha  Rekha  \n",
      "\n",
      "Rekha  Rekha  Rekha  Rekha  \n",
      "\n"
     ]
    }
   ],
   "source": [
    "n = 4\n",
    "for i in range(4):\n",
    "    for j in range(0, i+1):\n",
    "        print(\"Rekha\", end=\"  \")\n",
    "    print(\"\\n\")"
   ]
  },
  {
   "cell_type": "markdown",
   "id": "e7587d37",
   "metadata": {},
   "source": [
    "*n = 4 means, 4 rows----\n",
    "range(4) means 0,1,2,3----\n",
    "for loop inside the for loop printed the value more 1 in previous index until range is 0,4----\n",
    "end=\" \" is for space between every word----\n",
    "\\n is for every new line*\n"
   ]
  },
  {
   "cell_type": "markdown",
   "id": "9e1ebef3",
   "metadata": {},
   "source": [
    "*Print as given*"
   ]
  },
  {
   "cell_type": "code",
   "execution_count": 88,
   "id": "31649b30",
   "metadata": {},
   "outputs": [
    {
     "name": "stdout",
     "output_type": "stream",
     "text": [
      "            rekha \n",
      "      rekha rekha rekha \n",
      "rekha rekha rekha rekha rekha \n"
     ]
    }
   ],
   "source": [
    "n=3\n",
    "for i in range(n):\n",
    "    for j in range(i, n-1):\n",
    "        print(\" \"* n,\" \", end=\" \")\n",
    "    for j in range(i+1):\n",
    "        print(\"rekha\",end=\" \")\n",
    "    for j in range(i):\n",
    "        print(\"rekha\",end=\" \")\n",
    "    print()"
   ]
  },
  {
   "cell_type": "code",
   "execution_count": 89,
   "id": "4ec15ae0",
   "metadata": {},
   "outputs": [
    {
     "name": "stdout",
     "output_type": "stream",
     "text": [
      "    4     4 rekh \n",
      "    4 rekh rekh rekh \n",
      "rekh rekh rekh rekh rekh \n"
     ]
    }
   ],
   "source": [
    "n=3\n",
    "for i in range(n):\n",
    "    for j in range(i, n-1):\n",
    "        print(\" \" * n, len(\"rekh\"), end=\" \")\n",
    "    for j in range(i+1):\n",
    "        print(\"rekh\",end=\" \")\n",
    "    for j in range(i):\n",
    "        print(\"rekh\",end=\" \")\n",
    "    print()"
   ]
  },
  {
   "cell_type": "code",
   "execution_count": 90,
   "id": "1ee1b841",
   "metadata": {},
   "outputs": [
    {
     "name": "stdout",
     "output_type": "stream",
     "text": [
      "                        rekha \n",
      "            rekha rekha rekha \n",
      "rekha rekha rekha rekha rekha \n"
     ]
    }
   ],
   "source": [
    "n=3\n",
    "for i in range(n):\n",
    "    for j in range(i, n-1):\n",
    "        print(\"       \",\" \"*n, end=\" \")\n",
    "    for j in range(i+1):\n",
    "        print(\"rekha\",end=\" \")\n",
    "    for j in range(i):\n",
    "        print(\"rekha\",end=\" \")\n",
    "    print()"
   ]
  },
  {
   "cell_type": "code",
   "execution_count": 91,
   "id": "9586ab90",
   "metadata": {},
   "outputs": [],
   "source": [
    "t = (1,2,5,6,9,6,3,3,5,8)"
   ]
  },
  {
   "cell_type": "markdown",
   "id": "1f70ce16",
   "metadata": {},
   "source": [
    "*Print the indexes with items in tuple*"
   ]
  },
  {
   "cell_type": "code",
   "execution_count": 92,
   "id": "be04e876",
   "metadata": {},
   "outputs": [
    {
     "name": "stdout",
     "output_type": "stream",
     "text": [
      "0 1\n",
      "1 2\n",
      "2 5\n",
      "3 6\n",
      "4 9\n",
      "5 6\n",
      "6 3\n",
      "7 3\n",
      "8 5\n",
      "9 8\n"
     ]
    }
   ],
   "source": [
    "for i in range(len(t)):\n",
    "    print(i, t[i])"
   ]
  },
  {
   "cell_type": "code",
   "execution_count": 93,
   "id": "8ec1d55c",
   "metadata": {},
   "outputs": [
    {
     "name": "stdout",
     "output_type": "stream",
     "text": [
      "0 s\n",
      "1 e\n",
      "2 a\n",
      "3 l\n",
      "4 i\n",
      "5 n\n",
      "6 e\n"
     ]
    }
   ],
   "source": [
    "s = \"sealine\"\n",
    "for i in range(len(s)):\n",
    "    print(i, s[i])\n",
    "    "
   ]
  },
  {
   "cell_type": "code",
   "execution_count": 94,
   "id": "e87fe2ed",
   "metadata": {},
   "outputs": [
    {
     "name": "stdout",
     "output_type": "stream",
     "text": [
      "0 e\n",
      "1 n\n",
      "2 i\n",
      "3 l\n",
      "4 a\n",
      "5 e\n",
      "6 s\n"
     ]
    }
   ],
   "source": [
    "s = \"sealine\"\n",
    "s1 = s[::-1]\n",
    "for i in range(len(s1)):\n",
    "    print(i, s1[i])\n",
    "\n",
    "    "
   ]
  },
  {
   "cell_type": "markdown",
   "id": "27744d47",
   "metadata": {},
   "source": [
    "*print indexes with items in reverse*"
   ]
  },
  {
   "cell_type": "code",
   "execution_count": 95,
   "id": "144dec34",
   "metadata": {},
   "outputs": [
    {
     "name": "stdout",
     "output_type": "stream",
     "text": [
      "6 e\n",
      "5 n\n",
      "4 i\n",
      "3 l\n",
      "2 a\n",
      "1 e\n",
      "0 s\n"
     ]
    }
   ],
   "source": [
    "s = \"sealine\"\n",
    "for i in range(len(s)-1,-1,-1):\n",
    "    print(i,s[i])\n",
    "    "
   ]
  },
  {
   "cell_type": "markdown",
   "id": "00405ac9",
   "metadata": {},
   "source": [
    "*Print items in dictionary, type of dictionary and type of items each*"
   ]
  },
  {
   "cell_type": "code",
   "execution_count": 96,
   "id": "fd7badd8",
   "metadata": {},
   "outputs": [
    {
     "data": {
      "text/plain": [
       "{'key1': 'Rekha', 'contact': 9552340582, 'place': 'Mumbai'}"
      ]
     },
     "execution_count": 96,
     "metadata": {},
     "output_type": "execute_result"
    }
   ],
   "source": [
    "d"
   ]
  },
  {
   "cell_type": "code",
   "execution_count": 97,
   "id": "a30596ba",
   "metadata": {},
   "outputs": [
    {
     "name": "stdout",
     "output_type": "stream",
     "text": [
      "('key1', 'Rekha') <class 'tuple'> <class 'str'> <class 'list'>\n",
      "('contact', 9552340582) <class 'tuple'> <class 'int'> <class 'list'>\n",
      "('place', 'Mumbai') <class 'tuple'> <class 'str'> <class 'list'>\n"
     ]
    }
   ],
   "source": [
    "for i in d.items():\n",
    "    print(i, type(i), type(i[1]), type([2]))"
   ]
  },
  {
   "cell_type": "markdown",
   "id": "e6171192",
   "metadata": {},
   "source": [
    "*Print the integer in seperate list*"
   ]
  },
  {
   "cell_type": "code",
   "execution_count": 98,
   "id": "9a3984b1",
   "metadata": {},
   "outputs": [],
   "source": [
    "l = [1256,\"olikuhjygt\",\"oiuytgr\",54258,\"yt\",85]"
   ]
  },
  {
   "cell_type": "code",
   "execution_count": 99,
   "id": "c20f829b",
   "metadata": {},
   "outputs": [],
   "source": [
    "l1= []\n",
    "for i in l:\n",
    "    if type(i)== int:\n",
    "        l1.append(i)"
   ]
  },
  {
   "cell_type": "code",
   "execution_count": 100,
   "id": "51245bb9",
   "metadata": {},
   "outputs": [
    {
     "data": {
      "text/plain": [
       "[1256, 54258, 85]"
      ]
     },
     "execution_count": 100,
     "metadata": {},
     "output_type": "execute_result"
    }
   ],
   "source": [
    "l1"
   ]
  },
  {
   "cell_type": "markdown",
   "id": "8f17bf57",
   "metadata": {},
   "source": [
    "*Print the list in string only*"
   ]
  },
  {
   "cell_type": "code",
   "execution_count": 101,
   "id": "d27d78c4",
   "metadata": {},
   "outputs": [
    {
     "data": {
      "text/plain": [
       "[1256, 'olikuhjygt', 'oiuytgr', 54258, 'yt', 85]"
      ]
     },
     "execution_count": 101,
     "metadata": {},
     "output_type": "execute_result"
    }
   ],
   "source": [
    "l"
   ]
  },
  {
   "cell_type": "code",
   "execution_count": 102,
   "id": "2dfec0bb",
   "metadata": {},
   "outputs": [],
   "source": [
    "l2=[]\n",
    "for i in l:\n",
    "    if type(l)==str:\n",
    "        l2.append(l)"
   ]
  },
  {
   "cell_type": "code",
   "execution_count": 103,
   "id": "aa493bc4",
   "metadata": {},
   "outputs": [
    {
     "data": {
      "text/plain": [
       "[]"
      ]
     },
     "execution_count": 103,
     "metadata": {},
     "output_type": "execute_result"
    }
   ],
   "source": [
    "l2"
   ]
  },
  {
   "cell_type": "markdown",
   "id": "1385bb1f",
   "metadata": {},
   "source": [
    "*Key value pair must b the numeric value*"
   ]
  },
  {
   "cell_type": "code",
   "execution_count": 104,
   "id": "01e6afb9",
   "metadata": {},
   "outputs": [],
   "source": [
    "d1 = {'key1': 'Rekha', 'contact': 9552340582, 'place': 'Mumbai', 5285:522, \"ikujyh\":6326, 3638:\"kujyxbv\", 258:\"nhgu\"}"
   ]
  },
  {
   "cell_type": "code",
   "execution_count": 105,
   "id": "a2e0db0d",
   "metadata": {},
   "outputs": [
    {
     "name": "stdout",
     "output_type": "stream",
     "text": [
      "5285 : 522\n",
      "3638 : kujyxbv\n",
      "258 : nhgu\n"
     ]
    }
   ],
   "source": [
    "for i in d1:\n",
    "    if type(i)==int:\n",
    "        print(i, \":\", d1[i])"
   ]
  },
  {
   "cell_type": "code",
   "execution_count": 106,
   "id": "8db5327a",
   "metadata": {},
   "outputs": [],
   "source": [
    "s = \"aaaaassssssvvvvttttt\""
   ]
  },
  {
   "cell_type": "code",
   "execution_count": 107,
   "id": "2671e41e",
   "metadata": {},
   "outputs": [
    {
     "name": "stdout",
     "output_type": "stream",
     "text": [
      "v : 4\n",
      "a : 5\n",
      "s : 6\n",
      "t : 5\n"
     ]
    }
   ],
   "source": [
    "for i in set(s):\n",
    "    print(i, \":\", s.count(i))"
   ]
  },
  {
   "cell_type": "code",
   "execution_count": 108,
   "id": "3d1ef596",
   "metadata": {},
   "outputs": [
    {
     "name": "stdout",
     "output_type": "stream",
     "text": [
      "5\n",
      "8\n",
      "4\n",
      "6\n",
      "5\n",
      "6\n",
      "5\n",
      "4\n",
      "1\n",
      "6\n",
      "5\n",
      "8\n",
      "5\n",
      "4\n",
      "2\n"
     ]
    }
   ],
   "source": [
    "i = 584656541658542         # int is not iterable so conveted into str\n",
    "for j in str(i):\n",
    "    print(j)"
   ]
  },
  {
   "cell_type": "code",
   "execution_count": 109,
   "id": "2ad48f17",
   "metadata": {},
   "outputs": [
    {
     "name": "stdout",
     "output_type": "stream",
     "text": [
      "5 <class 'int'>\n",
      "8 <class 'int'>\n",
      "4 <class 'int'>\n",
      "6 <class 'int'>\n",
      "5 <class 'int'>\n",
      "6 <class 'int'>\n",
      "5 <class 'int'>\n",
      "4 <class 'int'>\n",
      "1 <class 'int'>\n",
      "6 <class 'int'>\n",
      "5 <class 'int'>\n",
      "8 <class 'int'>\n",
      "5 <class 'int'>\n",
      "4 <class 'int'>\n",
      "2 <class 'int'>\n"
     ]
    }
   ],
   "source": [
    "i = 584656541658542         # int is not iterable so conveted into str\n",
    "for j in str(i):\n",
    "    print(int(j), type(int(j)))  #again converted the type into int"
   ]
  },
  {
   "cell_type": "code",
   "execution_count": 110,
   "id": "c6873be8",
   "metadata": {},
   "outputs": [
    {
     "data": {
      "text/plain": [
       "'584656541658542'"
      ]
     },
     "execution_count": 110,
     "metadata": {},
     "output_type": "execute_result"
    }
   ],
   "source": [
    "str(i)"
   ]
  },
  {
   "cell_type": "markdown",
   "id": "f807dc6b",
   "metadata": {},
   "source": [
    "*Print all the 3 in given tuple t*"
   ]
  },
  {
   "cell_type": "code",
   "execution_count": 6,
   "id": "00b47748",
   "metadata": {},
   "outputs": [],
   "source": [
    "t = (\"rekha\", \"ocean\", [1,2,3,4,5,], (3,4,5,6), {\"3\":\"3\", \"key2\":\"ocean\"})"
   ]
  },
  {
   "cell_type": "code",
   "execution_count": 7,
   "id": "1ffa9564",
   "metadata": {},
   "outputs": [
    {
     "name": "stdout",
     "output_type": "stream",
     "text": [
      "3\n",
      "3\n"
     ]
    }
   ],
   "source": [
    "for i in t:\n",
    "    if type(i) == list or type(i) == tuple or type(i)==dict:\n",
    "        for j in i:\n",
    "            if j == 3:\n",
    "                print(j)\n",
    "        "
   ]
  },
  {
   "cell_type": "code",
   "execution_count": 8,
   "id": "e4a577e0",
   "metadata": {},
   "outputs": [
    {
     "data": {
      "text/plain": [
       "('rekha', 'ocean', [1, 2, 3, 4, 5], (3, 4, 5, 6), {'3': '3', 'key2': 'ocean'})"
      ]
     },
     "execution_count": 8,
     "metadata": {},
     "output_type": "execute_result"
    }
   ],
   "source": [
    "t"
   ]
  },
  {
   "cell_type": "code",
   "execution_count": 9,
   "id": "d526a7b8",
   "metadata": {},
   "outputs": [
    {
     "name": "stdout",
     "output_type": "stream",
     "text": [
      "3\n",
      "3\n"
     ]
    }
   ],
   "source": [
    "for i in t:\n",
    "    if type(i) == list or type(i) == tuple:\n",
    "        for j in i:\n",
    "            if j == 3:\n",
    "                print(j)\n",
    "    if type(i)== dict:\n",
    "        for k,v in i.items():\n",
    "            if k == 3 or v == 3:\n",
    "                print(k)\n",
    "                print(v)\n",
    "          \n",
    "        \n",
    "        "
   ]
  },
  {
   "cell_type": "code",
   "execution_count": 5,
   "id": "edaed3a2",
   "metadata": {},
   "outputs": [
    {
     "ename": "NameError",
     "evalue": "name 'j' is not defined",
     "output_type": "error",
     "traceback": [
      "\u001b[1;31m---------------------------------------------------------------------------\u001b[0m",
      "\u001b[1;31mNameError\u001b[0m                                 Traceback (most recent call last)",
      "Input \u001b[1;32mIn [5]\u001b[0m, in \u001b[0;36m<cell line: 1>\u001b[1;34m()\u001b[0m\n\u001b[1;32m----> 1\u001b[0m \u001b[43mj\u001b[49m\n",
      "\u001b[1;31mNameError\u001b[0m: name 'j' is not defined"
     ]
    }
   ],
   "source": [
    "j"
   ]
  },
  {
   "cell_type": "code",
   "execution_count": 1,
   "id": "261ae104",
   "metadata": {},
   "outputs": [
    {
     "name": "stdout",
     "output_type": "stream",
     "text": [
      "6\n",
      "123456"
     ]
    }
   ],
   "source": [
    "n=int(input())\n",
    "m= 1\n",
    "for i in range(m, n+1):    \n",
    "    print(m, end=\"\")\n",
    "    m = m+1\n",
    "    continue\n",
    "    "
   ]
  },
  {
   "cell_type": "code",
   "execution_count": null,
   "id": "e671c9fb",
   "metadata": {},
   "outputs": [],
   "source": []
  },
  {
   "cell_type": "code",
   "execution_count": null,
   "id": "29882a85",
   "metadata": {},
   "outputs": [],
   "source": []
  }
 ],
 "metadata": {
  "kernelspec": {
   "display_name": "Python 3 (ipykernel)",
   "language": "python",
   "name": "python3"
  },
  "language_info": {
   "codemirror_mode": {
    "name": "ipython",
    "version": 3
   },
   "file_extension": ".py",
   "mimetype": "text/x-python",
   "name": "python",
   "nbconvert_exporter": "python",
   "pygments_lexer": "ipython3",
   "version": "3.9.12"
  }
 },
 "nbformat": 4,
 "nbformat_minor": 5
}
