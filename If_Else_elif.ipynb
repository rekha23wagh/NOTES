{
 "cells": [
  {
   "cell_type": "markdown",
   "id": "23f0b65e",
   "metadata": {},
   "source": [
    "# IF, ELIF,ELSE"
   ]
  },
  {
   "cell_type": "code",
   "execution_count": 4,
   "id": "931aa07e",
   "metadata": {},
   "outputs": [
    {
     "name": "stdout",
     "output_type": "stream",
     "text": [
      "This is my first program\n"
     ]
    }
   ],
   "source": [
    "a = 10\n",
    "if a == 10 :     #:mst be there aftr any statment\n",
    "    print(\"This is my first program\")\n"
   ]
  },
  {
   "cell_type": "code",
   "execution_count": 6,
   "id": "bdea8275",
   "metadata": {},
   "outputs": [
    {
     "name": "stdout",
     "output_type": "stream",
     "text": [
      "my condition is false\n"
     ]
    }
   ],
   "source": [
    "a = 10\n",
    "if a != 11:\n",
    "   print(\"my condition is false\")\n",
    "else:\n",
    "    print(\"print this\")"
   ]
  },
  {
   "cell_type": "code",
   "execution_count": 7,
   "id": "40006442",
   "metadata": {},
   "outputs": [
    {
     "name": "stdout",
     "output_type": "stream",
     "text": [
      "print this\n"
     ]
    }
   ],
   "source": [
    "a = 10\n",
    "if a == 11:\n",
    "   print(\"my condition is false\")\n",
    "else:\n",
    "    print(\"print this\")"
   ]
  },
  {
   "cell_type": "code",
   "execution_count": 13,
   "id": "af7598a1",
   "metadata": {},
   "outputs": [
    {
     "name": "stdout",
     "output_type": "stream",
     "text": [
      "My condition is true\n"
     ]
    }
   ],
   "source": [
    "a = 10\n",
    "if a<= 11:\n",
    "    print(\"My condition is true\")\n",
    "elif a == 10:\n",
    "    print(\"my condition id false\")\n",
    "else:\n",
    "    print(\"none\")"
   ]
  },
  {
   "cell_type": "code",
   "execution_count": 19,
   "id": "5d5670c4",
   "metadata": {},
   "outputs": [
    {
     "name": "stdout",
     "output_type": "stream",
     "text": [
      "none\n"
     ]
    }
   ],
   "source": [
    "a = 1\n",
    "if a>= 10:\n",
    "    print(\"My condition is true\")\n",
    "elif a == 10:\n",
    "    print(\"my condition id false\")\n",
    "else:\n",
    "    print(\"none\")"
   ]
  },
  {
   "cell_type": "code",
   "execution_count": 21,
   "id": "9b77a836",
   "metadata": {},
   "outputs": [
    {
     "name": "stdout",
     "output_type": "stream",
     "text": [
      "my condition id false\n"
     ]
    }
   ],
   "source": [
    "a = 1\n",
    "if a>= 10:\n",
    "    print(\"My condition is true\")\n",
    "elif a <= 10:\n",
    "    print(\"my condition id false\")\n",
    "else:\n",
    "    print(\"none\")"
   ]
  },
  {
   "cell_type": "code",
   "execution_count": 23,
   "id": "d75105cd",
   "metadata": {},
   "outputs": [
    {
     "name": "stdout",
     "output_type": "stream",
     "text": [
      " i will buy something\n"
     ]
    }
   ],
   "source": [
    "price = 500\n",
    "if price > 500:\n",
    "    print(\" i will not be able to buy anything\")\n",
    "elif price <= 500:\n",
    "    print(\" i will buy something\")"
   ]
  },
  {
   "cell_type": "code",
   "execution_count": 26,
   "id": "bac4d15a",
   "metadata": {},
   "outputs": [],
   "source": [
    "price = 500\n",
    "if price > 500:\n",
    "    print(\" i will not be able to buy anything\")\n",
    "elif price < 500:\n",
    "    print(\" i will buy something\")"
   ]
  },
  {
   "cell_type": "markdown",
   "id": "f4138283",
   "metadata": {},
   "source": [
    "*nothing is printed becouse everything is false*"
   ]
  },
  {
   "cell_type": "code",
   "execution_count": 25,
   "id": "c783df5e",
   "metadata": {},
   "outputs": [
    {
     "name": "stdout",
     "output_type": "stream",
     "text": [
      "nothing is good going\n"
     ]
    }
   ],
   "source": [
    "price = 500\n",
    "if price > 500:\n",
    "    print(\" i will not be able to buy anything\")\n",
    "elif price < 500:\n",
    "    print(\" i will buy something\")\n",
    "else:\n",
    "    print(\"nothing is good going\")"
   ]
  },
  {
   "cell_type": "code",
   "execution_count": 27,
   "id": "8c2f9114",
   "metadata": {},
   "outputs": [
    {
     "data": {
      "text/plain": [
       "False"
      ]
     },
     "execution_count": 27,
     "metadata": {},
     "output_type": "execute_result"
    }
   ],
   "source": [
    "price>500"
   ]
  },
  {
   "cell_type": "code",
   "execution_count": 28,
   "id": "7cc2133a",
   "metadata": {},
   "outputs": [
    {
     "data": {
      "text/plain": [
       "False"
      ]
     },
     "execution_count": 28,
     "metadata": {},
     "output_type": "execute_result"
    }
   ],
   "source": [
    "price<500"
   ]
  },
  {
   "cell_type": "code",
   "execution_count": 29,
   "id": "df6b4af0",
   "metadata": {},
   "outputs": [
    {
     "data": {
      "text/plain": [
       "True"
      ]
     },
     "execution_count": 29,
     "metadata": {},
     "output_type": "execute_result"
    }
   ],
   "source": [
    "price==500"
   ]
  },
  {
   "cell_type": "code",
   "execution_count": 30,
   "id": "437c1f11",
   "metadata": {},
   "outputs": [],
   "source": [
    "l = [2,8,9,5,6,2,5,8,3]"
   ]
  },
  {
   "cell_type": "code",
   "execution_count": 31,
   "id": "d32a115e",
   "metadata": {},
   "outputs": [
    {
     "name": "stdout",
     "output_type": "stream",
     "text": [
      "perform the task\n"
     ]
    }
   ],
   "source": [
    "if 2 in l:\n",
    "    print(\"perform the task\")\n",
    "else:\n",
    "    print(\"Do not perform the task\")"
   ]
  },
  {
   "cell_type": "code",
   "execution_count": 33,
   "id": "1f3ee0f8",
   "metadata": {},
   "outputs": [],
   "source": [
    "l= [1,2,3,44,5,6,7,8,8]"
   ]
  },
  {
   "cell_type": "code",
   "execution_count": 34,
   "id": "5a3bfc00",
   "metadata": {},
   "outputs": [
    {
     "name": "stdout",
     "output_type": "stream",
     "text": [
      "perform the addition\n"
     ]
    }
   ],
   "source": [
    "if 1 in l:\n",
    "    print(\"perform the addition\")\n",
    "elif 2 in l:\n",
    "    print(\" perform the deletion\")\n",
    "else:\n",
    "    print(\" perform the multiplication\")"
   ]
  },
  {
   "cell_type": "markdown",
   "id": "796b1810",
   "metadata": {},
   "source": [
    "*it only given the 1st out put coz very 1st condtion has true. it doesnt mean of next any condition thts true or false*"
   ]
  },
  {
   "cell_type": "code",
   "execution_count": 41,
   "id": "f44e7dc5",
   "metadata": {},
   "outputs": [],
   "source": [
    "l= [1,2,3,44,5,6,7,8,8]"
   ]
  },
  {
   "cell_type": "code",
   "execution_count": 44,
   "id": "12c27cb2",
   "metadata": {},
   "outputs": [
    {
     "name": "stdout",
     "output_type": "stream",
     "text": [
      "perform the deletion\n",
      "very good\n"
     ]
    }
   ],
   "source": [
    "if 10 in l:\n",
    "    print(\"perform the addition\")\n",
    "elif 2 in l:\n",
    "    print(\"perform the deletion\")\n",
    "elif 3 in l:\n",
    "    print(\"perform the multiplication\")\n",
    "if 5 in l:          #this is totatly new blck,\n",
    "    print(\"very good\")"
   ]
  },
  {
   "cell_type": "code",
   "execution_count": null,
   "id": "a9dbe059",
   "metadata": {},
   "outputs": [],
   "source": [
    "b = 400"
   ]
  },
  {
   "cell_type": "code",
   "execution_count": null,
   "id": "d3c9f0c7",
   "metadata": {},
   "outputs": [],
   "source": [
    "b = input()"
   ]
  },
  {
   "cell_type": "code",
   "execution_count": null,
   "id": "12c5aa5b",
   "metadata": {},
   "outputs": [],
   "source": [
    "b = 400"
   ]
  },
  {
   "cell_type": "code",
   "execution_count": null,
   "id": "8efbcd3c",
   "metadata": {},
   "outputs": [],
   "source": []
  },
  {
   "cell_type": "code",
   "execution_count": null,
   "id": "2c7828ef",
   "metadata": {},
   "outputs": [],
   "source": []
  }
 ],
 "metadata": {
  "kernelspec": {
   "display_name": "Python 3 (ipykernel)",
   "language": "python",
   "name": "python3"
  },
  "language_info": {
   "codemirror_mode": {
    "name": "ipython",
    "version": 3
   },
   "file_extension": ".py",
   "mimetype": "text/x-python",
   "name": "python",
   "nbconvert_exporter": "python",
   "pygments_lexer": "ipython3",
   "version": "3.9.12"
  }
 },
 "nbformat": 4,
 "nbformat_minor": 5
}
