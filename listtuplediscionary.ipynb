{
 "cells": [
  {
   "cell_type": "markdown",
   "id": "d00e9755",
   "metadata": {},
   "source": [
    "# LIST"
   ]
  },
  {
   "cell_type": "code",
   "execution_count": 99,
   "id": "6359ee2a",
   "metadata": {},
   "outputs": [],
   "source": [
    "l=[]"
   ]
  },
  {
   "cell_type": "code",
   "execution_count": 4,
   "id": "c69c0bd5",
   "metadata": {},
   "outputs": [],
   "source": [
    "l=[2,8,5,3,9,\"jhg\",2.5,True]"
   ]
  },
  {
   "cell_type": "code",
   "execution_count": 5,
   "id": "c31a1d67",
   "metadata": {},
   "outputs": [
    {
     "data": {
      "text/plain": [
       "2"
      ]
     },
     "execution_count": 5,
     "metadata": {},
     "output_type": "execute_result"
    }
   ],
   "source": [
    "l[0]              #element at index zero"
   ]
  },
  {
   "cell_type": "code",
   "execution_count": 6,
   "id": "175f4957",
   "metadata": {},
   "outputs": [
    {
     "data": {
      "text/plain": [
       "[5, 3, 9, 'jhg']"
      ]
     },
     "execution_count": 6,
     "metadata": {},
     "output_type": "execute_result"
    }
   ],
   "source": [
    "l[2:6]             #lenth of list from index 2 to 6 lower and upper bound that excluded"
   ]
  },
  {
   "cell_type": "code",
   "execution_count": 7,
   "id": "1416c714",
   "metadata": {},
   "outputs": [
    {
     "data": {
      "text/plain": [
       "8"
      ]
     },
     "execution_count": 7,
     "metadata": {},
     "output_type": "execute_result"
    }
   ],
   "source": [
    "len(l)             #length of given list"
   ]
  },
  {
   "cell_type": "code",
   "execution_count": 8,
   "id": "c877794a",
   "metadata": {},
   "outputs": [
    {
     "data": {
      "text/plain": [
       "[True, 2.5, 'jhg', 9, 3, 5, 8, 2]"
      ]
     },
     "execution_count": 8,
     "metadata": {},
     "output_type": "execute_result"
    }
   ],
   "source": [
    "  l[::-1]         #reverse of list"
   ]
  },
  {
   "cell_type": "code",
   "execution_count": 10,
   "id": "c100070b",
   "metadata": {},
   "outputs": [
    {
     "data": {
      "text/plain": [
       "[2, 5, 9, 2.5]"
      ]
     },
     "execution_count": 10,
     "metadata": {},
     "output_type": "execute_result"
    }
   ],
   "source": [
    "l[0:100:2]       #list with jumping from 2nd place"
   ]
  },
  {
   "cell_type": "code",
   "execution_count": 11,
   "id": "54a303d1",
   "metadata": {},
   "outputs": [
    {
     "data": {
      "text/plain": [
       "[]"
      ]
     },
     "execution_count": 11,
     "metadata": {},
     "output_type": "execute_result"
    }
   ],
   "source": [
    "l[0:10:-1]            #will reverse blank list y coz its directed in +ve direction and jumping is in -ve- contradiction[]"
   ]
  },
  {
   "cell_type": "code",
   "execution_count": 13,
   "id": "c28c461e",
   "metadata": {},
   "outputs": [
    {
     "data": {
      "text/plain": [
       "[2, 8, 5, 3, 9, 'jhg']"
      ]
     },
     "execution_count": 13,
     "metadata": {},
     "output_type": "execute_result"
    }
   ],
   "source": [
    "l[:6]               # will take default lower bound as zero"
   ]
  },
  {
   "cell_type": "code",
   "execution_count": 16,
   "id": "92b458d2",
   "metadata": {},
   "outputs": [
    {
     "data": {
      "text/plain": [
       "[2, 8, 5, 3, 9, 'jhg', 2.5, True, 'oiuy']"
      ]
     },
     "execution_count": 16,
     "metadata": {},
     "output_type": "execute_result"
    }
   ],
   "source": [
    " l + [\"oiuy\"]"
   ]
  },
  {
   "cell_type": "code",
   "execution_count": 17,
   "id": "9c993d4c",
   "metadata": {},
   "outputs": [
    {
     "data": {
      "text/plain": [
       "[2, 8, 5, 3, 9, 'jhg', 2.5, True, 2, 8, 5, 3, 9, 'jhg', 2.5, True]"
      ]
     },
     "execution_count": 17,
     "metadata": {},
     "output_type": "execute_result"
    }
   ],
   "source": [
    "l*2"
   ]
  },
  {
   "cell_type": "code",
   "execution_count": 19,
   "id": "04e27126",
   "metadata": {},
   "outputs": [
    {
     "data": {
      "text/plain": [
       "False"
      ]
     },
     "execution_count": 19,
     "metadata": {},
     "output_type": "execute_result"
    }
   ],
   "source": [
    "60 in l"
   ]
  },
  {
   "cell_type": "code",
   "execution_count": 20,
   "id": "b4c520f4",
   "metadata": {},
   "outputs": [
    {
     "data": {
      "text/plain": [
       "True"
      ]
     },
     "execution_count": 20,
     "metadata": {},
     "output_type": "execute_result"
    }
   ],
   "source": [
    "  9 in l"
   ]
  },
  {
   "cell_type": "code",
   "execution_count": null,
   "id": "4a362d06",
   "metadata": {},
   "outputs": [],
   "source": []
  },
  {
   "cell_type": "code",
   "execution_count": 3,
   "id": "c8439307",
   "metadata": {},
   "outputs": [],
   "source": [
    "k=[\"sdfasd\", \"asdfds\", \"erthmnb\", \"wehfgcv\"]"
   ]
  },
  {
   "cell_type": "code",
   "execution_count": 4,
   "id": "48f83124",
   "metadata": {},
   "outputs": [
    {
     "data": {
      "text/plain": [
       "'asdfds'"
      ]
     },
     "execution_count": 4,
     "metadata": {},
     "output_type": "execute_result"
    }
   ],
   "source": [
    "min(k)              #to find lowest within the list- lowest alpha"
   ]
  },
  {
   "cell_type": "code",
   "execution_count": 5,
   "id": "170ce837",
   "metadata": {},
   "outputs": [
    {
     "data": {
      "text/plain": [
       "'wehfgcv'"
      ]
     },
     "execution_count": 5,
     "metadata": {},
     "output_type": "execute_result"
    }
   ],
   "source": [
    "max(k)                #to find max within the list - highest in no"
   ]
  },
  {
   "cell_type": "code",
   "execution_count": 6,
   "id": "a19e63c1",
   "metadata": {},
   "outputs": [],
   "source": [
    "k.append(\"asdfgh\")        #it is the function to add the data in list at the very last position"
   ]
  },
  {
   "cell_type": "code",
   "execution_count": 7,
   "id": "7add05d1",
   "metadata": {},
   "outputs": [
    {
     "data": {
      "text/plain": [
       "['sdfasd', 'asdfds', 'erthmnb', 'wehfgcv', 'asdfgh']"
      ]
     },
     "execution_count": 7,
     "metadata": {},
     "output_type": "execute_result"
    }
   ],
   "source": [
    "k"
   ]
  },
  {
   "cell_type": "code",
   "execution_count": 8,
   "id": "4f51e842",
   "metadata": {},
   "outputs": [],
   "source": [
    "k.append(\"[1,5,2,5,8,4,3]\")"
   ]
  },
  {
   "cell_type": "code",
   "execution_count": 9,
   "id": "f6a94bb4",
   "metadata": {},
   "outputs": [
    {
     "data": {
      "text/plain": [
       "['sdfasd', 'asdfds', 'erthmnb', 'wehfgcv', 'asdfgh', '[1,5,2,5,8,4,3]']"
      ]
     },
     "execution_count": 9,
     "metadata": {},
     "output_type": "execute_result"
    }
   ],
   "source": [
    "k"
   ]
  },
  {
   "cell_type": "code",
   "execution_count": 11,
   "id": "00e57c35",
   "metadata": {},
   "outputs": [
    {
     "data": {
      "text/plain": [
       "'sdfasd'"
      ]
     },
     "execution_count": 11,
     "metadata": {},
     "output_type": "execute_result"
    }
   ],
   "source": [
    "k.pop(0)             #to remove the data from list at that given index"
   ]
  },
  {
   "cell_type": "code",
   "execution_count": 12,
   "id": "3778c43f",
   "metadata": {},
   "outputs": [
    {
     "data": {
      "text/plain": [
       "['asdfds', 'erthmnb', 'wehfgcv', 'asdfgh']"
      ]
     },
     "execution_count": 12,
     "metadata": {},
     "output_type": "execute_result"
    }
   ],
   "source": [
    "k"
   ]
  },
  {
   "cell_type": "code",
   "execution_count": 13,
   "id": "2df6cde0",
   "metadata": {},
   "outputs": [
    {
     "data": {
      "text/plain": [
       "'asdfgh'"
      ]
     },
     "execution_count": 13,
     "metadata": {},
     "output_type": "execute_result"
    }
   ],
   "source": [
    "k.pop()                #if index is not passed then it will return by default last element"
   ]
  },
  {
   "cell_type": "code",
   "execution_count": 14,
   "id": "40218f25",
   "metadata": {},
   "outputs": [
    {
     "data": {
      "text/plain": [
       "['asdfds', 'erthmnb', 'wehfgcv']"
      ]
     },
     "execution_count": 14,
     "metadata": {},
     "output_type": "execute_result"
    }
   ],
   "source": [
    "k"
   ]
  },
  {
   "cell_type": "code",
   "execution_count": 2,
   "id": "8a52cb3d",
   "metadata": {},
   "outputs": [],
   "source": [
    "k=[\"sdfasd\", \"asdfds\", \"erthmnb\", \"wehfgcv\"]"
   ]
  },
  {
   "cell_type": "code",
   "execution_count": 3,
   "id": "bbc34422",
   "metadata": {},
   "outputs": [
    {
     "data": {
      "text/plain": [
       "0"
      ]
     },
     "execution_count": 3,
     "metadata": {},
     "output_type": "execute_result"
    }
   ],
   "source": [
    "k.count(2)"
   ]
  },
  {
   "cell_type": "code",
   "execution_count": 7,
   "id": "f91d4b82",
   "metadata": {},
   "outputs": [],
   "source": [
    "k=[[1,5,8,4,6,2],[2,5,8,9,4],[2,54,7,8,6,2]]"
   ]
  },
  {
   "cell_type": "code",
   "execution_count": 8,
   "id": "b09bf408",
   "metadata": {},
   "outputs": [
    {
     "data": {
      "text/plain": [
       "[2, 5, 8, 9, 4]"
      ]
     },
     "execution_count": 8,
     "metadata": {},
     "output_type": "execute_result"
    }
   ],
   "source": [
    "k[1]"
   ]
  },
  {
   "cell_type": "code",
   "execution_count": 6,
   "id": "e87414da",
   "metadata": {},
   "outputs": [
    {
     "data": {
      "text/plain": [
       "7"
      ]
     },
     "execution_count": 6,
     "metadata": {},
     "output_type": "execute_result"
    }
   ],
   "source": [
    "k[2][2]            #in k list other 3 list are. index 0, 1, 2. we are fetching details of 2nd index and 2nd element"
   ]
  },
  {
   "cell_type": "code",
   "execution_count": 12,
   "id": "ff5851bc",
   "metadata": {},
   "outputs": [],
   "source": [
    "k.append([1,2,5,3])           #to add the element in current list"
   ]
  },
  {
   "cell_type": "code",
   "execution_count": 13,
   "id": "9c877c0f",
   "metadata": {},
   "outputs": [
    {
     "data": {
      "text/plain": [
       "[[1, 5, 8, 4, 6, 2],\n",
       " [2, 5, 8, 9, 4],\n",
       " [2, 54, 7, 8, 6, 2],\n",
       " [1, 2, 5, 3],\n",
       " [1, 2, 5, 3]]"
      ]
     },
     "execution_count": 13,
     "metadata": {},
     "output_type": "execute_result"
    }
   ],
   "source": [
    "k"
   ]
  },
  {
   "cell_type": "code",
   "execution_count": 14,
   "id": "a24136f4",
   "metadata": {},
   "outputs": [],
   "source": [
    "k.extend(\"sdf\")"
   ]
  },
  {
   "cell_type": "code",
   "execution_count": 15,
   "id": "eeff75f2",
   "metadata": {},
   "outputs": [
    {
     "data": {
      "text/plain": [
       "[[1, 5, 8, 4, 6, 2],\n",
       " [2, 5, 8, 9, 4],\n",
       " [2, 54, 7, 8, 6, 2],\n",
       " [1, 2, 5, 3],\n",
       " [1, 2, 5, 3],\n",
       " 's',\n",
       " 'd',\n",
       " 'f']"
      ]
     },
     "execution_count": 15,
     "metadata": {},
     "output_type": "execute_result"
    }
   ],
   "source": [
    "k"
   ]
  },
  {
   "cell_type": "code",
   "execution_count": 16,
   "id": "db505286",
   "metadata": {},
   "outputs": [
    {
     "ename": "TypeError",
     "evalue": "'int' object is not iterable",
     "output_type": "error",
     "traceback": [
      "\u001b[1;31m---------------------------------------------------------------------------\u001b[0m",
      "\u001b[1;31mTypeError\u001b[0m                                 Traceback (most recent call last)",
      "Input \u001b[1;32mIn [16]\u001b[0m, in \u001b[0;36m<cell line: 1>\u001b[1;34m()\u001b[0m\n\u001b[1;32m----> 1\u001b[0m \u001b[43mk\u001b[49m\u001b[38;5;241;43m.\u001b[39;49m\u001b[43mextend\u001b[49m\u001b[43m(\u001b[49m\u001b[38;5;241;43m25\u001b[39;49m\u001b[43m)\u001b[49m\n",
      "\u001b[1;31mTypeError\u001b[0m: 'int' object is not iterable"
     ]
    }
   ],
   "source": [
    "k.extend(25)                 #integer not able to iterate in extend"
   ]
  },
  {
   "cell_type": "code",
   "execution_count": 17,
   "id": "c1236e2f",
   "metadata": {},
   "outputs": [],
   "source": [
    "k.extend(\"[1,2,5,4,7,9,6]\")"
   ]
  },
  {
   "cell_type": "code",
   "execution_count": 18,
   "id": "e7d0b23d",
   "metadata": {},
   "outputs": [
    {
     "data": {
      "text/plain": [
       "[[1, 5, 8, 4, 6, 2],\n",
       " [2, 5, 8, 9, 4],\n",
       " [2, 54, 7, 8, 6, 2],\n",
       " [1, 2, 5, 3],\n",
       " [1, 2, 5, 3],\n",
       " 's',\n",
       " 'd',\n",
       " 'f',\n",
       " '[',\n",
       " '1',\n",
       " ',',\n",
       " '2',\n",
       " ',',\n",
       " '5',\n",
       " ',',\n",
       " '4',\n",
       " ',',\n",
       " '7',\n",
       " ',',\n",
       " '9',\n",
       " ',',\n",
       " '6',\n",
       " ']']"
      ]
     },
     "execution_count": 18,
     "metadata": {},
     "output_type": "execute_result"
    }
   ],
   "source": [
    "k"
   ]
  },
  {
   "cell_type": "code",
   "execution_count": 25,
   "id": "74010d72",
   "metadata": {},
   "outputs": [],
   "source": [
    "a= [1,2,5,6,5,8,9]"
   ]
  },
  {
   "cell_type": "code",
   "execution_count": 34,
   "id": "ebae3d02",
   "metadata": {},
   "outputs": [],
   "source": [
    "a.insert(3, [2,5,8,3])"
   ]
  },
  {
   "cell_type": "code",
   "execution_count": 35,
   "id": "e08473d4",
   "metadata": {},
   "outputs": [
    {
     "data": {
      "text/plain": [
       "[1,\n",
       " [2, 5, 8, 3],\n",
       " [2, 5, 8, 3],\n",
       " [2, 5, 8, 3],\n",
       " [2, 5, 8, 3],\n",
       " 2,\n",
       " 'jhg',\n",
       " 5,\n",
       " 6,\n",
       " 5,\n",
       " 8,\n",
       " 9]"
      ]
     },
     "execution_count": 35,
     "metadata": {},
     "output_type": "execute_result"
    }
   ],
   "source": [
    "a"
   ]
  },
  {
   "cell_type": "code",
   "execution_count": 36,
   "id": "2ae0ee7d",
   "metadata": {},
   "outputs": [],
   "source": [
    "a.insert(5,\"jhg\")            #insert an element at perticular place/index"
   ]
  },
  {
   "cell_type": "code",
   "execution_count": 37,
   "id": "0d52b6d9",
   "metadata": {},
   "outputs": [
    {
     "data": {
      "text/plain": [
       "[1,\n",
       " [2, 5, 8, 3],\n",
       " [2, 5, 8, 3],\n",
       " [2, 5, 8, 3],\n",
       " [2, 5, 8, 3],\n",
       " 'jhg',\n",
       " 2,\n",
       " 'jhg',\n",
       " 5,\n",
       " 6,\n",
       " 5,\n",
       " 8,\n",
       " 9]"
      ]
     },
     "execution_count": 37,
     "metadata": {},
     "output_type": "execute_result"
    }
   ],
   "source": [
    "a"
   ]
  },
  {
   "cell_type": "code",
   "execution_count": 38,
   "id": "3b4a5d21",
   "metadata": {},
   "outputs": [
    {
     "data": {
      "text/plain": [
       "9"
      ]
     },
     "execution_count": 38,
     "metadata": {},
     "output_type": "execute_result"
    }
   ],
   "source": [
    "a.pop()           #to remove the element from list from end"
   ]
  },
  {
   "cell_type": "code",
   "execution_count": 39,
   "id": "5bde4d1e",
   "metadata": {},
   "outputs": [],
   "source": [
    "a.remove(5)       #to remove the perticular element from the list but first if multiple"
   ]
  },
  {
   "cell_type": "code",
   "execution_count": 40,
   "id": "be293cd3",
   "metadata": {},
   "outputs": [
    {
     "data": {
      "text/plain": [
       "[1,\n",
       " [2, 5, 8, 3],\n",
       " [2, 5, 8, 3],\n",
       " [2, 5, 8, 3],\n",
       " [2, 5, 8, 3],\n",
       " 'jhg',\n",
       " 2,\n",
       " 'jhg',\n",
       " 6,\n",
       " 5,\n",
       " 8]"
      ]
     },
     "execution_count": 40,
     "metadata": {},
     "output_type": "execute_result"
    }
   ],
   "source": [
    "a"
   ]
  },
  {
   "cell_type": "code",
   "execution_count": null,
   "id": "0a75ca12",
   "metadata": {},
   "outputs": [],
   "source": [
    "# a[6]=\"rekha\"     #the element 6 has replaced by rekha"
   ]
  },
  {
   "cell_type": "code",
   "execution_count": 43,
   "id": "a710e513",
   "metadata": {},
   "outputs": [
    {
     "data": {
      "text/plain": [
       "[1,\n",
       " [2, 5, 8, 3],\n",
       " [2, 5, 8, 3],\n",
       " [2, 5, 8, 3],\n",
       " [2, 5, 8, 3],\n",
       " 'jhg',\n",
       " 'rekha',\n",
       " 'jhg',\n",
       " 6,\n",
       " 5,\n",
       " 8]"
      ]
     },
     "execution_count": 43,
     "metadata": {},
     "output_type": "execute_result"
    }
   ],
   "source": [
    "a"
   ]
  },
  {
   "cell_type": "markdown",
   "id": "d3d36992",
   "metadata": {},
   "source": [
    "# Tuple"
   ]
  },
  {
   "cell_type": "code",
   "execution_count": 45,
   "id": "37dc4fb3",
   "metadata": {},
   "outputs": [],
   "source": [
    "t = (1,5,8, \"ocean\", [1,5,4], 'true', 5.6, 4 + 3j)"
   ]
  },
  {
   "cell_type": "code",
   "execution_count": 46,
   "id": "81b4a447",
   "metadata": {},
   "outputs": [
    {
     "data": {
      "text/plain": [
       "tuple"
      ]
     },
     "execution_count": 46,
     "metadata": {},
     "output_type": "execute_result"
    }
   ],
   "source": [
    "type(t)"
   ]
  },
  {
   "cell_type": "code",
   "execution_count": 48,
   "id": "eb3f7df9",
   "metadata": {},
   "outputs": [
    {
     "data": {
      "text/plain": [
       "8"
      ]
     },
     "execution_count": 48,
     "metadata": {},
     "output_type": "execute_result"
    }
   ],
   "source": [
    "t[2]         #value on index 2 in tuple"
   ]
  },
  {
   "cell_type": "code",
   "execution_count": 49,
   "id": "f1101aa7",
   "metadata": {},
   "outputs": [
    {
     "data": {
      "text/plain": [
       "(5, 8, 'ocean', [1, 5, 4], 'true')"
      ]
     },
     "execution_count": 49,
     "metadata": {},
     "output_type": "execute_result"
    }
   ],
   "source": [
    "t[1:6]         #value from lower bound index 1 to upper bound bound 6 that is excluded"
   ]
  },
  {
   "cell_type": "code",
   "execution_count": 51,
   "id": "6e58aeee",
   "metadata": {},
   "outputs": [
    {
     "data": {
      "text/plain": [
       "(1, 8, [1, 5, 4], 5.6)"
      ]
     },
     "execution_count": 51,
     "metadata": {},
     "output_type": "execute_result"
    }
   ],
   "source": [
    "t[0:8:2]    # values from 0 th index to 8 th index and shifting to every 2nd place"
   ]
  },
  {
   "cell_type": "code",
   "execution_count": 52,
   "id": "7e546014",
   "metadata": {},
   "outputs": [],
   "source": [
    "t = {}"
   ]
  },
  {
   "cell_type": "code",
   "execution_count": 53,
   "id": "4c587008",
   "metadata": {},
   "outputs": [
    {
     "data": {
      "text/plain": [
       "dict"
      ]
     },
     "execution_count": 53,
     "metadata": {},
     "output_type": "execute_result"
    }
   ],
   "source": [
    "type(t)"
   ]
  },
  {
   "cell_type": "code",
   "execution_count": 2,
   "id": "03d65eae",
   "metadata": {},
   "outputs": [],
   "source": [
    "t={2}"
   ]
  },
  {
   "cell_type": "code",
   "execution_count": 3,
   "id": "1c05b590",
   "metadata": {},
   "outputs": [
    {
     "data": {
      "text/plain": [
       "set"
      ]
     },
     "execution_count": 3,
     "metadata": {},
     "output_type": "execute_result"
    }
   ],
   "source": [
    "type(t)"
   ]
  },
  {
   "cell_type": "code",
   "execution_count": 7,
   "id": "c449dcec",
   "metadata": {},
   "outputs": [],
   "source": [
    "t = {2, \"sdfg\", \"edrfy\",2.5, 4+3j}"
   ]
  },
  {
   "cell_type": "code",
   "execution_count": 8,
   "id": "1f9a6e8a",
   "metadata": {},
   "outputs": [
    {
     "data": {
      "text/plain": [
       "set"
      ]
     },
     "execution_count": 8,
     "metadata": {},
     "output_type": "execute_result"
    }
   ],
   "source": [
    "type(t)"
   ]
  },
  {
   "cell_type": "markdown",
   "id": "5e2715f6",
   "metadata": {},
   "source": [
    " # Dictionary"
   ]
  },
  {
   "cell_type": "code",
   "execution_count": 13,
   "id": "e69070c2",
   "metadata": {},
   "outputs": [],
   "source": [
    "d2={ \"key1\" : \"value\", \"xyz\" : \"name\", \"No\" : 9096462010, \"name\" : \"ocean\"}"
   ]
  },
  {
   "cell_type": "code",
   "execution_count": 14,
   "id": "a39013d2",
   "metadata": {},
   "outputs": [
    {
     "data": {
      "text/plain": [
       "dict"
      ]
     },
     "execution_count": 14,
     "metadata": {},
     "output_type": "execute_result"
    }
   ],
   "source": [
    "type(d2)"
   ]
  },
  {
   "cell_type": "code",
   "execution_count": 17,
   "id": "c9f4ce46",
   "metadata": {},
   "outputs": [
    {
     "data": {
      "text/plain": [
       "'value'"
      ]
     },
     "execution_count": 17,
     "metadata": {},
     "output_type": "execute_result"
    }
   ],
   "source": [
    "d2[\"key1\"]"
   ]
  },
  {
   "cell_type": "code",
   "execution_count": 26,
   "id": "3a08ea7c",
   "metadata": {},
   "outputs": [],
   "source": [
    "d3 = {\"name\" : \"Rekha\", \"tech\" : [\"python\", \"ML\", \"DL\", \"data science\", \"Big data\"], \"Age\" : \"25\", \"field\" : \"Engineering\"}"
   ]
  },
  {
   "cell_type": "code",
   "execution_count": 27,
   "id": "20f59db9",
   "metadata": {},
   "outputs": [
    {
     "data": {
      "text/plain": [
       "['python', 'ML', 'DL', 'data science', 'Big data']"
      ]
     },
     "execution_count": 27,
     "metadata": {},
     "output_type": "execute_result"
    }
   ],
   "source": [
    "d3[\"tech\"]"
   ]
  },
  {
   "cell_type": "code",
   "execution_count": 28,
   "id": "63ef100f",
   "metadata": {},
   "outputs": [
    {
     "data": {
      "text/plain": [
       "True"
      ]
     },
     "execution_count": 28,
     "metadata": {},
     "output_type": "execute_result"
    }
   ],
   "source": [
    "\"python\" in d3[\"tech\"]"
   ]
  },
  {
   "cell_type": "code",
   "execution_count": 29,
   "id": "6263c24b",
   "metadata": {},
   "outputs": [
    {
     "data": {
      "text/plain": [
       "True"
      ]
     },
     "execution_count": 29,
     "metadata": {},
     "output_type": "execute_result"
    }
   ],
   "source": [
    "'ML' in d3[\"tech\"]"
   ]
  },
  {
   "cell_type": "code",
   "execution_count": 37,
   "id": "aeb36fbe",
   "metadata": {},
   "outputs": [
    {
     "data": {
      "text/plain": [
       "{'name': 'Rekha',\n",
       " 'tech': ['python', 'ML', 'DL', 'data science', 'Big data'],\n",
       " 'Age': '25',\n",
       " 'field': 'Engineering',\n",
       " 'k1': {'key1': 'value', 'xyz': 'name', 'No': 9096462010, 'name': 'ocean'}}"
      ]
     },
     "execution_count": 37,
     "metadata": {},
     "output_type": "execute_result"
    }
   ],
   "source": [
    "d3"
   ]
  },
  {
   "cell_type": "code",
   "execution_count": 41,
   "id": "e355e9ee",
   "metadata": {},
   "outputs": [],
   "source": [
    "d3[\"k1\"] = d2          #dictionary inside the dictionary"
   ]
  },
  {
   "cell_type": "code",
   "execution_count": 44,
   "id": "f4203784",
   "metadata": {},
   "outputs": [
    {
     "data": {
      "text/plain": [
       "9096462010"
      ]
     },
     "execution_count": 44,
     "metadata": {},
     "output_type": "execute_result"
    }
   ],
   "source": [
    "d3[\"k1\"][\"No\"]         #to extract no from the dictionary"
   ]
  },
  {
   "cell_type": "code",
   "execution_count": 45,
   "id": "a9df0ffe",
   "metadata": {},
   "outputs": [
    {
     "ename": "TypeError",
     "evalue": "unhashable type: 'list'",
     "output_type": "error",
     "traceback": [
      "\u001b[1;31m---------------------------------------------------------------------------\u001b[0m",
      "\u001b[1;31mTypeError\u001b[0m                                 Traceback (most recent call last)",
      "Input \u001b[1;32mIn [45]\u001b[0m, in \u001b[0;36m<cell line: 1>\u001b[1;34m()\u001b[0m\n\u001b[1;32m----> 1\u001b[0m d4 \u001b[38;5;241m=\u001b[39m {[\u001b[38;5;241m2\u001b[39m,\u001b[38;5;241m5\u001b[39m,\u001b[38;5;241m8\u001b[39m,\u001b[38;5;241m9\u001b[39m,\u001b[38;5;241m3\u001b[39m] : \u001b[38;5;124m\"\u001b[39m\u001b[38;5;124mujytre\u001b[39m\u001b[38;5;124m\"\u001b[39m}\n",
      "\u001b[1;31mTypeError\u001b[0m: unhashable type: 'list'"
     ]
    }
   ],
   "source": [
    "d4 = {[2,5,8,9,3] : \"ujytre\"} #unable to right the list inside dictionary as a key"
   ]
  },
  {
   "cell_type": "code",
   "execution_count": 46,
   "id": "1940ae9a",
   "metadata": {},
   "outputs": [],
   "source": [
    "d5 = {\"key2\": [2,5,8,9,3]}      #inside the dictionary list can be value of the key"
   ]
  },
  {
   "cell_type": "code",
   "execution_count": 47,
   "id": "b25d7d96",
   "metadata": {},
   "outputs": [
    {
     "data": {
      "text/plain": [
       "[2, 5, 8, 9, 3]"
      ]
     },
     "execution_count": 47,
     "metadata": {},
     "output_type": "execute_result"
    }
   ],
   "source": [
    "d5[\"key2\"]"
   ]
  },
  {
   "cell_type": "code",
   "execution_count": 48,
   "id": "d7071655",
   "metadata": {},
   "outputs": [],
   "source": [
    "d6 = {(2,5,8,9,33) : \"ytrtyh\"}   #inside the dictionary tuple can be right as a key"
   ]
  },
  {
   "cell_type": "code",
   "execution_count": 50,
   "id": "99828bb1",
   "metadata": {},
   "outputs": [
    {
     "data": {
      "text/plain": [
       "'ytrtyh'"
      ]
     },
     "execution_count": 50,
     "metadata": {},
     "output_type": "execute_result"
    }
   ],
   "source": [
    "d6[(2,5,8,9,33)]           "
   ]
  },
  {
   "cell_type": "code",
   "execution_count": 51,
   "id": "3f6a82d9",
   "metadata": {},
   "outputs": [],
   "source": [
    "d7 = {\"kjhg\" : (2,5,8,9)}         #inside the dictionary tuple can be right as a value"
   ]
  },
  {
   "cell_type": "code",
   "execution_count": 52,
   "id": "0594bef1",
   "metadata": {},
   "outputs": [
    {
     "data": {
      "text/plain": [
       "(2, 5, 8, 9)"
      ]
     },
     "execution_count": 52,
     "metadata": {},
     "output_type": "execute_result"
    }
   ],
   "source": [
    "d7[\"kjhg\"]"
   ]
  },
  {
   "cell_type": "code",
   "execution_count": 56,
   "id": "9919910e",
   "metadata": {},
   "outputs": [
    {
     "ename": "TypeError",
     "evalue": "unhashable type: 'dict'",
     "output_type": "error",
     "traceback": [
      "\u001b[1;31m---------------------------------------------------------------------------\u001b[0m",
      "\u001b[1;31mTypeError\u001b[0m                                 Traceback (most recent call last)",
      "Input \u001b[1;32mIn [56]\u001b[0m, in \u001b[0;36m<cell line: 1>\u001b[1;34m()\u001b[0m\n\u001b[1;32m----> 1\u001b[0m d8 \u001b[38;5;241m=\u001b[39m {{\u001b[38;5;124m\"\u001b[39m\u001b[38;5;124mjhg\u001b[39m\u001b[38;5;124m\"\u001b[39m: \u001b[38;5;241m16563\u001b[39m}: \u001b[38;5;124m\"\u001b[39m\u001b[38;5;124mkey\u001b[39m\u001b[38;5;124m\"\u001b[39m}\n",
      "\u001b[1;31mTypeError\u001b[0m: unhashable type: 'dict'"
     ]
    }
   ],
   "source": [
    "d8 = {{\"jhg\": 16563} : \"key\"}       #inside the dictionary the dictionary cant be right as a key"
   ]
  },
  {
   "cell_type": "code",
   "execution_count": 57,
   "id": "28eaf0df",
   "metadata": {},
   "outputs": [],
   "source": [
    "d9 = {\"juhg\" : {\"likuj\" : 32232}}   #inside the dictionary the dictionary cant be right as a value"
   ]
  },
  {
   "cell_type": "code",
   "execution_count": 58,
   "id": "1a204cab",
   "metadata": {},
   "outputs": [
    {
     "data": {
      "text/plain": [
       "{'likuj': 32232}"
      ]
     },
     "execution_count": 58,
     "metadata": {},
     "output_type": "execute_result"
    }
   ],
   "source": [
    "d9[\"juhg\"]"
   ]
  },
  {
   "cell_type": "code",
   "execution_count": 59,
   "id": "c149f98f",
   "metadata": {},
   "outputs": [
    {
     "data": {
      "text/plain": [
       "{'key1': 'value', 'xyz': 'name', 'No': 9096462010, 'name': 'ocean'}"
      ]
     },
     "execution_count": 59,
     "metadata": {},
     "output_type": "execute_result"
    }
   ],
   "source": [
    "d2"
   ]
  },
  {
   "cell_type": "code",
   "execution_count": 63,
   "id": "b1778abb",
   "metadata": {},
   "outputs": [
    {
     "data": {
      "text/plain": [
       "dict_values(['value', 'name', 9096462010, 'ocean'])"
      ]
     },
     "execution_count": 63,
     "metadata": {},
     "output_type": "execute_result"
    }
   ],
   "source": [
    "d2.values()           #extract the values in dictionary"
   ]
  },
  {
   "cell_type": "code",
   "execution_count": 64,
   "id": "923007bd",
   "metadata": {},
   "outputs": [
    {
     "data": {
      "text/plain": [
       "dict_items([('key1', 'value'), ('xyz', 'name'), ('No', 9096462010), ('name', 'ocean')])"
      ]
     },
     "execution_count": 64,
     "metadata": {},
     "output_type": "execute_result"
    }
   ],
   "source": [
    "d2.items()         #extract the items in dictionary"
   ]
  },
  {
   "cell_type": "code",
   "execution_count": 65,
   "id": "21cc8549",
   "metadata": {},
   "outputs": [
    {
     "data": {
      "text/plain": [
       "dict_keys(['key1', 'xyz', 'No', 'name'])"
      ]
     },
     "execution_count": 65,
     "metadata": {},
     "output_type": "execute_result"
    }
   ],
   "source": [
    "d2.keys()            # #extract the keys in dictionary"
   ]
  },
  {
   "cell_type": "markdown",
   "id": "7ead5481",
   "metadata": {},
   "source": [
    "# SET"
   ]
  },
  {
   "cell_type": "code",
   "execution_count": 66,
   "id": "47a1f60c",
   "metadata": {},
   "outputs": [],
   "source": [
    "s = {2,5,8,9,2,5,8,4,3,5,8,2}"
   ]
  },
  {
   "cell_type": "code",
   "execution_count": 68,
   "id": "74e2e44b",
   "metadata": {},
   "outputs": [
    {
     "data": {
      "text/plain": [
       "set"
      ]
     },
     "execution_count": 68,
     "metadata": {},
     "output_type": "execute_result"
    }
   ],
   "source": [
    "type(s)"
   ]
  },
  {
   "cell_type": "code",
   "execution_count": 69,
   "id": "3b264969",
   "metadata": {},
   "outputs": [
    {
     "data": {
      "text/plain": [
       "{2, 3, 4, 5, 8, 9}"
      ]
     },
     "execution_count": 69,
     "metadata": {},
     "output_type": "execute_result"
    }
   ],
   "source": [
    "s              #set is use to remove the multiple items and tp do sorting operatins"
   ]
  },
  {
   "cell_type": "code",
   "execution_count": 72,
   "id": "8e1e7a62",
   "metadata": {},
   "outputs": [],
   "source": [
    "s2 = {\"ocean\", 12,589,25,2,35, \"d\", \"kjj\"}"
   ]
  },
  {
   "cell_type": "code",
   "execution_count": 73,
   "id": "4f8f2879",
   "metadata": {},
   "outputs": [
    {
     "data": {
      "text/plain": [
       "{12, 2, 25, 35, 589, 'd', 'kjj', 'ocean'}"
      ]
     },
     "execution_count": 73,
     "metadata": {},
     "output_type": "execute_result"
    }
   ],
   "source": [
    "s2              #sorting via places value "
   ]
  },
  {
   "cell_type": "code",
   "execution_count": 74,
   "id": "0a213cf0",
   "metadata": {},
   "outputs": [
    {
     "ename": "TypeError",
     "evalue": "'set' object is not subscriptable",
     "output_type": "error",
     "traceback": [
      "\u001b[1;31m---------------------------------------------------------------------------\u001b[0m",
      "\u001b[1;31mTypeError\u001b[0m                                 Traceback (most recent call last)",
      "Input \u001b[1;32mIn [74]\u001b[0m, in \u001b[0;36m<cell line: 1>\u001b[1;34m()\u001b[0m\n\u001b[1;32m----> 1\u001b[0m \u001b[43ms2\u001b[49m\u001b[43m[\u001b[49m\u001b[38;5;241;43m1\u001b[39;49m\u001b[43m]\u001b[49m\n",
      "\u001b[1;31mTypeError\u001b[0m: 'set' object is not subscriptable"
     ]
    }
   ],
   "source": [
    "s2[1]               #we cant set the date in set as per indexes"
   ]
  },
  {
   "cell_type": "code",
   "execution_count": 75,
   "id": "6ae98b31",
   "metadata": {},
   "outputs": [
    {
     "data": {
      "text/plain": [
       "['ocean', 2, 35, 'd', 12, 589, 'kjj', 25]"
      ]
     },
     "execution_count": 75,
     "metadata": {},
     "output_type": "execute_result"
    }
   ],
   "source": [
    "list(s2)                # set has converted into the list "
   ]
  },
  {
   "cell_type": "code",
   "execution_count": 77,
   "id": "5f8b5d92",
   "metadata": {},
   "outputs": [
    {
     "data": {
      "text/plain": [
       "('ocean', 2, 35, 'd', 12, 589, 'kjj', 25)"
      ]
     },
     "execution_count": 77,
     "metadata": {},
     "output_type": "execute_result"
    }
   ],
   "source": [
    "tuple(s2)               # set has converted into the tuple"
   ]
  },
  {
   "cell_type": "code",
   "execution_count": 78,
   "id": "6a45aacf",
   "metadata": {},
   "outputs": [],
   "source": [
    "l = [1,2,5,8,6,8,5,8,5,5,5,5,3,3,3,8,1,2,2,5,2,5,5]"
   ]
  },
  {
   "cell_type": "code",
   "execution_count": 79,
   "id": "2588e02e",
   "metadata": {},
   "outputs": [
    {
     "data": {
      "text/plain": [
       "{1, 2, 3, 5, 6, 8}"
      ]
     },
     "execution_count": 79,
     "metadata": {},
     "output_type": "execute_result"
    }
   ],
   "source": [
    "set(l)           # to remove multiple items from list it must to convert the liat into set"
   ]
  },
  {
   "cell_type": "code",
   "execution_count": 80,
   "id": "64e049c2",
   "metadata": {},
   "outputs": [],
   "source": [
    "l = list(set(l))"
   ]
  },
  {
   "cell_type": "code",
   "execution_count": 81,
   "id": "80635c28",
   "metadata": {},
   "outputs": [
    {
     "data": {
      "text/plain": [
       "[1, 2, 3, 5, 6, 8]"
      ]
     },
     "execution_count": 81,
     "metadata": {},
     "output_type": "execute_result"
    }
   ],
   "source": [
    "l              #converted into the list"
   ]
  },
  {
   "cell_type": "code",
   "execution_count": 82,
   "id": "98247591",
   "metadata": {},
   "outputs": [],
   "source": [
    "s2.add(52)         #item is added in corrent set"
   ]
  },
  {
   "cell_type": "code",
   "execution_count": 83,
   "id": "034bdbcd",
   "metadata": {},
   "outputs": [
    {
     "data": {
      "text/plain": [
       "{12, 2, 25, 35, 52, 589, 'd', 'kjj', 'ocean'}"
      ]
     },
     "execution_count": 83,
     "metadata": {},
     "output_type": "execute_result"
    }
   ],
   "source": [
    "s2"
   ]
  },
  {
   "cell_type": "code",
   "execution_count": 84,
   "id": "87a604d4",
   "metadata": {},
   "outputs": [
    {
     "ename": "TypeError",
     "evalue": "unhashable type: 'list'",
     "output_type": "error",
     "traceback": [
      "\u001b[1;31m---------------------------------------------------------------------------\u001b[0m",
      "\u001b[1;31mTypeError\u001b[0m                                 Traceback (most recent call last)",
      "Input \u001b[1;32mIn [84]\u001b[0m, in \u001b[0;36m<cell line: 1>\u001b[1;34m()\u001b[0m\n\u001b[1;32m----> 1\u001b[0m \u001b[43ms2\u001b[49m\u001b[38;5;241;43m.\u001b[39;49m\u001b[43madd\u001b[49m\u001b[43m(\u001b[49m\u001b[43m[\u001b[49m\u001b[38;5;241;43m1\u001b[39;49m\u001b[43m,\u001b[49m\u001b[38;5;241;43m5\u001b[39;49m\u001b[43m,\u001b[49m\u001b[38;5;241;43m8\u001b[39;49m\u001b[43m,\u001b[49m\u001b[38;5;241;43m9\u001b[39;49m\u001b[43m,\u001b[49m\u001b[38;5;241;43m6\u001b[39;49m\u001b[43m,\u001b[49m\u001b[38;5;241;43m5\u001b[39;49m\u001b[43m]\u001b[49m\u001b[43m)\u001b[49m\n",
      "\u001b[1;31mTypeError\u001b[0m: unhashable type: 'list'"
     ]
    }
   ],
   "source": [
    "s2.add([1,5,8,9,6,5])      #not able to add the list inside the set"
   ]
  },
  {
   "cell_type": "code",
   "execution_count": 85,
   "id": "792a5793",
   "metadata": {},
   "outputs": [],
   "source": [
    "s3 = {(2,4,5,6,8,9,2), 1,5,8,9,2}               #its able to add the tuple inside the set"
   ]
  },
  {
   "cell_type": "code",
   "execution_count": 86,
   "id": "7b127f0d",
   "metadata": {},
   "outputs": [
    {
     "data": {
      "text/plain": [
       "{(2, 4, 5, 6, 8, 9, 2), 1, 2, 5, 8, 9}"
      ]
     },
     "execution_count": 86,
     "metadata": {},
     "output_type": "execute_result"
    }
   ],
   "source": [
    "s3                   "
   ]
  },
  {
   "cell_type": "code",
   "execution_count": 87,
   "id": "e2650b47",
   "metadata": {},
   "outputs": [],
   "source": [
    "s3.remove(9)             #to remove the element from set"
   ]
  },
  {
   "cell_type": "code",
   "execution_count": 88,
   "id": "09baf445",
   "metadata": {},
   "outputs": [
    {
     "data": {
      "text/plain": [
       "{(2, 4, 5, 6, 8, 9, 2), 1, 2, 5, 8}"
      ]
     },
     "execution_count": 88,
     "metadata": {},
     "output_type": "execute_result"
    }
   ],
   "source": [
    "s3"
   ]
  },
  {
   "cell_type": "code",
   "execution_count": 97,
   "id": "d4d83123",
   "metadata": {},
   "outputs": [],
   "source": [
    "s3.discard(8)              #discard the element from set"
   ]
  },
  {
   "cell_type": "code",
   "execution_count": 98,
   "id": "bc806043",
   "metadata": {},
   "outputs": [
    {
     "data": {
      "text/plain": [
       "{(2, 4, 5, 6, 8, 9, 2), 1, 2}"
      ]
     },
     "execution_count": 98,
     "metadata": {},
     "output_type": "execute_result"
    }
   ],
   "source": [
    "s3"
   ]
  },
  {
   "cell_type": "markdown",
   "id": "50b8f34b",
   "metadata": {},
   "source": [
    "diff between remove and discard is \n",
    "-remove will show error if element is not present inside the set\n",
    "-discard will not show any error either element will present inside the set or not"
   ]
  },
  {
   "cell_type": "code",
   "execution_count": 102,
   "id": "79ba81f5",
   "metadata": {},
   "outputs": [
    {
     "data": {
      "text/plain": [
       "{2, 3, 4, 5, 8, 9}"
      ]
     },
     "execution_count": 102,
     "metadata": {},
     "output_type": "execute_result"
    }
   ],
   "source": [
    "s"
   ]
  },
  {
   "cell_type": "code",
   "execution_count": 101,
   "id": "b261f405",
   "metadata": {},
   "outputs": [
    {
     "ename": "AttributeError",
     "evalue": "'set' object has no attribute 'sort'",
     "output_type": "error",
     "traceback": [
      "\u001b[1;31m---------------------------------------------------------------------------\u001b[0m",
      "\u001b[1;31mAttributeError\u001b[0m                            Traceback (most recent call last)",
      "Input \u001b[1;32mIn [101]\u001b[0m, in \u001b[0;36m<cell line: 1>\u001b[1;34m()\u001b[0m\n\u001b[1;32m----> 1\u001b[0m \u001b[43ms3\u001b[49m\u001b[38;5;241;43m.\u001b[39;49m\u001b[43msort\u001b[49m(reverse\u001b[38;5;241m=\u001b[39m\u001b[38;5;28;01mTrue\u001b[39;00m)\n",
      "\u001b[1;31mAttributeError\u001b[0m: 'set' object has no attribute 'sort'"
     ]
    }
   ],
   "source": [
    "s3.sort(reverse=True)   #not able to sort i set"
   ]
  },
  {
   "cell_type": "code",
   "execution_count": 103,
   "id": "47e5205a",
   "metadata": {},
   "outputs": [
    {
     "data": {
      "text/plain": [
       "[1, 2, (2, 4, 5, 6, 8, 9, 2)]"
      ]
     },
     "execution_count": 103,
     "metadata": {},
     "output_type": "execute_result"
    }
   ],
   "source": [
    "list(s3)"
   ]
  },
  {
   "cell_type": "code",
   "execution_count": 116,
   "id": "aa22127f",
   "metadata": {},
   "outputs": [],
   "source": [
    "l= [2,5,8,9,2,3,58,6,3,2,56]"
   ]
  },
  {
   "cell_type": "code",
   "execution_count": null,
   "id": "a682d0d0",
   "metadata": {},
   "outputs": [],
   "source": []
  },
  {
   "cell_type": "code",
   "execution_count": 117,
   "id": "94e4f2d2",
   "metadata": {},
   "outputs": [],
   "source": [
    "l.sort(reverse= True)"
   ]
  },
  {
   "cell_type": "code",
   "execution_count": 113,
   "id": "12006483",
   "metadata": {},
   "outputs": [
    {
     "data": {
      "text/plain": [
       "[58, 56, 9, 8, 6, 5, 3, 3, 2, 2, 2]"
      ]
     },
     "execution_count": 113,
     "metadata": {},
     "output_type": "execute_result"
    }
   ],
   "source": [
    "l"
   ]
  },
  {
   "cell_type": "code",
   "execution_count": null,
   "id": "f019a524",
   "metadata": {},
   "outputs": [],
   "source": []
  },
  {
   "cell_type": "code",
   "execution_count": null,
   "id": "e69fae56",
   "metadata": {},
   "outputs": [],
   "source": []
  }
 ],
 "metadata": {
  "kernelspec": {
   "display_name": "Python 3 (ipykernel)",
   "language": "python",
   "name": "python3"
  },
  "language_info": {
   "codemirror_mode": {
    "name": "ipython",
    "version": 3
   },
   "file_extension": ".py",
   "mimetype": "text/x-python",
   "name": "python",
   "nbconvert_exporter": "python",
   "pygments_lexer": "ipython3",
   "version": "3.9.12"
  }
 },
 "nbformat": 4,
 "nbformat_minor": 5
}
