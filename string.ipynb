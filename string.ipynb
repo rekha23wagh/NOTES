{
 "cells": [
  {
   "cell_type": "markdown",
   "id": "2f8eb1bc",
   "metadata": {},
   "source": [
    "# String"
   ]
  },
  {
   "cell_type": "code",
   "execution_count": 3,
   "id": "44ad4a16",
   "metadata": {},
   "outputs": [],
   "source": [
    "l=[12,5,6,3,2,5]"
   ]
  },
  {
   "cell_type": "code",
   "execution_count": 4,
   "id": "e025dba5",
   "metadata": {},
   "outputs": [
    {
     "data": {
      "text/plain": [
       "[12, 5, 6, 3, 2, 5]"
      ]
     },
     "execution_count": 4,
     "metadata": {},
     "output_type": "execute_result"
    }
   ],
   "source": [
    "l"
   ]
  },
  {
   "cell_type": "code",
   "execution_count": 6,
   "id": "1d7368b5",
   "metadata": {},
   "outputs": [
    {
     "data": {
      "text/plain": [
       "'abcdef1'"
      ]
     },
     "execution_count": 6,
     "metadata": {},
     "output_type": "execute_result"
    }
   ],
   "source": [
    "#concatenation with int\n",
    "s=\"abcdef\"\n",
    "s+str(1)"
   ]
  },
  {
   "cell_type": "code",
   "execution_count": 8,
   "id": "e59717a7",
   "metadata": {},
   "outputs": [
    {
     "data": {
      "text/plain": [
       "'dhbxmhbdhbxmhb'"
      ]
     },
     "execution_count": 8,
     "metadata": {},
     "output_type": "execute_result"
    }
   ],
   "source": [
    "#string multiplication\n",
    "s = \"dhbxmhb\"\n",
    "s*2"
   ]
  },
  {
   "cell_type": "code",
   "execution_count": 11,
   "id": "5ebfe9e0",
   "metadata": {},
   "outputs": [],
   "source": [
    "s=[2,5,8,9,6,2,\"kjhg\"]*2"
   ]
  },
  {
   "cell_type": "code",
   "execution_count": 12,
   "id": "5a6ae1a2",
   "metadata": {},
   "outputs": [
    {
     "data": {
      "text/plain": [
       "[2, 5, 8, 9, 6, 2, 'kjhg', 2, 5, 8, 9, 6, 2, 'kjhg']"
      ]
     },
     "execution_count": 12,
     "metadata": {},
     "output_type": "execute_result"
    }
   ],
   "source": [
    "s"
   ]
  },
  {
   "cell_type": "code",
   "execution_count": 14,
   "id": "2837dd2a",
   "metadata": {},
   "outputs": [
    {
     "data": {
      "text/plain": [
       "'25895442589544'"
      ]
     },
     "execution_count": 14,
     "metadata": {},
     "output_type": "execute_result"
    }
   ],
   "source": [
    "#repeat the string\n",
    "s='2589544'\n",
    "s*2"
   ]
  },
  {
   "cell_type": "code",
   "execution_count": 16,
   "id": "1428e3f9",
   "metadata": {},
   "outputs": [
    {
     "data": {
      "text/plain": [
       "517930"
      ]
     },
     "execution_count": 16,
     "metadata": {},
     "output_type": "execute_result"
    }
   ],
   "source": [
    "258965*2        #simply multiplication"
   ]
  },
  {
   "cell_type": "code",
   "execution_count": 24,
   "id": "2c914353",
   "metadata": {},
   "outputs": [
    {
     "data": {
      "text/plain": [
       "'REKH SHALIGRAM WAHURWAGH'"
      ]
     },
     "execution_count": 24,
     "metadata": {},
     "output_type": "execute_result"
    }
   ],
   "source": [
    "s= \"Rekh Shaligram Wahurwagh\"\n",
    "s.upper()"
   ]
  },
  {
   "cell_type": "code",
   "execution_count": 25,
   "id": "34affd3d",
   "metadata": {},
   "outputs": [
    {
     "data": {
      "text/plain": [
       "'rekh shaligram wahurwagh'"
      ]
     },
     "execution_count": 25,
     "metadata": {},
     "output_type": "execute_result"
    }
   ],
   "source": [
    "s.lower()"
   ]
  },
  {
   "cell_type": "code",
   "execution_count": 26,
   "id": "6817fc55",
   "metadata": {},
   "outputs": [
    {
     "data": {
      "text/plain": [
       "['Rekh', 'Shaligram', 'Wahurwagh']"
      ]
     },
     "execution_count": 26,
     "metadata": {},
     "output_type": "execute_result"
    }
   ],
   "source": [
    "s.split( )"
   ]
  },
  {
   "cell_type": "code",
   "execution_count": 27,
   "id": "03802fbc",
   "metadata": {},
   "outputs": [],
   "source": [
    "s=\"Rekha#Shaligram#Whurwagh\""
   ]
  },
  {
   "cell_type": "code",
   "execution_count": 29,
   "id": "d8601ef9",
   "metadata": {},
   "outputs": [
    {
     "data": {
      "text/plain": [
       "['Rekha', 'Shaligram', 'Whurwagh']"
      ]
     },
     "execution_count": 29,
     "metadata": {},
     "output_type": "execute_result"
    }
   ],
   "source": [
    "s.split('#')"
   ]
  },
  {
   "cell_type": "code",
   "execution_count": 32,
   "id": "dea67e49",
   "metadata": {},
   "outputs": [
    {
     "data": {
      "text/plain": [
       "6"
      ]
     },
     "execution_count": 32,
     "metadata": {},
     "output_type": "execute_result"
    }
   ],
   "source": [
    "s.find('S')"
   ]
  },
  {
   "cell_type": "code",
   "execution_count": 33,
   "id": "b111b144",
   "metadata": {},
   "outputs": [
    {
     "data": {
      "text/plain": [
       "'             Rekha#Shaligram#Whurwagh             '"
      ]
     },
     "execution_count": 33,
     "metadata": {},
     "output_type": "execute_result"
    }
   ],
   "source": [
    "s.center(50)"
   ]
  },
  {
   "cell_type": "code",
   "execution_count": 35,
   "id": "776d2d62",
   "metadata": {},
   "outputs": [
    {
     "data": {
      "text/plain": [
       "'@@@@@@@@@@@@@Rekha#Shaligram#Whurwagh@@@@@@@@@@@@@'"
      ]
     },
     "execution_count": 35,
     "metadata": {},
     "output_type": "execute_result"
    }
   ],
   "source": [
    "s.center(50,'@')"
   ]
  },
  {
   "cell_type": "code",
   "execution_count": 37,
   "id": "6a18f290",
   "metadata": {},
   "outputs": [
    {
     "data": {
      "text/plain": [
       "'rekha   shaligram       wahurwagh       '"
      ]
     },
     "execution_count": 37,
     "metadata": {},
     "output_type": "execute_result"
    }
   ],
   "source": [
    "'rekha\\tshaligram\\twahurwagh\\t'.expandtabs()"
   ]
  },
  {
   "cell_type": "code",
   "execution_count": 38,
   "id": "89ea0cd4",
   "metadata": {},
   "outputs": [
    {
     "name": "stdout",
     "output_type": "stream",
     "text": [
      "helo\n"
     ]
    }
   ],
   "source": [
    "a= 10\n",
    "if a==10:\n",
    "    print(\"helo\")"
   ]
  },
  {
   "cell_type": "code",
   "execution_count": 55,
   "id": "92beb424",
   "metadata": {},
   "outputs": [
    {
     "name": "stdout",
     "output_type": "stream",
     "text": [
      "this is wrong\n"
     ]
    }
   ],
   "source": [
    "a=10\n",
    "if a>=11:\n",
    "    print(\"this is right\")\n",
    "elif a==10:\n",
    "    print(\"this is wrong\")\n",
    "else:\n",
    "    print(\"done\")"
   ]
  },
  {
   "cell_type": "code",
   "execution_count": 58,
   "id": "dd66a97b",
   "metadata": {},
   "outputs": [
    {
     "name": "stdout",
     "output_type": "stream",
     "text": [
      "not doing anything\n"
     ]
    }
   ],
   "source": [
    "p=500\n",
    "if p>500:\n",
    "    print(\"i will not able to buy anythisng\")\n",
    "elif p <500:\n",
    "    print(\"i will buy a shirt\")\n",
    "else:\n",
    "    print(\"not doing anything\")"
   ]
  },
  {
   "cell_type": "code",
   "execution_count": null,
   "id": "5d105f60",
   "metadata": {},
   "outputs": [],
   "source": []
  },
  {
   "cell_type": "code",
   "execution_count": 61,
   "id": "87172ccc",
   "metadata": {},
   "outputs": [
    {
     "name": "stdout",
     "output_type": "stream",
     "text": [
      "499\n",
      "i will be able to buy the shirt\n",
      "i am doing shopping\n"
     ]
    }
   ],
   "source": [
    "price=int(input())\n",
    "if price < 500:\n",
    "    print(\"i will be able to buy the shirt\")\n",
    "    if price <=300:\n",
    "        print(\"i will able to buy a t shirt\")\n",
    "    elif price <200:\n",
    "        print(\"i will buy hanky only\")\n",
    "    else:\n",
    "        print(\"i am doing shopping\")\n",
    "        \n",
    "else:\n",
    "    print(\"i am done\")\n",
    "        \n",
    "        "
   ]
  },
  {
   "cell_type": "code",
   "execution_count": 65,
   "id": "4443a148",
   "metadata": {},
   "outputs": [
    {
     "name": "stdout",
     "output_type": "stream",
     "text": [
      "Enter the Floating No :20\n",
      "everything is fine\n"
     ]
    }
   ],
   "source": [
    "val = float(input(\"Enter the Floating No :\"))\n",
    "if val <= 0:\n",
    "    if val==0:\n",
    "        print(\"Enter no is zero\")\n",
    "    else:\n",
    "        print(\"Enetr no is floating no\")\n",
    "        \n",
    "else:\n",
    "    print(\"everything is fine\")\n",
    "    "
   ]
  },
  {
   "cell_type": "code",
   "execution_count": 77,
   "id": "cd2308b6",
   "metadata": {},
   "outputs": [
    {
     "name": "stdout",
     "output_type": "stream",
     "text": [
      "rekha\n"
     ]
    }
   ],
   "source": [
    "a = \"abc\"\n",
    "if a== \"abc\" or a==\"Abc\":\n",
    "    print(\"rekha\")\n"
   ]
  },
  {
   "cell_type": "code",
   "execution_count": 100,
   "id": "9f565015",
   "metadata": {},
   "outputs": [
    {
     "name": "stdout",
     "output_type": "stream",
     "text": [
      "Enter a number: 3\n"
     ]
    },
    {
     "data": {
      "text/plain": [
       "6"
      ]
     },
     "execution_count": 100,
     "metadata": {},
     "output_type": "execute_result"
    }
   ],
   "source": [
    "#find the Factorial of no\n",
    "\n",
    "num= int(input(\"Enter a number: \"))\n",
    "def fact(num):\n",
    "    if num ==0 or num==1:\n",
    "        return 1\n",
    "    while num > 0:\n",
    "        return num*fact(num-1)\n",
    "fact(num)\n",
    "    "
   ]
  },
  {
   "cell_type": "code",
   "execution_count": 104,
   "id": "d719dcc3",
   "metadata": {},
   "outputs": [
    {
     "name": "stdout",
     "output_type": "stream",
     "text": [
      "10 2\n",
      "11 2\n",
      "11 3\n",
      "11 4\n",
      "11 5\n",
      "11 6\n",
      "11 7\n",
      "11 8\n",
      "11 9\n",
      "11 10\n",
      "11\n",
      "12 2\n",
      "13 2\n",
      "13 3\n",
      "13 4\n",
      "13 5\n",
      "13 6\n",
      "13 7\n",
      "13 8\n",
      "13 9\n",
      "13 10\n",
      "13 11\n",
      "13 12\n",
      "13\n",
      "14 2\n",
      "15 2\n",
      "15 3\n",
      "16 2\n",
      "17 2\n",
      "17 3\n",
      "17 4\n",
      "17 5\n",
      "17 6\n",
      "17 7\n",
      "17 8\n",
      "17 9\n",
      "17 10\n",
      "17 11\n",
      "17 12\n",
      "17 13\n",
      "17 14\n",
      "17 15\n",
      "17 16\n",
      "17\n",
      "18 2\n",
      "19 2\n",
      "19 3\n",
      "19 4\n",
      "19 5\n",
      "19 6\n",
      "19 7\n",
      "19 8\n",
      "19 9\n",
      "19 10\n",
      "19 11\n",
      "19 12\n",
      "19 13\n",
      "19 14\n",
      "19 15\n",
      "19 16\n",
      "19 17\n",
      "19 18\n",
      "19\n"
     ]
    }
   ],
   "source": [
    "#tO PRINT ALL THE PRIME NO\n",
    "for i in range(10,20):         #prime no from 10 to 50\n",
    "    if i >0:       \n",
    "        for j in range(2,i):\n",
    "            print(i,j)\n",
    "            if i%j==0:\n",
    "                break\n",
    "        else:\n",
    "            print(i)"
   ]
  },
  {
   "cell_type": "code",
   "execution_count": 105,
   "id": "5fae0a2b",
   "metadata": {},
   "outputs": [],
   "source": [
    "#find the armstrong no"
   ]
  },
  {
   "cell_type": "code",
   "execution_count": 118,
   "id": "fd6880f3",
   "metadata": {},
   "outputs": [
    {
     "name": "stdout",
     "output_type": "stream",
     "text": [
      "Enter a number to check:10\n",
      "0\n",
      "*\n",
      "0\n",
      "#\n",
      "1\n",
      "%\n",
      "1\n",
      "*\n",
      "1\n",
      "#\n",
      "0\n",
      "%\n",
      "10 is not armstrong number\n"
     ]
    }
   ],
   "source": [
    "num = int(input(\"Enter a number to check:\"))\n",
    "sum=0\n",
    "temp=num\n",
    "while temp>0:\n",
    "    digit=temp%10\n",
    "    print(digit)\n",
    "    print(\"*\")\n",
    "    \n",
    "    sum=sum+digit**3\n",
    "    print(sum)\n",
    "    print(\"#\")\n",
    "    \n",
    "    temp=temp//10\n",
    "    print(temp)\n",
    "    print(\"%\")\n",
    " \n",
    "if sum==num:\n",
    "    print(num,\"is armstrong number\")\n",
    "else:\n",
    "    print(num,\"is not armstrong number\")"
   ]
  },
  {
   "cell_type": "code",
   "execution_count": null,
   "id": "730b0c13",
   "metadata": {},
   "outputs": [],
   "source": []
  }
 ],
 "metadata": {
  "kernelspec": {
   "display_name": "Python 3 (ipykernel)",
   "language": "python",
   "name": "python3"
  },
  "language_info": {
   "codemirror_mode": {
    "name": "ipython",
    "version": 3
   },
   "file_extension": ".py",
   "mimetype": "text/x-python",
   "name": "python",
   "nbconvert_exporter": "python",
   "pygments_lexer": "ipython3",
   "version": "3.9.12"
  }
 },
 "nbformat": 4,
 "nbformat_minor": 5
}
