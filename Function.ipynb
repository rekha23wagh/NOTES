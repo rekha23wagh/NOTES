{
 "cells": [
  {
   "cell_type": "markdown",
   "id": "feb65ba6",
   "metadata": {},
   "source": [
    "# Function"
   ]
  },
  {
   "cell_type": "code",
   "execution_count": 11,
   "id": "02510723",
   "metadata": {},
   "outputs": [],
   "source": [
    "def add(a,b):\n",
    "    pass"
   ]
  },
  {
   "cell_type": "code",
   "execution_count": 14,
   "id": "9db43e08",
   "metadata": {},
   "outputs": [
    {
     "data": {
      "text/plain": [
       "<function __main__.add(a, b)>"
      ]
     },
     "execution_count": 14,
     "metadata": {},
     "output_type": "execute_result"
    }
   ],
   "source": [
    "add"
   ]
  },
  {
   "cell_type": "code",
   "execution_count": 15,
   "id": "ec8fd463",
   "metadata": {},
   "outputs": [],
   "source": [
    "add(2,5)            #signature of this function is matches with the above fun"
   ]
  },
  {
   "cell_type": "code",
   "execution_count": 18,
   "id": "936c9fca",
   "metadata": {},
   "outputs": [],
   "source": [
    "def add(a,b):\n",
    "    print(a+b)"
   ]
  },
  {
   "cell_type": "code",
   "execution_count": 20,
   "id": "b1f383f6",
   "metadata": {},
   "outputs": [
    {
     "name": "stdout",
     "output_type": "stream",
     "text": [
      "119\n"
     ]
    }
   ],
   "source": [
    "add(36,83)"
   ]
  },
  {
   "cell_type": "code",
   "execution_count": 21,
   "id": "56ddfda9",
   "metadata": {},
   "outputs": [
    {
     "name": "stdout",
     "output_type": "stream",
     "text": [
      "15\n"
     ]
    }
   ],
   "source": [
    "add(6,9)      #no need to return the code for same function, that can reusable "
   ]
  },
  {
   "cell_type": "code",
   "execution_count": 22,
   "id": "2e6b5ebe",
   "metadata": {},
   "outputs": [
    {
     "name": "stdout",
     "output_type": "stream",
     "text": [
      "58\n"
     ]
    }
   ],
   "source": [
    "add(2,56)"
   ]
  },
  {
   "cell_type": "code",
   "execution_count": 23,
   "id": "6984166b",
   "metadata": {},
   "outputs": [],
   "source": [
    "def mul(m,n):\n",
    "    return m*n"
   ]
  },
  {
   "cell_type": "code",
   "execution_count": 24,
   "id": "a1d6634d",
   "metadata": {},
   "outputs": [
    {
     "data": {
      "text/plain": [
       "16"
      ]
     },
     "execution_count": 24,
     "metadata": {},
     "output_type": "execute_result"
    }
   ],
   "source": [
    "mul(2,8)"
   ]
  },
  {
   "cell_type": "code",
   "execution_count": 26,
   "id": "5e8208de",
   "metadata": {},
   "outputs": [
    {
     "name": "stdout",
     "output_type": "stream",
     "text": [
      "68\n"
     ]
    },
    {
     "ename": "TypeError",
     "evalue": "unsupported operand type(s) for +: 'NoneType' and 'int'",
     "output_type": "error",
     "traceback": [
      "\u001b[1;31m---------------------------------------------------------------------------\u001b[0m",
      "\u001b[1;31mTypeError\u001b[0m                                 Traceback (most recent call last)",
      "Input \u001b[1;32mIn [26]\u001b[0m, in \u001b[0;36m<cell line: 1>\u001b[1;34m()\u001b[0m\n\u001b[1;32m----> 1\u001b[0m \u001b[43madd\u001b[49m\u001b[43m(\u001b[49m\u001b[38;5;241;43m2\u001b[39;49m\u001b[43m,\u001b[49m\u001b[38;5;241;43m66\u001b[39;49m\u001b[43m)\u001b[49m\u001b[43m \u001b[49m\u001b[38;5;241;43m+\u001b[39;49m\u001b[43m \u001b[49m\u001b[38;5;241;43m5\u001b[39;49m\n",
      "\u001b[1;31mTypeError\u001b[0m: unsupported operand type(s) for +: 'NoneType' and 'int'"
     ]
    }
   ],
   "source": [
    "add(2,66) + 5"
   ]
  },
  {
   "cell_type": "code",
   "execution_count": 27,
   "id": "3b527e89",
   "metadata": {},
   "outputs": [
    {
     "data": {
      "text/plain": [
       "17"
      ]
     },
     "execution_count": 27,
     "metadata": {},
     "output_type": "execute_result"
    }
   ],
   "source": [
    "mul(2,6) + 5"
   ]
  },
  {
   "cell_type": "code",
   "execution_count": 28,
   "id": "8d6e5ec5",
   "metadata": {},
   "outputs": [
    {
     "name": "stdout",
     "output_type": "stream",
     "text": [
      "68\n"
     ]
    },
    {
     "data": {
      "text/plain": [
       "NoneType"
      ]
     },
     "execution_count": 28,
     "metadata": {},
     "output_type": "execute_result"
    }
   ],
   "source": [
    "type(add(2,66))                  #pritnt has given the data type as nonetype "
   ]
  },
  {
   "cell_type": "code",
   "execution_count": 29,
   "id": "d952c350",
   "metadata": {},
   "outputs": [
    {
     "data": {
      "text/plain": [
       "int"
      ]
     },
     "execution_count": 29,
     "metadata": {},
     "output_type": "execute_result"
    }
   ],
   "source": [
    "type(mul(2,3))                   #return has given the data type as int"
   ]
  },
  {
   "cell_type": "code",
   "execution_count": 30,
   "id": "73b8f106",
   "metadata": {},
   "outputs": [],
   "source": [
    " def test(a,b,c):\n",
    "        return a+b"
   ]
  },
  {
   "cell_type": "code",
   "execution_count": 31,
   "id": "f0ef6a13",
   "metadata": {},
   "outputs": [
    {
     "ename": "TypeError",
     "evalue": "test() missing 1 required positional argument: 'c'",
     "output_type": "error",
     "traceback": [
      "\u001b[1;31m---------------------------------------------------------------------------\u001b[0m",
      "\u001b[1;31mTypeError\u001b[0m                                 Traceback (most recent call last)",
      "Input \u001b[1;32mIn [31]\u001b[0m, in \u001b[0;36m<cell line: 1>\u001b[1;34m()\u001b[0m\n\u001b[1;32m----> 1\u001b[0m \u001b[43mtest\u001b[49m\u001b[43m(\u001b[49m\u001b[38;5;241;43m2\u001b[39;49m\u001b[43m,\u001b[49m\u001b[38;5;241;43m3\u001b[39;49m\u001b[43m)\u001b[49m\n",
      "\u001b[1;31mTypeError\u001b[0m: test() missing 1 required positional argument: 'c'"
     ]
    }
   ],
   "source": [
    " test(2,3)               #it should matches wirh the signature"
   ]
  },
  {
   "cell_type": "code",
   "execution_count": 32,
   "id": "5b24daa5",
   "metadata": {},
   "outputs": [],
   "source": [
    "def test1(m,n,o):\n",
    "    return m +n , m*n"
   ]
  },
  {
   "cell_type": "code",
   "execution_count": 34,
   "id": "8e23c5bb",
   "metadata": {},
   "outputs": [
    {
     "data": {
      "text/plain": [
       "(8, 15)"
      ]
     },
     "execution_count": 34,
     "metadata": {},
     "output_type": "execute_result"
    }
   ],
   "source": [
    "test1(3,5,6)"
   ]
  },
  {
   "cell_type": "code",
   "execution_count": 36,
   "id": "d2d86ca7",
   "metadata": {},
   "outputs": [],
   "source": [
    "def test2(m, n):\n",
    "    return m + n , m*n, m*40, n*10"
   ]
  },
  {
   "cell_type": "code",
   "execution_count": 37,
   "id": "58259273",
   "metadata": {},
   "outputs": [
    {
     "data": {
      "text/plain": [
       "(7, 10, 80, 50)"
      ]
     },
     "execution_count": 37,
     "metadata": {},
     "output_type": "execute_result"
    }
   ],
   "source": [
    "test2(2,5)"
   ]
  },
  {
   "cell_type": "code",
   "execution_count": 38,
   "id": "721f36a3",
   "metadata": {},
   "outputs": [],
   "source": [
    "a, b, c, d = test2(2,5)"
   ]
  },
  {
   "cell_type": "code",
   "execution_count": 39,
   "id": "d004f2c5",
   "metadata": {},
   "outputs": [
    {
     "data": {
      "text/plain": [
       "7"
      ]
     },
     "execution_count": 39,
     "metadata": {},
     "output_type": "execute_result"
    }
   ],
   "source": [
    "a"
   ]
  },
  {
   "cell_type": "code",
   "execution_count": 40,
   "id": "a74303da",
   "metadata": {},
   "outputs": [
    {
     "data": {
      "text/plain": [
       "10"
      ]
     },
     "execution_count": 40,
     "metadata": {},
     "output_type": "execute_result"
    }
   ],
   "source": [
    "b"
   ]
  },
  {
   "cell_type": "code",
   "execution_count": 41,
   "id": "2ac92168",
   "metadata": {},
   "outputs": [
    {
     "data": {
      "text/plain": [
       "80"
      ]
     },
     "execution_count": 41,
     "metadata": {},
     "output_type": "execute_result"
    }
   ],
   "source": [
    "c\n"
   ]
  },
  {
   "cell_type": "code",
   "execution_count": 42,
   "id": "9e7339d0",
   "metadata": {},
   "outputs": [
    {
     "data": {
      "text/plain": [
       "50"
      ]
     },
     "execution_count": 42,
     "metadata": {},
     "output_type": "execute_result"
    }
   ],
   "source": [
    "d"
   ]
  },
  {
   "cell_type": "code",
   "execution_count": 43,
   "id": "9f6eb969",
   "metadata": {},
   "outputs": [],
   "source": [
    "def test3(p, q):\n",
    "    return p+q\n",
    "    return p*q"
   ]
  },
  {
   "cell_type": "code",
   "execution_count": 44,
   "id": "08506556",
   "metadata": {},
   "outputs": [
    {
     "data": {
      "text/plain": [
       "8"
      ]
     },
     "execution_count": 44,
     "metadata": {},
     "output_type": "execute_result"
    }
   ],
   "source": [
    "test3(3,5)                   #only first return will be called ,"
   ]
  },
  {
   "cell_type": "code",
   "execution_count": 45,
   "id": "4293a90e",
   "metadata": {},
   "outputs": [],
   "source": [
    "def test():\n",
    "    print(\"this is my first program\")"
   ]
  },
  {
   "cell_type": "code",
   "execution_count": 46,
   "id": "8da10f82",
   "metadata": {},
   "outputs": [
    {
     "name": "stdout",
     "output_type": "stream",
     "text": [
      "this is my first program\n"
     ]
    }
   ],
   "source": [
    "test()"
   ]
  },
  {
   "cell_type": "code",
   "execution_count": 49,
   "id": "2b957277",
   "metadata": {},
   "outputs": [],
   "source": [
    "    def test4(m):\n",
    "        return m*2\n",
    "    "
   ]
  },
  {
   "cell_type": "code",
   "execution_count": 50,
   "id": "d09328dc",
   "metadata": {},
   "outputs": [
    {
     "data": {
      "text/plain": [
       "[2, 5, 8, 9, 5, 2, 5, 8, 9, 5]"
      ]
     },
     "execution_count": 50,
     "metadata": {},
     "output_type": "execute_result"
    }
   ],
   "source": [
    "test4([2,5,8,9,5])"
   ]
  },
  {
   "cell_type": "code",
   "execution_count": 51,
   "id": "36ddc634",
   "metadata": {},
   "outputs": [
    {
     "data": {
      "text/plain": [
       "10"
      ]
     },
     "execution_count": 51,
     "metadata": {},
     "output_type": "execute_result"
    }
   ],
   "source": [
    "test4(5)"
   ]
  },
  {
   "cell_type": "code",
   "execution_count": 52,
   "id": "089d1343",
   "metadata": {},
   "outputs": [],
   "source": [
    "def test5(n):\n",
    "    return n, n*2"
   ]
  },
  {
   "cell_type": "code",
   "execution_count": 53,
   "id": "72d54679",
   "metadata": {},
   "outputs": [
    {
     "data": {
      "text/plain": [
       "([2, 1, 4, 5, 6], [2, 1, 4, 5, 6, 2, 1, 4, 5, 6])"
      ]
     },
     "execution_count": 53,
     "metadata": {},
     "output_type": "execute_result"
    }
   ],
   "source": [
    "test5([2,1,4,5,6])"
   ]
  },
  {
   "cell_type": "code",
   "execution_count": 54,
   "id": "00dc10d1",
   "metadata": {},
   "outputs": [],
   "source": [
    "b= test5([2,1,4,5,6])"
   ]
  },
  {
   "cell_type": "code",
   "execution_count": 55,
   "id": "7f57d036",
   "metadata": {},
   "outputs": [
    {
     "data": {
      "text/plain": [
       "([2, 1, 4, 5, 6], [2, 1, 4, 5, 6, 2, 1, 4, 5, 6])"
      ]
     },
     "execution_count": 55,
     "metadata": {},
     "output_type": "execute_result"
    }
   ],
   "source": [
    "b"
   ]
  },
  {
   "cell_type": "code",
   "execution_count": 56,
   "id": "e2953baa",
   "metadata": {},
   "outputs": [
    {
     "data": {
      "text/plain": [
       "[2, 1, 4, 5, 6]"
      ]
     },
     "execution_count": 56,
     "metadata": {},
     "output_type": "execute_result"
    }
   ],
   "source": [
    "b[0]"
   ]
  },
  {
   "cell_type": "code",
   "execution_count": 57,
   "id": "77d91c6f",
   "metadata": {},
   "outputs": [
    {
     "data": {
      "text/plain": [
       "[2, 1, 4, 5, 6, 2, 1, 4, 5, 6]"
      ]
     },
     "execution_count": 57,
     "metadata": {},
     "output_type": "execute_result"
    }
   ],
   "source": [
    "b[1]"
   ]
  },
  {
   "cell_type": "code",
   "execution_count": 58,
   "id": "eb8b61de",
   "metadata": {},
   "outputs": [
    {
     "data": {
      "text/plain": [
       "5"
      ]
     },
     "execution_count": 58,
     "metadata": {},
     "output_type": "execute_result"
    }
   ],
   "source": [
    "b[1][3]"
   ]
  },
  {
   "cell_type": "code",
   "execution_count": 60,
   "id": "98dc268c",
   "metadata": {},
   "outputs": [],
   "source": [
    "def test6(n, m=20):\n",
    "    return n +m"
   ]
  },
  {
   "cell_type": "code",
   "execution_count": 61,
   "id": "7ee10310",
   "metadata": {},
   "outputs": [
    {
     "data": {
      "text/plain": [
       "40"
      ]
     },
     "execution_count": 61,
     "metadata": {},
     "output_type": "execute_result"
    }
   ],
   "source": [
    "test6(20)"
   ]
  },
  {
   "cell_type": "code",
   "execution_count": 62,
   "id": "29a414bf",
   "metadata": {},
   "outputs": [],
   "source": [
    "def boolx(x = True, y=False):\n",
    "    return x + y\n"
   ]
  },
  {
   "cell_type": "code",
   "execution_count": 63,
   "id": "3ccb3faf",
   "metadata": {},
   "outputs": [
    {
     "data": {
      "text/plain": [
       "1"
      ]
     },
     "execution_count": 63,
     "metadata": {},
     "output_type": "execute_result"
    }
   ],
   "source": [
    "boolx()"
   ]
  },
  {
   "cell_type": "code",
   "execution_count": 64,
   "id": "aa0ffa67",
   "metadata": {},
   "outputs": [
    {
     "data": {
      "text/plain": [
       "1"
      ]
     },
     "execution_count": 64,
     "metadata": {},
     "output_type": "execute_result"
    }
   ],
   "source": [
    "boolx(True)"
   ]
  },
  {
   "cell_type": "code",
   "execution_count": 65,
   "id": "799bae40",
   "metadata": {},
   "outputs": [
    {
     "data": {
      "text/plain": [
       "9"
      ]
     },
     "execution_count": 65,
     "metadata": {},
     "output_type": "execute_result"
    }
   ],
   "source": [
    "boolx(True, 8)"
   ]
  },
  {
   "cell_type": "code",
   "execution_count": 66,
   "id": "29b1eaba",
   "metadata": {},
   "outputs": [
    {
     "data": {
      "text/plain": [
       "2"
      ]
     },
     "execution_count": 66,
     "metadata": {},
     "output_type": "execute_result"
    }
   ],
   "source": [
    "boolx(False, 2)"
   ]
  },
  {
   "cell_type": "code",
   "execution_count": 69,
   "id": "957a25fb",
   "metadata": {},
   "outputs": [],
   "source": [
    "def travel(bike = True, car= False):\n",
    "    plan_travel = bike or car\n",
    "    return bike, car, plan_travel"
   ]
  },
  {
   "cell_type": "code",
   "execution_count": 70,
   "id": "d38d6092",
   "metadata": {},
   "outputs": [
    {
     "data": {
      "text/plain": [
       "(True, False, True)"
      ]
     },
     "execution_count": 70,
     "metadata": {},
     "output_type": "execute_result"
    }
   ],
   "source": [
    "travel()"
   ]
  },
  {
   "cell_type": "code",
   "execution_count": 72,
   "id": "a85f0887",
   "metadata": {},
   "outputs": [
    {
     "data": {
      "text/plain": [
       "(True, True, True)"
      ]
     },
     "execution_count": 72,
     "metadata": {},
     "output_type": "execute_result"
    }
   ],
   "source": [
    "travel(car = True)"
   ]
  },
  {
   "cell_type": "code",
   "execution_count": 74,
   "id": "57ec34a5",
   "metadata": {},
   "outputs": [],
   "source": [
    "def test9(*args):\n",
    "    return args"
   ]
  },
  {
   "cell_type": "code",
   "execution_count": 75,
   "id": "bbb22089",
   "metadata": {},
   "outputs": [
    {
     "data": {
      "text/plain": [
       "('rekha', 123, [2, 5, 8, 9, 2])"
      ]
     },
     "execution_count": 75,
     "metadata": {},
     "output_type": "execute_result"
    }
   ],
   "source": [
    "test9('rekha', 123, [2,5,8,9,2])"
   ]
  },
  {
   "cell_type": "code",
   "execution_count": 85,
   "id": "4b0ccc04",
   "metadata": {},
   "outputs": [],
   "source": [
    "def test10(*l):\n",
    "    return l*2\n"
   ]
  },
  {
   "cell_type": "code",
   "execution_count": 86,
   "id": "d764ebdf",
   "metadata": {},
   "outputs": [
    {
     "data": {
      "text/plain": [
       "([2, 5, 8, 9, 3], [2, 5, 8, 9, 3])"
      ]
     },
     "execution_count": 86,
     "metadata": {},
     "output_type": "execute_result"
    }
   ],
   "source": [
    "test10([2,5,8,9,3])"
   ]
  },
  {
   "cell_type": "code",
   "execution_count": 87,
   "id": "0122f9cd",
   "metadata": {},
   "outputs": [
    {
     "data": {
      "text/plain": [
       "([1, 5, 8, 2], [5, 2, 8, 9], [1, 5, 8, 2], [5, 2, 8, 9])"
      ]
     },
     "execution_count": 87,
     "metadata": {},
     "output_type": "execute_result"
    }
   ],
   "source": [
    "test10([1,5,8,2],[5,2,8,9])"
   ]
  },
  {
   "cell_type": "code",
   "execution_count": 88,
   "id": "e2395434",
   "metadata": {},
   "outputs": [],
   "source": [
    "def test11(a, b, c):\n",
    "    return a + b + c"
   ]
  },
  {
   "cell_type": "code",
   "execution_count": 89,
   "id": "b40f25ee",
   "metadata": {},
   "outputs": [
    {
     "data": {
      "text/plain": [
       "[1, 2, 5, 8, 5, 6, 89, 5, 8, 9, 2]"
      ]
     },
     "execution_count": 89,
     "metadata": {},
     "output_type": "execute_result"
    }
   ],
   "source": [
    "test11([1,2,5,8],[5,6,89],[5,8,9,2])"
   ]
  },
  {
   "cell_type": "code",
   "execution_count": 98,
   "id": "e6410925",
   "metadata": {},
   "outputs": [],
   "source": [
    "def test12(*args):\n",
    "    l = []\n",
    "    for i in args:\n",
    "        l = l +i\n",
    "    return l "
   ]
  },
  {
   "cell_type": "code",
   "execution_count": 99,
   "id": "15f9c4b5",
   "metadata": {},
   "outputs": [
    {
     "data": {
      "text/plain": [
       "[2, 4, 5, 8, 9, 6, 4, 5, 8, 96, 5, 8, 96, 2]"
      ]
     },
     "execution_count": 99,
     "metadata": {},
     "output_type": "execute_result"
    }
   ],
   "source": [
    "test12([2,4,5,8,9,6],[4,5,8,96],[5,8,96,2])"
   ]
  },
  {
   "cell_type": "code",
   "execution_count": 104,
   "id": "3ca0daa8",
   "metadata": {},
   "outputs": [],
   "source": [
    "def test13(*args):\n",
    "    l = []\n",
    "    for i in args:\n",
    "        l.append(i)\n",
    "    return l "
   ]
  },
  {
   "cell_type": "code",
   "execution_count": 105,
   "id": "b886fd11",
   "metadata": {},
   "outputs": [
    {
     "data": {
      "text/plain": [
       "[[2, 4, 5, 8, 9, 6], [4, 5, 8, 96], [5, 8, 96, 2]]"
      ]
     },
     "execution_count": 105,
     "metadata": {},
     "output_type": "execute_result"
    }
   ],
   "source": [
    "test13([2,4,5,8,9,6],[4,5,8,96],[5,8,96,2])"
   ]
  },
  {
   "cell_type": "code",
   "execution_count": 106,
   "id": "44f2a659",
   "metadata": {},
   "outputs": [
    {
     "ename": "TypeError",
     "evalue": "can only concatenate list (not \"str\") to list",
     "output_type": "error",
     "traceback": [
      "\u001b[1;31m---------------------------------------------------------------------------\u001b[0m",
      "\u001b[1;31mTypeError\u001b[0m                                 Traceback (most recent call last)",
      "Input \u001b[1;32mIn [106]\u001b[0m, in \u001b[0;36m<cell line: 1>\u001b[1;34m()\u001b[0m\n\u001b[1;32m----> 1\u001b[0m \u001b[43mtest12\u001b[49m\u001b[43m(\u001b[49m\u001b[38;5;124;43m'\u001b[39;49m\u001b[38;5;124;43mlkjhg\u001b[39;49m\u001b[38;5;124;43m'\u001b[39;49m\u001b[43m,\u001b[49m\u001b[43m \u001b[49m\u001b[43m[\u001b[49m\u001b[38;5;241;43m2\u001b[39;49m\u001b[43m,\u001b[49m\u001b[38;5;241;43m5\u001b[39;49m\u001b[43m,\u001b[49m\u001b[38;5;241;43m8\u001b[39;49m\u001b[43m,\u001b[49m\u001b[38;5;241;43m9\u001b[39;49m\u001b[43m,\u001b[49m\u001b[38;5;241;43m6\u001b[39;49m\u001b[43m]\u001b[49m\u001b[43m,\u001b[49m\u001b[43m[\u001b[49m\u001b[38;5;241;43m2\u001b[39;49m\u001b[43m,\u001b[49m\u001b[38;5;241;43m5\u001b[39;49m\u001b[43m,\u001b[49m\u001b[38;5;241;43m8\u001b[39;49m\u001b[43m,\u001b[49m\u001b[38;5;241;43m96\u001b[39;49m\u001b[43m]\u001b[49m\u001b[43m)\u001b[49m\n",
      "Input \u001b[1;32mIn [98]\u001b[0m, in \u001b[0;36mtest12\u001b[1;34m(*args)\u001b[0m\n\u001b[0;32m      2\u001b[0m l \u001b[38;5;241m=\u001b[39m []\n\u001b[0;32m      3\u001b[0m \u001b[38;5;28;01mfor\u001b[39;00m i \u001b[38;5;129;01min\u001b[39;00m args:\n\u001b[1;32m----> 4\u001b[0m     l \u001b[38;5;241m=\u001b[39m \u001b[43ml\u001b[49m\u001b[43m \u001b[49m\u001b[38;5;241;43m+\u001b[39;49m\u001b[43mi\u001b[49m\n\u001b[0;32m      5\u001b[0m \u001b[38;5;28;01mreturn\u001b[39;00m l\n",
      "\u001b[1;31mTypeError\u001b[0m: can only concatenate list (not \"str\") to list"
     ]
    }
   ],
   "source": [
    "test12('lkjhg', [2,5,8,9,6],[2,5,8,96])             #concatenation only with list of list"
   ]
  },
  {
   "cell_type": "code",
   "execution_count": 109,
   "id": "7d2baa23",
   "metadata": {},
   "outputs": [],
   "source": [
    "def test12(*args):\n",
    "    l = []\n",
    "    for i in args:\n",
    "        if type(i)== list:\n",
    "            l = l +i\n",
    "    return l "
   ]
  },
  {
   "cell_type": "code",
   "execution_count": 110,
   "id": "0aed82bd",
   "metadata": {},
   "outputs": [
    {
     "data": {
      "text/plain": [
       "[2, 5, 8, 9, 5, 89, 65, 48]"
      ]
     },
     "execution_count": 110,
     "metadata": {},
     "output_type": "execute_result"
    }
   ],
   "source": [
    "test12('lkjhg',[2,5,8,9],[5,89,65,48])"
   ]
  },
  {
   "cell_type": "code",
   "execution_count": 111,
   "id": "55a93f01",
   "metadata": {},
   "outputs": [],
   "source": [
    "def test14(**kwargs): \n",
    "    #any no of data as argumnt and itis in key value form\n",
    "    return kwargs"
   ]
  },
  {
   "cell_type": "code",
   "execution_count": 112,
   "id": "56de5c8f",
   "metadata": {},
   "outputs": [
    {
     "ename": "TypeError",
     "evalue": "test14() takes 0 positional arguments but 6 were given",
     "output_type": "error",
     "traceback": [
      "\u001b[1;31m---------------------------------------------------------------------------\u001b[0m",
      "\u001b[1;31mTypeError\u001b[0m                                 Traceback (most recent call last)",
      "Input \u001b[1;32mIn [112]\u001b[0m, in \u001b[0;36m<cell line: 1>\u001b[1;34m()\u001b[0m\n\u001b[1;32m----> 1\u001b[0m \u001b[43mtest14\u001b[49m\u001b[43m(\u001b[49m\u001b[38;5;241;43m2\u001b[39;49m\u001b[43m,\u001b[49m\u001b[38;5;241;43m5\u001b[39;49m\u001b[43m,\u001b[49m\u001b[38;5;241;43m8\u001b[39;49m\u001b[43m,\u001b[49m\u001b[38;5;241;43m9\u001b[39;49m\u001b[43m,\u001b[49m\u001b[38;5;241;43m6\u001b[39;49m\u001b[43m,\u001b[49m\u001b[38;5;241;43m5\u001b[39;49m\u001b[43m)\u001b[49m\n",
      "\u001b[1;31mTypeError\u001b[0m: test14() takes 0 positional arguments but 6 were given"
     ]
    }
   ],
   "source": [
    "test14(2,5,8,9,6,5)"
   ]
  },
  {
   "cell_type": "code",
   "execution_count": 113,
   "id": "0121b53e",
   "metadata": {},
   "outputs": [
    {
     "data": {
      "text/plain": [
       "{'b': 25, 'g': 58, 'd': 89, 's': 13}"
      ]
     },
     "execution_count": 113,
     "metadata": {},
     "output_type": "execute_result"
    }
   ],
   "source": [
    "test14(b=25,g=58,d=89,s=13)"
   ]
  },
  {
   "cell_type": "code",
   "execution_count": null,
   "id": "dfc6bc28",
   "metadata": {},
   "outputs": [],
   "source": []
  }
 ],
 "metadata": {
  "kernelspec": {
   "display_name": "Python 3 (ipykernel)",
   "language": "python",
   "name": "python3"
  },
  "language_info": {
   "codemirror_mode": {
    "name": "ipython",
    "version": 3
   },
   "file_extension": ".py",
   "mimetype": "text/x-python",
   "name": "python",
   "nbconvert_exporter": "python",
   "pygments_lexer": "ipython3",
   "version": "3.9.12"
  }
 },
 "nbformat": 4,
 "nbformat_minor": 5
}
