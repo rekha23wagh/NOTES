{
 "cells": [
  {
   "cell_type": "markdown",
   "id": "c02ca5a4",
   "metadata": {},
   "source": [
    "# pip install mysql-connector-python"
   ]
  },
  {
   "cell_type": "code",
   "execution_count": 1,
   "id": "b89c2f6b",
   "metadata": {},
   "outputs": [
    {
     "name": "stdout",
     "output_type": "stream",
     "text": [
      "<mysql.connector.connection_cext.CMySQLConnection object at 0x0000020DD87048E0>\n",
      "[('information_schema',), ('mysql',), ('ocean',), ('performance_schema',), ('sakila',), ('sys',), ('world',)]\n"
     ]
    }
   ],
   "source": [
    "import mysql.connector as conn\n",
    "mydb = conn.connect(host = \"localhost\", user = \"root\", passwd = \"R$wagh23\"  )\n",
    "\n",
    "print(mydb)\n",
    "cursor =mydb.cursor()\n",
    "cursor.execute(\"show databases\")\n",
    "print(cursor.fetchall())"
   ]
  },
  {
   "cell_type": "code",
   "execution_count": null,
   "id": "ac59f4fd",
   "metadata": {},
   "outputs": [],
   "source": [
    "\n",
    "#'cursor.execute(\"create database ocean\")\n",
    "s = cursor.execute(\"create table ocean.Sea_line(emp_ID int(10) , Emp_Name varchar(80) , Emp_Email varchar(20) , Emp_Salary int(6) , \")\n",
    "cursor.execute(s)"
   ]
  },
  {
   "cell_type": "code",
   "execution_count": 9,
   "id": "b8fa145c",
   "metadata": {},
   "outputs": [
    {
     "name": "stdout",
     "output_type": "stream",
     "text": [
      "None\n"
     ]
    }
   ],
   "source": [
    "import mysql.connector as conn\n",
    "\n",
    "mydb = conn.connect(host = \"localhost\", user = \"root\", passwd = \"R$wagh23\"  )\n",
    "cursor =mydb.cursor()\n",
    "#cursor.execute(\"create database ocean\")\n",
    "\n",
    "#s= \"create table ocean.Sea_line(emp_ID int(10) , Emp_Name varchar(80) , Emp_Email varchar(20) , Emp_Salary int(6))\"\n",
    "#q1 = cursor.execute(s)\n",
    "\n",
    "q2 = cursor.execute(\"select * from ocean.Sea_Line\")\n",
    "print(q2)\n"
   ]
  },
  {
   "cell_type": "code",
   "execution_count": 10,
   "id": "efb67451",
   "metadata": {},
   "outputs": [],
   "source": [
    "#none means no error and table has executed and next step to put up some date inside the table for all variable like emp na"
   ]
  },
  {
   "cell_type": "code",
   "execution_count": 11,
   "id": "5193a9b6",
   "metadata": {},
   "outputs": [],
   "source": [
    "import mysql.connector as conn\n",
    "\n",
    "mydb = conn.connect(host = \"localhost\", user = \"root\", passwd = \"R$wagh23\"  )\n",
    "cursor =mydb.cursor()\n",
    "\n",
    "\n",
    "s= \"insert into ocean.Sea_Line value(265, 'ocean' , 'ocean@gmail.com' , 59000)\"\n",
    "mydb.commit()"
   ]
  },
  {
   "cell_type": "code",
   "execution_count": 13,
   "id": "786e9653",
   "metadata": {},
   "outputs": [
    {
     "name": "stdout",
     "output_type": "stream",
     "text": [
      "(265, 'ocean', 'ocean@gmail.com', 59000)\n"
     ]
    }
   ],
   "source": [
    "import mysql.connector as conn\n",
    "\n",
    "mydb = conn.connect(host = \"localhost\", user = \"root\", passwd = \"R$wagh23\"  )\n",
    "cursor =mydb.cursor()\n",
    "\n",
    "\n",
    "s= \"insert into ocean.Sea_Line value(265, 'ocean' , 'ocean@gmail.com' , 59000)\"\n",
    "mydb.commit()\n",
    "cursor.execute(s)\n",
    "cursor.execute(\"select * from ocean.Sea_Line \")\n",
    "for i in cursor.fetchall():\n",
    "    print(i)"
   ]
  },
  {
   "cell_type": "code",
   "execution_count": 14,
   "id": "19b4991c",
   "metadata": {},
   "outputs": [
    {
     "name": "stdout",
     "output_type": "stream",
     "text": [
      "[(265,)]\n",
      "<class 'list'>\n"
     ]
    }
   ],
   "source": [
    "import mysql.connector as conn\n",
    "\n",
    "mydb = conn.connect(host = \"localhost\", user = \"root\", passwd = \"R$wagh23\"  )\n",
    "cursor =mydb.cursor()\n",
    "\n",
    "cursor.execute(\"select emp_ID from ocean.Sea_Line\")\n",
    "l = []\n",
    "for i in cursor.fetchall():\n",
    "    l.append(i)\n",
    "\n",
    "print(l)\n",
    "print(type(l))\n"
   ]
  },
  {
   "cell_type": "code",
   "execution_count": null,
   "id": "43d85b49",
   "metadata": {},
   "outputs": [],
   "source": []
  }
 ],
 "metadata": {
  "kernelspec": {
   "display_name": "Python 3 (ipykernel)",
   "language": "python",
   "name": "python3"
  },
  "language_info": {
   "codemirror_mode": {
    "name": "ipython",
    "version": 3
   },
   "file_extension": ".py",
   "mimetype": "text/x-python",
   "name": "python",
   "nbconvert_exporter": "python",
   "pygments_lexer": "ipython3",
   "version": "3.9.12"
  }
 },
 "nbformat": 4,
 "nbformat_minor": 5
}
